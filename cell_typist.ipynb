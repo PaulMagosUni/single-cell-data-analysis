{
 "cells": [
  {
   "cell_type": "markdown",
   "id": "understood-farmer",
   "metadata": {
    "id": "understood-farmer",
    "tags": []
   },
   "source": [
    "# Using CellTypist for cell type classification\n",
    "This notebook showcases the cell type classification for scRNA-seq query data by retrieving the most likely cell type labels from the built-in CellTypist models."
   ]
  },
  {
   "cell_type": "code",
   "execution_count": 36,
   "id": "organized-wedding",
   "metadata": {
    "executionInfo": {
     "elapsed": 4,
     "status": "ok",
     "timestamp": 1691866157355,
     "user": {
      "displayName": "SILVIA GIULIA GALFRE'",
      "userId": "02893296622354545296"
     },
     "user_tz": -120
    },
    "id": "organized-wedding"
   },
   "outputs": [],
   "source": [
    "import celltypist\n",
    "from celltypist import models\n",
    "import pandas as pd"
   ]
  },
  {
   "cell_type": "code",
   "execution_count": 37,
   "id": "o9UhfjiU24LG",
   "metadata": {
    "id": "o9UhfjiU24LG"
   },
   "outputs": [],
   "source": [
    "DATASET_ROOT = \"./dataset\"\n",
    "DATASET_NAMES = [\"PBMC1\", \"PBMC2\", \"PBMC3\", \"PBMC4\"]\n",
    "CELLTYPIST_MODEL = ['Immune_All_Low.pkl', 'Immune_All_Low.pkl', 'Immune_All_Low.pkl', 'Immune_All_Low.pkl']\n",
    "DATASET_DIR = [f\"{DATASET_ROOT}/{name}\" for name in DATASET_NAMES]\n",
    "FILTERED_DATASET_DIR = [f\"{DATASET_ROOT}/{name}-filtered\" for name in DATASET_NAMES]\n",
    "FILTERED_DATASET_DIR_10X = [x + \"/10x\" for x in FILTERED_DATASET_DIR]"
   ]
  },
  {
   "cell_type": "code",
   "execution_count": 38,
   "id": "316969e3-7ee1-4c5f-be83-7cfbb26c54f6",
   "metadata": {},
   "outputs": [
    {
     "name": "stderr",
     "output_type": "stream",
     "text": [
      "📂 Storing models in /Users/irenetesta/.celltypist/data/models\n",
      "⏩ Skipping [1/44]: Immune_All_Low.pkl (file exists)\n",
      "⏩ Skipping [2/44]: Immune_All_High.pkl (file exists)\n",
      "⏩ Skipping [3/44]: Adult_CynomolgusMacaque_Hippocampus.pkl (file exists)\n",
      "⏩ Skipping [4/44]: Adult_Human_PancreaticIslet.pkl (file exists)\n",
      "⏩ Skipping [5/44]: Adult_Human_Skin.pkl (file exists)\n",
      "⏩ Skipping [6/44]: Adult_Mouse_Gut.pkl (file exists)\n",
      "⏩ Skipping [7/44]: Adult_Mouse_OlfactoryBulb.pkl (file exists)\n",
      "⏩ Skipping [8/44]: Adult_Pig_Hippocampus.pkl (file exists)\n",
      "⏩ Skipping [9/44]: Adult_RhesusMacaque_Hippocampus.pkl (file exists)\n",
      "⏩ Skipping [10/44]: Autopsy_COVID19_Lung.pkl (file exists)\n",
      "⏩ Skipping [11/44]: COVID19_HumanChallenge_Blood.pkl (file exists)\n",
      "⏩ Skipping [12/44]: COVID19_Immune_Landscape.pkl (file exists)\n",
      "⏩ Skipping [13/44]: Cells_Fetal_Lung.pkl (file exists)\n",
      "⏩ Skipping [14/44]: Cells_Intestinal_Tract.pkl (file exists)\n",
      "⏩ Skipping [15/44]: Cells_Lung_Airway.pkl (file exists)\n",
      "⏩ Skipping [16/44]: Developing_Human_Brain.pkl (file exists)\n",
      "⏩ Skipping [17/44]: Developing_Human_Gonads.pkl (file exists)\n",
      "⏩ Skipping [18/44]: Developing_Human_Hippocampus.pkl (file exists)\n",
      "⏩ Skipping [19/44]: Developing_Human_Organs.pkl (file exists)\n",
      "⏩ Skipping [20/44]: Developing_Human_Thymus.pkl (file exists)\n",
      "⏩ Skipping [21/44]: Developing_Mouse_Brain.pkl (file exists)\n",
      "⏩ Skipping [22/44]: Developing_Mouse_Hippocampus.pkl (file exists)\n",
      "⏩ Skipping [23/44]: Fetal_Human_AdrenalGlands.pkl (file exists)\n",
      "⏩ Skipping [24/44]: Fetal_Human_Pancreas.pkl (file exists)\n",
      "⏩ Skipping [25/44]: Fetal_Human_Pituitary.pkl (file exists)\n",
      "⏩ Skipping [26/44]: Fetal_Human_Retina.pkl (file exists)\n",
      "⏩ Skipping [27/44]: Fetal_Human_Skin.pkl (file exists)\n",
      "⏩ Skipping [28/44]: Healthy_Adult_Heart.pkl (file exists)\n",
      "⏩ Skipping [29/44]: Healthy_COVID19_PBMC.pkl (file exists)\n",
      "⏩ Skipping [30/44]: Healthy_Human_Liver.pkl (file exists)\n",
      "⏩ Skipping [31/44]: Healthy_Mouse_Liver.pkl (file exists)\n",
      "⏩ Skipping [32/44]: Human_AdultAged_Hippocampus.pkl (file exists)\n",
      "⏩ Skipping [33/44]: Human_Developmental_Retina.pkl (file exists)\n",
      "⏩ Skipping [34/44]: Human_Embryonic_YolkSac.pkl (file exists)\n",
      "⏩ Skipping [35/44]: Human_IPF_Lung.pkl (file exists)\n",
      "⏩ Skipping [36/44]: Human_Longitudinal_Hippocampus.pkl (file exists)\n",
      "⏩ Skipping [37/44]: Human_Lung_Atlas.pkl (file exists)\n",
      "⏩ Skipping [38/44]: Human_PF_Lung.pkl (file exists)\n",
      "⏩ Skipping [39/44]: Lethal_COVID19_Lung.pkl (file exists)\n",
      "⏩ Skipping [40/44]: Mouse_Dentate_Gyrus.pkl (file exists)\n",
      "⏩ Skipping [41/44]: Mouse_Isocortex_Hippocampus.pkl (file exists)\n",
      "⏩ Skipping [42/44]: Mouse_Postnatal_DentateGyrus.pkl (file exists)\n",
      "⏩ Skipping [43/44]: Nuclei_Lung_Airway.pkl (file exists)\n",
      "⏩ Skipping [44/44]: Pan_Fetal_Human.pkl (file exists)\n"
     ]
    }
   ],
   "source": [
    "# Enabling `force_update = True` will overwrite existing (old) models.\n",
    "models.download_models(force_update = False)"
   ]
  },
  {
   "cell_type": "code",
   "execution_count": 43,
   "id": "21d51f16",
   "metadata": {},
   "outputs": [],
   "source": [
    "def annotate_10x_dataset(datadir, model_name, out_dir):\n",
    "    input_matrix = datadir + \"/matrix.mtx\"\n",
    "    gene_file = datadir + '/genes.tsv'\n",
    "    gene_id_file = datadir + \"/gene_ids.csv\"\n",
    "    cell_id_file = datadir + \"/barcodes.tsv\"\n",
    "\n",
    "    genes = pd.read_csv(gene_file, sep='\\t', header=None)\n",
    "    gene_ids = genes[0]\n",
    "    gene_ids.to_csv(gene_id_file, index=False, header=False)\n",
    "\n",
    "    predictions = celltypist.annotate(\n",
    "        input_matrix,\n",
    "        model = model_name,\n",
    "        transpose_input = True,\n",
    "        majority_voting = True,\n",
    "        mode = 'best match',\n",
    "        gene_file=gene_id_file,\n",
    "        cell_file=cell_id_file\n",
    "    )\n",
    "    labels = predictions.predicted_labels\n",
    "    labels = labels.rename(columns={\"majority_voting\": \"Cluster\"})\n",
    "    labels.reset_index(inplace=True, names='Barcode')\n",
    "    labels = labels[[\"Barcode\", \"Cluster\"]]\n",
    "\n",
    "    annotation_df = labels.copy()\n",
    "\n",
    "    mapping = {label: i for i, label in enumerate(labels['Cluster'].unique())}\n",
    "\n",
    "    mapping_df = pd.DataFrame({'go': labels['Cluster'].unique()})\n",
    "    mapping_df.reset_index(inplace=True, names='id')\n",
    "    mapping_df['id'] = mapping_df['id'] + 1\n",
    "    mapping_df.to_csv(out_dir + \"/celltypist_mapping.csv\", index=False)\n",
    "    \n",
    "    labels['Cluster'] = labels['Cluster'].map(mapping)\n",
    "    labels['Cluster'] = labels['Cluster'].astype(int)\n",
    "    labels['Cluster'] = labels['Cluster'] + 1\n",
    "    labels.to_csv(out_dir + \"/celltypist_labels.csv\", index=False)\n",
    "\n",
    "    return annotation_df"
   ]
  },
  {
   "cell_type": "code",
   "execution_count": 44,
   "id": "900b4587",
   "metadata": {},
   "outputs": [
    {
     "name": "stderr",
     "output_type": "stream",
     "text": [
      "📁 Input file is './dataset/peripheral-blood-filtered/10x/matrix.mtx'\n",
      "⏳ Loading data\n"
     ]
    },
    {
     "name": "stdout",
     "output_type": "stream",
     "text": [
      "Annotating peripheral-blood...\n"
     ]
    },
    {
     "name": "stderr",
     "output_type": "stream",
     "text": [
      "🔬 Input data has 3531 cells and 14224 genes\n",
      "🔗 Matching reference genes in the model\n",
      "🧬 4624 features used for prediction\n",
      "⚖️ Scaling input data\n",
      "🖋️ Predicting labels\n",
      "✅ Prediction done!\n",
      "👀 Can not detect a neighborhood graph, will construct one before the over-clustering\n",
      "⛓️ Over-clustering input data with resolution set to 5\n",
      "🗳️ Majority voting the predictions\n",
      "✅ Majority voting done!\n"
     ]
    }
   ],
   "source": [
    "annotation_counts = {}\n",
    "for i in range(len(DATASET_NAMES)):\n",
    "    print(f\"Annotating {DATASET_NAMES[i]}...\")\n",
    "    annotation_counts[DATASET_NAMES[i]] = annotate_10x_dataset(FILTERED_DATASET_DIR_10X[i], CELLTYPIST_MODEL[i], FILTERED_DATASET_DIR[i]).value_counts()"
   ]
  },
  {
   "cell_type": "code",
   "execution_count": null,
   "id": "70351833",
   "metadata": {},
   "outputs": [],
   "source": [
    "annotation_counts"
   ]
  }
 ],
 "metadata": {
  "colab": {
   "provenance": [
    {
     "file_id": "14d4JGWC2hFIlZ4hadYx4X_YrAA5MnCeC",
     "timestamp": 1691742220054
    },
    {
     "file_id": "https://github.com/Teichlab/celltypist/blob/main/docs/notebook/celltypist_tutorial.ipynb",
     "timestamp": 1691654066434
    }
   ]
  },
  "kernelspec": {
   "display_name": "Python 3 (ipykernel)",
   "language": "python",
   "name": "python3"
  },
  "language_info": {
   "codemirror_mode": {
    "name": "ipython",
    "version": 3
   },
   "file_extension": ".py",
   "mimetype": "text/x-python",
   "name": "python",
   "nbconvert_exporter": "python",
   "pygments_lexer": "ipython3",
   "version": "3.11.5"
  },
  "widgets": {
   "application/vnd.jupyter.widget-state+json": {
    "0222f99cf2bf4473bd4f707466d615e7": {
     "model_module": "@jupyter-widgets/controls",
     "model_module_version": "1.5.0",
     "model_name": "HBoxModel",
     "state": {
      "_dom_classes": [],
      "_model_module": "@jupyter-widgets/controls",
      "_model_module_version": "1.5.0",
      "_model_name": "HBoxModel",
      "_view_count": null,
      "_view_module": "@jupyter-widgets/controls",
      "_view_module_version": "1.5.0",
      "_view_name": "HBoxView",
      "box_style": "",
      "children": [
       "IPY_MODEL_f369cc1e7b694ba5b4710c130f93469c",
       "IPY_MODEL_0e6fcb2376c245a5a5c35e0cb54b51b8",
       "IPY_MODEL_a8e7c27e4f124cc5b960278c008c6d51"
      ],
      "layout": "IPY_MODEL_2455705626d547e194fc788c04897e9c"
     }
    },
    "0a86c3f6d71d4342876f62ad147b6c28": {
     "model_module": "@jupyter-widgets/controls",
     "model_module_version": "1.5.0",
     "model_name": "DescriptionStyleModel",
     "state": {
      "_model_module": "@jupyter-widgets/controls",
      "_model_module_version": "1.5.0",
      "_model_name": "DescriptionStyleModel",
      "_view_count": null,
      "_view_module": "@jupyter-widgets/base",
      "_view_module_version": "1.2.0",
      "_view_name": "StyleView",
      "description_width": ""
     }
    },
    "0e6fcb2376c245a5a5c35e0cb54b51b8": {
     "model_module": "@jupyter-widgets/controls",
     "model_module_version": "1.5.0",
     "model_name": "FloatProgressModel",
     "state": {
      "_dom_classes": [],
      "_model_module": "@jupyter-widgets/controls",
      "_model_module_version": "1.5.0",
      "_model_name": "FloatProgressModel",
      "_view_count": null,
      "_view_module": "@jupyter-widgets/controls",
      "_view_module_version": "1.5.0",
      "_view_name": "ProgressView",
      "bar_style": "success",
      "description": "",
      "description_tooltip": null,
      "layout": "IPY_MODEL_b40bf253671749829bc9f300f2839c75",
      "max": 35730948,
      "min": 0,
      "orientation": "horizontal",
      "style": "IPY_MODEL_c2bb7613a21044ae8ba423f178243713",
      "value": 35730948
     }
    },
    "2455705626d547e194fc788c04897e9c": {
     "model_module": "@jupyter-widgets/base",
     "model_module_version": "1.2.0",
     "model_name": "LayoutModel",
     "state": {
      "_model_module": "@jupyter-widgets/base",
      "_model_module_version": "1.2.0",
      "_model_name": "LayoutModel",
      "_view_count": null,
      "_view_module": "@jupyter-widgets/base",
      "_view_module_version": "1.2.0",
      "_view_name": "LayoutView",
      "align_content": null,
      "align_items": null,
      "align_self": null,
      "border": null,
      "bottom": null,
      "display": null,
      "flex": null,
      "flex_flow": null,
      "grid_area": null,
      "grid_auto_columns": null,
      "grid_auto_flow": null,
      "grid_auto_rows": null,
      "grid_column": null,
      "grid_gap": null,
      "grid_row": null,
      "grid_template_areas": null,
      "grid_template_columns": null,
      "grid_template_rows": null,
      "height": null,
      "justify_content": null,
      "justify_items": null,
      "left": null,
      "margin": null,
      "max_height": null,
      "max_width": null,
      "min_height": null,
      "min_width": null,
      "object_fit": null,
      "object_position": null,
      "order": null,
      "overflow": null,
      "overflow_x": null,
      "overflow_y": null,
      "padding": null,
      "right": null,
      "top": null,
      "visibility": null,
      "width": null
     }
    },
    "4561f5f3582e41bc9970e84530c40534": {
     "model_module": "@jupyter-widgets/base",
     "model_module_version": "1.2.0",
     "model_name": "LayoutModel",
     "state": {
      "_model_module": "@jupyter-widgets/base",
      "_model_module_version": "1.2.0",
      "_model_name": "LayoutModel",
      "_view_count": null,
      "_view_module": "@jupyter-widgets/base",
      "_view_module_version": "1.2.0",
      "_view_name": "LayoutView",
      "align_content": null,
      "align_items": null,
      "align_self": null,
      "border": null,
      "bottom": null,
      "display": null,
      "flex": null,
      "flex_flow": null,
      "grid_area": null,
      "grid_auto_columns": null,
      "grid_auto_flow": null,
      "grid_auto_rows": null,
      "grid_column": null,
      "grid_gap": null,
      "grid_row": null,
      "grid_template_areas": null,
      "grid_template_columns": null,
      "grid_template_rows": null,
      "height": null,
      "justify_content": null,
      "justify_items": null,
      "left": null,
      "margin": null,
      "max_height": null,
      "max_width": null,
      "min_height": null,
      "min_width": null,
      "object_fit": null,
      "object_position": null,
      "order": null,
      "overflow": null,
      "overflow_x": null,
      "overflow_y": null,
      "padding": null,
      "right": null,
      "top": null,
      "visibility": null,
      "width": null
     }
    },
    "55e939558cae49dc872df3d5febe5b40": {
     "model_module": "@jupyter-widgets/controls",
     "model_module_version": "1.5.0",
     "model_name": "DescriptionStyleModel",
     "state": {
      "_model_module": "@jupyter-widgets/controls",
      "_model_module_version": "1.5.0",
      "_model_name": "DescriptionStyleModel",
      "_view_count": null,
      "_view_module": "@jupyter-widgets/base",
      "_view_module_version": "1.2.0",
      "_view_name": "StyleView",
      "description_width": ""
     }
    },
    "981b1a8ce25244019bb2f117e34ae034": {
     "model_module": "@jupyter-widgets/base",
     "model_module_version": "1.2.0",
     "model_name": "LayoutModel",
     "state": {
      "_model_module": "@jupyter-widgets/base",
      "_model_module_version": "1.2.0",
      "_model_name": "LayoutModel",
      "_view_count": null,
      "_view_module": "@jupyter-widgets/base",
      "_view_module_version": "1.2.0",
      "_view_name": "LayoutView",
      "align_content": null,
      "align_items": null,
      "align_self": null,
      "border": null,
      "bottom": null,
      "display": null,
      "flex": null,
      "flex_flow": null,
      "grid_area": null,
      "grid_auto_columns": null,
      "grid_auto_flow": null,
      "grid_auto_rows": null,
      "grid_column": null,
      "grid_gap": null,
      "grid_row": null,
      "grid_template_areas": null,
      "grid_template_columns": null,
      "grid_template_rows": null,
      "height": null,
      "justify_content": null,
      "justify_items": null,
      "left": null,
      "margin": null,
      "max_height": null,
      "max_width": null,
      "min_height": null,
      "min_width": null,
      "object_fit": null,
      "object_position": null,
      "order": null,
      "overflow": null,
      "overflow_x": null,
      "overflow_y": null,
      "padding": null,
      "right": null,
      "top": null,
      "visibility": null,
      "width": null
     }
    },
    "a8e7c27e4f124cc5b960278c008c6d51": {
     "model_module": "@jupyter-widgets/controls",
     "model_module_version": "1.5.0",
     "model_name": "HTMLModel",
     "state": {
      "_dom_classes": [],
      "_model_module": "@jupyter-widgets/controls",
      "_model_module_version": "1.5.0",
      "_model_name": "HTMLModel",
      "_view_count": null,
      "_view_module": "@jupyter-widgets/controls",
      "_view_module_version": "1.5.0",
      "_view_name": "HTMLView",
      "description": "",
      "description_tooltip": null,
      "layout": "IPY_MODEL_981b1a8ce25244019bb2f117e34ae034",
      "placeholder": "​",
      "style": "IPY_MODEL_0a86c3f6d71d4342876f62ad147b6c28",
      "value": " 34.1M/34.1M [00:03&lt;00:00, 14.1MB/s]"
     }
    },
    "b40bf253671749829bc9f300f2839c75": {
     "model_module": "@jupyter-widgets/base",
     "model_module_version": "1.2.0",
     "model_name": "LayoutModel",
     "state": {
      "_model_module": "@jupyter-widgets/base",
      "_model_module_version": "1.2.0",
      "_model_name": "LayoutModel",
      "_view_count": null,
      "_view_module": "@jupyter-widgets/base",
      "_view_module_version": "1.2.0",
      "_view_name": "LayoutView",
      "align_content": null,
      "align_items": null,
      "align_self": null,
      "border": null,
      "bottom": null,
      "display": null,
      "flex": null,
      "flex_flow": null,
      "grid_area": null,
      "grid_auto_columns": null,
      "grid_auto_flow": null,
      "grid_auto_rows": null,
      "grid_column": null,
      "grid_gap": null,
      "grid_row": null,
      "grid_template_areas": null,
      "grid_template_columns": null,
      "grid_template_rows": null,
      "height": null,
      "justify_content": null,
      "justify_items": null,
      "left": null,
      "margin": null,
      "max_height": null,
      "max_width": null,
      "min_height": null,
      "min_width": null,
      "object_fit": null,
      "object_position": null,
      "order": null,
      "overflow": null,
      "overflow_x": null,
      "overflow_y": null,
      "padding": null,
      "right": null,
      "top": null,
      "visibility": null,
      "width": null
     }
    },
    "c2bb7613a21044ae8ba423f178243713": {
     "model_module": "@jupyter-widgets/controls",
     "model_module_version": "1.5.0",
     "model_name": "ProgressStyleModel",
     "state": {
      "_model_module": "@jupyter-widgets/controls",
      "_model_module_version": "1.5.0",
      "_model_name": "ProgressStyleModel",
      "_view_count": null,
      "_view_module": "@jupyter-widgets/base",
      "_view_module_version": "1.2.0",
      "_view_name": "StyleView",
      "bar_color": null,
      "description_width": ""
     }
    },
    "f369cc1e7b694ba5b4710c130f93469c": {
     "model_module": "@jupyter-widgets/controls",
     "model_module_version": "1.5.0",
     "model_name": "HTMLModel",
     "state": {
      "_dom_classes": [],
      "_model_module": "@jupyter-widgets/controls",
      "_model_module_version": "1.5.0",
      "_model_name": "HTMLModel",
      "_view_count": null,
      "_view_module": "@jupyter-widgets/controls",
      "_view_module_version": "1.5.0",
      "_view_name": "HTMLView",
      "description": "",
      "description_tooltip": null,
      "layout": "IPY_MODEL_4561f5f3582e41bc9970e84530c40534",
      "placeholder": "​",
      "style": "IPY_MODEL_55e939558cae49dc872df3d5febe5b40",
      "value": "100%"
     }
    }
   }
  }
 },
 "nbformat": 4,
 "nbformat_minor": 5
}
