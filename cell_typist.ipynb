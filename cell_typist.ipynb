{
 "cells": [
  {
   "cell_type": "markdown",
   "id": "understood-farmer",
   "metadata": {
    "id": "understood-farmer",
    "tags": []
   },
   "source": [
    "# Using CellTypist for cell type classification\n",
    "This notebook showcases the cell type classification for scRNA-seq query data by retrieving the most likely cell type labels from the built-in CellTypist models."
   ]
  },
  {
   "cell_type": "code",
   "execution_count": 11,
   "id": "organized-wedding",
   "metadata": {
    "executionInfo": {
     "elapsed": 4,
     "status": "ok",
     "timestamp": 1691866157355,
     "user": {
      "displayName": "SILVIA GIULIA GALFRE'",
      "userId": "02893296622354545296"
     },
     "user_tz": -120
    },
    "id": "organized-wedding"
   },
   "outputs": [],
   "source": [
    "import celltypist\n",
    "from celltypist import models\n",
    "import pandas as pd"
   ]
  },
  {
   "cell_type": "code",
   "execution_count": 12,
   "id": "o9UhfjiU24LG",
   "metadata": {
    "id": "o9UhfjiU24LG"
   },
   "outputs": [],
   "source": [
    "input_matrix=\"./dataset/peripheal-blood/matrix.mtx\"\n",
    "gene_id_file=\"./dataset/peripheal-blood/gene_ids.csv\"\n",
    "cell_id_file=\"./dataset/peripheal-blood/barcodes.tsv\""
   ]
  },
  {
   "cell_type": "code",
   "execution_count": 13,
   "id": "316969e3-7ee1-4c5f-be83-7cfbb26c54f6",
   "metadata": {},
   "outputs": [
    {
     "name": "stderr",
     "output_type": "stream",
     "text": [
      "📂 Storing models in /Users/irenetesta/.celltypist/data/models\n",
      "⏩ Skipping [1/44]: Immune_All_Low.pkl (file exists)\n",
      "⏩ Skipping [2/44]: Immune_All_High.pkl (file exists)\n",
      "⏩ Skipping [3/44]: Adult_CynomolgusMacaque_Hippocampus.pkl (file exists)\n",
      "⏩ Skipping [4/44]: Adult_Human_PancreaticIslet.pkl (file exists)\n",
      "⏩ Skipping [5/44]: Adult_Human_Skin.pkl (file exists)\n",
      "⏩ Skipping [6/44]: Adult_Mouse_Gut.pkl (file exists)\n",
      "⏩ Skipping [7/44]: Adult_Mouse_OlfactoryBulb.pkl (file exists)\n",
      "⏩ Skipping [8/44]: Adult_Pig_Hippocampus.pkl (file exists)\n",
      "⏩ Skipping [9/44]: Adult_RhesusMacaque_Hippocampus.pkl (file exists)\n",
      "⏩ Skipping [10/44]: Autopsy_COVID19_Lung.pkl (file exists)\n",
      "⏩ Skipping [11/44]: COVID19_HumanChallenge_Blood.pkl (file exists)\n",
      "⏩ Skipping [12/44]: COVID19_Immune_Landscape.pkl (file exists)\n",
      "⏩ Skipping [13/44]: Cells_Fetal_Lung.pkl (file exists)\n",
      "⏩ Skipping [14/44]: Cells_Intestinal_Tract.pkl (file exists)\n",
      "⏩ Skipping [15/44]: Cells_Lung_Airway.pkl (file exists)\n",
      "⏩ Skipping [16/44]: Developing_Human_Brain.pkl (file exists)\n",
      "⏩ Skipping [17/44]: Developing_Human_Gonads.pkl (file exists)\n",
      "⏩ Skipping [18/44]: Developing_Human_Hippocampus.pkl (file exists)\n",
      "⏩ Skipping [19/44]: Developing_Human_Organs.pkl (file exists)\n",
      "⏩ Skipping [20/44]: Developing_Human_Thymus.pkl (file exists)\n",
      "⏩ Skipping [21/44]: Developing_Mouse_Brain.pkl (file exists)\n",
      "⏩ Skipping [22/44]: Developing_Mouse_Hippocampus.pkl (file exists)\n",
      "⏩ Skipping [23/44]: Fetal_Human_AdrenalGlands.pkl (file exists)\n",
      "⏩ Skipping [24/44]: Fetal_Human_Pancreas.pkl (file exists)\n",
      "⏩ Skipping [25/44]: Fetal_Human_Pituitary.pkl (file exists)\n",
      "⏩ Skipping [26/44]: Fetal_Human_Retina.pkl (file exists)\n",
      "⏩ Skipping [27/44]: Fetal_Human_Skin.pkl (file exists)\n",
      "⏩ Skipping [28/44]: Healthy_Adult_Heart.pkl (file exists)\n",
      "⏩ Skipping [29/44]: Healthy_COVID19_PBMC.pkl (file exists)\n",
      "⏩ Skipping [30/44]: Healthy_Human_Liver.pkl (file exists)\n",
      "⏩ Skipping [31/44]: Healthy_Mouse_Liver.pkl (file exists)\n",
      "⏩ Skipping [32/44]: Human_AdultAged_Hippocampus.pkl (file exists)\n",
      "⏩ Skipping [33/44]: Human_Developmental_Retina.pkl (file exists)\n",
      "⏩ Skipping [34/44]: Human_Embryonic_YolkSac.pkl (file exists)\n",
      "⏩ Skipping [35/44]: Human_IPF_Lung.pkl (file exists)\n",
      "⏩ Skipping [36/44]: Human_Longitudinal_Hippocampus.pkl (file exists)\n",
      "⏩ Skipping [37/44]: Human_Lung_Atlas.pkl (file exists)\n",
      "⏩ Skipping [38/44]: Human_PF_Lung.pkl (file exists)\n",
      "⏩ Skipping [39/44]: Lethal_COVID19_Lung.pkl (file exists)\n",
      "⏩ Skipping [40/44]: Mouse_Dentate_Gyrus.pkl (file exists)\n",
      "⏩ Skipping [41/44]: Mouse_Isocortex_Hippocampus.pkl (file exists)\n",
      "⏩ Skipping [42/44]: Mouse_Postnatal_DentateGyrus.pkl (file exists)\n",
      "⏩ Skipping [43/44]: Nuclei_Lung_Airway.pkl (file exists)\n",
      "⏩ Skipping [44/44]: Pan_Fetal_Human.pkl (file exists)\n"
     ]
    }
   ],
   "source": [
    "# Enabling `force_update = True` will overwrite existing (old) models.\n",
    "models.download_models(force_update = False)"
   ]
  },
  {
   "cell_type": "code",
   "execution_count": 14,
   "id": "6826fcc9",
   "metadata": {},
   "outputs": [],
   "source": [
    "genes = pd.read_csv('./dataset/peripheal-blood/genes.tsv', sep='\\t', header=None)\n",
    "gene_ids = genes[0]\n",
    "gene_ids.to_csv('./dataset/peripheal-blood/gene_ids.csv', index=False, header=False)"
   ]
  },
  {
   "cell_type": "code",
   "execution_count": 15,
   "id": "se3q4nyNKXR6",
   "metadata": {
    "id": "se3q4nyNKXR6"
   },
   "outputs": [
    {
     "name": "stderr",
     "output_type": "stream",
     "text": [
      "📁 Input file is './dataset/peripheal-blood/matrix.mtx'\n",
      "⏳ Loading data\n",
      "🔬 Input data has 5527 cells and 33570 genes\n",
      "🔗 Matching reference genes in the model\n",
      "🧬 11 features used for prediction\n",
      "⚖️ Scaling input data\n",
      "🖋️ Predicting labels\n",
      "✅ Prediction done!\n",
      "👀 Can not detect a neighborhood graph, will construct one before the over-clustering\n",
      "⛓️ Over-clustering input data with resolution set to 10\n",
      "🗳️ Majority voting the predictions\n",
      "✅ Majority voting done!\n"
     ]
    }
   ],
   "source": [
    "predictions = celltypist.annotate(input_matrix, model = 'Immune_All_Low.pkl', transpose_input = True, majority_voting = True, mode = 'best match', gene_file=gene_id_file, cell_file=cell_id_file)\n",
    "predictions.to_table(folder = './dataset/peripheal-blood/', prefix = \"PBMC_raw_Immune_All_Low_\")"
   ]
  },
  {
   "cell_type": "code",
   "execution_count": 16,
   "id": "2066bdef",
   "metadata": {},
   "outputs": [
    {
     "data": {
      "text/html": [
       "<div>\n",
       "<style scoped>\n",
       "    .dataframe tbody tr th:only-of-type {\n",
       "        vertical-align: middle;\n",
       "    }\n",
       "\n",
       "    .dataframe tbody tr th {\n",
       "        vertical-align: top;\n",
       "    }\n",
       "\n",
       "    .dataframe thead th {\n",
       "        text-align: right;\n",
       "    }\n",
       "</style>\n",
       "<table border=\"1\" class=\"dataframe\">\n",
       "  <thead>\n",
       "    <tr style=\"text-align: right;\">\n",
       "      <th></th>\n",
       "      <th>Unnamed: 0</th>\n",
       "      <th>predicted_labels</th>\n",
       "      <th>over_clustering</th>\n",
       "      <th>majority_voting</th>\n",
       "    </tr>\n",
       "  </thead>\n",
       "  <tbody>\n",
       "    <tr>\n",
       "      <th>0</th>\n",
       "      <td>AAACCCACAGGCTTGC-1</td>\n",
       "      <td>Double-positive thymocytes</td>\n",
       "      <td>24</td>\n",
       "      <td>Double-positive thymocytes</td>\n",
       "    </tr>\n",
       "    <tr>\n",
       "      <th>1</th>\n",
       "      <td>AAACCCAGTAGTTAGA-1</td>\n",
       "      <td>Double-positive thymocytes</td>\n",
       "      <td>46</td>\n",
       "      <td>Double-positive thymocytes</td>\n",
       "    </tr>\n",
       "    <tr>\n",
       "      <th>2</th>\n",
       "      <td>AAACGAAGTAACGATA-1</td>\n",
       "      <td>Double-positive thymocytes</td>\n",
       "      <td>34</td>\n",
       "      <td>Double-positive thymocytes</td>\n",
       "    </tr>\n",
       "    <tr>\n",
       "      <th>3</th>\n",
       "      <td>AAACGAAGTGGATCAG-1</td>\n",
       "      <td>Double-positive thymocytes</td>\n",
       "      <td>39</td>\n",
       "      <td>Double-positive thymocytes</td>\n",
       "    </tr>\n",
       "    <tr>\n",
       "      <th>4</th>\n",
       "      <td>AAACGAATCATGAGAA-1</td>\n",
       "      <td>Double-positive thymocytes</td>\n",
       "      <td>107</td>\n",
       "      <td>Double-positive thymocytes</td>\n",
       "    </tr>\n",
       "  </tbody>\n",
       "</table>\n",
       "</div>"
      ],
      "text/plain": [
       "           Unnamed: 0            predicted_labels  over_clustering  \\\n",
       "0  AAACCCACAGGCTTGC-1  Double-positive thymocytes               24   \n",
       "1  AAACCCAGTAGTTAGA-1  Double-positive thymocytes               46   \n",
       "2  AAACGAAGTAACGATA-1  Double-positive thymocytes               34   \n",
       "3  AAACGAAGTGGATCAG-1  Double-positive thymocytes               39   \n",
       "4  AAACGAATCATGAGAA-1  Double-positive thymocytes              107   \n",
       "\n",
       "              majority_voting  \n",
       "0  Double-positive thymocytes  \n",
       "1  Double-positive thymocytes  \n",
       "2  Double-positive thymocytes  \n",
       "3  Double-positive thymocytes  \n",
       "4  Double-positive thymocytes  "
      ]
     },
     "execution_count": 16,
     "metadata": {},
     "output_type": "execute_result"
    }
   ],
   "source": [
    "label_df= pd.read_csv('./dataset/peripheal-blood/PBMC_raw_Immune_All_Low_predicted_labels.csv')\n",
    "label_df.head()"
   ]
  },
  {
   "cell_type": "code",
   "execution_count": 18,
   "id": "7557ae5b",
   "metadata": {},
   "outputs": [
    {
     "data": {
      "text/plain": [
       "Double-positive thymocytes    4783\n",
       "Regulatory T cells             237\n",
       "CD8a/a                         171\n",
       "Tcm/Naive helper T cells       171\n",
       "Epithelial cells               161\n",
       "CD16+ NK cells                   4\n",
       "Name: predicted_labels, dtype: int64"
      ]
     },
     "execution_count": 18,
     "metadata": {},
     "output_type": "execute_result"
    }
   ],
   "source": [
    "label_df['predicted_labels'].value_counts()"
   ]
  }
 ],
 "metadata": {
  "colab": {
   "provenance": [
    {
     "file_id": "14d4JGWC2hFIlZ4hadYx4X_YrAA5MnCeC",
     "timestamp": 1691742220054
    },
    {
     "file_id": "https://github.com/Teichlab/celltypist/blob/main/docs/notebook/celltypist_tutorial.ipynb",
     "timestamp": 1691654066434
    }
   ]
  },
  "kernelspec": {
   "display_name": "Python 3 (ipykernel)",
   "language": "python",
   "name": "python3"
  },
  "language_info": {
   "codemirror_mode": {
    "name": "ipython",
    "version": 3
   },
   "file_extension": ".py",
   "mimetype": "text/x-python",
   "name": "python",
   "nbconvert_exporter": "python",
   "pygments_lexer": "ipython3",
   "version": "3.9.16"
  },
  "widgets": {
   "application/vnd.jupyter.widget-state+json": {
    "0222f99cf2bf4473bd4f707466d615e7": {
     "model_module": "@jupyter-widgets/controls",
     "model_module_version": "1.5.0",
     "model_name": "HBoxModel",
     "state": {
      "_dom_classes": [],
      "_model_module": "@jupyter-widgets/controls",
      "_model_module_version": "1.5.0",
      "_model_name": "HBoxModel",
      "_view_count": null,
      "_view_module": "@jupyter-widgets/controls",
      "_view_module_version": "1.5.0",
      "_view_name": "HBoxView",
      "box_style": "",
      "children": [
       "IPY_MODEL_f369cc1e7b694ba5b4710c130f93469c",
       "IPY_MODEL_0e6fcb2376c245a5a5c35e0cb54b51b8",
       "IPY_MODEL_a8e7c27e4f124cc5b960278c008c6d51"
      ],
      "layout": "IPY_MODEL_2455705626d547e194fc788c04897e9c"
     }
    },
    "0a86c3f6d71d4342876f62ad147b6c28": {
     "model_module": "@jupyter-widgets/controls",
     "model_module_version": "1.5.0",
     "model_name": "DescriptionStyleModel",
     "state": {
      "_model_module": "@jupyter-widgets/controls",
      "_model_module_version": "1.5.0",
      "_model_name": "DescriptionStyleModel",
      "_view_count": null,
      "_view_module": "@jupyter-widgets/base",
      "_view_module_version": "1.2.0",
      "_view_name": "StyleView",
      "description_width": ""
     }
    },
    "0e6fcb2376c245a5a5c35e0cb54b51b8": {
     "model_module": "@jupyter-widgets/controls",
     "model_module_version": "1.5.0",
     "model_name": "FloatProgressModel",
     "state": {
      "_dom_classes": [],
      "_model_module": "@jupyter-widgets/controls",
      "_model_module_version": "1.5.0",
      "_model_name": "FloatProgressModel",
      "_view_count": null,
      "_view_module": "@jupyter-widgets/controls",
      "_view_module_version": "1.5.0",
      "_view_name": "ProgressView",
      "bar_style": "success",
      "description": "",
      "description_tooltip": null,
      "layout": "IPY_MODEL_b40bf253671749829bc9f300f2839c75",
      "max": 35730948,
      "min": 0,
      "orientation": "horizontal",
      "style": "IPY_MODEL_c2bb7613a21044ae8ba423f178243713",
      "value": 35730948
     }
    },
    "2455705626d547e194fc788c04897e9c": {
     "model_module": "@jupyter-widgets/base",
     "model_module_version": "1.2.0",
     "model_name": "LayoutModel",
     "state": {
      "_model_module": "@jupyter-widgets/base",
      "_model_module_version": "1.2.0",
      "_model_name": "LayoutModel",
      "_view_count": null,
      "_view_module": "@jupyter-widgets/base",
      "_view_module_version": "1.2.0",
      "_view_name": "LayoutView",
      "align_content": null,
      "align_items": null,
      "align_self": null,
      "border": null,
      "bottom": null,
      "display": null,
      "flex": null,
      "flex_flow": null,
      "grid_area": null,
      "grid_auto_columns": null,
      "grid_auto_flow": null,
      "grid_auto_rows": null,
      "grid_column": null,
      "grid_gap": null,
      "grid_row": null,
      "grid_template_areas": null,
      "grid_template_columns": null,
      "grid_template_rows": null,
      "height": null,
      "justify_content": null,
      "justify_items": null,
      "left": null,
      "margin": null,
      "max_height": null,
      "max_width": null,
      "min_height": null,
      "min_width": null,
      "object_fit": null,
      "object_position": null,
      "order": null,
      "overflow": null,
      "overflow_x": null,
      "overflow_y": null,
      "padding": null,
      "right": null,
      "top": null,
      "visibility": null,
      "width": null
     }
    },
    "4561f5f3582e41bc9970e84530c40534": {
     "model_module": "@jupyter-widgets/base",
     "model_module_version": "1.2.0",
     "model_name": "LayoutModel",
     "state": {
      "_model_module": "@jupyter-widgets/base",
      "_model_module_version": "1.2.0",
      "_model_name": "LayoutModel",
      "_view_count": null,
      "_view_module": "@jupyter-widgets/base",
      "_view_module_version": "1.2.0",
      "_view_name": "LayoutView",
      "align_content": null,
      "align_items": null,
      "align_self": null,
      "border": null,
      "bottom": null,
      "display": null,
      "flex": null,
      "flex_flow": null,
      "grid_area": null,
      "grid_auto_columns": null,
      "grid_auto_flow": null,
      "grid_auto_rows": null,
      "grid_column": null,
      "grid_gap": null,
      "grid_row": null,
      "grid_template_areas": null,
      "grid_template_columns": null,
      "grid_template_rows": null,
      "height": null,
      "justify_content": null,
      "justify_items": null,
      "left": null,
      "margin": null,
      "max_height": null,
      "max_width": null,
      "min_height": null,
      "min_width": null,
      "object_fit": null,
      "object_position": null,
      "order": null,
      "overflow": null,
      "overflow_x": null,
      "overflow_y": null,
      "padding": null,
      "right": null,
      "top": null,
      "visibility": null,
      "width": null
     }
    },
    "55e939558cae49dc872df3d5febe5b40": {
     "model_module": "@jupyter-widgets/controls",
     "model_module_version": "1.5.0",
     "model_name": "DescriptionStyleModel",
     "state": {
      "_model_module": "@jupyter-widgets/controls",
      "_model_module_version": "1.5.0",
      "_model_name": "DescriptionStyleModel",
      "_view_count": null,
      "_view_module": "@jupyter-widgets/base",
      "_view_module_version": "1.2.0",
      "_view_name": "StyleView",
      "description_width": ""
     }
    },
    "981b1a8ce25244019bb2f117e34ae034": {
     "model_module": "@jupyter-widgets/base",
     "model_module_version": "1.2.0",
     "model_name": "LayoutModel",
     "state": {
      "_model_module": "@jupyter-widgets/base",
      "_model_module_version": "1.2.0",
      "_model_name": "LayoutModel",
      "_view_count": null,
      "_view_module": "@jupyter-widgets/base",
      "_view_module_version": "1.2.0",
      "_view_name": "LayoutView",
      "align_content": null,
      "align_items": null,
      "align_self": null,
      "border": null,
      "bottom": null,
      "display": null,
      "flex": null,
      "flex_flow": null,
      "grid_area": null,
      "grid_auto_columns": null,
      "grid_auto_flow": null,
      "grid_auto_rows": null,
      "grid_column": null,
      "grid_gap": null,
      "grid_row": null,
      "grid_template_areas": null,
      "grid_template_columns": null,
      "grid_template_rows": null,
      "height": null,
      "justify_content": null,
      "justify_items": null,
      "left": null,
      "margin": null,
      "max_height": null,
      "max_width": null,
      "min_height": null,
      "min_width": null,
      "object_fit": null,
      "object_position": null,
      "order": null,
      "overflow": null,
      "overflow_x": null,
      "overflow_y": null,
      "padding": null,
      "right": null,
      "top": null,
      "visibility": null,
      "width": null
     }
    },
    "a8e7c27e4f124cc5b960278c008c6d51": {
     "model_module": "@jupyter-widgets/controls",
     "model_module_version": "1.5.0",
     "model_name": "HTMLModel",
     "state": {
      "_dom_classes": [],
      "_model_module": "@jupyter-widgets/controls",
      "_model_module_version": "1.5.0",
      "_model_name": "HTMLModel",
      "_view_count": null,
      "_view_module": "@jupyter-widgets/controls",
      "_view_module_version": "1.5.0",
      "_view_name": "HTMLView",
      "description": "",
      "description_tooltip": null,
      "layout": "IPY_MODEL_981b1a8ce25244019bb2f117e34ae034",
      "placeholder": "​",
      "style": "IPY_MODEL_0a86c3f6d71d4342876f62ad147b6c28",
      "value": " 34.1M/34.1M [00:03&lt;00:00, 14.1MB/s]"
     }
    },
    "b40bf253671749829bc9f300f2839c75": {
     "model_module": "@jupyter-widgets/base",
     "model_module_version": "1.2.0",
     "model_name": "LayoutModel",
     "state": {
      "_model_module": "@jupyter-widgets/base",
      "_model_module_version": "1.2.0",
      "_model_name": "LayoutModel",
      "_view_count": null,
      "_view_module": "@jupyter-widgets/base",
      "_view_module_version": "1.2.0",
      "_view_name": "LayoutView",
      "align_content": null,
      "align_items": null,
      "align_self": null,
      "border": null,
      "bottom": null,
      "display": null,
      "flex": null,
      "flex_flow": null,
      "grid_area": null,
      "grid_auto_columns": null,
      "grid_auto_flow": null,
      "grid_auto_rows": null,
      "grid_column": null,
      "grid_gap": null,
      "grid_row": null,
      "grid_template_areas": null,
      "grid_template_columns": null,
      "grid_template_rows": null,
      "height": null,
      "justify_content": null,
      "justify_items": null,
      "left": null,
      "margin": null,
      "max_height": null,
      "max_width": null,
      "min_height": null,
      "min_width": null,
      "object_fit": null,
      "object_position": null,
      "order": null,
      "overflow": null,
      "overflow_x": null,
      "overflow_y": null,
      "padding": null,
      "right": null,
      "top": null,
      "visibility": null,
      "width": null
     }
    },
    "c2bb7613a21044ae8ba423f178243713": {
     "model_module": "@jupyter-widgets/controls",
     "model_module_version": "1.5.0",
     "model_name": "ProgressStyleModel",
     "state": {
      "_model_module": "@jupyter-widgets/controls",
      "_model_module_version": "1.5.0",
      "_model_name": "ProgressStyleModel",
      "_view_count": null,
      "_view_module": "@jupyter-widgets/base",
      "_view_module_version": "1.2.0",
      "_view_name": "StyleView",
      "bar_color": null,
      "description_width": ""
     }
    },
    "f369cc1e7b694ba5b4710c130f93469c": {
     "model_module": "@jupyter-widgets/controls",
     "model_module_version": "1.5.0",
     "model_name": "HTMLModel",
     "state": {
      "_dom_classes": [],
      "_model_module": "@jupyter-widgets/controls",
      "_model_module_version": "1.5.0",
      "_model_name": "HTMLModel",
      "_view_count": null,
      "_view_module": "@jupyter-widgets/controls",
      "_view_module_version": "1.5.0",
      "_view_name": "HTMLView",
      "description": "",
      "description_tooltip": null,
      "layout": "IPY_MODEL_4561f5f3582e41bc9970e84530c40534",
      "placeholder": "​",
      "style": "IPY_MODEL_55e939558cae49dc872df3d5febe5b40",
      "value": "100%"
     }
    }
   }
  }
 },
 "nbformat": 4,
 "nbformat_minor": 5
}
