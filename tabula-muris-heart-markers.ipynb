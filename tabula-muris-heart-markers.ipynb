{
 "cells": [
  {
   "cell_type": "code",
   "execution_count": null,
   "metadata": {},
   "outputs": [],
   "source": []
  },
  {
   "cell_type": "code",
   "execution_count": null,
   "metadata": {},
   "outputs": [],
   "source": [
    "import pickle\n",
    "import matplotlib.pyplot as plt\n",
    "import numpy as np\n",
    "\n",
    "TOOL_COLOR = {\n",
    "    \"COTAN\": \"#66c2a5\", \n",
    "    \"seurat\": \"#fc8d62\", \n",
    "    \"scanpy\": \"#8da0cb\", \n",
    "    \"monocle\": \"#e78ac3\", \n",
    "    \"scvi\": \"#a6d854\"\n",
    "}\n",
    "\n",
    "TOOL_TAGS = {\n",
    "\t'COTAN': 'COTAN',\n",
    "\t'seurat': 'Seurat',\n",
    "\t'scanpy': 'Scanpy',\n",
    "\t'monocle':'Monocle',\n",
    "\t'scvi-tools': 'scVI-tools',\n",
    "\t'scvi': 'scVI-tools'\n",
    "}\n",
    "\n",
    "order = ['COTAN', 'Seurat', 'Scanpy', 'Monocle', 'scVI-tools']\n",
    "\n",
    "DATASET_TAGS = ['tabula-muris-heart', 'tabula-muris-marrow_P7_3', 'peripheal-blood', 'zheng-4', 'zheng-8']\n",
    "N_MARKERS = 50"
   ]
  }
 ],
 "metadata": {
  "language_info": {
   "name": "python"
  },
  "orig_nbformat": 4
 },
 "nbformat": 4,
 "nbformat_minor": 2
}
