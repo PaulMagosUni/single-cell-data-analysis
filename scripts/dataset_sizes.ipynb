{
 "cells": [
  {
   "cell_type": "code",
   "execution_count": 1,
   "metadata": {},
   "outputs": [
    {
     "name": "stdout",
     "output_type": "stream",
     "text": [
      "tabula-muris-heart # cells 13646 # genes 617\n",
      "fibroblast             36.5\n",
      "endothelial cell       27.9\n",
      "unknown cluster        15.9\n",
      "endocardial cell       10.0\n",
      "cardiac muscle cell     9.7\n",
      "Name: go, dtype: float64\n",
      "100.00000000000001\n",
      "tabula-muris-marrow_P7_3 # cells 13387 # genes 1870\n",
      "granulocyte                     19.9\n",
      "monocyte                        14.6\n",
      "granulocytopoietic cell         10.9\n",
      "hematopoietic precursor cell     9.0\n",
      "proerythroblast                  8.6\n",
      "promonocyte                      7.3\n",
      "macrophage                       6.6\n",
      "late pro-B cell                  5.9\n",
      "erythroblast                     4.8\n",
      "T cell                           3.9\n",
      "immature B cell                  3.6\n",
      "basophil                         1.8\n",
      "Fraction A pre-pro B cell        1.8\n",
      "early pro-B cell                 1.4\n",
      "Name: go, dtype: float64\n",
      "100.1\n"
     ]
    }
   ],
   "source": [
    "import scanpy as sc\n",
    "import pandas as pd\n",
    "\n",
    "\n",
    "dataset_folder = '../dataset/'\n",
    "DATASET_TAGS = ['tabula-muris-heart', 'tabula-muris-marrow_P7_3', 'peripheral-blood', 'zheng-4', 'zheng-8']\n",
    "\n",
    "for dataset_tag in DATASET_TAGS:\n",
    "    dataset_path = dataset_folder + dataset_tag + '-filtered/10X'\n",
    "    labels = pd.read_csv(dataset_folder + dataset_tag + '-filtered/labels.csv')\n",
    "    mapping = pd.read_csv(dataset_folder + dataset_tag + '-filtered/mapping.csv')\n",
    "    adata = sc.read_10x_mtx(\n",
    "        dataset_path,\n",
    "        var_names='gene_symbols',\n",
    "        cache=False\n",
    "    )\n",
    "    df = adata.to_df().index.rename('cell').to_frame().drop(columns='cell')\n",
    "    df = df.join(labels.set_index('cell'), on='cell')\n",
    "    # join on clusters\n",
    "    df = df.join(mapping.set_index('id'), on='cluster.ids')\n",
    "    print(\"{} # cells {} # genes {}\".format(dataset_tag, len(adata.var_names), len(adata.obs_names)))\n",
    "    print((round(df['go'].value_counts()/len(df), 3))*100)\n",
    "    print(((round(df['go'].value_counts()/len(df), 3))*100).sum())"
   ]
  }
 ],
 "metadata": {
  "kernelspec": {
   "display_name": "Python 3 (ipykernel)",
   "language": "python",
   "name": "python3"
  },
  "language_info": {
   "codemirror_mode": {
    "name": "ipython",
    "version": 3
   },
   "file_extension": ".py",
   "mimetype": "text/x-python",
   "name": "python",
   "nbconvert_exporter": "python",
   "pygments_lexer": "ipython3",
   "version": "3.10.11"
  }
 },
 "nbformat": 4,
 "nbformat_minor": 2
}
