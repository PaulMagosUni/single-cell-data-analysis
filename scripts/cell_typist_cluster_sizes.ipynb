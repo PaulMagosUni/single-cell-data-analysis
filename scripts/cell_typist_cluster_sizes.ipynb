{
 "cells": [
  {
   "cell_type": "code",
   "execution_count": 19,
   "metadata": {},
   "outputs": [],
   "source": [
    "import pandas as pd\n",
    "import scanpy as sc\n",
    "import json"
   ]
  },
  {
   "cell_type": "code",
   "execution_count": 20,
   "metadata": {},
   "outputs": [],
   "source": [
    "datasets = ['PBMC1', 'PBMC2', 'PBMC3', 'PBMC4']\n",
    "for dataset in datasets:\n",
    "    dataset_path = f\"../dataset/{dataset}-Filtered/10x/\"\n",
    "    adata = sc.read_10x_mtx(dataset_path, var_names=\"gene_symbols\", cache=False)\n",
    "    filtered_barcodes = adata.obs.index.to_list()\n",
    "    labels = pd.read_csv(f\"../dataset/{dataset}-Filtered/raw/celltypist_labels.csv\", index_col=0)\n",
    "    labels = labels[labels.index.isin(filtered_barcodes)]\n",
    "    counts = labels.value_counts().to_frame()\n",
    "    counts.index.names = ['id']\n",
    "    mapping = pd.read_csv(f\"../dataset/{dataset}-Filtered/raw/celltypist_mapping.csv\", index_col=0)\n",
    "    counts_mappings = counts.merge(mapping, on='id')\n",
    "    counts_mappings.to_csv(f\"../dataset/{dataset}-Filtered/raw/celltypist_counts_filtered.csv\")\n",
    "    with open(f'../dataset/{dataset}-Filtered/raw/nclusters.json', 'w') as fp:\n",
    "        json.dump({'nclusters': counts_mappings[counts_mappings['count']>40].shape[0]}, fp)"
   ]
  }
 ],
 "metadata": {
  "kernelspec": {
   "display_name": "CHLPy",
   "language": "python",
   "name": "python3"
  },
  "language_info": {
   "codemirror_mode": {
    "name": "ipython",
    "version": 3
   },
   "file_extension": ".py",
   "mimetype": "text/x-python",
   "name": "python",
   "nbconvert_exporter": "python",
   "pygments_lexer": "ipython3",
   "version": "3.11.5"
  },
  "orig_nbformat": 4
 },
 "nbformat": 4,
 "nbformat_minor": 2
}
