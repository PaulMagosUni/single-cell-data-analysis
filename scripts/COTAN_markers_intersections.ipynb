{
 "cells": [
  {
   "cell_type": "code",
   "execution_count": 16,
   "metadata": {},
   "outputs": [
    {
     "name": "stdout",
     "output_type": "stream",
     "text": [
      "---------------\n",
      "tabula-muris-heart\n",
      "In common with monocle\n",
      "cluster 1 31 62.0 %\n",
      "cluster 2 30 60.0 %\n",
      "cluster 3 27 54.0 %\n",
      "cluster 4 33 66.0 %\n",
      "cluster 5 39 78.0 %\n",
      "In common with scanpy\n",
      "cluster 1 23 46.0 %\n",
      "cluster 2 3 6.0 %\n",
      "cluster 3 23 46.0 %\n",
      "cluster 4 26 52.0 %\n",
      "cluster 5 31 62.0 %\n",
      "In common with seurat\n",
      "cluster 1 15 30.0 %\n",
      "cluster 2 19 38.0 %\n",
      "cluster 3 26 52.0 %\n",
      "cluster 4 33 66.0 %\n",
      "cluster 5 31 62.0 %\n",
      "In common with scvi-tools\n",
      "cluster 1 18 36.0 %\n",
      "cluster 2 19 38.0 %\n",
      "cluster 3 35 70.0 %\n",
      "cluster 4 34 68.0 %\n",
      "cluster 5 25 50.0 %\n",
      "---------------\n",
      "tabula-muris-marrow_P7_3\n",
      "In common with monocle\n"
     ]
    },
    {
     "ename": "KeyError",
     "evalue": "'COTAN'",
     "output_type": "error",
     "traceback": [
      "\u001b[0;31m---------------------------------------------------------------------------\u001b[0m",
      "\u001b[0;31mKeyError\u001b[0m                                  Traceback (most recent call last)",
      "Cell \u001b[0;32mIn[16], line 29\u001b[0m\n\u001b[1;32m     27\u001b[0m \u001b[39mprint\u001b[39m(\u001b[39m\"\u001b[39m\u001b[39mIn common with \u001b[39m\u001b[39m{}\u001b[39;00m\u001b[39m\"\u001b[39m\u001b[39m.\u001b[39mformat(tool))\n\u001b[1;32m     28\u001b[0m \u001b[39mfor\u001b[39;00m cluster \u001b[39min\u001b[39;00m \u001b[39mrange\u001b[39m(\u001b[39m1\u001b[39m, num_clusters\u001b[39m+\u001b[39m\u001b[39m1\u001b[39m):\n\u001b[0;32m---> 29\u001b[0m     val \u001b[39m=\u001b[39m \u001b[39mlen\u001b[39m(\u001b[39mset\u001b[39m(diz[\u001b[39m'\u001b[39;49m\u001b[39mCOTAN\u001b[39;49m\u001b[39m'\u001b[39;49m][cluster])\u001b[39m.\u001b[39mintersection(\u001b[39mset\u001b[39m(diz[tool][cluster])))\n\u001b[1;32m     30\u001b[0m     \u001b[39mprint\u001b[39m(\u001b[39m'\u001b[39m\u001b[39mcluster\u001b[39m\u001b[39m'\u001b[39m, cluster, val, val\u001b[39m/\u001b[39m\u001b[39m50\u001b[39m \u001b[39m*\u001b[39m \u001b[39m100\u001b[39m, \u001b[39m'\u001b[39m\u001b[39m%\u001b[39m\u001b[39m'\u001b[39m)\n",
      "\u001b[0;31mKeyError\u001b[0m: 'COTAN'"
     ]
    }
   ],
   "source": [
    "import pandas as pd\n",
    "\n",
    "DATASET_TAGS = [\n",
    "\t'tabula-muris-heart',\n",
    "\t'tabula-muris-marrow_P7_3',\n",
    "\t'peripheral-blood',\n",
    "\t'zheng-4',\n",
    "\t'zheng-8'\n",
    "]\n",
    "\n",
    "for dataset_tag in DATASET_TAGS:\n",
    "    print('---------------')\n",
    "    print(dataset_tag)\n",
    "    path = './results/aggregate/{}/markers.csv'.format(dataset_tag)\n",
    "    df = pd.read_csv(path)\n",
    "    num_clusters = df['cluster'].nunique()\n",
    "    diz = {}\n",
    "    for tool in df['tool'].unique():\n",
    "        diz[tool] = {}\n",
    "        tool_df = df[df['tool'] == tool]\n",
    "        for cluster in df['cluster'].unique():\n",
    "            cluster_df = tool_df[tool_df['cluster'] == cluster]\n",
    "            diz[tool][cluster] = cluster_df['gene'].tolist()\n",
    "\n",
    "    for tool in df['tool'].unique():\n",
    "        if tool != \"COTAN\":\n",
    "            print(\"In common with {}\".format(tool))\n",
    "            for cluster in range(1, num_clusters+1):\n",
    "                val = len(set(diz['COTAN'][cluster]).intersection(set(diz[tool][cluster])))\n",
    "                print('cluster', cluster, val, val/50 * 100, '%')"
   ]
  }
 ],
 "metadata": {
  "kernelspec": {
   "display_name": "chl",
   "language": "python",
   "name": "python3"
  },
  "language_info": {
   "codemirror_mode": {
    "name": "ipython",
    "version": 3
   },
   "file_extension": ".py",
   "mimetype": "text/x-python",
   "name": "python",
   "nbconvert_exporter": "python",
   "pygments_lexer": "ipython3",
   "version": "3.9.16"
  },
  "orig_nbformat": 4
 },
 "nbformat": 4,
 "nbformat_minor": 2
}
