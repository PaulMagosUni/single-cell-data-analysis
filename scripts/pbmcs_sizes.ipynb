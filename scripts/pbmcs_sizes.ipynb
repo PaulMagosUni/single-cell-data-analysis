{
 "cells": [
  {
   "cell_type": "code",
   "execution_count": 1,
   "metadata": {},
   "outputs": [],
   "source": [
    "import scanpy as sc"
   ]
  },
  {
   "cell_type": "code",
   "execution_count": 2,
   "metadata": {},
   "outputs": [],
   "source": [
    "DATASET_DIR = \"../dataset\"\n",
    "DATASET_NAMES = [\"PBMC1\", \"PBMC2\", \"PBMC3\", \"PBMC4\"]"
   ]
  },
  {
   "cell_type": "code",
   "execution_count": 3,
   "metadata": {},
   "outputs": [
    {
     "name": "stdout",
     "output_type": "stream",
     "text": [
      "Dataset: PBMC1\n",
      "# cells before filtering = 5527\n",
      "# cells after filtering = 3610\n",
      "# genes before filtering = 33570\n",
      "# genes after filtering = 14366\n",
      "Dataset: PBMC2\n",
      "# cells before filtering = 6574\n",
      "# cells after filtering = 6019\n",
      "# genes before filtering = 36618\n",
      "# genes after filtering = 13707\n",
      "Dataset: PBMC3\n",
      "# cells before filtering = 11715\n",
      "# cells after filtering = 11024\n",
      "# genes before filtering = 33555\n",
      "# genes after filtering = 13124\n",
      "Dataset: PBMC4\n",
      "# cells before filtering = 8258\n",
      "# cells after filtering = 7137\n",
      "# genes before filtering = 33555\n",
      "# genes after filtering = 13614\n"
     ]
    }
   ],
   "source": [
    "for dataset in DATASET_NAMES:\n",
    "    dataset_path = DATASET_DIR + \"/\" + dataset\n",
    "    filtered_dataset_path = DATASET_DIR + \"/\" + dataset + \"-Filtered/10x\"\n",
    "    adata = sc.read_10x_mtx(dataset_path, var_names=\"gene_symbols\", cache=False)\n",
    "    adata_filtered = sc.read_10x_mtx(filtered_dataset_path, var_names=\"gene_symbols\", cache=False)\n",
    "    print(\"Dataset: \" + dataset)\n",
    "    print(\"# cells before filtering = \" + str(adata.shape[0]))\n",
    "    print(\"# cells after filtering = \" + str(adata_filtered.shape[0]))\n",
    "    print(\"# genes before filtering = \" + str(adata.shape[1]))\n",
    "    print(\"# genes after filtering = \" + str(adata_filtered.shape[1]))"
   ]
  }
 ],
 "metadata": {
  "kernelspec": {
   "display_name": "chl",
   "language": "python",
   "name": "python3"
  },
  "language_info": {
   "codemirror_mode": {
    "name": "ipython",
    "version": 3
   },
   "file_extension": ".py",
   "mimetype": "text/x-python",
   "name": "python",
   "nbconvert_exporter": "python",
   "pygments_lexer": "ipython3",
   "version": "3.11.5"
  },
  "orig_nbformat": 4
 },
 "nbformat": 4,
 "nbformat_minor": 2
}
