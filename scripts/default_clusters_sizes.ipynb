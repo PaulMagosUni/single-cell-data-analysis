{
 "cells": [
  {
   "cell_type": "code",
   "execution_count": 1,
   "metadata": {},
   "outputs": [],
   "source": [
    "import pandas as pd"
   ]
  },
  {
   "cell_type": "code",
   "execution_count": 8,
   "metadata": {},
   "outputs": [],
   "source": [
    "DATASET_NAMES = [\"PBMC1\", \"PBMC2\", \"PBMC3\", \"PBMC4\"]\n",
    "TOOLS_NAMES = [\"COTAN\", \"scanpy\", \"scvi-tools\", \"seurat\", \"monocle\"]"
   ]
  },
  {
   "cell_type": "code",
   "execution_count": 9,
   "metadata": {},
   "outputs": [
    {
     "data": {
      "text/html": [
       "<div>\n",
       "<style scoped>\n",
       "    .dataframe tbody tr th:only-of-type {\n",
       "        vertical-align: middle;\n",
       "    }\n",
       "\n",
       "    .dataframe tbody tr th {\n",
       "        vertical-align: top;\n",
       "    }\n",
       "\n",
       "    .dataframe thead th {\n",
       "        text-align: right;\n",
       "    }\n",
       "</style>\n",
       "<table border=\"1\" class=\"dataframe\">\n",
       "  <thead>\n",
       "    <tr style=\"text-align: right;\">\n",
       "      <th></th>\n",
       "      <th>dataset</th>\n",
       "      <th>COTAN</th>\n",
       "      <th>scanpy</th>\n",
       "      <th>scvi-tools</th>\n",
       "      <th>seurat</th>\n",
       "      <th>monocle</th>\n",
       "      <th>celltypist</th>\n",
       "    </tr>\n",
       "  </thead>\n",
       "  <tbody>\n",
       "    <tr>\n",
       "      <th>0</th>\n",
       "      <td>PBMC1</td>\n",
       "      <td>28</td>\n",
       "      <td>18</td>\n",
       "      <td>12</td>\n",
       "      <td>11</td>\n",
       "      <td>3</td>\n",
       "      <td>15</td>\n",
       "    </tr>\n",
       "    <tr>\n",
       "      <th>0</th>\n",
       "      <td>PBMC2</td>\n",
       "      <td>31</td>\n",
       "      <td>19</td>\n",
       "      <td>16</td>\n",
       "      <td>16</td>\n",
       "      <td>3</td>\n",
       "      <td>16</td>\n",
       "    </tr>\n",
       "    <tr>\n",
       "      <th>0</th>\n",
       "      <td>PBMC3</td>\n",
       "      <td>61</td>\n",
       "      <td>22</td>\n",
       "      <td>19</td>\n",
       "      <td>18</td>\n",
       "      <td>4</td>\n",
       "      <td>19</td>\n",
       "    </tr>\n",
       "    <tr>\n",
       "      <th>0</th>\n",
       "      <td>PBMC4</td>\n",
       "      <td>43</td>\n",
       "      <td>22</td>\n",
       "      <td>16</td>\n",
       "      <td>19</td>\n",
       "      <td>3</td>\n",
       "      <td>17</td>\n",
       "    </tr>\n",
       "  </tbody>\n",
       "</table>\n",
       "</div>"
      ],
      "text/plain": [
       "  dataset  COTAN  scanpy  scvi-tools  seurat  monocle  celltypist\n",
       "0   PBMC1     28      18          12      11        3          15\n",
       "0   PBMC2     31      19          16      16        3          16\n",
       "0   PBMC3     61      22          19      18        4          19\n",
       "0   PBMC4     43      22          16      19        3          17"
      ]
     },
     "execution_count": 9,
     "metadata": {},
     "output_type": "execute_result"
    }
   ],
   "source": [
    "clusters_sizes_df = pd.DataFrame()\n",
    "for dataset in DATASET_NAMES:\n",
    "    df_row = {}\n",
    "    df_row[\"dataset\"] = dataset\n",
    "    for tool in TOOLS_NAMES:\n",
    "        tool_labels_df = pd.read_csv(f\"../results/{dataset}/{tool}/clustering_labels.csv\")\n",
    "        df_row[tool] = tool_labels_df['cluster'].nunique()\n",
    "    gt_labels_df = pd.read_csv(f\"../dataset/{dataset}-Filtered/raw/celltypist_labels.csv\")\n",
    "    df_row['celltypist'] = gt_labels_df['cluster.ids'].nunique()\n",
    "    clusters_sizes_df = pd.concat([clusters_sizes_df, pd.DataFrame(df_row, index=[0])])\n",
    "clusters_sizes_df.to_csv(\"../results/clusters_sizes.csv\", index=False)\n",
    "clusters_sizes_df"
   ]
  }
 ],
 "metadata": {
  "kernelspec": {
   "display_name": "chl",
   "language": "python",
   "name": "python3"
  },
  "language_info": {
   "codemirror_mode": {
    "name": "ipython",
    "version": 3
   },
   "file_extension": ".py",
   "mimetype": "text/x-python",
   "name": "python",
   "nbconvert_exporter": "python",
   "pygments_lexer": "ipython3",
   "version": "3.11.5"
  },
  "orig_nbformat": 4
 },
 "nbformat": 4,
 "nbformat_minor": 2
}
