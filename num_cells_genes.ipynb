{
 "cells": [
  {
   "cell_type": "code",
   "execution_count": 1,
   "metadata": {},
   "outputs": [
    {
     "name": "stdout",
     "output_type": "stream",
     "text": [
      "tabula-muris-heart # cells 13646 # genes 617\n",
      "tabula-muris-marrow_P7_3 # cells 13387 # genes 1870\n",
      "peripheal-blood # cells 18306 # genes 3658\n",
      "zheng-4 # cells 12871 # genes 3959\n",
      "zheng-8 # cells 12990 # genes 3934\n"
     ]
    }
   ],
   "source": [
    "# Prints # cells and # genes for each dataset\n",
    "\n",
    "import scanpy as sc\n",
    "\n",
    "\n",
    "dataset_folder = './dataset/'\n",
    "DATASET_TAGS = ['tabula-muris-heart', 'tabula-muris-marrow_P7_3', 'peripheal-blood', 'zheng-4', 'zheng-8']\n",
    "\n",
    "\n",
    "for dataset_tag in DATASET_TAGS:\n",
    "    dataset_path = dataset_folder + dataset_tag + '-filtered/10X'\n",
    "    adata = sc.read_10x_mtx(\n",
    "        dataset_path,\n",
    "        var_names='gene_symbols',\n",
    "        cache=False\n",
    "    )\n",
    "    print(\"{} # cells {} # genes {}\".format(dataset_tag, len(adata.obs_names), len(adata.var_names)))"
   ]
  }
 ],
 "metadata": {
  "kernelspec": {
   "display_name": "Python 3 (ipykernel)",
   "language": "python",
   "name": "python3"
  },
  "language_info": {
   "codemirror_mode": {
    "name": "ipython",
    "version": 3
   },
   "file_extension": ".py",
   "mimetype": "text/x-python",
   "name": "python",
   "nbconvert_exporter": "python",
   "pygments_lexer": "ipython3",
   "version": "3.9.16"
  }
 },
 "nbformat": 4,
 "nbformat_minor": 2
}
