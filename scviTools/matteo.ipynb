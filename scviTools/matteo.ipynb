{
 "cells": [
  {
   "attachments": {},
   "cell_type": "markdown",
   "metadata": {
    "id": "y4nH3q_rZ0bI"
   },
   "source": [
    "# Introduction to scvi-tools\n",
    "\n",
    "In this introductory tutorial, we go through the different steps of an scvi-tools workflow.\n",
    "\n",
    "While we focus on scVI in this tutorial, the API is consistent across all models."
   ]
  },
  {
   "cell_type": "code",
   "execution_count": 126,
   "metadata": {
    "colab": {
     "base_uri": "https://localhost:8080/"
    },
    "id": "fKv83AN6hcWO",
    "outputId": "b3a5ee4e-c713-4ad7-a87e-832102335655"
   },
   "outputs": [],
   "source": [
    "import scanpy as sc\n",
    "import scvi.data\n",
    "sc.set_figure_params(figsize=(4, 4))\n",
    "\n",
    "# for white background of figures (only for docs rendering)\n",
    "%config InlineBackend.print_figure_kwargs={'facecolor' : \"w\"}\n",
    "%config InlineBackend.figure_format='retina'"
   ]
  },
  {
   "attachments": {},
   "cell_type": "markdown",
   "metadata": {
    "id": "oPGuX2wPZ0bS"
   },
   "source": [
    "## Loading and preparing data\n",
    "\n",
    "Let us first load a subsampled version of the heart cell atlas dataset described in Litviňuková et al. (2020). scvi-tools has many \"built-in\" datasets as well as support for loading arbitrary `.csv`, `.loom`, and `.h5ad` (AnnData) files. Please see our tutorial on data loading for more examples.\n",
    "\n",
    "- Litviňuková, M., Talavera-López, C., Maatz, H., Reichart, D., Worth, C. L., Lindberg, E. L., ... & Teichmann, S. A. (2020). Cells of the adult human heart. Nature, 588(7838), 466-472."
   ]
  },
  {
   "attachments": {},
   "cell_type": "markdown",
   "metadata": {
    "id": "CKEgQJG3mVJh"
   },
   "source": [
    "<div class=\"alert alert-info\">\n",
    "Important\n",
    "\n",
    "All scvi-tools models require AnnData objects as input.\n",
    "\n",
    "</div>"
   ]
  },
  {
   "cell_type": "code",
   "execution_count": 127,
   "metadata": {
    "colab": {
     "base_uri": "https://localhost:8080/"
    },
    "id": "HZPOlSs2nAez",
    "outputId": "ecae5cda-3e44-4f91-e945-51a4f148c90d"
   },
   "outputs": [],
   "source": [
    "adata = sc.read_10x_mtx('../filtered_dataset/tabulamuris/data_10X_P7_4/')"
   ]
  },
  {
   "attachments": {},
   "cell_type": "markdown",
   "metadata": {
    "id": "USVZNzYFqWby"
   },
   "source": [
    "Now we preprocess the data to remove, for example, genes that are very lowly expressed and other outliers. For these tasks we prefer the [Scanpy preprocessing module](https://scanpy.readthedocs.io/en/stable/api/index.html#module-scanpy.pp)."
   ]
  },
  {
   "cell_type": "code",
   "execution_count": null,
   "metadata": {
    "id": "6l5MYjxEqTcp"
   },
   "outputs": [],
   "source": [
    "# sc.pp.filter_genes(adata, min_counts=3)"
   ]
  },
  {
   "attachments": {},
   "cell_type": "markdown",
   "metadata": {
    "id": "7_JMKQMBqp02"
   },
   "source": [
    "In scRNA-seq analysis, it's popular to normalize the data. These values are not used by scvi-tools, but given their popularity in other tasks as well as for visualization, we store them in the anndata object separately (via the `.raw` attribute)."
   ]
  },
  {
   "attachments": {},
   "cell_type": "markdown",
   "metadata": {
    "id": "hu4Dcg8QnNsz"
   },
   "source": [
    "<div class=\"alert alert-info\">\n",
    "\n",
    "Important\n",
    "\n",
    "Unless otherwise specified, scvi-tools models require the raw counts (not log library size normalized). scvi-tools models will run for non-negative real-valued data, but we strongly suggest checking that these possibly non-count values are intended to represent pseudocounts (e.g. SoupX-corrected counts), and not some other normalized data, in which the variance/covariance structure of the data has changed dramatically.\n",
    "\n",
    "</div>"
   ]
  },
  {
   "cell_type": "code",
   "execution_count": 128,
   "metadata": {
    "id": "QXIxM_VgqovL"
   },
   "outputs": [
    {
     "data": {
      "text/plain": [
       "AnnData object with n_obs × n_vars = 370 × 13656\n",
       "    var: 'gene_ids'\n",
       "    layers: 'counts'"
      ]
     },
     "execution_count": 128,
     "metadata": {},
     "output_type": "execute_result"
    }
   ],
   "source": [
    "adata.layers[\"counts\"] = adata.X.copy()  # preserve counts\n",
    "sc.pp.normalize_total(adata, target_sum=1e4)\n",
    "# sc.pp.log1p(adata)\n",
    "adata.raw = adata  # freeze the state in `.raw`\n",
    "adata"
   ]
  },
  {
   "attachments": {},
   "cell_type": "markdown",
   "metadata": {
    "id": "7ocFplFetywZ"
   },
   "source": [
    "Finally, we perform feature selection, to reduce the number of features (genes in this case) used as input to the scvi-tools model. For best practices of how/when to perform feature selection, please refer to the model-specific tutorial. For scVI, we recommend anywhere from 1,000 to 10,000 HVGs, but it will be context-dependent."
   ]
  },
  {
   "cell_type": "code",
   "execution_count": 130,
   "metadata": {
    "id": "j8gBNU_7txZU"
   },
   "outputs": [],
   "source": [
    "sc.pp.highly_variable_genes(\n",
    "    adata,\n",
    "    n_top_genes=1200,\n",
    "    subset=True,\n",
    "    layer=\"counts\",\n",
    "    flavor=\"seurat_v3\",\n",
    ")"
   ]
  },
  {
   "attachments": {},
   "cell_type": "markdown",
   "metadata": {
    "id": "RcUzIOGbrKMf"
   },
   "source": [
    "Now it's time to run `setup_anndata()`, which alerts scvi-tools to the locations of various matrices inside the anndata. It's important to run this function with the correct arguments so scvi-tools is notified that your dataset has batches, annotations, etc. For example, if batches are registered with scvi-tools, the subsequent model will correct for batch effects. See the full documentation for details.\n",
    "\n",
    "In this dataset, there is a \"cell_source\" categorical covariate, and within each \"cell_source\", multiple \"donors\", \"gender\" and \"age_group\". There are also two continuous covariates we'd like to correct for: \"percent_mito\" and \"percent_ribo\". These covariates can be registered using the `categorical_covariate_keys` argument. If you only have one categorical covariate, you can also use the `batch_key` argument instead."
   ]
  },
  {
   "cell_type": "code",
   "execution_count": 131,
   "metadata": {
    "id": "d46OgftwrJhl"
   },
   "outputs": [],
   "source": [
    "scvi.model.SCVI.setup_anndata(\n",
    "    adata,\n",
    "    layer=\"counts\",\n",
    "    # categorical_covariate_keys=[\"cell_source\", \"donor\"],\n",
    "    # continuous_covariate_keys=[\"percent_mito\", \"percent_ribo\"],\n",
    ")"
   ]
  },
  {
   "attachments": {},
   "cell_type": "markdown",
   "metadata": {
    "id": "RVHQRTbGowQC"
   },
   "source": [
    "<div class=\"alert alert-warning\">\n",
    "\n",
    "Warning\n",
    "\n",
    "If the adata is modified after running `setup_anndata`, please run `setup_anndata` again, before creating an instance of a model.\n",
    "\n",
    "</div>"
   ]
  },
  {
   "attachments": {},
   "cell_type": "markdown",
   "metadata": {
    "id": "RAWmYvjkZ0bW"
   },
   "source": [
    "## Creating and training a model\n",
    "\n",
    "While we highlight the scVI model here, the API is consistent across all scvi-tools models and is inspired by that of [scikit-learn](https://scikit-learn.org/stable/). For a full list of options, see the scvi [documentation](https://scvi-tools.org)."
   ]
  },
  {
   "cell_type": "code",
   "execution_count": 132,
   "metadata": {
    "id": "xPnlTctkZ0bX"
   },
   "outputs": [],
   "source": [
    "model = scvi.model.SCVI(adata)"
   ]
  },
  {
   "attachments": {},
   "cell_type": "markdown",
   "metadata": {
    "id": "vTQ8KwoNr5_K"
   },
   "source": [
    "We can see an overview of the model by printing it."
   ]
  },
  {
   "cell_type": "code",
   "execution_count": 133,
   "metadata": {
    "colab": {
     "base_uri": "https://localhost:8080/",
     "height": 81
    },
    "id": "ogKNFwVQr392",
    "outputId": "1917d0dd-1d3b-441c-f00b-5a922eb2452b"
   },
   "outputs": [
    {
     "data": {
      "text/html": [
       "<pre style=\"white-space:pre;overflow-x:auto;line-height:normal;font-family:Menlo,'DejaVu Sans Mono',consolas,'Courier New',monospace\">SCVI Model with the following params: \n",
       "n_hidden: <span style=\"color: #008080; text-decoration-color: #008080; font-weight: bold\">128</span>, n_latent: <span style=\"color: #008080; text-decoration-color: #008080; font-weight: bold\">10</span>, n_layers: <span style=\"color: #008080; text-decoration-color: #008080; font-weight: bold\">1</span>, dropout_rate: <span style=\"color: #008080; text-decoration-color: #008080; font-weight: bold\">0.1</span>, dispersion: gene, gene_likelihood: zinb, \n",
       "latent_distribution: normal\n",
       "Training status: Not Trained\n",
       "Model's adata is minified?: <span style=\"color: #ff0000; text-decoration-color: #ff0000; font-style: italic\">False</span>\n",
       "</pre>\n"
      ],
      "text/plain": [
       "SCVI Model with the following params: \n",
       "n_hidden: \u001b[1;36m128\u001b[0m, n_latent: \u001b[1;36m10\u001b[0m, n_layers: \u001b[1;36m1\u001b[0m, dropout_rate: \u001b[1;36m0.1\u001b[0m, dispersion: gene, gene_likelihood: zinb, \n",
       "latent_distribution: normal\n",
       "Training status: Not Trained\n",
       "Model's adata is minified?: \u001b[3;91mFalse\u001b[0m\n"
      ]
     },
     "metadata": {},
     "output_type": "display_data"
    },
    {
     "data": {
      "text/plain": []
     },
     "execution_count": 133,
     "metadata": {},
     "output_type": "execute_result"
    }
   ],
   "source": [
    "model"
   ]
  },
  {
   "attachments": {},
   "cell_type": "markdown",
   "metadata": {
    "id": "d-6R1KcrlsXD"
   },
   "source": [
    "<div class=\"alert alert-info\">\n",
    "Important\n",
    "\n",
    "All scvi-tools models run faster when using a GPU. By default, scvi-tools will use a GPU if one is found to be available. Please see the installation page for more information about installing scvi-tools when a GPU is available.\n",
    "\n",
    "</div>"
   ]
  },
  {
   "cell_type": "code",
   "execution_count": 135,
   "metadata": {
    "colab": {
     "base_uri": "https://localhost:8080/"
    },
    "id": "2DT6Im69ZPFu",
    "outputId": "166db0d3-b0e0-4610-94fc-d9f08edb5bda"
   },
   "outputs": [
    {
     "name": "stderr",
     "output_type": "stream",
     "text": [
      "GPU available: True (mps), used: False\n",
      "TPU available: False, using: 0 TPU cores\n",
      "IPU available: False, using: 0 IPUs\n",
      "HPU available: False, using: 0 HPUs\n"
     ]
    },
    {
     "name": "stdout",
     "output_type": "stream",
     "text": [
      "Epoch 400/400: 100%|██████████| 400/400 [00:22<00:00, 19.05it/s, loss=458, v_num=1] "
     ]
    },
    {
     "name": "stderr",
     "output_type": "stream",
     "text": [
      "`Trainer.fit` stopped: `max_epochs=400` reached.\n"
     ]
    },
    {
     "name": "stdout",
     "output_type": "stream",
     "text": [
      "Epoch 400/400: 100%|██████████| 400/400 [00:22<00:00, 18.04it/s, loss=458, v_num=1]\n"
     ]
    }
   ],
   "source": [
    "model.train(use_gpu=False)"
   ]
  },
  {
   "attachments": {},
   "cell_type": "markdown",
   "metadata": {
    "id": "3jRIM0NRa03N"
   },
   "source": [
    "### Saving and loading\n",
    "\n",
    "Saving consists of saving the model neural network weights, as well as parameters used to initialize the model."
   ]
  },
  {
   "cell_type": "code",
   "execution_count": null,
   "metadata": {
    "id": "MfaDMe3tayj_"
   },
   "outputs": [],
   "source": [
    "# model.save(\"my_model/\")"
   ]
  },
  {
   "cell_type": "code",
   "execution_count": null,
   "metadata": {
    "id": "xYIQnbm1a-wF"
   },
   "outputs": [],
   "source": [
    "# model = scvi.model.SCVI.load(\"my_model/\", adata=adata, use_gpu=True)"
   ]
  },
  {
   "attachments": {},
   "cell_type": "markdown",
   "metadata": {
    "id": "iVy8Eo1-Z0be"
   },
   "source": [
    "## Obtaining model outputs"
   ]
  },
  {
   "cell_type": "code",
   "execution_count": 137,
   "metadata": {
    "id": "R4FwiBpUtQJa"
   },
   "outputs": [],
   "source": [
    "latent = model.get_latent_representation()"
   ]
  },
  {
   "attachments": {},
   "cell_type": "markdown",
   "metadata": {
    "id": "Cgnqal7kvArn"
   },
   "source": [
    "It's often useful to store the outputs of scvi-tools back into the original anndata, as it permits interoperability with Scanpy."
   ]
  },
  {
   "cell_type": "code",
   "execution_count": 138,
   "metadata": {
    "id": "nXFAjVazvHj7"
   },
   "outputs": [],
   "source": [
    "adata.obsm[\"X_scVI\"] = latent\n",
    "adata_subset = adata"
   ]
  },
  {
   "attachments": {},
   "cell_type": "markdown",
   "metadata": {
    "id": "merbABa3u8rg"
   },
   "source": [
    "The `model.get...()` functions default to using the anndata that was used to initialize the model. It's possible to also query a subset of the anndata, or even use a completely independent anndata object as long as the anndata is organized in an equivalent fashion."
   ]
  },
  {
   "cell_type": "code",
   "execution_count": 139,
   "metadata": {
    "colab": {
     "base_uri": "https://localhost:8080/"
    },
    "id": "kHznd-ygvNt5",
    "outputId": "41ff4f7d-4d2b-4aab-a483-78ec4865b323"
   },
   "outputs": [],
   "source": [
    "# adata_subset = adata[adata.obs.cell_type == \"Fibroblast\"]\n",
    "latent_subset = model.get_latent_representation(adata_subset)"
   ]
  },
  {
   "cell_type": "code",
   "execution_count": 141,
   "metadata": {
    "colab": {
     "base_uri": "https://localhost:8080/",
     "height": 241
    },
    "id": "NCUXYiZov0uH",
    "outputId": "e570656d-e291-4f37-d052-6056ddf02c93"
   },
   "outputs": [
    {
     "data": {
      "text/html": [
       "<div>\n",
       "<style scoped>\n",
       "    .dataframe tbody tr th:only-of-type {\n",
       "        vertical-align: middle;\n",
       "    }\n",
       "\n",
       "    .dataframe tbody tr th {\n",
       "        vertical-align: top;\n",
       "    }\n",
       "\n",
       "    .dataframe thead th {\n",
       "        text-align: right;\n",
       "    }\n",
       "</style>\n",
       "<table border=\"1\" class=\"dataframe\">\n",
       "  <thead>\n",
       "    <tr style=\"text-align: right;\">\n",
       "      <th></th>\n",
       "      <th>Sox17</th>\n",
       "      <th>Sntg1</th>\n",
       "      <th>Sulf1</th>\n",
       "      <th>Msc</th>\n",
       "      <th>Pi15</th>\n",
       "    </tr>\n",
       "  </thead>\n",
       "  <tbody>\n",
       "    <tr>\n",
       "      <th>AAACCTGCACGACGAA</th>\n",
       "      <td>0.001928</td>\n",
       "      <td>0.000049</td>\n",
       "      <td>0.000122</td>\n",
       "      <td>0.000011</td>\n",
       "      <td>0.000011</td>\n",
       "    </tr>\n",
       "    <tr>\n",
       "      <th>AAACCTGGTTCCACGG</th>\n",
       "      <td>0.000021</td>\n",
       "      <td>0.000289</td>\n",
       "      <td>0.001179</td>\n",
       "      <td>0.000482</td>\n",
       "      <td>0.001619</td>\n",
       "    </tr>\n",
       "    <tr>\n",
       "      <th>AAACCTGTCTCGATGA</th>\n",
       "      <td>0.001542</td>\n",
       "      <td>0.000009</td>\n",
       "      <td>0.000015</td>\n",
       "      <td>0.000016</td>\n",
       "      <td>0.000033</td>\n",
       "    </tr>\n",
       "    <tr>\n",
       "      <th>AAACGGGAGCGCTCCA</th>\n",
       "      <td>0.000085</td>\n",
       "      <td>0.000009</td>\n",
       "      <td>0.000042</td>\n",
       "      <td>0.000042</td>\n",
       "      <td>0.000004</td>\n",
       "    </tr>\n",
       "    <tr>\n",
       "      <th>AAAGCAAAGTGAATTG</th>\n",
       "      <td>0.000027</td>\n",
       "      <td>0.000027</td>\n",
       "      <td>0.000238</td>\n",
       "      <td>0.000206</td>\n",
       "      <td>0.000236</td>\n",
       "    </tr>\n",
       "  </tbody>\n",
       "</table>\n",
       "</div>"
      ],
      "text/plain": [
       "                     Sox17     Sntg1     Sulf1       Msc      Pi15\n",
       "AAACCTGCACGACGAA  0.001928  0.000049  0.000122  0.000011  0.000011\n",
       "AAACCTGGTTCCACGG  0.000021  0.000289  0.001179  0.000482  0.001619\n",
       "AAACCTGTCTCGATGA  0.001542  0.000009  0.000015  0.000016  0.000033\n",
       "AAACGGGAGCGCTCCA  0.000085  0.000009  0.000042  0.000042  0.000004\n",
       "AAAGCAAAGTGAATTG  0.000027  0.000027  0.000238  0.000206  0.000236"
      ]
     },
     "execution_count": 141,
     "metadata": {},
     "output_type": "execute_result"
    }
   ],
   "source": [
    "denoised = model.get_normalized_expression(adata_subset)\n",
    "denoised.iloc[:5, :5]"
   ]
  },
  {
   "attachments": {},
   "cell_type": "markdown",
   "metadata": {
    "id": "E3jkmBUa6L_N"
   },
   "source": [
    "Let's store the normalized values back in the anndata."
   ]
  },
  {
   "cell_type": "code",
   "execution_count": 144,
   "metadata": {
    "id": "pa4xQzkv6Ov_"
   },
   "outputs": [],
   "source": [
    "adata.layers[\"scvi_normalized\"] = model.get_normalized_expression()"
   ]
  },
  {
   "attachments": {},
   "cell_type": "markdown",
   "metadata": {
    "id": "KRbBVO2RZ0bk"
   },
   "source": [
    "## Interoperability with Scanpy"
   ]
  },
  {
   "attachments": {},
   "cell_type": "markdown",
   "metadata": {
    "id": "Vbo5AUQ5Z0bk"
   },
   "source": [
    "Scanpy is a powerful python library for visualization and downstream analysis of scRNA-seq data. We show here how to feed the objects produced by scvi-tools into a scanpy workflow."
   ]
  },
  {
   "attachments": {},
   "cell_type": "markdown",
   "metadata": {
    "id": "Vmzz9xHWnAfB"
   },
   "source": [
    "### Visualization without batch correction"
   ]
  },
  {
   "attachments": {},
   "cell_type": "markdown",
   "metadata": {
    "id": "MZwQThmmktJY"
   },
   "source": [
    "<div class=\"alert alert-warning\">\n",
    "\n",
    "Warning\n",
    "\n",
    "We use UMAP to *qualitatively* assess our low-dimension embeddings of cells. We do not advise using UMAP or any similar approach quantitatively. We do recommend using the embeddings produced by scVI as a plug-in replacement of what you would get from PCA, as we show below.\n",
    "\n",
    "</div>"
   ]
  },
  {
   "attachments": {},
   "cell_type": "markdown",
   "metadata": {
    "id": "y7Uvi9YpnAfB"
   },
   "source": [
    "First, we demonstrate the presence of nuisance variation with respect to nuclei/whole cell, age group, and donor by plotting the UMAP results of the top 30 PCA components for the raw count data."
   ]
  },
  {
   "cell_type": "code",
   "execution_count": 165,
   "metadata": {
    "id": "S_IJVCZknAfC"
   },
   "outputs": [
    {
     "data": {
      "text/plain": [
       "AnnData object with n_obs × n_vars = 370 × 1200\n",
       "    obs: '_scvi_batch', '_scvi_labels'\n",
       "    var: 'gene_ids', 'highly_variable', 'highly_variable_rank', 'means', 'variances', 'variances_norm'\n",
       "    uns: 'hvg', '_scvi_uuid', '_scvi_manager_uuid', 'pca', 'neighbors', 'umap'\n",
       "    obsm: 'X_scVI', 'X_pca', 'X_umap'\n",
       "    varm: 'PCs'\n",
       "    layers: 'counts', 'scvi_normalized'\n",
       "    obsp: 'distances', 'connectivities'"
      ]
     },
     "execution_count": 165,
     "metadata": {},
     "output_type": "execute_result"
    }
   ],
   "source": [
    "# run PCA then generate UMAP plots\n",
    "sc.tl.pca(adata)\n",
    "sc.pp.neighbors(adata, n_pcs=30, n_neighbors=20)\n",
    "sc.tl.umap(adata, min_dist=0.05)\n",
    "adata"
   ]
  },
  {
   "attachments": {},
   "cell_type": "markdown",
   "metadata": {
    "id": "_qf-GPesnAfD"
   },
   "source": [
    "We see that while the cell types are generally well separated, nuisance variation plays a large part in the variation of the data."
   ]
  },
  {
   "attachments": {},
   "cell_type": "markdown",
   "metadata": {
    "id": "L1fkByXCnAfD"
   },
   "source": [
    "### Visualization with batch correction (scVI)"
   ]
  },
  {
   "attachments": {},
   "cell_type": "markdown",
   "metadata": {
    "id": "2NibCVe-nAfD"
   },
   "source": [
    "Now, let us try using the scVI latent space to generate the same UMAP plots to see if scVI successfully accounts for batch effects in the data."
   ]
  },
  {
   "cell_type": "code",
   "execution_count": 190,
   "metadata": {
    "id": "AAABjrJswQ9E"
   },
   "outputs": [],
   "source": [
    "# use scVI latent space for UMAP generation\n",
    "sc.pp.neighbors(adata, use_rep=\"X_scVI\")\n",
    "sc.tl.umap(adata, min_dist=0.3)"
   ]
  },
  {
   "attachments": {},
   "cell_type": "markdown",
   "metadata": {
    "id": "_AUihbz9nAfE"
   },
   "source": [
    "We can see that scVI was able to correct for nuisance variation due to nuclei/whole cell, age group, and donor, while maintaining separation of cell types."
   ]
  },
  {
   "attachments": {},
   "cell_type": "markdown",
   "metadata": {
    "id": "L3EC098_nAfE"
   },
   "source": [
    "### Clustering on the scVI latent space"
   ]
  },
  {
   "attachments": {},
   "cell_type": "markdown",
   "metadata": {
    "id": "qx3Yu04GZ0br"
   },
   "source": [
    "The user will note that we imported curated labels from the original publication. Our interface with scanpy makes it easy to cluster the data with scanpy from scVI's latent space and then reinject them into scVI (e.g., for differential expression)."
   ]
  },
  {
   "cell_type": "code",
   "execution_count": 200,
   "metadata": {
    "id": "ME5yLdHtxHsb"
   },
   "outputs": [],
   "source": [
    "# neighbors were already computed using scVI\n",
    "sc.tl.leiden(adata, key_added=\"leiden_scVI\", resolution=0.1)"
   ]
  },
  {
   "cell_type": "code",
   "execution_count": 203,
   "metadata": {
    "colab": {
     "base_uri": "https://localhost:8080/",
     "height": 312
    },
    "id": "1tnfExusnAfE",
    "outputId": "f6bc202b-8123-4924-eb03-462aabf95084"
   },
   "outputs": [
    {
     "data": {
      "image/png": "[encoded data removed]",
      "text/plain": [
       "<Figure size 320x320 with 1 Axes>"
      ]
     },
     "metadata": {
      "image/png": {
       "height": 277,
       "width": 305
      }
     },
     "output_type": "display_data"
    },
    {
     "data": {
      "text/plain": [
       "AnnData object with n_obs × n_vars = 370 × 1200\n",
       "    obs: '_scvi_batch', '_scvi_labels', 'leiden_scVI'\n",
       "    var: 'gene_ids', 'highly_variable', 'highly_variable_rank', 'means', 'variances', 'variances_norm'\n",
       "    uns: 'hvg', '_scvi_uuid', '_scvi_manager_uuid', 'pca', 'neighbors', 'umap', 'leiden', 'leiden_scVI_colors'\n",
       "    obsm: 'X_scVI', 'X_pca', 'X_umap'\n",
       "    varm: 'PCs'\n",
       "    layers: 'counts', 'scvi_normalized'\n",
       "    obsp: 'distances', 'connectivities'"
      ]
     },
     "execution_count": 203,
     "metadata": {},
     "output_type": "execute_result"
    }
   ],
   "source": [
    "sc.pl.umap(\n",
    "    adata,\n",
    "    color=[\"leiden_scVI\"],\n",
    "    frameon=False,\n",
    ")\n",
    "adata"
   ]
  },
  {
   "attachments": {},
   "cell_type": "markdown",
   "metadata": {
    "id": "1yDDpmrcZ0bs"
   },
   "source": [
    "## Differential expression\n",
    "We can also use many scvi-tools models for differential expression. For further details on the methods underlying these functions as well as additional options, please see the [API docs](https://docs.scvi-tools.org/en/stable/api/reference/scvi.model.SCVI.differential_expression.html#scvi.model.SCVI.differential_expression)."
   ]
  },
  {
   "cell_type": "code",
   "execution_count": 204,
   "metadata": {
    "colab": {
     "base_uri": "https://localhost:8080/"
    },
    "id": "zaXI-F71yK6O",
    "outputId": "46aa60af-8cd9-4542-fea6-745b3cfd6562"
   },
   "outputs": [
    {
     "data": {
      "text/plain": [
       "AAACCTGCACGACGAA    0\n",
       "AAACCTGGTTCCACGG    1\n",
       "AAACCTGTCTCGATGA    0\n",
       "AAACGGGAGCGCTCCA    2\n",
       "AAAGCAAAGTGAATTG    1\n",
       "Name: leiden_scVI, dtype: category\n",
       "Categories (6, object): ['0', '1', '2', '3', '4', '5']"
      ]
     },
     "execution_count": 204,
     "metadata": {},
     "output_type": "execute_result"
    }
   ],
   "source": [
    "adata.obs.leiden_scVI.head()"
   ]
  },
  {
   "attachments": {},
   "cell_type": "markdown",
   "metadata": {
    "id": "K9zGxVjkyW8i"
   },
   "source": [
    "For example, a 1-vs-1 DE test is as simple as:"
   ]
  },
  {
   "cell_type": "code",
   "execution_count": 206,
   "metadata": {
    "colab": {
     "base_uri": "https://localhost:8080/",
     "height": 375
    },
    "id": "3eUeH87Vxd_O",
    "outputId": "6c1deeae-56fe-414e-af29-12097e48c0b0"
   },
   "outputs": [
    {
     "name": "stdout",
     "output_type": "stream",
     "text": [
      "DE...: 100%|██████████| 6/6 [00:02<00:00,  2.51it/s]\n"
     ]
    },
    {
     "data": {
      "text/html": [
       "<div>\n",
       "<style scoped>\n",
       "    .dataframe tbody tr th:only-of-type {\n",
       "        vertical-align: middle;\n",
       "    }\n",
       "\n",
       "    .dataframe tbody tr th {\n",
       "        vertical-align: top;\n",
       "    }\n",
       "\n",
       "    .dataframe thead th {\n",
       "        text-align: right;\n",
       "    }\n",
       "</style>\n",
       "<table border=\"1\" class=\"dataframe\">\n",
       "  <thead>\n",
       "    <tr style=\"text-align: right;\">\n",
       "      <th></th>\n",
       "      <th>proba_de</th>\n",
       "      <th>proba_not_de</th>\n",
       "      <th>bayes_factor</th>\n",
       "      <th>scale1</th>\n",
       "      <th>scale2</th>\n",
       "      <th>pseudocounts</th>\n",
       "      <th>delta</th>\n",
       "      <th>lfc_mean</th>\n",
       "      <th>lfc_median</th>\n",
       "      <th>lfc_std</th>\n",
       "      <th>...</th>\n",
       "      <th>raw_mean1</th>\n",
       "      <th>raw_mean2</th>\n",
       "      <th>non_zeros_proportion1</th>\n",
       "      <th>non_zeros_proportion2</th>\n",
       "      <th>raw_normalized_mean1</th>\n",
       "      <th>raw_normalized_mean2</th>\n",
       "      <th>is_de_fdr_0.05</th>\n",
       "      <th>comparison</th>\n",
       "      <th>group1</th>\n",
       "      <th>group2</th>\n",
       "    </tr>\n",
       "  </thead>\n",
       "  <tbody>\n",
       "    <tr>\n",
       "      <th>Tcf15</th>\n",
       "      <td>0.9988</td>\n",
       "      <td>0.0012</td>\n",
       "      <td>6.724225</td>\n",
       "      <td>0.007520</td>\n",
       "      <td>0.000100</td>\n",
       "      <td>0.0</td>\n",
       "      <td>0.25</td>\n",
       "      <td>6.518294</td>\n",
       "      <td>6.638792</td>\n",
       "      <td>1.937591</td>\n",
       "      <td>...</td>\n",
       "      <td>3.321916</td>\n",
       "      <td>0.098214</td>\n",
       "      <td>0.808219</td>\n",
       "      <td>0.026786</td>\n",
       "      <td>76.025200</td>\n",
       "      <td>0.276104</td>\n",
       "      <td>True</td>\n",
       "      <td>0 vs Rest</td>\n",
       "      <td>0</td>\n",
       "      <td>Rest</td>\n",
       "    </tr>\n",
       "    <tr>\n",
       "      <th>Kcna5</th>\n",
       "      <td>0.9966</td>\n",
       "      <td>0.0034</td>\n",
       "      <td>5.680571</td>\n",
       "      <td>0.001725</td>\n",
       "      <td>0.000066</td>\n",
       "      <td>0.0</td>\n",
       "      <td>0.25</td>\n",
       "      <td>5.507457</td>\n",
       "      <td>5.434327</td>\n",
       "      <td>2.397715</td>\n",
       "      <td>...</td>\n",
       "      <td>0.732877</td>\n",
       "      <td>0.008929</td>\n",
       "      <td>0.410959</td>\n",
       "      <td>0.004464</td>\n",
       "      <td>15.921961</td>\n",
       "      <td>0.014836</td>\n",
       "      <td>True</td>\n",
       "      <td>0 vs Rest</td>\n",
       "      <td>0</td>\n",
       "      <td>Rest</td>\n",
       "    </tr>\n",
       "    <tr>\n",
       "      <th>Fabp4</th>\n",
       "      <td>0.9956</td>\n",
       "      <td>0.0044</td>\n",
       "      <td>5.421739</td>\n",
       "      <td>0.095064</td>\n",
       "      <td>0.001498</td>\n",
       "      <td>0.0</td>\n",
       "      <td>0.25</td>\n",
       "      <td>6.598339</td>\n",
       "      <td>7.103540</td>\n",
       "      <td>2.210856</td>\n",
       "      <td>...</td>\n",
       "      <td>73.260269</td>\n",
       "      <td>1.857143</td>\n",
       "      <td>0.972603</td>\n",
       "      <td>0.482143</td>\n",
       "      <td>1747.283081</td>\n",
       "      <td>12.361004</td>\n",
       "      <td>True</td>\n",
       "      <td>0 vs Rest</td>\n",
       "      <td>0</td>\n",
       "      <td>Rest</td>\n",
       "    </tr>\n",
       "    <tr>\n",
       "      <th>Myo1b</th>\n",
       "      <td>0.9952</td>\n",
       "      <td>0.0048</td>\n",
       "      <td>5.334326</td>\n",
       "      <td>0.001414</td>\n",
       "      <td>0.000062</td>\n",
       "      <td>0.0</td>\n",
       "      <td>0.25</td>\n",
       "      <td>4.941997</td>\n",
       "      <td>4.888315</td>\n",
       "      <td>1.938254</td>\n",
       "      <td>...</td>\n",
       "      <td>0.541096</td>\n",
       "      <td>0.031250</td>\n",
       "      <td>0.328767</td>\n",
       "      <td>0.031250</td>\n",
       "      <td>12.052322</td>\n",
       "      <td>0.266275</td>\n",
       "      <td>True</td>\n",
       "      <td>0 vs Rest</td>\n",
       "      <td>0</td>\n",
       "      <td>Rest</td>\n",
       "    </tr>\n",
       "    <tr>\n",
       "      <th>Aqp7</th>\n",
       "      <td>0.9952</td>\n",
       "      <td>0.0048</td>\n",
       "      <td>5.334326</td>\n",
       "      <td>0.004774</td>\n",
       "      <td>0.000097</td>\n",
       "      <td>0.0</td>\n",
       "      <td>0.25</td>\n",
       "      <td>5.598992</td>\n",
       "      <td>5.771750</td>\n",
       "      <td>1.926103</td>\n",
       "      <td>...</td>\n",
       "      <td>1.828767</td>\n",
       "      <td>0.031250</td>\n",
       "      <td>0.623288</td>\n",
       "      <td>0.017857</td>\n",
       "      <td>45.096840</td>\n",
       "      <td>0.116296</td>\n",
       "      <td>True</td>\n",
       "      <td>0 vs Rest</td>\n",
       "      <td>0</td>\n",
       "      <td>Rest</td>\n",
       "    </tr>\n",
       "  </tbody>\n",
       "</table>\n",
       "<p>5 rows × 22 columns</p>\n",
       "</div>"
      ],
      "text/plain": [
       "       proba_de  proba_not_de  bayes_factor    scale1    scale2  pseudocounts  \\\n",
       "Tcf15    0.9988        0.0012      6.724225  0.007520  0.000100           0.0   \n",
       "Kcna5    0.9966        0.0034      5.680571  0.001725  0.000066           0.0   \n",
       "Fabp4    0.9956        0.0044      5.421739  0.095064  0.001498           0.0   \n",
       "Myo1b    0.9952        0.0048      5.334326  0.001414  0.000062           0.0   \n",
       "Aqp7     0.9952        0.0048      5.334326  0.004774  0.000097           0.0   \n",
       "\n",
       "       delta  lfc_mean  lfc_median   lfc_std  ...  raw_mean1  raw_mean2  \\\n",
       "Tcf15   0.25  6.518294    6.638792  1.937591  ...   3.321916   0.098214   \n",
       "Kcna5   0.25  5.507457    5.434327  2.397715  ...   0.732877   0.008929   \n",
       "Fabp4   0.25  6.598339    7.103540  2.210856  ...  73.260269   1.857143   \n",
       "Myo1b   0.25  4.941997    4.888315  1.938254  ...   0.541096   0.031250   \n",
       "Aqp7    0.25  5.598992    5.771750  1.926103  ...   1.828767   0.031250   \n",
       "\n",
       "       non_zeros_proportion1  non_zeros_proportion2  raw_normalized_mean1  \\\n",
       "Tcf15               0.808219               0.026786             76.025200   \n",
       "Kcna5               0.410959               0.004464             15.921961   \n",
       "Fabp4               0.972603               0.482143           1747.283081   \n",
       "Myo1b               0.328767               0.031250             12.052322   \n",
       "Aqp7                0.623288               0.017857             45.096840   \n",
       "\n",
       "       raw_normalized_mean2  is_de_fdr_0.05  comparison  group1 group2  \n",
       "Tcf15              0.276104            True   0 vs Rest       0   Rest  \n",
       "Kcna5              0.014836            True   0 vs Rest       0   Rest  \n",
       "Fabp4             12.361004            True   0 vs Rest       0   Rest  \n",
       "Myo1b              0.266275            True   0 vs Rest       0   Rest  \n",
       "Aqp7               0.116296            True   0 vs Rest       0   Rest  \n",
       "\n",
       "[5 rows x 22 columns]"
      ]
     },
     "execution_count": 206,
     "metadata": {},
     "output_type": "execute_result"
    }
   ],
   "source": [
    "de_df = model.differential_expression(\n",
    "    groupby=\"leiden_scVI\")\n",
    "de_df.head()"
   ]
  },
  {
   "attachments": {},
   "cell_type": "markdown",
   "metadata": {
    "id": "Sleqtm9gyn--"
   },
   "source": [
    "We can also do a 1-vs-all DE test, which compares each cell type with the rest of the dataset:"
   ]
  },
  {
   "cell_type": "code",
   "execution_count": 208,
   "metadata": {
    "colab": {
     "base_uri": "https://localhost:8080/",
     "height": 375
    },
    "id": "V_liqTCeyne6",
    "outputId": "5738cc0f-73b4-41e5-f4a0-935dc5ecd547"
   },
   "outputs": [
    {
     "name": "stdout",
     "output_type": "stream",
     "text": [
      "DE...: 100%|██████████| 6/6 [00:02<00:00,  2.50it/s]\n"
     ]
    },
    {
     "data": {
      "text/html": [
       "<div>\n",
       "<style scoped>\n",
       "    .dataframe tbody tr th:only-of-type {\n",
       "        vertical-align: middle;\n",
       "    }\n",
       "\n",
       "    .dataframe tbody tr th {\n",
       "        vertical-align: top;\n",
       "    }\n",
       "\n",
       "    .dataframe thead th {\n",
       "        text-align: right;\n",
       "    }\n",
       "</style>\n",
       "<table border=\"1\" class=\"dataframe\">\n",
       "  <thead>\n",
       "    <tr style=\"text-align: right;\">\n",
       "      <th></th>\n",
       "      <th>proba_de</th>\n",
       "      <th>proba_not_de</th>\n",
       "      <th>bayes_factor</th>\n",
       "      <th>scale1</th>\n",
       "      <th>scale2</th>\n",
       "      <th>pseudocounts</th>\n",
       "      <th>delta</th>\n",
       "      <th>lfc_mean</th>\n",
       "      <th>lfc_median</th>\n",
       "      <th>lfc_std</th>\n",
       "      <th>...</th>\n",
       "      <th>raw_mean1</th>\n",
       "      <th>raw_mean2</th>\n",
       "      <th>non_zeros_proportion1</th>\n",
       "      <th>non_zeros_proportion2</th>\n",
       "      <th>raw_normalized_mean1</th>\n",
       "      <th>raw_normalized_mean2</th>\n",
       "      <th>is_de_fdr_0.05</th>\n",
       "      <th>comparison</th>\n",
       "      <th>group1</th>\n",
       "      <th>group2</th>\n",
       "    </tr>\n",
       "  </thead>\n",
       "  <tbody>\n",
       "    <tr>\n",
       "      <th>Tcf15</th>\n",
       "      <td>0.9980</td>\n",
       "      <td>0.0020</td>\n",
       "      <td>6.212601</td>\n",
       "      <td>0.007605</td>\n",
       "      <td>0.000101</td>\n",
       "      <td>0.0</td>\n",
       "      <td>0.25</td>\n",
       "      <td>6.557698</td>\n",
       "      <td>6.694291</td>\n",
       "      <td>1.938826</td>\n",
       "      <td>...</td>\n",
       "      <td>3.321916</td>\n",
       "      <td>0.098214</td>\n",
       "      <td>0.808219</td>\n",
       "      <td>0.026786</td>\n",
       "      <td>76.025200</td>\n",
       "      <td>0.276104</td>\n",
       "      <td>True</td>\n",
       "      <td>0 vs Rest</td>\n",
       "      <td>0</td>\n",
       "      <td>Rest</td>\n",
       "    </tr>\n",
       "    <tr>\n",
       "      <th>Fam101b</th>\n",
       "      <td>0.9956</td>\n",
       "      <td>0.0044</td>\n",
       "      <td>5.421739</td>\n",
       "      <td>0.003474</td>\n",
       "      <td>0.000205</td>\n",
       "      <td>0.0</td>\n",
       "      <td>0.25</td>\n",
       "      <td>5.044524</td>\n",
       "      <td>5.262261</td>\n",
       "      <td>1.922457</td>\n",
       "      <td>...</td>\n",
       "      <td>1.321917</td>\n",
       "      <td>0.089286</td>\n",
       "      <td>0.602740</td>\n",
       "      <td>0.062500</td>\n",
       "      <td>31.028299</td>\n",
       "      <td>1.008809</td>\n",
       "      <td>True</td>\n",
       "      <td>0 vs Rest</td>\n",
       "      <td>0</td>\n",
       "      <td>Rest</td>\n",
       "    </tr>\n",
       "    <tr>\n",
       "      <th>Fabp4</th>\n",
       "      <td>0.9956</td>\n",
       "      <td>0.0044</td>\n",
       "      <td>5.421739</td>\n",
       "      <td>0.095224</td>\n",
       "      <td>0.001542</td>\n",
       "      <td>0.0</td>\n",
       "      <td>0.25</td>\n",
       "      <td>6.592366</td>\n",
       "      <td>7.050975</td>\n",
       "      <td>2.199136</td>\n",
       "      <td>...</td>\n",
       "      <td>73.260269</td>\n",
       "      <td>1.857143</td>\n",
       "      <td>0.972603</td>\n",
       "      <td>0.482143</td>\n",
       "      <td>1747.283081</td>\n",
       "      <td>12.361004</td>\n",
       "      <td>True</td>\n",
       "      <td>0 vs Rest</td>\n",
       "      <td>0</td>\n",
       "      <td>Rest</td>\n",
       "    </tr>\n",
       "    <tr>\n",
       "      <th>Gpihbp1</th>\n",
       "      <td>0.9954</td>\n",
       "      <td>0.0046</td>\n",
       "      <td>5.377086</td>\n",
       "      <td>0.015986</td>\n",
       "      <td>0.000270</td>\n",
       "      <td>0.0</td>\n",
       "      <td>0.25</td>\n",
       "      <td>6.235901</td>\n",
       "      <td>6.538069</td>\n",
       "      <td>2.265018</td>\n",
       "      <td>...</td>\n",
       "      <td>6.986298</td>\n",
       "      <td>0.223214</td>\n",
       "      <td>0.863014</td>\n",
       "      <td>0.089286</td>\n",
       "      <td>169.783905</td>\n",
       "      <td>1.336944</td>\n",
       "      <td>True</td>\n",
       "      <td>0 vs Rest</td>\n",
       "      <td>0</td>\n",
       "      <td>Rest</td>\n",
       "    </tr>\n",
       "    <tr>\n",
       "      <th>Myo1b</th>\n",
       "      <td>0.9954</td>\n",
       "      <td>0.0046</td>\n",
       "      <td>5.377086</td>\n",
       "      <td>0.001446</td>\n",
       "      <td>0.000063</td>\n",
       "      <td>0.0</td>\n",
       "      <td>0.25</td>\n",
       "      <td>4.953457</td>\n",
       "      <td>4.902074</td>\n",
       "      <td>1.922599</td>\n",
       "      <td>...</td>\n",
       "      <td>0.541096</td>\n",
       "      <td>0.031250</td>\n",
       "      <td>0.328767</td>\n",
       "      <td>0.031250</td>\n",
       "      <td>12.052322</td>\n",
       "      <td>0.266275</td>\n",
       "      <td>True</td>\n",
       "      <td>0 vs Rest</td>\n",
       "      <td>0</td>\n",
       "      <td>Rest</td>\n",
       "    </tr>\n",
       "  </tbody>\n",
       "</table>\n",
       "<p>5 rows × 22 columns</p>\n",
       "</div>"
      ],
      "text/plain": [
       "         proba_de  proba_not_de  bayes_factor    scale1    scale2  \\\n",
       "Tcf15      0.9980        0.0020      6.212601  0.007605  0.000101   \n",
       "Fam101b    0.9956        0.0044      5.421739  0.003474  0.000205   \n",
       "Fabp4      0.9956        0.0044      5.421739  0.095224  0.001542   \n",
       "Gpihbp1    0.9954        0.0046      5.377086  0.015986  0.000270   \n",
       "Myo1b      0.9954        0.0046      5.377086  0.001446  0.000063   \n",
       "\n",
       "         pseudocounts  delta  lfc_mean  lfc_median   lfc_std  ...  raw_mean1  \\\n",
       "Tcf15             0.0   0.25  6.557698    6.694291  1.938826  ...   3.321916   \n",
       "Fam101b           0.0   0.25  5.044524    5.262261  1.922457  ...   1.321917   \n",
       "Fabp4             0.0   0.25  6.592366    7.050975  2.199136  ...  73.260269   \n",
       "Gpihbp1           0.0   0.25  6.235901    6.538069  2.265018  ...   6.986298   \n",
       "Myo1b             0.0   0.25  4.953457    4.902074  1.922599  ...   0.541096   \n",
       "\n",
       "         raw_mean2  non_zeros_proportion1  non_zeros_proportion2  \\\n",
       "Tcf15     0.098214               0.808219               0.026786   \n",
       "Fam101b   0.089286               0.602740               0.062500   \n",
       "Fabp4     1.857143               0.972603               0.482143   \n",
       "Gpihbp1   0.223214               0.863014               0.089286   \n",
       "Myo1b     0.031250               0.328767               0.031250   \n",
       "\n",
       "         raw_normalized_mean1  raw_normalized_mean2  is_de_fdr_0.05  \\\n",
       "Tcf15               76.025200              0.276104            True   \n",
       "Fam101b             31.028299              1.008809            True   \n",
       "Fabp4             1747.283081             12.361004            True   \n",
       "Gpihbp1            169.783905              1.336944            True   \n",
       "Myo1b               12.052322              0.266275            True   \n",
       "\n",
       "         comparison  group1 group2  \n",
       "Tcf15     0 vs Rest       0   Rest  \n",
       "Fam101b   0 vs Rest       0   Rest  \n",
       "Fabp4     0 vs Rest       0   Rest  \n",
       "Gpihbp1   0 vs Rest       0   Rest  \n",
       "Myo1b     0 vs Rest       0   Rest  \n",
       "\n",
       "[5 rows x 22 columns]"
      ]
     },
     "execution_count": 208,
     "metadata": {},
     "output_type": "execute_result"
    }
   ],
   "source": [
    "de_df = model.differential_expression(\n",
    "    groupby=\"leiden_scVI\",\n",
    ")\n",
    "de_df.head()"
   ]
  },
  {
   "attachments": {},
   "cell_type": "markdown",
   "metadata": {
    "id": "LubZQGeG00A4"
   },
   "source": [
    "We now extract top markers for each cluster using the DE results."
   ]
  },
  {
   "cell_type": "code",
   "execution_count": 210,
   "metadata": {
    "id": "NSss20tkyV7l"
   },
   "outputs": [],
   "source": [
    "markers = {}\n",
    "cats = adata.obs.leiden_scVI.cat.categories\n",
    "for i, c in enumerate(cats):\n",
    "    cid = f\"{c} vs Rest\"\n",
    "    cell_type_df = de_df.loc[de_df.comparison == cid]\n",
    "\n",
    "    cell_type_df = cell_type_df[cell_type_df.lfc_mean > 0]\n",
    "\n",
    "    cell_type_df = cell_type_df[cell_type_df[\"bayes_factor\"] > 3]\n",
    "    cell_type_df = cell_type_df[cell_type_df[\"non_zeros_proportion1\"] > 0.1]\n",
    "\n",
    "    markers[c] = cell_type_df.index.tolist()[:3]"
   ]
  },
  {
   "cell_type": "code",
   "execution_count": 211,
   "metadata": {
    "id": "j0j7HlUizL4r"
   },
   "outputs": [],
   "source": [
    "sc.tl.dendrogram(adata, groupby=\"leiden_scVI\", use_rep=\"X_scVI\")"
   ]
  },
  {
   "cell_type": "code",
   "execution_count": 212,
   "metadata": {
    "colab": {
     "base_uri": "https://localhost:8080/",
     "height": 1000
    },
    "id": "SEufcjlGzGV1",
    "outputId": "009e7e95-c96e-4f77-8529-a45df58fe57d"
   },
   "outputs": [
    {
     "data": {
      "image/png": "[encoded data removed]",
      "text/plain": [
       "<Figure size 297.6x648 with 6 Axes>"
      ]
     },
     "metadata": {
      "image/png": {
       "height": 528,
       "width": 324
      }
     },
     "output_type": "display_data"
    }
   ],
   "source": [
    "sc.pl.dotplot(\n",
    "    adata,\n",
    "    markers,\n",
    "    groupby=\"leiden_scVI\",\n",
    "    dendrogram=True,\n",
    "    color_map=\"Blues\",\n",
    "    swap_axes=True,\n",
    "    use_raw=True,\n",
    "    standard_scale=\"var\",\n",
    ")"
   ]
  },
  {
   "attachments": {},
   "cell_type": "markdown",
   "metadata": {
    "id": "0FOGu9jd6wGq"
   },
   "source": [
    "We can also visualize the scVI normalized gene expression values with the `layer` option."
   ]
  },
  {
   "cell_type": "code",
   "execution_count": 215,
   "metadata": {
    "colab": {
     "base_uri": "https://localhost:8080/",
     "height": 1000
    },
    "id": "LuRDlmTg6YFL",
    "outputId": "a4da0194-ce1b-45f8-e97f-625426bb9970"
   },
   "outputs": [
    {
     "data": {
      "image/png": "[encoded data removed]",
      "text/plain": [
       "<Figure size 400x800 with 5 Axes>"
      ]
     },
     "metadata": {
      "image/png": {
       "height": 702,
       "width": 391
      }
     },
     "output_type": "display_data"
    }
   ],
   "source": [
    "sc.pl.heatmap(\n",
    "    adata,\n",
    "    markers,\n",
    "    groupby=\"leiden_scVI\",\n",
    "    layer=\"scvi_normalized\",\n",
    "    standard_scale=\"var\",\n",
    "    dendrogram=True,\n",
    "    figsize=(5, 10),\n",
    ")"
   ]
  }
 ],
 "metadata": {
  "accelerator": "GPU",
  "colab": {
   "collapsed_sections": [],
   "name": "api_overview.ipynb",
   "provenance": []
  },
  "kernelspec": {
   "display_name": "Python 3",
   "language": "python",
   "name": "python3"
  },
  "language_info": {
   "codemirror_mode": {
    "name": "ipython",
    "version": 3
   },
   "file_extension": ".py",
   "mimetype": "text/x-python",
   "name": "python",
   "nbconvert_exporter": "python",
   "pygments_lexer": "ipython3",
   "version": "3.10.11"
  },
  "pycharm": {
   "stem_cell": {
    "cell_type": "raw",
    "metadata": {
     "collapsed": false
    },
    "source": []
   }
  },
  "toc": {
   "base_numbering": 1,
   "nav_menu": {},
   "number_sections": true,
   "sideBar": true,
   "skip_h1_title": false,
   "title_cell": "Table of Contents",
   "title_sidebar": "Contents",
   "toc_cell": false,
   "toc_position": {},
   "toc_section_display": true,
   "toc_window_display": false
  },
  "vscode": {
   "interpreter": {
    "hash": "e7370f93d1d0cde622a1f8e1c04877d8463912d04d973331ad4851f04de6915a"
   }
  }
 },
 "nbformat": 4,
 "nbformat_minor": 0
}
