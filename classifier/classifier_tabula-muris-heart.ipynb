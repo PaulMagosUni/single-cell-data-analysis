{
 "cells": [
  {
   "cell_type": "code",
   "execution_count": 1,
   "metadata": {},
   "outputs": [],
   "source": [
    "import pandas as pd\n",
    "import numpy as np\n",
    "import scanpy as sc\n",
    "from sklearn.ensemble import RandomForestClassifier\n",
    "from sklearn.metrics import f1_score\n",
    "from sklearn.model_selection import cross_val_predict\n",
    "import matplotlib.pyplot as plt"
   ]
  },
  {
   "cell_type": "code",
   "execution_count": 2,
   "metadata": {},
   "outputs": [],
   "source": [
    "dataset = 'tabula-muris-heart'\n",
    "data_path = \"../dataset/{}-filtered/10X/\".format(dataset)\n",
    "labels_path = \"../dataset/{}-filtered/labels.csv\".format(dataset)\n",
    "markers_path = \"../results/aggregate/{}/markers.csv\".format(dataset)\n",
    "scores_path = \"./scores/{}.pickle\".format(dataset)"
   ]
  },
  {
   "cell_type": "code",
   "execution_count": 3,
   "metadata": {},
   "outputs": [],
   "source": [
    "adata = sc.read_10x_mtx(\n",
    "    data_path,\n",
    "    var_names='gene_symbols',\n",
    "    cache=False\n",
    ")"
   ]
  },
  {
   "cell_type": "code",
   "execution_count": 4,
   "metadata": {},
   "outputs": [
    {
     "data": {
      "text/html": [
       "<div>\n",
       "<style scoped>\n",
       "    .dataframe tbody tr th:only-of-type {\n",
       "        vertical-align: middle;\n",
       "    }\n",
       "\n",
       "    .dataframe tbody tr th {\n",
       "        vertical-align: top;\n",
       "    }\n",
       "\n",
       "    .dataframe thead th {\n",
       "        text-align: right;\n",
       "    }\n",
       "</style>\n",
       "<table border=\"1\" class=\"dataframe\">\n",
       "  <thead>\n",
       "    <tr style=\"text-align: right;\">\n",
       "      <th></th>\n",
       "      <th>cluster.ids</th>\n",
       "    </tr>\n",
       "    <tr>\n",
       "      <th>cell</th>\n",
       "      <th></th>\n",
       "    </tr>\n",
       "  </thead>\n",
       "  <tbody>\n",
       "    <tr>\n",
       "      <th>AAACCTGCACGACGAA</th>\n",
       "      <td>4</td>\n",
       "    </tr>\n",
       "    <tr>\n",
       "      <th>AAACCTGGTTCCACGG</th>\n",
       "      <td>5</td>\n",
       "    </tr>\n",
       "    <tr>\n",
       "      <th>AAACCTGTCTCGATGA</th>\n",
       "      <td>4</td>\n",
       "    </tr>\n",
       "    <tr>\n",
       "      <th>AAACGGGAGCGCTCCA</th>\n",
       "      <td>1</td>\n",
       "    </tr>\n",
       "    <tr>\n",
       "      <th>AAAGCAAAGTGAATTG</th>\n",
       "      <td>5</td>\n",
       "    </tr>\n",
       "    <tr>\n",
       "      <th>...</th>\n",
       "      <td>...</td>\n",
       "    </tr>\n",
       "    <tr>\n",
       "      <th>TTTGGTTCAGACTCGC</th>\n",
       "      <td>2</td>\n",
       "    </tr>\n",
       "    <tr>\n",
       "      <th>TTTGTCAAGTGGAGAA</th>\n",
       "      <td>2</td>\n",
       "    </tr>\n",
       "    <tr>\n",
       "      <th>TTTGTCACAAGCCATT</th>\n",
       "      <td>3</td>\n",
       "    </tr>\n",
       "    <tr>\n",
       "      <th>TTTGTCAGTCGATTGT</th>\n",
       "      <td>4</td>\n",
       "    </tr>\n",
       "    <tr>\n",
       "      <th>TTTGTCAGTGCGCTTG</th>\n",
       "      <td>5</td>\n",
       "    </tr>\n",
       "  </tbody>\n",
       "</table>\n",
       "<p>617 rows × 1 columns</p>\n",
       "</div>"
      ],
      "text/plain": [
       "                  cluster.ids\n",
       "cell                         \n",
       "AAACCTGCACGACGAA            4\n",
       "AAACCTGGTTCCACGG            5\n",
       "AAACCTGTCTCGATGA            4\n",
       "AAACGGGAGCGCTCCA            1\n",
       "AAAGCAAAGTGAATTG            5\n",
       "...                       ...\n",
       "TTTGGTTCAGACTCGC            2\n",
       "TTTGTCAAGTGGAGAA            2\n",
       "TTTGTCACAAGCCATT            3\n",
       "TTTGTCAGTCGATTGT            4\n",
       "TTTGTCAGTGCGCTTG            5\n",
       "\n",
       "[617 rows x 1 columns]"
      ]
     },
     "execution_count": 4,
     "metadata": {},
     "output_type": "execute_result"
    }
   ],
   "source": [
    "y_df = pd.read_csv(labels_path, index_col=0)\n",
    "y_df"
   ]
  },
  {
   "cell_type": "code",
   "execution_count": 5,
   "metadata": {},
   "outputs": [
    {
     "data": {
      "text/html": [
       "<div>\n",
       "<style scoped>\n",
       "    .dataframe tbody tr th:only-of-type {\n",
       "        vertical-align: middle;\n",
       "    }\n",
       "\n",
       "    .dataframe tbody tr th {\n",
       "        vertical-align: top;\n",
       "    }\n",
       "\n",
       "    .dataframe thead th {\n",
       "        text-align: right;\n",
       "    }\n",
       "</style>\n",
       "<table border=\"1\" class=\"dataframe\">\n",
       "  <thead>\n",
       "    <tr style=\"text-align: right;\">\n",
       "      <th></th>\n",
       "      <th>cell</th>\n",
       "      <th>cluster.ids</th>\n",
       "    </tr>\n",
       "  </thead>\n",
       "  <tbody>\n",
       "    <tr>\n",
       "      <th>0</th>\n",
       "      <td>AAACCTGCACGACGAA</td>\n",
       "      <td>4</td>\n",
       "    </tr>\n",
       "    <tr>\n",
       "      <th>1</th>\n",
       "      <td>AAACCTGGTTCCACGG</td>\n",
       "      <td>5</td>\n",
       "    </tr>\n",
       "    <tr>\n",
       "      <th>2</th>\n",
       "      <td>AAACCTGTCTCGATGA</td>\n",
       "      <td>4</td>\n",
       "    </tr>\n",
       "    <tr>\n",
       "      <th>3</th>\n",
       "      <td>AAACGGGAGCGCTCCA</td>\n",
       "      <td>1</td>\n",
       "    </tr>\n",
       "    <tr>\n",
       "      <th>4</th>\n",
       "      <td>AAAGCAAAGTGAATTG</td>\n",
       "      <td>5</td>\n",
       "    </tr>\n",
       "    <tr>\n",
       "      <th>...</th>\n",
       "      <td>...</td>\n",
       "      <td>...</td>\n",
       "    </tr>\n",
       "    <tr>\n",
       "      <th>612</th>\n",
       "      <td>TTTGGTTCAGACTCGC</td>\n",
       "      <td>2</td>\n",
       "    </tr>\n",
       "    <tr>\n",
       "      <th>613</th>\n",
       "      <td>TTTGTCAAGTGGAGAA</td>\n",
       "      <td>2</td>\n",
       "    </tr>\n",
       "    <tr>\n",
       "      <th>614</th>\n",
       "      <td>TTTGTCACAAGCCATT</td>\n",
       "      <td>3</td>\n",
       "    </tr>\n",
       "    <tr>\n",
       "      <th>615</th>\n",
       "      <td>TTTGTCAGTCGATTGT</td>\n",
       "      <td>4</td>\n",
       "    </tr>\n",
       "    <tr>\n",
       "      <th>616</th>\n",
       "      <td>TTTGTCAGTGCGCTTG</td>\n",
       "      <td>5</td>\n",
       "    </tr>\n",
       "  </tbody>\n",
       "</table>\n",
       "<p>617 rows × 2 columns</p>\n",
       "</div>"
      ],
      "text/plain": [
       "                 cell  cluster.ids\n",
       "0    AAACCTGCACGACGAA            4\n",
       "1    AAACCTGGTTCCACGG            5\n",
       "2    AAACCTGTCTCGATGA            4\n",
       "3    AAACGGGAGCGCTCCA            1\n",
       "4    AAAGCAAAGTGAATTG            5\n",
       "..                ...          ...\n",
       "612  TTTGGTTCAGACTCGC            2\n",
       "613  TTTGTCAAGTGGAGAA            2\n",
       "614  TTTGTCACAAGCCATT            3\n",
       "615  TTTGTCAGTCGATTGT            4\n",
       "616  TTTGTCAGTGCGCTTG            5\n",
       "\n",
       "[617 rows x 2 columns]"
      ]
     },
     "execution_count": 5,
     "metadata": {},
     "output_type": "execute_result"
    }
   ],
   "source": [
    "y_df = pd.DataFrame(adata.obs_names, columns=[\"cell\"]).join(y_df, on=\"cell\")\n",
    "y_df"
   ]
  },
  {
   "cell_type": "code",
   "execution_count": 6,
   "metadata": {},
   "outputs": [
    {
     "data": {
      "text/plain": [
       "array([], dtype=bool)"
      ]
     },
     "execution_count": 6,
     "metadata": {},
     "output_type": "execute_result"
    }
   ],
   "source": [
    "mask = ~np.isnan(np.array(y_df['cluster.ids'])).reshape(-1)\n",
    "mask[mask==False]"
   ]
  },
  {
   "cell_type": "code",
   "execution_count": 7,
   "metadata": {},
   "outputs": [
    {
     "data": {
      "text/plain": [
       "0      4\n",
       "1      5\n",
       "2      4\n",
       "3      1\n",
       "4      5\n",
       "      ..\n",
       "612    2\n",
       "613    2\n",
       "614    3\n",
       "615    4\n",
       "616    5\n",
       "Name: cluster.ids, Length: 617, dtype: int64"
      ]
     },
     "execution_count": 7,
     "metadata": {},
     "output_type": "execute_result"
    }
   ],
   "source": [
    "y_df['cluster.ids'][mask]"
   ]
  },
  {
   "cell_type": "code",
   "execution_count": 8,
   "metadata": {},
   "outputs": [],
   "source": [
    "y = np.array(y_df['cluster.ids'][mask])"
   ]
  },
  {
   "cell_type": "code",
   "execution_count": 9,
   "metadata": {},
   "outputs": [
    {
     "data": {
      "text/plain": [
       "(array([1, 2, 3, 4, 5]), array([ 98,  60,  62, 172, 225]))"
      ]
     },
     "execution_count": 9,
     "metadata": {},
     "output_type": "execute_result"
    }
   ],
   "source": [
    "clusters, counts = np.unique(y, return_counts=True)\n",
    "clusters, counts"
   ]
  },
  {
   "cell_type": "code",
   "execution_count": 10,
   "metadata": {},
   "outputs": [],
   "source": [
    "weights = counts[np.argsort(clusters)]"
   ]
  },
  {
   "cell_type": "code",
   "execution_count": 11,
   "metadata": {},
   "outputs": [
    {
     "name": "stdout",
     "output_type": "stream",
     "text": [
      "F1 weighted when training on markers\n",
      "{'monocle': 0.972, 'scanpy': 0.971, 'seurat': 0.972, 'scvi': 0.973}\n",
      "F1 weighted when training on all genes\n",
      "0.985\n"
     ]
    }
   ],
   "source": [
    "def apply_classifier(X, y):\n",
    "    clf = RandomForestClassifier()\n",
    "    y_pred = cross_val_predict(clf, X, y, cv=5)\n",
    "    f1 = f1_score(y, y_pred)\n",
    "    return f1\n",
    "\n",
    "markers_df = pd.read_csv(markers_path)\n",
    "tools = markers_df.tool.unique()\n",
    "\n",
    "f1_markers = {}\n",
    "for tool in tools:\n",
    "    f1_markers_tool = []\n",
    "    for cluster in clusters:\n",
    "        y_bin = np.array(y==cluster, dtype=int)\n",
    "        markers = markers_df[\n",
    "            (markers_df['cluster']==cluster) & (markers_df['tool']==tool)\n",
    "           ].gene.unique()\n",
    "        X_markers = adata[mask, markers].X.toarray()\n",
    "        f1_markers_tool.append(apply_classifier(X_markers, y_bin))\n",
    "    f1_markers[tool] = round((weights*np.array(f1_markers_tool)).sum()/weights.sum(), 3)\n",
    "\n",
    "f1_all = []\n",
    "for cluster in clusters:\n",
    "    y_bin = np.array(y==cluster, dtype=int)\n",
    "    X_all = adata[mask, ].X.toarray()\n",
    "    f1_all.append(apply_classifier(X_all, y_bin))\n",
    "f1_weighted = round((weights*np.array(f1_all)).sum()/weights.sum(), 3)\n",
    "\n",
    "print(\"F1 weighted when training on markers\")\n",
    "print(f1_markers)\n",
    "print(\"F1 weighted when training on all genes\")\n",
    "print(f1_weighted)"
   ]
  },
  {
   "cell_type": "code",
   "execution_count": 16,
   "metadata": {},
   "outputs": [],
   "source": [
    "import sys\n",
    "from joblib import Parallel, delayed\n",
    "def process(tool):\n",
    "    step = 1\n",
    "    tmp_scores = {}\n",
    "    for cluster in clusters:\n",
    "        n_markers = 50\n",
    "        y_bin = np.array(y==cluster, dtype=int)\n",
    "        for i in range(step, n_markers+step, step):\n",
    "            markers = markers_df[\n",
    "            (markers_df['cluster']==cluster) & (markers_df['tool']==tool) & (markers_df['rank']<=i)].gene.unique()\n",
    "            X = adata[mask, markers].X.toarray()\n",
    "            f1 = apply_classifier(X, y_bin)\n",
    "            if tool not in tmp_scores:\n",
    "                tmp_scores[tool] = {}\n",
    "            if cluster not in tmp_scores[tool]:\n",
    "                tmp_scores[tool][cluster] = {}\n",
    "            if 'scores' not in tmp_scores[tool][cluster]:\n",
    "                tmp_scores[tool][cluster]['scores'] = []\n",
    "            tmp_scores[tool][cluster]['scores'].append(f1)\n",
    "        if 'mean' not in tmp_scores[tool][cluster]:\n",
    "            tmp_scores[tool][cluster]['mean'] = []\n",
    "        # mean for each cluster\n",
    "        tmp_scores[tool][cluster]['mean'].append(np.mean(tmp_scores[tool][cluster]['scores']))\n",
    "        print(\"Cluster {} done for tool {}\".format(cluster, tool), file=sys.stderr)\n",
    "        \n",
    "    return tmp_scores"
   ]
  },
  {
   "cell_type": "code",
   "execution_count": 20,
   "metadata": {},
   "outputs": [],
   "source": [
    "# -------- train with increasing # of features taken from markers rank --------\n",
    "step = 1\n",
    "tools = ['scvi', 'seurat', 'scanpy', 'monocle']\n",
    "n_markers = 50\n",
    "import pickle, os\n",
    "if os.path.exists(scores_path):\n",
    "    with open(scores_path, 'rb') as handle:\n",
    "        scores = pickle.load(handle)\n",
    "else:\n",
    "    scores = Parallel(n_jobs=len(tools))(delayed(process)(tool) for tool in tools)\n",
    "    scores2 = {}\n",
    "    for i, el in enumerate(scores):\n",
    "        scores2[list(el.keys())[0]] = el[list(el.keys())[0]]\n",
    "    scores = scores2\n",
    "    for tool in tools:\n",
    "        for i in range(step, n_markers+step, step):\n",
    "            sumForI = 0\n",
    "            for j, cluster in enumerate(clusters):\n",
    "                sumForI += (scores[tool][cluster]['scores'][i-1] * counts[j])\n",
    "            if 'TotalMean' not in scores[tool]:\n",
    "                scores[tool]['TotalMean'] = []\n",
    "            scores[tool]['TotalMean'].append(sumForI/np.sum(counts))\n",
    "    with open(scores_path, 'wb') as handle:\n",
    "        pickle.dump(scores, handle, protocol=pickle.HIGHEST_PROTOCOL)   "
   ]
  },
  {
   "cell_type": "code",
   "execution_count": null,
   "metadata": {},
   "outputs": [
    {
     "name": "stdout",
     "output_type": "stream",
     "text": [
      "200\n"
     ]
    }
   ],
   "source": [
    "print(len(scores['scvi'][1]['scores']))"
   ]
  },
  {
   "cell_type": "code",
   "execution_count": null,
   "metadata": {},
   "outputs": [],
   "source": [
    "# -------- train on all features and on markers --------\n",
    "\n",
    "X_all = adata[mask, :].X.toarray()\n",
    "report_all, feature_importance = apply_classifier(X_all, y)\n",
    "report_markers, _ = apply_classifier(adata[mask, markers].X.toarray(), y)\n",
    "\n",
    "pd.DataFrame(report_all).transpose().to_csv(out_path+\"clf_report_all.csv\")\n",
    "pd.DataFrame(report_markers).transpose().to_csv(out_path+\"clf_report_markers.csv\")\n",
    "\n",
    "sorted_idx = (-feature_importance).argsort()\n",
    "rf_features_sorted = adata.var_names[sorted_idx]\n",
    "importaces_sorted = feature_importance[sorted_idx]\n",
    "pd.DataFrame(\n",
    "    {'genes' : rf_features_sorted, 'importaces' : importaces_sorted}\n",
    "    ).to_csv(out_path+\"importances.csv\")"
   ]
  },
  {
   "cell_type": "code",
   "execution_count": null,
   "metadata": {},
   "outputs": [],
   "source": [
    "# -------- select n_markers*n_clusters features with RFE and RF --------\n",
    "\n",
    "selector = RFE(RandomForestClassifier(), n_features_to_select=n_markers*n_clusters, step=0.5)\n",
    "selector.fit(X_all, y)\n",
    "sorted_idx = (selector.ranking_).argsort()\n",
    "rfe_features_sorted = adata.var_names[sorted_idx]\n",
    "pd.DataFrame(\n",
    "    {'genes' : rfe_features_sorted}\n",
    "    ).to_csv(out_path+\"rfe_ranking.csv\")\n",
    "\n",
    "# automatically choose the number of features\n",
    "# rfe = RFECV(estimator=RandomForestClassifier())\n",
    "# rfe.fit(X_all, y)\n",
    "# rfe.show()\n",
    "\n",
    "# TODO:\n",
    "# - valutare intersezione\n",
    "# - valutare bontà del ranking allenando con markers più in basso nella classifica?\n",
    "\n",
    "# important_features = features_sorted[0:120]\n",
    "# important_features = [f for f, i in zip(features_sorted, importaces_sorted) if i >= importaces_sorted[119]]\n",
    "# intersection = set(markers).intersection(set(important_features))\n",
    "\n",
    "#        rank di randomforest                  rank del tool\n",
    "# gene1         100 *                         * 1 - (0-20)\n",
    "# gene2         1 *                            \n",
    "# gene3         1 *                            \n",
    "# gene4         0 *                            "
   ]
  }
 ],
 "metadata": {
  "kernelspec": {
   "display_name": "CHLPy",
   "language": "python",
   "name": "python3"
  },
  "language_info": {
   "codemirror_mode": {
    "name": "ipython",
    "version": 3
   },
   "file_extension": ".py",
   "mimetype": "text/x-python",
   "name": "python",
   "nbconvert_exporter": "python",
   "pygments_lexer": "ipython3",
   "version": "3.10.11"
  },
  "orig_nbformat": 4
 },
 "nbformat": 4,
 "nbformat_minor": 2
}
