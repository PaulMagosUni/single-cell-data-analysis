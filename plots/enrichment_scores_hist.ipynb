{
 "cells": [
  {
   "cell_type": "code",
   "execution_count": 6,
   "metadata": {},
   "outputs": [],
   "source": [
    "import sys\n",
    "import pandas as pd\n",
    "\n",
    "TOOLS = [\"COTAN\", \"Seurat\", \"Scanpy\", \"Monocle\", \"scvi-tools\", \"Intersection\"]\n",
    "DATASETS = ([\"Tabula Muris Heart\", \"Tabula Muris Marrow\", \"PBMC TotalSeq\", \"Zheng 4\", \"Zheng 8\"]) # sort just in case names will be changed\n",
    "\n",
    "path = '../results/aggregate/enrichment_scores.csv'\n",
    "showPlot = not sys.argv[2].endswith('False')\n",
    "\n",
    "scores_df = pd.read_csv(path)"
   ]
  },
  {
   "cell_type": "code",
   "execution_count": 7,
   "metadata": {},
   "outputs": [
    {
     "data": {
      "text/html": [
       "<div>\n",
       "<style scoped>\n",
       "    .dataframe tbody tr th:only-of-type {\n",
       "        vertical-align: middle;\n",
       "    }\n",
       "\n",
       "    .dataframe tbody tr th {\n",
       "        vertical-align: top;\n",
       "    }\n",
       "\n",
       "    .dataframe thead th {\n",
       "        text-align: right;\n",
       "    }\n",
       "</style>\n",
       "<table border=\"1\" class=\"dataframe\">\n",
       "  <thead>\n",
       "    <tr style=\"text-align: right;\">\n",
       "      <th></th>\n",
       "      <th>dataset</th>\n",
       "      <th>n_clusters</th>\n",
       "      <th>COTAN</th>\n",
       "      <th>Seurat</th>\n",
       "      <th>Scanpy</th>\n",
       "      <th>Monocle</th>\n",
       "      <th>scvi-tools</th>\n",
       "      <th>Intersection</th>\n",
       "    </tr>\n",
       "  </thead>\n",
       "  <tbody>\n",
       "    <tr>\n",
       "      <th>0</th>\n",
       "      <td>Tabula Muris Heart</td>\n",
       "      <td>5</td>\n",
       "      <td>5.0</td>\n",
       "      <td>5.0</td>\n",
       "      <td>5.0</td>\n",
       "      <td>5.0</td>\n",
       "      <td>5.0</td>\n",
       "      <td>5.0</td>\n",
       "    </tr>\n",
       "    <tr>\n",
       "      <th>1</th>\n",
       "      <td>Tabula Muris Marrow</td>\n",
       "      <td>14</td>\n",
       "      <td>9.5</td>\n",
       "      <td>9.5</td>\n",
       "      <td>10.0</td>\n",
       "      <td>9.0</td>\n",
       "      <td>9.5</td>\n",
       "      <td>6.0</td>\n",
       "    </tr>\n",
       "    <tr>\n",
       "      <th>2</th>\n",
       "      <td>PBMC TotalSeq</td>\n",
       "      <td>11</td>\n",
       "      <td>2.5</td>\n",
       "      <td>5.0</td>\n",
       "      <td>5.5</td>\n",
       "      <td>5.5</td>\n",
       "      <td>6.0</td>\n",
       "      <td>4.5</td>\n",
       "    </tr>\n",
       "    <tr>\n",
       "      <th>3</th>\n",
       "      <td>Zheng 4</td>\n",
       "      <td>4</td>\n",
       "      <td>1.5</td>\n",
       "      <td>2.0</td>\n",
       "      <td>2.0</td>\n",
       "      <td>2.5</td>\n",
       "      <td>2.5</td>\n",
       "      <td>2.5</td>\n",
       "    </tr>\n",
       "    <tr>\n",
       "      <th>4</th>\n",
       "      <td>Zheng 8</td>\n",
       "      <td>8</td>\n",
       "      <td>2.0</td>\n",
       "      <td>3.5</td>\n",
       "      <td>5.5</td>\n",
       "      <td>4.5</td>\n",
       "      <td>4.0</td>\n",
       "      <td>4.0</td>\n",
       "    </tr>\n",
       "  </tbody>\n",
       "</table>\n",
       "</div>"
      ],
      "text/plain": [
       "               dataset  n_clusters  COTAN  Seurat  Scanpy  Monocle  \\\n",
       "0   Tabula Muris Heart           5    5.0     5.0     5.0      5.0   \n",
       "1  Tabula Muris Marrow          14    9.5     9.5    10.0      9.0   \n",
       "2        PBMC TotalSeq          11    2.5     5.0     5.5      5.5   \n",
       "3              Zheng 4           4    1.5     2.0     2.0      2.5   \n",
       "4              Zheng 8           8    2.0     3.5     5.5      4.5   \n",
       "\n",
       "   scvi-tools  Intersection  \n",
       "0         5.0           5.0  \n",
       "1         9.5           6.0  \n",
       "2         6.0           4.5  \n",
       "3         2.5           2.5  \n",
       "4         4.0           4.0  "
      ]
     },
     "execution_count": 7,
     "metadata": {},
     "output_type": "execute_result"
    }
   ],
   "source": [
    "##### plot\n",
    "\n",
    "import matplotlib.pyplot as plt\n",
    "import numpy as np\n",
    "\n",
    "from cycler import cycler\n",
    "plt.rcParams['axes.prop_cycle'] = cycler('color', plt.get_cmap('Set2').colors)\n",
    "\n",
    "means = {}\n",
    "\n",
    "# scores_df = scores_df.sort_values(by='dataset')\n",
    "scores_df"
   ]
  },
  {
   "cell_type": "code",
   "execution_count": 8,
   "metadata": {},
   "outputs": [
    {
     "data": {
      "text/plain": [
       "{'COTAN': (1.0, 0.68, 0.23, 0.38, 0.25),\n",
       " 'Seurat': (1.0, 0.68, 0.45, 0.5, 0.44),\n",
       " 'Scanpy': (1.0, 0.71, 0.5, 0.5, 0.69),\n",
       " 'Monocle': (1.0, 0.64, 0.5, 0.62, 0.56),\n",
       " 'scvi-tools': (1.0, 0.68, 0.55, 0.62, 0.5),\n",
       " 'Intersection': (1.0, 0.43, 0.41, 0.62, 0.5)}"
      ]
     },
     "execution_count": 8,
     "metadata": {},
     "output_type": "execute_result"
    }
   ],
   "source": [
    "for tool in TOOLS:\n",
    "\t# get scores percentage for each dataset\n",
    "\ttool_scores = scores_df[tool] / scores_df['n_clusters']\n",
    "\t# round to 2 decimal places\n",
    "\ttool_scores = tool_scores.round(2)\n",
    "\t\n",
    "\tif not tool_scores.empty:\n",
    "\t\t# generate tuple of scores for each dataset in order\n",
    "\t\tmeans[tool] = tuple(x for x in tool_scores)\n",
    "\n",
    "means"
   ]
  },
  {
   "cell_type": "code",
   "execution_count": 9,
   "metadata": {},
   "outputs": [],
   "source": [
    "def enrichment_bar_plot(score_data, dataset_names, tool_count, percentage=True):\n",
    "    means = score_data\n",
    "    x = np.arange(len(dataset_names))  # the label locations\n",
    "    width = 1/(tool_count+1)  # the width of the bars\n",
    "    multiplier = 0\n",
    "    \n",
    "    fig, ax = plt.subplots(layout='constrained', figsize=(10, 5))\n",
    "    max_height = 1\n",
    "    min_height = 0\n",
    "\n",
    "    for attribute, measurement in means.items():\n",
    "        # max in mesurement\n",
    "        if percentage:\n",
    "            measurement = tuple(x * 100 for x in measurement)\n",
    "            max_measurement = max(measurement)\n",
    "            if max_measurement > max_height:\n",
    "                max_height = max_measurement\n",
    "            min_measurement = min(measurement)\n",
    "            if min_measurement < min_height:\n",
    "                min_height = min_measurement\n",
    "\n",
    "        offset = width * multiplier\n",
    "        rects = ax.bar(x + offset, measurement, width, label=attribute)\n",
    "        padding = -10\n",
    "        ax.bar_label(rects, padding=padding, fontsize=8)\n",
    "        multiplier += 1\n",
    "\n",
    "    # Add some text for labels, title and custom x-axis tick labels, etc.\n",
    "    if percentage:\n",
    "        ax.set_ylabel('Cell identification %')\n",
    "    else:\n",
    "        ax.set_ylabel('Cell identification')\n",
    "\n",
    "    middle_offset = width * ((tool_count-1) / 2)\n",
    "    ax.set_xticks(x + middle_offset, dataset_names)\n",
    "    ax.legend(loc='center left', bbox_to_anchor=(1, 0.5))\n",
    "\n",
    "    if percentage:\n",
    "        ax.set_ylim(0, 100)\n",
    "    else:\n",
    "        ax.set_ylim(min_height, max_height)\n",
    "    plt.savefig('../results/aggregate/enrichment_scores_hist.png', bbox_inches='tight')\n",
    "    plt.savefig('../results/aggregate/enrichment_scores_hist.eps', bbox_inches='tight')\n",
    "    if showPlot: plt.show()"
   ]
  },
  {
   "cell_type": "code",
   "execution_count": 10,
   "metadata": {},
   "outputs": [
    {
     "name": "stderr",
     "output_type": "stream",
     "text": [
      "The PostScript backend does not support transparency; partially transparent artists will be rendered opaque.\n"
     ]
    },
    {
     "data": {
      "image/png": "[encoded data removed]",
      "text/plain": [
       "<Figure size 1000x500 with 1 Axes>"
      ]
     },
     "metadata": {},
     "output_type": "display_data"
    }
   ],
   "source": [
    "enrichment_bar_plot(means, DATASETS, len(TOOLS))"
   ]
  }
 ],
 "metadata": {
  "kernelspec": {
   "display_name": "Python 3",
   "language": "python",
   "name": "python3"
  },
  "language_info": {
   "codemirror_mode": {
    "name": "ipython",
    "version": 3
   },
   "file_extension": ".py",
   "mimetype": "text/x-python",
   "name": "python",
   "nbconvert_exporter": "python",
   "pygments_lexer": "ipython3",
   "version": "3.10.11"
  },
  "orig_nbformat": 4
 },
 "nbformat": 4,
 "nbformat_minor": 2
}
