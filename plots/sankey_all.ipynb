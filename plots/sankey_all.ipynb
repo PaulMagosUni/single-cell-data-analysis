{
 "cells": [
  {
   "cell_type": "code",
   "execution_count": 6,
   "metadata": {},
   "outputs": [],
   "source": [
    "import pandas as pd\n",
    "import plotly.graph_objects as go\n",
    "import plotly.express as px\n",
    "import seaborn as sns\n",
    "import plotly.offline as pyo"
   ]
  },
  {
   "cell_type": "code",
   "execution_count": 7,
   "metadata": {},
   "outputs": [],
   "source": [
    "def sankey_plot(\n",
    "        labels,\n",
    "        labels_titles=None,\n",
    "        title=None\n",
    "    ):\n",
    "    '''\n",
    "    This function plots a Sankey diagram of the sets of labels passed as arguments.\n",
    "\n",
    "    :param labels1: list of labels list\n",
    "    :param labels2: lables titles\n",
    "    :param title: title of the plot\n",
    "    '''\n",
    "\n",
    "    n_clusters = [len(set(label_list)) for label_list in labels]\n",
    "\n",
    "    plot_labels = []\n",
    "    for i in range(len(labels)):\n",
    "        for j in range(n_clusters[i]):\n",
    "            plot_labels.append(str(j))\n",
    "\n",
    "    source = []\n",
    "    target = []\n",
    "    value = []\n",
    "    for i in range(len(labels)-1):\n",
    "        confusion_matrix = pd.crosstab(labels[i], labels[i+1])\n",
    "        curr_source = []\n",
    "        curr_target = []\n",
    "        curr_value = []\n",
    "\n",
    "        source_add = 0\n",
    "        for j in range(0, i):\n",
    "            source_add += n_clusters[j]\n",
    "        target_add = source_add + n_clusters[i]\n",
    "\n",
    "        for j in range(n_clusters[i]):\n",
    "            for k in range(n_clusters[i+1]):\n",
    "                if confusion_matrix.iloc[j, k] != 0:\n",
    "                    curr_source.append(j+source_add)\n",
    "                    curr_target.append(k+target_add)\n",
    "                    curr_value.append(confusion_matrix.iloc[j, k])\n",
    "\n",
    "        source += curr_source\n",
    "        target += curr_target\n",
    "        value += curr_value\n",
    "\n",
    "    fig = go.Figure(\n",
    "        data=[\n",
    "            go.Sankey(\n",
    "                node = dict(\n",
    "                    pad = 15,\n",
    "                    thickness = 20,\n",
    "                    line = dict(color = \"black\", width = 0.5),\n",
    "                    label = plot_labels\n",
    "                ),\n",
    "                link = dict(\n",
    "                    source = source,\n",
    "                    target = target,\n",
    "                    value = value\n",
    "                )\n",
    "            )\n",
    "        ]\n",
    "    )\n",
    "\n",
    "    for x_coordinate, column_name in enumerate(labels_titles):\n",
    "        fig.add_annotation(\n",
    "            x=x_coordinate,\n",
    "            y=1.05,\n",
    "            xref=\"x\",\n",
    "            yref=\"paper\",\n",
    "            text=column_name,\n",
    "            showarrow=False\n",
    "        )\n",
    "    fig.update_layout(\n",
    "        title_text=title, \n",
    "        xaxis={'showgrid': False, 'zeroline': False, 'visible': False},\n",
    "        yaxis={'showgrid': False, 'zeroline': False, 'visible': False},\n",
    "        plot_bgcolor='rgba(0,0,0,0)',\n",
    "        font_size=10\n",
    "    )\n",
    "\n",
    "    file_name = f'.sankey'\n",
    "    if title is not None:\n",
    "        camel_title = title.replace(' ', '_')\n",
    "        file_name += f'_{camel_title}'\n",
    "    file_name += '.html'\n",
    "    pyo.plot(fig, filename=file_name, auto_open=False)\n",
    "    fig.show()"
   ]
  },
  {
   "cell_type": "code",
   "execution_count": 8,
   "metadata": {},
   "outputs": [
    {
     "data": {
      "application/vnd.plotly.v1+json": {
       "config": {
        "plotlyServerURL": "https://plot.ly"
       },
       "data": [
        {
         "link": {
          "source": [
           0,
           0,
           0,
           0,
           0,
           0,
           0,
           0,
           0,
           0,
           1,
           1,
           1,
           1,
           1,
           1,
           1,
           1,
           1,
           1,
           2,
           2,
           2,
           3,
           3,
           4,
           4,
           5,
           5,
           5,
           6,
           7,
           7,
           7,
           7,
           8,
           8,
           9,
           9,
           9,
           10,
           10,
           11,
           11,
           12,
           12,
           12,
           13,
           13,
           13,
           14,
           14,
           15,
           15,
           16,
           16,
           16,
           17,
           18,
           19,
           19,
           20,
           20,
           21,
           21,
           21,
           21,
           21,
           22,
           22,
           22,
           22,
           22,
           23,
           23,
           23,
           23,
           23,
           24,
           24,
           24,
           24,
           25,
           25,
           25,
           26,
           26,
           26,
           26,
           27,
           28,
           29,
           30,
           30,
           30,
           30,
           31,
           31,
           32,
           32,
           32,
           32,
           32,
           32,
           32,
           32,
           32,
           32,
           32,
           33,
           33,
           33,
           33,
           33,
           33,
           33,
           33,
           33,
           34,
           34,
           34,
           34,
           34,
           34,
           34,
           35,
           35,
           35,
           35,
           35,
           35,
           35,
           35,
           35,
           36,
           36,
           36,
           36,
           36,
           36,
           36,
           36,
           36,
           36,
           37,
           37,
           37,
           37,
           37,
           37,
           37,
           38,
           38,
           38,
           39,
           39,
           39,
           39,
           39,
           39,
           39,
           39,
           40,
           40,
           40,
           40,
           40,
           40,
           40,
           40,
           41,
           41,
           41,
           41,
           41,
           42,
           42,
           43,
           43,
           44,
           45,
           46,
           46,
           46,
           47,
           47,
           48,
           48,
           49,
           50,
           50,
           51,
           52,
           52,
           52,
           53,
           53,
           54,
           54,
           54,
           54,
           54,
           55,
           55,
           55,
           56,
           56,
           57,
           57,
           58,
           58,
           59,
           59,
           59,
           59,
           60,
           60,
           60,
           61,
           61,
           61,
           61,
           61,
           61,
           62,
           62,
           63,
           63,
           64,
           64,
           64,
           64,
           64,
           64,
           65,
           65,
           65,
           65,
           65,
           66,
           66,
           66,
           66,
           66,
           67,
           67,
           67,
           67,
           67,
           68,
           68,
           68,
           68,
           69,
           70,
           71,
           71
          ],
          "target": [
           3,
           4,
           6,
           7,
           8,
           10,
           12,
           14,
           16,
           18,
           3,
           4,
           5,
           7,
           9,
           11,
           15,
           17,
           19,
           20,
           12,
           13,
           15,
           21,
           22,
           21,
           22,
           23,
           24,
           29,
           21,
           22,
           23,
           24,
           25,
           25,
           26,
           23,
           24,
           29,
           21,
           22,
           23,
           24,
           22,
           25,
           26,
           23,
           27,
           28,
           22,
           26,
           24,
           28,
           21,
           22,
           26,
           29,
           21,
           24,
           30,
           30,
           31,
           32,
           33,
           35,
           39,
           42,
           32,
           33,
           35,
           36,
           39,
           32,
           34,
           36,
           37,
           41,
           34,
           36,
           37,
           41,
           38,
           39,
           40,
           32,
           33,
           39,
           40,
           38,
           38,
           36,
           36,
           37,
           41,
           43,
           41,
           43,
           45,
           54,
           59,
           60,
           61,
           62,
           63,
           64,
           65,
           67,
           68,
           54,
           59,
           61,
           63,
           64,
           65,
           66,
           67,
           68,
           45,
           48,
           49,
           50,
           51,
           52,
           53,
           48,
           59,
           61,
           63,
           64,
           65,
           66,
           67,
           68,
           45,
           46,
           47,
           48,
           50,
           51,
           52,
           53,
           64,
           66,
           46,
           48,
           49,
           50,
           51,
           52,
           53,
           55,
           70,
           71,
           54,
           57,
           59,
           61,
           62,
           64,
           65,
           66,
           44,
           54,
           55,
           56,
           57,
           58,
           59,
           64,
           45,
           46,
           51,
           52,
           69,
           65,
           66,
           46,
           69,
           79,
           72,
           75,
           81,
           84,
           72,
           81,
           72,
           86,
           72,
           72,
           81,
           72,
           72,
           75,
           81,
           72,
           81,
           76,
           78,
           79,
           82,
           83,
           72,
           79,
           82,
           79,
           82,
           79,
           82,
           79,
           82,
           73,
           74,
           76,
           79,
           73,
           74,
           76,
           73,
           74,
           76,
           78,
           82,
           83,
           76,
           78,
           73,
           74,
           73,
           74,
           76,
           79,
           83,
           86,
           73,
           74,
           76,
           80,
           83,
           72,
           73,
           80,
           83,
           86,
           73,
           74,
           76,
           83,
           86,
           73,
           74,
           76,
           86,
           84,
           85,
           77,
           85
          ],
          "value": [
           400,
           329,
           286,
           9,
           268,
           254,
           182,
           149,
           106,
           77,
           2,
           2,
           323,
           259,
           268,
           200,
           2,
           91,
           76,
           28,
           1,
           159,
           139,
           4,
           398,
           295,
           36,
           18,
           268,
           37,
           286,
           1,
           227,
           39,
           1,
           265,
           3,
           174,
           93,
           1,
           226,
           28,
           196,
           4,
           13,
           14,
           156,
           1,
           153,
           5,
           139,
           10,
           2,
           139,
           1,
           13,
           92,
           91,
           77,
           2,
           74,
           1,
           27,
           4,
           446,
           357,
           5,
           77,
           504,
           56,
           38,
           1,
           29,
           1,
           403,
           33,
           176,
           3,
           89,
           154,
           137,
           28,
           1,
           3,
           276,
           3,
           3,
           248,
           7,
           153,
           144,
           129,
           2,
           1,
           71,
           1,
           1,
           26,
           1,
           2,
           21,
           27,
           355,
           47,
           10,
           10,
           5,
           19,
           15,
           4,
           7,
           3,
           6,
           16,
           442,
           12,
           9,
           6,
           18,
           131,
           94,
           54,
           141,
           21,
           33,
           2,
           3,
           4,
           4,
           8,
           356,
           4,
           7,
           7,
           15,
           2,
           122,
           3,
           8,
           1,
           132,
           34,
           1,
           1,
           1,
           41,
           3,
           15,
           38,
           72,
           144,
           1,
           152,
           145,
           261,
           1,
           1,
           11,
           1,
           4,
           3,
           3,
           2,
           5,
           116,
           36,
           69,
           51,
           1,
           3,
           1,
           71,
           1,
           29,
           1,
           3,
           74,
           1,
           26,
           2,
           35,
           73,
           1,
           1,
           2,
           120,
           175,
           2,
           97,
           75,
           2,
           181,
           234,
           8,
           12,
           208,
           3,
           6,
           25,
           6,
           100,
           135,
           1,
           114,
           2,
           35,
           1,
           69,
           1,
           49,
           2,
           12,
           18,
           2,
           1,
           1,
           25,
           1,
           31,
           7,
           293,
           35,
           1,
           6,
           2,
           46,
           16,
           4,
           22,
           4,
           8,
           3,
           4,
           1,
           796,
           1,
           1,
           5,
           6,
           1,
           10,
           75,
           7,
           1,
           24,
           1,
           8,
           1,
           1,
           16,
           6,
           5,
           1,
           27,
           152,
           141,
           4
          ]
         },
         "node": {
          "label": [
           "0",
           "1",
           "2",
           "0",
           "1",
           "2",
           "3",
           "4",
           "5",
           "6",
           "7",
           "8",
           "9",
           "10",
           "11",
           "12",
           "13",
           "14",
           "15",
           "16",
           "17",
           "0",
           "1",
           "2",
           "3",
           "4",
           "5",
           "6",
           "7",
           "8",
           "9",
           "10",
           "0",
           "1",
           "2",
           "3",
           "4",
           "5",
           "6",
           "7",
           "8",
           "9",
           "10",
           "11",
           "0",
           "1",
           "2",
           "3",
           "4",
           "5",
           "6",
           "7",
           "8",
           "9",
           "10",
           "11",
           "12",
           "13",
           "14",
           "15",
           "16",
           "17",
           "18",
           "19",
           "20",
           "21",
           "22",
           "23",
           "24",
           "25",
           "26",
           "27",
           "0",
           "1",
           "2",
           "3",
           "4",
           "5",
           "6",
           "7",
           "8",
           "9",
           "10",
           "11",
           "12",
           "13",
           "14"
          ],
          "line": {
           "color": "black",
           "width": 0.5
          },
          "pad": 15,
          "thickness": 20
         },
         "type": "sankey"
        }
       ],
       "layout": {
        "annotations": [
         {
          "showarrow": false,
          "text": "monocle_label",
          "x": 0,
          "xref": "x",
          "y": 1.05,
          "yref": "paper"
         },
         {
          "showarrow": false,
          "text": "scanpy_label",
          "x": 1,
          "xref": "x",
          "y": 1.05,
          "yref": "paper"
         },
         {
          "showarrow": false,
          "text": "seurat_label",
          "x": 2,
          "xref": "x",
          "y": 1.05,
          "yref": "paper"
         },
         {
          "showarrow": false,
          "text": "scvi-tools_label",
          "x": 3,
          "xref": "x",
          "y": 1.05,
          "yref": "paper"
         },
         {
          "showarrow": false,
          "text": "COTAN_label",
          "x": 4,
          "xref": "x",
          "y": 1.05,
          "yref": "paper"
         },
         {
          "showarrow": false,
          "text": "true_labels",
          "x": 5,
          "xref": "x",
          "y": 1.05,
          "yref": "paper"
         }
        ],
        "font": {
         "size": 10
        },
        "plot_bgcolor": "rgba(0,0,0,0)",
        "template": {
         "data": {
          "bar": [
           {
            "error_x": {
             "color": "#2a3f5f"
            },
            "error_y": {
             "color": "#2a3f5f"
            },
            "marker": {
             "line": {
              "color": "#E5ECF6",
              "width": 0.5
             },
             "pattern": {
              "fillmode": "overlay",
              "size": 10,
              "solidity": 0.2
             }
            },
            "type": "bar"
           }
          ],
          "barpolar": [
           {
            "marker": {
             "line": {
              "color": "#E5ECF6",
              "width": 0.5
             },
             "pattern": {
              "fillmode": "overlay",
              "size": 10,
              "solidity": 0.2
             }
            },
            "type": "barpolar"
           }
          ],
          "carpet": [
           {
            "aaxis": {
             "endlinecolor": "#2a3f5f",
             "gridcolor": "white",
             "linecolor": "white",
             "minorgridcolor": "white",
             "startlinecolor": "#2a3f5f"
            },
            "baxis": {
             "endlinecolor": "#2a3f5f",
             "gridcolor": "white",
             "linecolor": "white",
             "minorgridcolor": "white",
             "startlinecolor": "#2a3f5f"
            },
            "type": "carpet"
           }
          ],
          "choropleth": [
           {
            "colorbar": {
             "outlinewidth": 0,
             "ticks": ""
            },
            "type": "choropleth"
           }
          ],
          "contour": [
           {
            "colorbar": {
             "outlinewidth": 0,
             "ticks": ""
            },
            "colorscale": [
             [
              0,
              "#0d0887"
             ],
             [
              0.1111111111111111,
              "#46039f"
             ],
             [
              0.2222222222222222,
              "#7201a8"
             ],
             [
              0.3333333333333333,
              "#9c179e"
             ],
             [
              0.4444444444444444,
              "#bd3786"
             ],
             [
              0.5555555555555556,
              "#d8576b"
             ],
             [
              0.6666666666666666,
              "#ed7953"
             ],
             [
              0.7777777777777778,
              "#fb9f3a"
             ],
             [
              0.8888888888888888,
              "#fdca26"
             ],
             [
              1,
              "#f0f921"
             ]
            ],
            "type": "contour"
           }
          ],
          "contourcarpet": [
           {
            "colorbar": {
             "outlinewidth": 0,
             "ticks": ""
            },
            "type": "contourcarpet"
           }
          ],
          "heatmap": [
           {
            "colorbar": {
             "outlinewidth": 0,
             "ticks": ""
            },
            "colorscale": [
             [
              0,
              "#0d0887"
             ],
             [
              0.1111111111111111,
              "#46039f"
             ],
             [
              0.2222222222222222,
              "#7201a8"
             ],
             [
              0.3333333333333333,
              "#9c179e"
             ],
             [
              0.4444444444444444,
              "#bd3786"
             ],
             [
              0.5555555555555556,
              "#d8576b"
             ],
             [
              0.6666666666666666,
              "#ed7953"
             ],
             [
              0.7777777777777778,
              "#fb9f3a"
             ],
             [
              0.8888888888888888,
              "#fdca26"
             ],
             [
              1,
              "#f0f921"
             ]
            ],
            "type": "heatmap"
           }
          ],
          "heatmapgl": [
           {
            "colorbar": {
             "outlinewidth": 0,
             "ticks": ""
            },
            "colorscale": [
             [
              0,
              "#0d0887"
             ],
             [
              0.1111111111111111,
              "#46039f"
             ],
             [
              0.2222222222222222,
              "#7201a8"
             ],
             [
              0.3333333333333333,
              "#9c179e"
             ],
             [
              0.4444444444444444,
              "#bd3786"
             ],
             [
              0.5555555555555556,
              "#d8576b"
             ],
             [
              0.6666666666666666,
              "#ed7953"
             ],
             [
              0.7777777777777778,
              "#fb9f3a"
             ],
             [
              0.8888888888888888,
              "#fdca26"
             ],
             [
              1,
              "#f0f921"
             ]
            ],
            "type": "heatmapgl"
           }
          ],
          "histogram": [
           {
            "marker": {
             "pattern": {
              "fillmode": "overlay",
              "size": 10,
              "solidity": 0.2
             }
            },
            "type": "histogram"
           }
          ],
          "histogram2d": [
           {
            "colorbar": {
             "outlinewidth": 0,
             "ticks": ""
            },
            "colorscale": [
             [
              0,
              "#0d0887"
             ],
             [
              0.1111111111111111,
              "#46039f"
             ],
             [
              0.2222222222222222,
              "#7201a8"
             ],
             [
              0.3333333333333333,
              "#9c179e"
             ],
             [
              0.4444444444444444,
              "#bd3786"
             ],
             [
              0.5555555555555556,
              "#d8576b"
             ],
             [
              0.6666666666666666,
              "#ed7953"
             ],
             [
              0.7777777777777778,
              "#fb9f3a"
             ],
             [
              0.8888888888888888,
              "#fdca26"
             ],
             [
              1,
              "#f0f921"
             ]
            ],
            "type": "histogram2d"
           }
          ],
          "histogram2dcontour": [
           {
            "colorbar": {
             "outlinewidth": 0,
             "ticks": ""
            },
            "colorscale": [
             [
              0,
              "#0d0887"
             ],
             [
              0.1111111111111111,
              "#46039f"
             ],
             [
              0.2222222222222222,
              "#7201a8"
             ],
             [
              0.3333333333333333,
              "#9c179e"
             ],
             [
              0.4444444444444444,
              "#bd3786"
             ],
             [
              0.5555555555555556,
              "#d8576b"
             ],
             [
              0.6666666666666666,
              "#ed7953"
             ],
             [
              0.7777777777777778,
              "#fb9f3a"
             ],
             [
              0.8888888888888888,
              "#fdca26"
             ],
             [
              1,
              "#f0f921"
             ]
            ],
            "type": "histogram2dcontour"
           }
          ],
          "mesh3d": [
           {
            "colorbar": {
             "outlinewidth": 0,
             "ticks": ""
            },
            "type": "mesh3d"
           }
          ],
          "parcoords": [
           {
            "line": {
             "colorbar": {
              "outlinewidth": 0,
              "ticks": ""
             }
            },
            "type": "parcoords"
           }
          ],
          "pie": [
           {
            "automargin": true,
            "type": "pie"
           }
          ],
          "scatter": [
           {
            "fillpattern": {
             "fillmode": "overlay",
             "size": 10,
             "solidity": 0.2
            },
            "type": "scatter"
           }
          ],
          "scatter3d": [
           {
            "line": {
             "colorbar": {
              "outlinewidth": 0,
              "ticks": ""
             }
            },
            "marker": {
             "colorbar": {
              "outlinewidth": 0,
              "ticks": ""
             }
            },
            "type": "scatter3d"
           }
          ],
          "scattercarpet": [
           {
            "marker": {
             "colorbar": {
              "outlinewidth": 0,
              "ticks": ""
             }
            },
            "type": "scattercarpet"
           }
          ],
          "scattergeo": [
           {
            "marker": {
             "colorbar": {
              "outlinewidth": 0,
              "ticks": ""
             }
            },
            "type": "scattergeo"
           }
          ],
          "scattergl": [
           {
            "marker": {
             "colorbar": {
              "outlinewidth": 0,
              "ticks": ""
             }
            },
            "type": "scattergl"
           }
          ],
          "scattermapbox": [
           {
            "marker": {
             "colorbar": {
              "outlinewidth": 0,
              "ticks": ""
             }
            },
            "type": "scattermapbox"
           }
          ],
          "scatterpolar": [
           {
            "marker": {
             "colorbar": {
              "outlinewidth": 0,
              "ticks": ""
             }
            },
            "type": "scatterpolar"
           }
          ],
          "scatterpolargl": [
           {
            "marker": {
             "colorbar": {
              "outlinewidth": 0,
              "ticks": ""
             }
            },
            "type": "scatterpolargl"
           }
          ],
          "scatterternary": [
           {
            "marker": {
             "colorbar": {
              "outlinewidth": 0,
              "ticks": ""
             }
            },
            "type": "scatterternary"
           }
          ],
          "surface": [
           {
            "colorbar": {
             "outlinewidth": 0,
             "ticks": ""
            },
            "colorscale": [
             [
              0,
              "#0d0887"
             ],
             [
              0.1111111111111111,
              "#46039f"
             ],
             [
              0.2222222222222222,
              "#7201a8"
             ],
             [
              0.3333333333333333,
              "#9c179e"
             ],
             [
              0.4444444444444444,
              "#bd3786"
             ],
             [
              0.5555555555555556,
              "#d8576b"
             ],
             [
              0.6666666666666666,
              "#ed7953"
             ],
             [
              0.7777777777777778,
              "#fb9f3a"
             ],
             [
              0.8888888888888888,
              "#fdca26"
             ],
             [
              1,
              "#f0f921"
             ]
            ],
            "type": "surface"
           }
          ],
          "table": [
           {
            "cells": {
             "fill": {
              "color": "#EBF0F8"
             },
             "line": {
              "color": "white"
             }
            },
            "header": {
             "fill": {
              "color": "#C8D4E3"
             },
             "line": {
              "color": "white"
             }
            },
            "type": "table"
           }
          ]
         },
         "layout": {
          "annotationdefaults": {
           "arrowcolor": "#2a3f5f",
           "arrowhead": 0,
           "arrowwidth": 1
          },
          "autotypenumbers": "strict",
          "coloraxis": {
           "colorbar": {
            "outlinewidth": 0,
            "ticks": ""
           }
          },
          "colorscale": {
           "diverging": [
            [
             0,
             "#8e0152"
            ],
            [
             0.1,
             "#c51b7d"
            ],
            [
             0.2,
             "#de77ae"
            ],
            [
             0.3,
             "#f1b6da"
            ],
            [
             0.4,
             "#fde0ef"
            ],
            [
             0.5,
             "#f7f7f7"
            ],
            [
             0.6,
             "#e6f5d0"
            ],
            [
             0.7,
             "#b8e186"
            ],
            [
             0.8,
             "#7fbc41"
            ],
            [
             0.9,
             "#4d9221"
            ],
            [
             1,
             "#276419"
            ]
           ],
           "sequential": [
            [
             0,
             "#0d0887"
            ],
            [
             0.1111111111111111,
             "#46039f"
            ],
            [
             0.2222222222222222,
             "#7201a8"
            ],
            [
             0.3333333333333333,
             "#9c179e"
            ],
            [
             0.4444444444444444,
             "#bd3786"
            ],
            [
             0.5555555555555556,
             "#d8576b"
            ],
            [
             0.6666666666666666,
             "#ed7953"
            ],
            [
             0.7777777777777778,
             "#fb9f3a"
            ],
            [
             0.8888888888888888,
             "#fdca26"
            ],
            [
             1,
             "#f0f921"
            ]
           ],
           "sequentialminus": [
            [
             0,
             "#0d0887"
            ],
            [
             0.1111111111111111,
             "#46039f"
            ],
            [
             0.2222222222222222,
             "#7201a8"
            ],
            [
             0.3333333333333333,
             "#9c179e"
            ],
            [
             0.4444444444444444,
             "#bd3786"
            ],
            [
             0.5555555555555556,
             "#d8576b"
            ],
            [
             0.6666666666666666,
             "#ed7953"
            ],
            [
             0.7777777777777778,
             "#fb9f3a"
            ],
            [
             0.8888888888888888,
             "#fdca26"
            ],
            [
             1,
             "#f0f921"
            ]
           ]
          },
          "colorway": [
           "#636efa",
           "#EF553B",
           "#00cc96",
           "#ab63fa",
           "#FFA15A",
           "#19d3f3",
           "#FF6692",
           "#B6E880",
           "#FF97FF",
           "#FECB52"
          ],
          "font": {
           "color": "#2a3f5f"
          },
          "geo": {
           "bgcolor": "white",
           "lakecolor": "white",
           "landcolor": "#E5ECF6",
           "showlakes": true,
           "showland": true,
           "subunitcolor": "white"
          },
          "hoverlabel": {
           "align": "left"
          },
          "hovermode": "closest",
          "mapbox": {
           "style": "light"
          },
          "paper_bgcolor": "white",
          "plot_bgcolor": "#E5ECF6",
          "polar": {
           "angularaxis": {
            "gridcolor": "white",
            "linecolor": "white",
            "ticks": ""
           },
           "bgcolor": "#E5ECF6",
           "radialaxis": {
            "gridcolor": "white",
            "linecolor": "white",
            "ticks": ""
           }
          },
          "scene": {
           "xaxis": {
            "backgroundcolor": "#E5ECF6",
            "gridcolor": "white",
            "gridwidth": 2,
            "linecolor": "white",
            "showbackground": true,
            "ticks": "",
            "zerolinecolor": "white"
           },
           "yaxis": {
            "backgroundcolor": "#E5ECF6",
            "gridcolor": "white",
            "gridwidth": 2,
            "linecolor": "white",
            "showbackground": true,
            "ticks": "",
            "zerolinecolor": "white"
           },
           "zaxis": {
            "backgroundcolor": "#E5ECF6",
            "gridcolor": "white",
            "gridwidth": 2,
            "linecolor": "white",
            "showbackground": true,
            "ticks": "",
            "zerolinecolor": "white"
           }
          },
          "shapedefaults": {
           "line": {
            "color": "#2a3f5f"
           }
          },
          "ternary": {
           "aaxis": {
            "gridcolor": "white",
            "linecolor": "white",
            "ticks": ""
           },
           "baxis": {
            "gridcolor": "white",
            "linecolor": "white",
            "ticks": ""
           },
           "bgcolor": "#E5ECF6",
           "caxis": {
            "gridcolor": "white",
            "linecolor": "white",
            "ticks": ""
           }
          },
          "title": {
           "x": 0.05
          },
          "xaxis": {
           "automargin": true,
           "gridcolor": "white",
           "linecolor": "white",
           "ticks": "",
           "title": {
            "standoff": 15
           },
           "zerolinecolor": "white",
           "zerolinewidth": 2
          },
          "yaxis": {
           "automargin": true,
           "gridcolor": "white",
           "linecolor": "white",
           "ticks": "",
           "title": {
            "standoff": 15
           },
           "zerolinecolor": "white",
           "zerolinewidth": 2
          }
         }
        },
        "title": {
         "text": "PBMC1 clustering"
        },
        "xaxis": {
         "showgrid": false,
         "visible": false,
         "zeroline": false
        },
        "yaxis": {
         "showgrid": false,
         "visible": false,
         "zeroline": false
        }
       }
      }
     },
     "metadata": {},
     "output_type": "display_data"
    },
    {
     "data": {
      "application/vnd.plotly.v1+json": {
       "config": {
        "plotlyServerURL": "https://plot.ly"
       },
       "data": [
        {
         "link": {
          "source": [
           0,
           0,
           0,
           0,
           0,
           0,
           0,
           0,
           0,
           0,
           0,
           0,
           1,
           1,
           1,
           1,
           1,
           1,
           1,
           1,
           1,
           2,
           2,
           2,
           3,
           3,
           3,
           3,
           4,
           4,
           4,
           5,
           5,
           5,
           5,
           6,
           7,
           7,
           8,
           8,
           8,
           8,
           9,
           9,
           9,
           9,
           10,
           10,
           10,
           10,
           10,
           10,
           10,
           11,
           11,
           11,
           11,
           12,
           12,
           12,
           12,
           12,
           13,
           13,
           13,
           13,
           13,
           13,
           13,
           14,
           14,
           14,
           14,
           15,
           15,
           15,
           15,
           15,
           16,
           16,
           17,
           17,
           17,
           18,
           18,
           19,
           20,
           20,
           20,
           21,
           22,
           22,
           22,
           22,
           22,
           22,
           22,
           22,
           23,
           23,
           23,
           23,
           23,
           23,
           23,
           23,
           24,
           24,
           24,
           24,
           24,
           24,
           24,
           24,
           24,
           24,
           25,
           25,
           25,
           26,
           26,
           26,
           26,
           26,
           27,
           27,
           27,
           28,
           28,
           28,
           28,
           28,
           28,
           28,
           28,
           29,
           29,
           30,
           30,
           30,
           30,
           30,
           31,
           31,
           32,
           33,
           33,
           33,
           33,
           34,
           34,
           34,
           34,
           34,
           35,
           35,
           36,
           36,
           37,
           37,
           37,
           38,
           38,
           38,
           38,
           38,
           38,
           38,
           39,
           39,
           39,
           39,
           39,
           39,
           39,
           40,
           40,
           40,
           40,
           40,
           40,
           40,
           40,
           41,
           41,
           41,
           41,
           41,
           41,
           41,
           41,
           41,
           41,
           41,
           41,
           41,
           41,
           42,
           42,
           42,
           42,
           42,
           42,
           43,
           43,
           43,
           43,
           43,
           43,
           43,
           43,
           43,
           43,
           43,
           43,
           44,
           44,
           44,
           44,
           44,
           44,
           44,
           44,
           44,
           45,
           45,
           45,
           45,
           45,
           45,
           45,
           45,
           46,
           46,
           46,
           46,
           46,
           46,
           46,
           47,
           47,
           47,
           47,
           47,
           47,
           48,
           48,
           48,
           48,
           48,
           48,
           49,
           49,
           49,
           49,
           49,
           49,
           49,
           49,
           50,
           50,
           50,
           50,
           51,
           51,
           52,
           53,
           53,
           53,
           53,
           54,
           54,
           54,
           55,
           55,
           56,
           56,
           56,
           56,
           56,
           57,
           57,
           57,
           57,
           57,
           57,
           58,
           58,
           58,
           58,
           59,
           59,
           59,
           59,
           59,
           60,
           60,
           61,
           61,
           62,
           62,
           63,
           63,
           63,
           64,
           64,
           64,
           64,
           64,
           65,
           65,
           65,
           65,
           66,
           66,
           66,
           66,
           66,
           67,
           67,
           67,
           67,
           67,
           67,
           68,
           68,
           69,
           70,
           71,
           71,
           72,
           72,
           72,
           72,
           72,
           73,
           74,
           74,
           74,
           75,
           75,
           76,
           76,
           76,
           77,
           77,
           78,
           79,
           79,
           79,
           79,
           80,
           80,
           81,
           81,
           82,
           82,
           82,
           83,
           84
          ],
          "target": [
           3,
           4,
           5,
           6,
           8,
           9,
           10,
           11,
           12,
           13,
           14,
           15,
           7,
           12,
           13,
           16,
           17,
           18,
           19,
           20,
           21,
           8,
           13,
           20,
           22,
           24,
           26,
           37,
           23,
           24,
           37,
           22,
           23,
           26,
           28,
           25,
           27,
           31,
           29,
           30,
           32,
           34,
           22,
           23,
           24,
           28,
           22,
           23,
           24,
           26,
           28,
           30,
           33,
           23,
           28,
           30,
           33,
           24,
           25,
           28,
           33,
           34,
           22,
           23,
           24,
           28,
           29,
           34,
           37,
           22,
           24,
           26,
           28,
           23,
           24,
           28,
           30,
           33,
           27,
           31,
           25,
           27,
           34,
           27,
           35,
           36,
           27,
           31,
           34,
           34,
           38,
           39,
           42,
           43,
           45,
           47,
           49,
           50,
           38,
           39,
           42,
           43,
           45,
           46,
           47,
           49,
           38,
           39,
           40,
           41,
           42,
           43,
           45,
           46,
           47,
           49,
           40,
           41,
           51,
           38,
           42,
           43,
           45,
           49,
           41,
           48,
           50,
           38,
           39,
           40,
           41,
           42,
           43,
           46,
           49,
           43,
           44,
           39,
           40,
           43,
           46,
           47,
           41,
           48,
           44,
           40,
           43,
           49,
           51,
           41,
           45,
           48,
           49,
           53,
           41,
           50,
           50,
           52,
           38,
           39,
           43,
           54,
           55,
           57,
           58,
           63,
           64,
           65,
           54,
           56,
           57,
           58,
           63,
           64,
           66,
           54,
           56,
           57,
           59,
           60,
           61,
           62,
           66,
           54,
           56,
           58,
           60,
           61,
           71,
           72,
           73,
           74,
           75,
           76,
           77,
           79,
           82,
           54,
           55,
           56,
           57,
           58,
           65,
           54,
           55,
           56,
           57,
           58,
           59,
           63,
           64,
           65,
           66,
           67,
           68,
           56,
           59,
           72,
           79,
           80,
           81,
           82,
           83,
           84,
           54,
           55,
           57,
           58,
           63,
           64,
           65,
           71,
           56,
           57,
           58,
           64,
           65,
           66,
           67,
           54,
           57,
           58,
           63,
           64,
           66,
           69,
           70,
           71,
           72,
           76,
           77,
           54,
           55,
           57,
           58,
           59,
           72,
           74,
           79,
           54,
           73,
           76,
           78,
           59,
           62,
           78,
           67,
           72,
           74,
           75,
           87,
           91,
           92,
           87,
           92,
           85,
           86,
           87,
           92,
           95,
           85,
           86,
           87,
           89,
           92,
           98,
           86,
           87,
           92,
           98,
           86,
           87,
           88,
           94,
           96,
           88,
           91,
           88,
           91,
           88,
           94,
           85,
           87,
           98,
           86,
           87,
           88,
           92,
           98,
           86,
           87,
           89,
           92,
           86,
           87,
           89,
           92,
           96,
           85,
           86,
           87,
           88,
           89,
           100,
           85,
           88,
           93,
           93,
           91,
           93,
           87,
           91,
           96,
           99,
           100,
           90,
           91,
           99,
           100,
           91,
           100,
           90,
           91,
           93,
           90,
           91,
           97,
           91,
           95,
           96,
           99,
           95,
           96,
           95,
           96,
           91,
           95,
           96,
           96,
           96
          ],
          "value": [
           805,
           657,
           564,
           470,
           2,
           435,
           415,
           288,
           279,
           245,
           243,
           240,
           461,
           1,
           15,
           172,
           126,
           88,
           48,
           15,
           7,
           441,
           1,
           1,
           779,
           23,
           1,
           2,
           427,
           229,
           1,
           10,
           1,
           542,
           11,
           470,
           459,
           2,
           294,
           1,
           147,
           1,
           102,
           35,
           297,
           1,
           1,
           20,
           10,
           9,
           358,
           15,
           2,
           8,
           32,
           235,
           13,
           2,
           183,
           1,
           93,
           1,
           26,
           92,
           114,
           2,
           1,
           13,
           13,
           234,
           3,
           3,
           3,
           187,
           21,
           8,
           22,
           2,
           4,
           168,
           1,
           78,
           47,
           6,
           82,
           48,
           1,
           1,
           14,
           7,
           851,
           20,
           11,
           3,
           107,
           96,
           63,
           1,
           5,
           573,
           1,
           36,
           50,
           9,
           74,
           22,
           129,
           343,
           2,
           1,
           1,
           12,
           125,
           2,
           57,
           27,
           638,
           3,
           13,
           6,
           537,
           8,
           3,
           1,
           531,
           12,
           5,
           6,
           3,
           1,
           1,
           21,
           377,
           6,
           1,
           1,
           294,
           20,
           1,
           11,
           236,
           5,
           2,
           169,
           147,
           50,
           10,
           3,
           47,
           60,
           1,
           1,
           14,
           7,
           1,
           81,
           1,
           47,
           10,
           2,
           4,
           863,
           6,
           11,
           105,
           11,
           6,
           5,
           27,
           3,
           621,
           234,
           17,
           38,
           21,
           1,
           1,
           2,
           51,
           45,
           354,
           237,
           1,
           1,
           1,
           1,
           4,
           1,
           2,
           50,
           2,
           62,
           59,
           304,
           110,
           1,
           1,
           9,
           549,
           8,
           1,
           1,
           3,
           5,
           14,
           149,
           27,
           5,
           8,
           6,
           6,
           57,
           13,
           147,
           25,
           1,
           1,
           1,
           14,
           142,
           78,
           112,
           48,
           44,
           110,
           3,
           72,
           55,
           28,
           16,
           1,
           1,
           2,
           4,
           1,
           1,
           1,
           238,
           6,
           99,
           75,
           38,
           8,
           7,
           5,
           23,
           90,
           61,
           1,
           6,
           1,
           63,
           2,
           23,
           26,
           3,
           2,
           10,
           2,
           1,
           84,
           2,
           1,
           48,
           12,
           47,
           1,
           2,
           1,
           3,
           1168,
           1,
           10,
           12,
           562,
           38,
           9,
           16,
           101,
           1,
           3,
           337,
           470,
           9,
           3,
           14,
           14,
           448,
           2,
           2,
           2,
           1,
           57,
           50,
           1,
           47,
           2,
           354,
           1,
           248,
           1,
           1,
           17,
           52,
           7,
           49,
           6,
           1,
           11,
           1,
           61,
           1,
           4,
           8,
           23,
           245,
           1,
           1,
           132,
           4,
           6,
           5,
           6,
           1,
           24,
           1,
           23,
           90,
           4,
           60,
           2,
           49,
           1,
           2,
           2,
           86,
           62,
           10,
           1,
           59,
           3,
           7,
           304,
           1,
           1,
           110,
           48,
           1,
           1,
           13,
           2,
           139,
           3,
           68,
           10,
           1,
           4,
           108,
           48,
           44
          ]
         },
         "node": {
          "label": [
           "0",
           "1",
           "2",
           "0",
           "1",
           "2",
           "3",
           "4",
           "5",
           "6",
           "7",
           "8",
           "9",
           "10",
           "11",
           "12",
           "13",
           "14",
           "15",
           "16",
           "17",
           "18",
           "0",
           "1",
           "2",
           "3",
           "4",
           "5",
           "6",
           "7",
           "8",
           "9",
           "10",
           "11",
           "12",
           "13",
           "14",
           "15",
           "0",
           "1",
           "2",
           "3",
           "4",
           "5",
           "6",
           "7",
           "8",
           "9",
           "10",
           "11",
           "12",
           "13",
           "14",
           "15",
           "0",
           "1",
           "2",
           "3",
           "4",
           "5",
           "6",
           "7",
           "8",
           "9",
           "10",
           "11",
           "12",
           "13",
           "14",
           "15",
           "16",
           "17",
           "18",
           "19",
           "20",
           "21",
           "22",
           "23",
           "24",
           "25",
           "26",
           "27",
           "28",
           "29",
           "30",
           "0",
           "1",
           "2",
           "3",
           "4",
           "5",
           "6",
           "7",
           "8",
           "9",
           "10",
           "11",
           "12",
           "13",
           "14",
           "15"
          ],
          "line": {
           "color": "black",
           "width": 0.5
          },
          "pad": 15,
          "thickness": 20
         },
         "type": "sankey"
        }
       ],
       "layout": {
        "annotations": [
         {
          "showarrow": false,
          "text": "monocle_label",
          "x": 0,
          "xref": "x",
          "y": 1.05,
          "yref": "paper"
         },
         {
          "showarrow": false,
          "text": "scanpy_label",
          "x": 1,
          "xref": "x",
          "y": 1.05,
          "yref": "paper"
         },
         {
          "showarrow": false,
          "text": "seurat_label",
          "x": 2,
          "xref": "x",
          "y": 1.05,
          "yref": "paper"
         },
         {
          "showarrow": false,
          "text": "scvi-tools_label",
          "x": 3,
          "xref": "x",
          "y": 1.05,
          "yref": "paper"
         },
         {
          "showarrow": false,
          "text": "COTAN_label",
          "x": 4,
          "xref": "x",
          "y": 1.05,
          "yref": "paper"
         },
         {
          "showarrow": false,
          "text": "true_labels",
          "x": 5,
          "xref": "x",
          "y": 1.05,
          "yref": "paper"
         }
        ],
        "font": {
         "size": 10
        },
        "plot_bgcolor": "rgba(0,0,0,0)",
        "template": {
         "data": {
          "bar": [
           {
            "error_x": {
             "color": "#2a3f5f"
            },
            "error_y": {
             "color": "#2a3f5f"
            },
            "marker": {
             "line": {
              "color": "#E5ECF6",
              "width": 0.5
             },
             "pattern": {
              "fillmode": "overlay",
              "size": 10,
              "solidity": 0.2
             }
            },
            "type": "bar"
           }
          ],
          "barpolar": [
           {
            "marker": {
             "line": {
              "color": "#E5ECF6",
              "width": 0.5
             },
             "pattern": {
              "fillmode": "overlay",
              "size": 10,
              "solidity": 0.2
             }
            },
            "type": "barpolar"
           }
          ],
          "carpet": [
           {
            "aaxis": {
             "endlinecolor": "#2a3f5f",
             "gridcolor": "white",
             "linecolor": "white",
             "minorgridcolor": "white",
             "startlinecolor": "#2a3f5f"
            },
            "baxis": {
             "endlinecolor": "#2a3f5f",
             "gridcolor": "white",
             "linecolor": "white",
             "minorgridcolor": "white",
             "startlinecolor": "#2a3f5f"
            },
            "type": "carpet"
           }
          ],
          "choropleth": [
           {
            "colorbar": {
             "outlinewidth": 0,
             "ticks": ""
            },
            "type": "choropleth"
           }
          ],
          "contour": [
           {
            "colorbar": {
             "outlinewidth": 0,
             "ticks": ""
            },
            "colorscale": [
             [
              0,
              "#0d0887"
             ],
             [
              0.1111111111111111,
              "#46039f"
             ],
             [
              0.2222222222222222,
              "#7201a8"
             ],
             [
              0.3333333333333333,
              "#9c179e"
             ],
             [
              0.4444444444444444,
              "#bd3786"
             ],
             [
              0.5555555555555556,
              "#d8576b"
             ],
             [
              0.6666666666666666,
              "#ed7953"
             ],
             [
              0.7777777777777778,
              "#fb9f3a"
             ],
             [
              0.8888888888888888,
              "#fdca26"
             ],
             [
              1,
              "#f0f921"
             ]
            ],
            "type": "contour"
           }
          ],
          "contourcarpet": [
           {
            "colorbar": {
             "outlinewidth": 0,
             "ticks": ""
            },
            "type": "contourcarpet"
           }
          ],
          "heatmap": [
           {
            "colorbar": {
             "outlinewidth": 0,
             "ticks": ""
            },
            "colorscale": [
             [
              0,
              "#0d0887"
             ],
             [
              0.1111111111111111,
              "#46039f"
             ],
             [
              0.2222222222222222,
              "#7201a8"
             ],
             [
              0.3333333333333333,
              "#9c179e"
             ],
             [
              0.4444444444444444,
              "#bd3786"
             ],
             [
              0.5555555555555556,
              "#d8576b"
             ],
             [
              0.6666666666666666,
              "#ed7953"
             ],
             [
              0.7777777777777778,
              "#fb9f3a"
             ],
             [
              0.8888888888888888,
              "#fdca26"
             ],
             [
              1,
              "#f0f921"
             ]
            ],
            "type": "heatmap"
           }
          ],
          "heatmapgl": [
           {
            "colorbar": {
             "outlinewidth": 0,
             "ticks": ""
            },
            "colorscale": [
             [
              0,
              "#0d0887"
             ],
             [
              0.1111111111111111,
              "#46039f"
             ],
             [
              0.2222222222222222,
              "#7201a8"
             ],
             [
              0.3333333333333333,
              "#9c179e"
             ],
             [
              0.4444444444444444,
              "#bd3786"
             ],
             [
              0.5555555555555556,
              "#d8576b"
             ],
             [
              0.6666666666666666,
              "#ed7953"
             ],
             [
              0.7777777777777778,
              "#fb9f3a"
             ],
             [
              0.8888888888888888,
              "#fdca26"
             ],
             [
              1,
              "#f0f921"
             ]
            ],
            "type": "heatmapgl"
           }
          ],
          "histogram": [
           {
            "marker": {
             "pattern": {
              "fillmode": "overlay",
              "size": 10,
              "solidity": 0.2
             }
            },
            "type": "histogram"
           }
          ],
          "histogram2d": [
           {
            "colorbar": {
             "outlinewidth": 0,
             "ticks": ""
            },
            "colorscale": [
             [
              0,
              "#0d0887"
             ],
             [
              0.1111111111111111,
              "#46039f"
             ],
             [
              0.2222222222222222,
              "#7201a8"
             ],
             [
              0.3333333333333333,
              "#9c179e"
             ],
             [
              0.4444444444444444,
              "#bd3786"
             ],
             [
              0.5555555555555556,
              "#d8576b"
             ],
             [
              0.6666666666666666,
              "#ed7953"
             ],
             [
              0.7777777777777778,
              "#fb9f3a"
             ],
             [
              0.8888888888888888,
              "#fdca26"
             ],
             [
              1,
              "#f0f921"
             ]
            ],
            "type": "histogram2d"
           }
          ],
          "histogram2dcontour": [
           {
            "colorbar": {
             "outlinewidth": 0,
             "ticks": ""
            },
            "colorscale": [
             [
              0,
              "#0d0887"
             ],
             [
              0.1111111111111111,
              "#46039f"
             ],
             [
              0.2222222222222222,
              "#7201a8"
             ],
             [
              0.3333333333333333,
              "#9c179e"
             ],
             [
              0.4444444444444444,
              "#bd3786"
             ],
             [
              0.5555555555555556,
              "#d8576b"
             ],
             [
              0.6666666666666666,
              "#ed7953"
             ],
             [
              0.7777777777777778,
              "#fb9f3a"
             ],
             [
              0.8888888888888888,
              "#fdca26"
             ],
             [
              1,
              "#f0f921"
             ]
            ],
            "type": "histogram2dcontour"
           }
          ],
          "mesh3d": [
           {
            "colorbar": {
             "outlinewidth": 0,
             "ticks": ""
            },
            "type": "mesh3d"
           }
          ],
          "parcoords": [
           {
            "line": {
             "colorbar": {
              "outlinewidth": 0,
              "ticks": ""
             }
            },
            "type": "parcoords"
           }
          ],
          "pie": [
           {
            "automargin": true,
            "type": "pie"
           }
          ],
          "scatter": [
           {
            "fillpattern": {
             "fillmode": "overlay",
             "size": 10,
             "solidity": 0.2
            },
            "type": "scatter"
           }
          ],
          "scatter3d": [
           {
            "line": {
             "colorbar": {
              "outlinewidth": 0,
              "ticks": ""
             }
            },
            "marker": {
             "colorbar": {
              "outlinewidth": 0,
              "ticks": ""
             }
            },
            "type": "scatter3d"
           }
          ],
          "scattercarpet": [
           {
            "marker": {
             "colorbar": {
              "outlinewidth": 0,
              "ticks": ""
             }
            },
            "type": "scattercarpet"
           }
          ],
          "scattergeo": [
           {
            "marker": {
             "colorbar": {
              "outlinewidth": 0,
              "ticks": ""
             }
            },
            "type": "scattergeo"
           }
          ],
          "scattergl": [
           {
            "marker": {
             "colorbar": {
              "outlinewidth": 0,
              "ticks": ""
             }
            },
            "type": "scattergl"
           }
          ],
          "scattermapbox": [
           {
            "marker": {
             "colorbar": {
              "outlinewidth": 0,
              "ticks": ""
             }
            },
            "type": "scattermapbox"
           }
          ],
          "scatterpolar": [
           {
            "marker": {
             "colorbar": {
              "outlinewidth": 0,
              "ticks": ""
             }
            },
            "type": "scatterpolar"
           }
          ],
          "scatterpolargl": [
           {
            "marker": {
             "colorbar": {
              "outlinewidth": 0,
              "ticks": ""
             }
            },
            "type": "scatterpolargl"
           }
          ],
          "scatterternary": [
           {
            "marker": {
             "colorbar": {
              "outlinewidth": 0,
              "ticks": ""
             }
            },
            "type": "scatterternary"
           }
          ],
          "surface": [
           {
            "colorbar": {
             "outlinewidth": 0,
             "ticks": ""
            },
            "colorscale": [
             [
              0,
              "#0d0887"
             ],
             [
              0.1111111111111111,
              "#46039f"
             ],
             [
              0.2222222222222222,
              "#7201a8"
             ],
             [
              0.3333333333333333,
              "#9c179e"
             ],
             [
              0.4444444444444444,
              "#bd3786"
             ],
             [
              0.5555555555555556,
              "#d8576b"
             ],
             [
              0.6666666666666666,
              "#ed7953"
             ],
             [
              0.7777777777777778,
              "#fb9f3a"
             ],
             [
              0.8888888888888888,
              "#fdca26"
             ],
             [
              1,
              "#f0f921"
             ]
            ],
            "type": "surface"
           }
          ],
          "table": [
           {
            "cells": {
             "fill": {
              "color": "#EBF0F8"
             },
             "line": {
              "color": "white"
             }
            },
            "header": {
             "fill": {
              "color": "#C8D4E3"
             },
             "line": {
              "color": "white"
             }
            },
            "type": "table"
           }
          ]
         },
         "layout": {
          "annotationdefaults": {
           "arrowcolor": "#2a3f5f",
           "arrowhead": 0,
           "arrowwidth": 1
          },
          "autotypenumbers": "strict",
          "coloraxis": {
           "colorbar": {
            "outlinewidth": 0,
            "ticks": ""
           }
          },
          "colorscale": {
           "diverging": [
            [
             0,
             "#8e0152"
            ],
            [
             0.1,
             "#c51b7d"
            ],
            [
             0.2,
             "#de77ae"
            ],
            [
             0.3,
             "#f1b6da"
            ],
            [
             0.4,
             "#fde0ef"
            ],
            [
             0.5,
             "#f7f7f7"
            ],
            [
             0.6,
             "#e6f5d0"
            ],
            [
             0.7,
             "#b8e186"
            ],
            [
             0.8,
             "#7fbc41"
            ],
            [
             0.9,
             "#4d9221"
            ],
            [
             1,
             "#276419"
            ]
           ],
           "sequential": [
            [
             0,
             "#0d0887"
            ],
            [
             0.1111111111111111,
             "#46039f"
            ],
            [
             0.2222222222222222,
             "#7201a8"
            ],
            [
             0.3333333333333333,
             "#9c179e"
            ],
            [
             0.4444444444444444,
             "#bd3786"
            ],
            [
             0.5555555555555556,
             "#d8576b"
            ],
            [
             0.6666666666666666,
             "#ed7953"
            ],
            [
             0.7777777777777778,
             "#fb9f3a"
            ],
            [
             0.8888888888888888,
             "#fdca26"
            ],
            [
             1,
             "#f0f921"
            ]
           ],
           "sequentialminus": [
            [
             0,
             "#0d0887"
            ],
            [
             0.1111111111111111,
             "#46039f"
            ],
            [
             0.2222222222222222,
             "#7201a8"
            ],
            [
             0.3333333333333333,
             "#9c179e"
            ],
            [
             0.4444444444444444,
             "#bd3786"
            ],
            [
             0.5555555555555556,
             "#d8576b"
            ],
            [
             0.6666666666666666,
             "#ed7953"
            ],
            [
             0.7777777777777778,
             "#fb9f3a"
            ],
            [
             0.8888888888888888,
             "#fdca26"
            ],
            [
             1,
             "#f0f921"
            ]
           ]
          },
          "colorway": [
           "#636efa",
           "#EF553B",
           "#00cc96",
           "#ab63fa",
           "#FFA15A",
           "#19d3f3",
           "#FF6692",
           "#B6E880",
           "#FF97FF",
           "#FECB52"
          ],
          "font": {
           "color": "#2a3f5f"
          },
          "geo": {
           "bgcolor": "white",
           "lakecolor": "white",
           "landcolor": "#E5ECF6",
           "showlakes": true,
           "showland": true,
           "subunitcolor": "white"
          },
          "hoverlabel": {
           "align": "left"
          },
          "hovermode": "closest",
          "mapbox": {
           "style": "light"
          },
          "paper_bgcolor": "white",
          "plot_bgcolor": "#E5ECF6",
          "polar": {
           "angularaxis": {
            "gridcolor": "white",
            "linecolor": "white",
            "ticks": ""
           },
           "bgcolor": "#E5ECF6",
           "radialaxis": {
            "gridcolor": "white",
            "linecolor": "white",
            "ticks": ""
           }
          },
          "scene": {
           "xaxis": {
            "backgroundcolor": "#E5ECF6",
            "gridcolor": "white",
            "gridwidth": 2,
            "linecolor": "white",
            "showbackground": true,
            "ticks": "",
            "zerolinecolor": "white"
           },
           "yaxis": {
            "backgroundcolor": "#E5ECF6",
            "gridcolor": "white",
            "gridwidth": 2,
            "linecolor": "white",
            "showbackground": true,
            "ticks": "",
            "zerolinecolor": "white"
           },
           "zaxis": {
            "backgroundcolor": "#E5ECF6",
            "gridcolor": "white",
            "gridwidth": 2,
            "linecolor": "white",
            "showbackground": true,
            "ticks": "",
            "zerolinecolor": "white"
           }
          },
          "shapedefaults": {
           "line": {
            "color": "#2a3f5f"
           }
          },
          "ternary": {
           "aaxis": {
            "gridcolor": "white",
            "linecolor": "white",
            "ticks": ""
           },
           "baxis": {
            "gridcolor": "white",
            "linecolor": "white",
            "ticks": ""
           },
           "bgcolor": "#E5ECF6",
           "caxis": {
            "gridcolor": "white",
            "linecolor": "white",
            "ticks": ""
           }
          },
          "title": {
           "x": 0.05
          },
          "xaxis": {
           "automargin": true,
           "gridcolor": "white",
           "linecolor": "white",
           "ticks": "",
           "title": {
            "standoff": 15
           },
           "zerolinecolor": "white",
           "zerolinewidth": 2
          },
          "yaxis": {
           "automargin": true,
           "gridcolor": "white",
           "linecolor": "white",
           "ticks": "",
           "title": {
            "standoff": 15
           },
           "zerolinecolor": "white",
           "zerolinewidth": 2
          }
         }
        },
        "title": {
         "text": "PBMC2 clustering"
        },
        "xaxis": {
         "showgrid": false,
         "visible": false,
         "zeroline": false
        },
        "yaxis": {
         "showgrid": false,
         "visible": false,
         "zeroline": false
        }
       }
      }
     },
     "metadata": {},
     "output_type": "display_data"
    },
    {
     "data": {
      "application/vnd.plotly.v1+json": {
       "config": {
        "plotlyServerURL": "https://plot.ly"
       },
       "data": [
        {
         "link": {
          "source": [
           0,
           0,
           0,
           0,
           0,
           0,
           0,
           0,
           0,
           0,
           0,
           0,
           0,
           0,
           1,
           1,
           1,
           1,
           1,
           1,
           1,
           1,
           1,
           1,
           1,
           2,
           2,
           2,
           2,
           3,
           3,
           3,
           3,
           3,
           4,
           4,
           4,
           4,
           4,
           5,
           5,
           5,
           5,
           6,
           6,
           6,
           7,
           7,
           7,
           7,
           8,
           8,
           8,
           9,
           9,
           9,
           9,
           9,
           9,
           10,
           10,
           10,
           10,
           11,
           11,
           11,
           11,
           11,
           12,
           12,
           12,
           12,
           12,
           12,
           12,
           13,
           13,
           13,
           13,
           13,
           13,
           13,
           13,
           13,
           14,
           14,
           14,
           14,
           14,
           14,
           14,
           15,
           15,
           15,
           16,
           16,
           16,
           16,
           16,
           17,
           17,
           17,
           18,
           18,
           18,
           19,
           19,
           19,
           19,
           19,
           19,
           19,
           19,
           19,
           20,
           20,
           21,
           21,
           22,
           22,
           22,
           23,
           23,
           23,
           23,
           24,
           25,
           25,
           26,
           26,
           26,
           26,
           26,
           26,
           26,
           26,
           26,
           26,
           27,
           27,
           27,
           27,
           27,
           27,
           27,
           27,
           27,
           27,
           27,
           27,
           27,
           28,
           28,
           28,
           29,
           29,
           29,
           29,
           29,
           29,
           29,
           30,
           30,
           30,
           30,
           30,
           30,
           31,
           31,
           31,
           31,
           31,
           31,
           31,
           31,
           31,
           31,
           31,
           32,
           32,
           32,
           32,
           32,
           32,
           32,
           32,
           32,
           32,
           32,
           32,
           32,
           33,
           33,
           34,
           34,
           34,
           34,
           35,
           35,
           35,
           35,
           35,
           35,
           36,
           37,
           37,
           38,
           38,
           38,
           38,
           38,
           39,
           39,
           39,
           39,
           39,
           39,
           39,
           39,
           40,
           40,
           40,
           41,
           41,
           41,
           41,
           41,
           41,
           42,
           42,
           42,
           43,
           43,
           44,
           44,
           44,
           44,
           44,
           44,
           44,
           44,
           44,
           44,
           44,
           44,
           44,
           44,
           44,
           44,
           44,
           44,
           44,
           44,
           44,
           44,
           44,
           44,
           44,
           44,
           45,
           45,
           45,
           45,
           45,
           45,
           45,
           45,
           45,
           45,
           45,
           45,
           45,
           45,
           45,
           46,
           46,
           46,
           46,
           46,
           46,
           46,
           46,
           46,
           46,
           46,
           46,
           46,
           46,
           46,
           46,
           46,
           47,
           47,
           47,
           47,
           47,
           47,
           47,
           47,
           47,
           47,
           47,
           47,
           47,
           47,
           48,
           48,
           48,
           48,
           48,
           48,
           48,
           48,
           48,
           48,
           48,
           48,
           48,
           48,
           48,
           48,
           48,
           49,
           49,
           49,
           49,
           49,
           49,
           49,
           49,
           49,
           49,
           49,
           49,
           50,
           50,
           50,
           50,
           50,
           50,
           50,
           50,
           50,
           50,
           50,
           50,
           50,
           50,
           50,
           50,
           50,
           50,
           50,
           50,
           50,
           50,
           50,
           50,
           50,
           50,
           50,
           50,
           51,
           51,
           51,
           51,
           51,
           51,
           51,
           51,
           51,
           51,
           51,
           52,
           52,
           52,
           52,
           52,
           52,
           52,
           52,
           52,
           52,
           52,
           52,
           52,
           53,
           53,
           53,
           53,
           53,
           53,
           53,
           53,
           53,
           53,
           54,
           54,
           54,
           54,
           54,
           54,
           54,
           54,
           54,
           54,
           54,
           54,
           54,
           54,
           54,
           55,
           55,
           55,
           55,
           55,
           55,
           55,
           55,
           55,
           55,
           55,
           56,
           56,
           56,
           56,
           56,
           56,
           56,
           56,
           56,
           56,
           57,
           57,
           57,
           57,
           57,
           57,
           57,
           57,
           57,
           57,
           57,
           57,
           57,
           58,
           58,
           58,
           58,
           58,
           58,
           59,
           59,
           59,
           59,
           59,
           59,
           59,
           59,
           59,
           60,
           60,
           60,
           60,
           60,
           61,
           61,
           62,
           63,
           63,
           63,
           64,
           65,
           65,
           66,
           66,
           66,
           66,
           67,
           67,
           67,
           68,
           68,
           69,
           69,
           70,
           70,
           71,
           71,
           71,
           72,
           72,
           72,
           72,
           72,
           73,
           73,
           73,
           73,
           74,
           74,
           74,
           74,
           75,
           75,
           75,
           75,
           75,
           75,
           76,
           76,
           76,
           76,
           76,
           76,
           77,
           77,
           77,
           77,
           78,
           78,
           78,
           78,
           78,
           78,
           79,
           79,
           79,
           80,
           80,
           80,
           81,
           81,
           81,
           82,
           82,
           82,
           83,
           84,
           84,
           84,
           84,
           84,
           85,
           85,
           85,
           86,
           87,
           87,
           87,
           87,
           87,
           87,
           88,
           88,
           88,
           88,
           88,
           88,
           89,
           89,
           90,
           90,
           91,
           91,
           91,
           91,
           92,
           92,
           92,
           92,
           92,
           93,
           93,
           94,
           94,
           94,
           95,
           95,
           96,
           96,
           97,
           97,
           97,
           97,
           98,
           99,
           100,
           100,
           100,
           100,
           101,
           101,
           102,
           103,
           103,
           103,
           104,
           104,
           104,
           105,
           106,
           107,
           108,
           109,
           110,
           110,
           111,
           111,
           112,
           112,
           113,
           113,
           113,
           114,
           115,
           115,
           116,
           116,
           116,
           116,
           117,
           117,
           117,
           118,
           118,
           119,
           119,
           120,
           120,
           120,
           121,
           121,
           122,
           122,
           122,
           123
          ],
          "target": [
           4,
           6,
           7,
           9,
           10,
           11,
           12,
           13,
           14,
           16,
           18,
           19,
           23,
           24,
           5,
           6,
           15,
           17,
           18,
           19,
           20,
           21,
           22,
           24,
           25,
           6,
           11,
           16,
           18,
           8,
           12,
           19,
           22,
           25,
           26,
           27,
           30,
           31,
           32,
           28,
           34,
           37,
           40,
           29,
           32,
           38,
           27,
           31,
           38,
           39,
           33,
           36,
           41,
           26,
           27,
           30,
           31,
           32,
           39,
           26,
           30,
           31,
           32,
           27,
           29,
           32,
           35,
           38,
           27,
           31,
           32,
           35,
           38,
           39,
           41,
           26,
           27,
           29,
           30,
           31,
           32,
           35,
           39,
           41,
           26,
           27,
           30,
           31,
           32,
           35,
           38,
           28,
           34,
           42,
           27,
           29,
           31,
           32,
           38,
           28,
           34,
           37,
           28,
           34,
           35,
           27,
           29,
           33,
           34,
           36,
           38,
           39,
           41,
           42,
           28,
           40,
           40,
           43,
           33,
           34,
           37,
           26,
           30,
           31,
           32,
           42,
           33,
           41,
           44,
           45,
           46,
           49,
           50,
           52,
           54,
           55,
           56,
           57,
           44,
           45,
           46,
           47,
           49,
           50,
           51,
           52,
           54,
           55,
           56,
           57,
           59,
           44,
           53,
           58,
           47,
           48,
           50,
           51,
           57,
           59,
           60,
           45,
           49,
           50,
           52,
           54,
           57,
           44,
           45,
           46,
           47,
           50,
           51,
           52,
           54,
           55,
           56,
           57,
           45,
           46,
           47,
           48,
           49,
           50,
           51,
           52,
           54,
           55,
           56,
           57,
           59,
           44,
           48,
           44,
           48,
           53,
           58,
           44,
           46,
           50,
           51,
           54,
           59,
           48,
           44,
           53,
           46,
           47,
           50,
           51,
           60,
           45,
           46,
           50,
           52,
           54,
           55,
           56,
           57,
           44,
           58,
           61,
           44,
           47,
           48,
           49,
           50,
           59,
           57,
           60,
           62,
           48,
           61,
           63,
           64,
           66,
           67,
           71,
           75,
           78,
           82,
           92,
           94,
           98,
           100,
           110,
           111,
           112,
           113,
           114,
           115,
           116,
           117,
           118,
           119,
           120,
           121,
           122,
           123,
           71,
           72,
           73,
           74,
           75,
           76,
           77,
           78,
           79,
           80,
           85,
           88,
           89,
           91,
           92,
           65,
           71,
           72,
           73,
           74,
           75,
           76,
           77,
           78,
           81,
           84,
           85,
           87,
           88,
           89,
           91,
           92,
           64,
           65,
           66,
           67,
           68,
           69,
           70,
           73,
           75,
           82,
           84,
           85,
           88,
           94,
           67,
           74,
           77,
           87,
           93,
           94,
           95,
           96,
           97,
           98,
           99,
           100,
           101,
           102,
           103,
           104,
           106,
           71,
           74,
           75,
           76,
           77,
           78,
           79,
           80,
           85,
           87,
           88,
           92,
           66,
           67,
           68,
           71,
           72,
           73,
           74,
           75,
           76,
           77,
           78,
           79,
           80,
           81,
           82,
           83,
           84,
           85,
           86,
           87,
           88,
           89,
           90,
           91,
           92,
           94,
           96,
           97,
           66,
           72,
           73,
           75,
           76,
           81,
           82,
           83,
           84,
           87,
           88,
           71,
           72,
           73,
           74,
           75,
           76,
           77,
           78,
           80,
           84,
           89,
           91,
           92,
           63,
           108,
           109,
           110,
           111,
           112,
           113,
           117,
           121,
           122,
           71,
           72,
           73,
           74,
           75,
           76,
           77,
           78,
           79,
           80,
           81,
           82,
           88,
           89,
           90,
           71,
           72,
           73,
           74,
           75,
           76,
           77,
           78,
           84,
           91,
           92,
           71,
           72,
           74,
           75,
           76,
           77,
           78,
           90,
           91,
           92,
           63,
           69,
           71,
           72,
           73,
           74,
           75,
           77,
           78,
           79,
           87,
           91,
           92,
           116,
           117,
           118,
           119,
           120,
           121,
           67,
           72,
           76,
           81,
           82,
           84,
           85,
           94,
           97,
           65,
           66,
           67,
           76,
           107,
           106,
           116,
           105,
           125,
           133,
           138,
           128,
           128,
           137,
           128,
           131,
           132,
           137,
           128,
           131,
           137,
           128,
           134,
           128,
           134,
           128,
           134,
           124,
           129,
           136,
           124,
           127,
           129,
           131,
           134,
           124,
           127,
           129,
           136,
           124,
           127,
           129,
           132,
           124,
           125,
           127,
           129,
           134,
           136,
           124,
           127,
           128,
           131,
           134,
           136,
           124,
           127,
           134,
           136,
           124,
           125,
           127,
           134,
           136,
           139,
           124,
           127,
           134,
           124,
           127,
           134,
           129,
           131,
           134,
           128,
           131,
           134,
           134,
           124,
           127,
           129,
           131,
           134,
           124,
           127,
           131,
           127,
           124,
           127,
           129,
           132,
           134,
           138,
           124,
           127,
           128,
           129,
           131,
           134,
           124,
           136,
           127,
           134,
           124,
           129,
           134,
           136,
           124,
           125,
           129,
           134,
           136,
           126,
           132,
           126,
           128,
           132,
           126,
           132,
           126,
           132,
           126,
           128,
           132,
           135,
           126,
           126,
           125,
           126,
           132,
           135,
           126,
           132,
           126,
           126,
           132,
           135,
           126,
           128,
           135,
           139,
           141,
           142,
           133,
           133,
           125,
           133,
           125,
           133,
           125,
           133,
           125,
           131,
           133,
           125,
           125,
           128,
           125,
           130,
           140,
           141,
           125,
           128,
           133,
           125,
           130,
           125,
           128,
           125,
           130,
           133,
           125,
           133,
           125,
           128,
           133,
           125
          ],
          "value": [
           1631,
           5,
           947,
           872,
           849,
           715,
           484,
           432,
           417,
           174,
           1,
           4,
           36,
           3,
           987,
           1,
           396,
           319,
           220,
           36,
           157,
           57,
           37,
           20,
           1,
           948,
           12,
           168,
           4,
           938,
           1,
           144,
           1,
           7,
           1533,
           1,
           19,
           72,
           6,
           963,
           18,
           4,
           2,
           941,
           3,
           10,
           772,
           73,
           1,
           101,
           586,
           336,
           16,
           81,
           167,
           1,
           586,
           20,
           17,
           18,
           819,
           1,
           11,
           2,
           2,
           297,
           420,
           6,
           355,
           8,
           83,
           27,
           5,
           6,
           1,
           120,
           113,
           2,
           49,
           64,
           35,
           3,
           44,
           2,
           3,
           32,
           18,
           11,
           336,
           16,
           1,
           128,
           267,
           1,
           1,
           107,
           1,
           8,
           225,
           8,
           3,
           308,
           6,
           218,
           1,
           2,
           1,
           6,
           2,
           1,
           1,
           2,
           135,
           34,
           3,
           154,
           5,
           52,
           1,
           36,
           1,
           30,
           1,
           4,
           1,
           23,
           7,
           1,
           2,
           1236,
           31,
           14,
           3,
           172,
           134,
           98,
           6,
           89,
           1,
           17,
           1014,
           1,
           1,
           65,
           52,
           101,
           50,
           76,
           26,
           40,
           1,
           1096,
           7,
           5,
           1036,
           1,
           6,
           1,
           1,
           3,
           5,
           6,
           884,
           10,
           1,
           3,
           3,
           1,
           210,
           330,
           1,
           24,
           1,
           70,
           62,
           43,
           50,
           28,
           36,
           12,
           5,
           2,
           33,
           678,
           10,
           4,
           5,
           4,
           4,
           1,
           6,
           1,
           599,
           539,
           1,
           2,
           2,
           1,
           9,
           5,
           313,
           3,
           136,
           337,
           12,
           301,
           1,
           158,
           5,
           1,
           84,
           1,
           21,
           3,
           20,
           1,
           2,
           117,
           5,
           4,
           153,
           4,
           2,
           1,
           143,
           1,
           5,
           3,
           23,
           12,
           23,
           1,
           51,
           9,
           1,
           1,
           1,
           1,
           1,
           2,
           1,
           1,
           3,
           1,
           1,
           3,
           16,
           5,
           58,
           27,
           21,
           4,
           146,
           48,
           291,
           318,
           323,
           284,
           92,
           37,
           4,
           1,
           8,
           159,
           4,
           90,
           1148,
           4,
           2,
           35,
           1,
           2,
           2,
           9,
           1,
           120,
           318,
           278,
           307,
           294,
           6,
           7,
           26,
           8,
           1,
           5,
           1,
           3,
           1,
           23,
           19,
           11,
           17,
           139,
           96,
           160,
           598,
           172,
           1,
           1,
           1,
           2,
           2,
           1,
           1,
           1,
           1,
           1,
           2,
           36,
           121,
           210,
           113,
           24,
           22,
           47,
           51,
           236,
           89,
           73,
           56,
           1,
           2,
           1,
           2,
           10,
           50,
           11,
           575,
           266,
           1,
           12,
           2,
           1,
           6,
           4,
           2,
           6,
           49,
           4,
           22,
           16,
           23,
           5,
           5,
           7,
           7,
           2,
           4,
           61,
           229,
           31,
           34,
           132,
           130,
           3,
           9,
           2,
           7,
           2,
           1,
           1,
           2,
           50,
           2,
           1,
           5,
           307,
           1,
           1,
           5,
           3,
           1,
           15,
           24,
           29,
           43,
           57,
           1,
           14,
           156,
           2,
           3,
           2,
           19,
           3,
           6,
           37,
           169,
           64,
           9,
           18,
           1,
           1,
           3,
           2,
           18,
           35,
           5,
           3,
           24,
           2,
           2,
           138,
           3,
           1,
           2,
           1,
           1,
           22,
           1,
           10,
           27,
           26,
           16,
           40,
           2,
           4,
           94,
           1,
           2,
           1,
           13,
           6,
           18,
           32,
           1,
           1,
           6,
           7,
           96,
           23,
           20,
           1,
           3,
           11,
           19,
           10,
           23,
           6,
           82,
           2,
           4,
           6,
           3,
           151,
           2,
           1,
           1,
           2,
           3,
           3,
           1,
           1,
           10,
           126,
           4,
           1,
           2,
           1,
           82,
           1,
           5,
           1,
           12,
           51,
           4,
           23,
           10,
           5,
           20,
           12,
           2,
           98,
           142,
           1,
           2,
           4,
           105,
           3,
           2,
           156,
           6,
           598,
           1,
           171,
           1,
           172,
           33,
           20,
           177,
           8,
           319,
           17,
           4,
           39,
           4,
           321,
           1,
           105,
           4,
           319,
           1,
           538,
           1,
           2,
           60,
           2,
           47,
           19,
           17,
           1,
           4,
           12,
           3,
           123,
           53,
           2,
           2,
           1646,
           1,
           10,
           3,
           5,
           3,
           3,
           587,
           1,
           16,
           260,
           2,
           5,
           323,
           1,
           1,
           131,
           2,
           62,
           6,
           2,
           4,
           6,
           227,
           72,
           2,
           1,
           34,
           21,
           69,
           7,
           2,
           52,
           3,
           6,
           90,
           1,
           5,
           4,
           33,
           29,
           1,
           1,
           16,
           9,
           5,
           3,
           133,
           50,
           1,
           9,
           5,
           2,
           1,
           35,
           15,
           28,
           86,
           1,
           209,
           9,
           105,
           17,
           2,
           3,
           4,
           23,
           47,
           1,
           49,
           1,
           1,
           212,
           24,
           89,
           71,
           1,
           1,
           52,
           2,
           2,
           23,
           52,
           12,
           37,
           169,
           1,
           66,
           16,
           9,
           7,
           16,
           56,
           2,
           1,
           27,
           2,
           19,
           4,
           142,
           8,
           5,
           145,
           2,
           2,
           48,
           1,
           291,
           1,
           315,
           3,
           2,
           328,
           1,
           282,
           1,
           3,
           92
          ]
         },
         "node": {
          "label": [
           "0",
           "1",
           "2",
           "3",
           "0",
           "1",
           "2",
           "3",
           "4",
           "5",
           "6",
           "7",
           "8",
           "9",
           "10",
           "11",
           "12",
           "13",
           "14",
           "15",
           "16",
           "17",
           "18",
           "19",
           "20",
           "21",
           "0",
           "1",
           "2",
           "3",
           "4",
           "5",
           "6",
           "7",
           "8",
           "9",
           "10",
           "11",
           "12",
           "13",
           "14",
           "15",
           "16",
           "17",
           "0",
           "1",
           "2",
           "3",
           "4",
           "5",
           "6",
           "7",
           "8",
           "9",
           "10",
           "11",
           "12",
           "13",
           "14",
           "15",
           "16",
           "17",
           "18",
           "0",
           "1",
           "2",
           "3",
           "4",
           "5",
           "6",
           "7",
           "8",
           "9",
           "10",
           "11",
           "12",
           "13",
           "14",
           "15",
           "16",
           "17",
           "18",
           "19",
           "20",
           "21",
           "22",
           "23",
           "24",
           "25",
           "26",
           "27",
           "28",
           "29",
           "30",
           "31",
           "32",
           "33",
           "34",
           "35",
           "36",
           "37",
           "38",
           "39",
           "40",
           "41",
           "42",
           "43",
           "44",
           "45",
           "46",
           "47",
           "48",
           "49",
           "50",
           "51",
           "52",
           "53",
           "54",
           "55",
           "56",
           "57",
           "58",
           "59",
           "60",
           "0",
           "1",
           "2",
           "3",
           "4",
           "5",
           "6",
           "7",
           "8",
           "9",
           "10",
           "11",
           "12",
           "13",
           "14",
           "15",
           "16",
           "17",
           "18"
          ],
          "line": {
           "color": "black",
           "width": 0.5
          },
          "pad": 15,
          "thickness": 20
         },
         "type": "sankey"
        }
       ],
       "layout": {
        "annotations": [
         {
          "showarrow": false,
          "text": "monocle_label",
          "x": 0,
          "xref": "x",
          "y": 1.05,
          "yref": "paper"
         },
         {
          "showarrow": false,
          "text": "scanpy_label",
          "x": 1,
          "xref": "x",
          "y": 1.05,
          "yref": "paper"
         },
         {
          "showarrow": false,
          "text": "seurat_label",
          "x": 2,
          "xref": "x",
          "y": 1.05,
          "yref": "paper"
         },
         {
          "showarrow": false,
          "text": "scvi-tools_label",
          "x": 3,
          "xref": "x",
          "y": 1.05,
          "yref": "paper"
         },
         {
          "showarrow": false,
          "text": "COTAN_label",
          "x": 4,
          "xref": "x",
          "y": 1.05,
          "yref": "paper"
         },
         {
          "showarrow": false,
          "text": "true_labels",
          "x": 5,
          "xref": "x",
          "y": 1.05,
          "yref": "paper"
         }
        ],
        "font": {
         "size": 10
        },
        "plot_bgcolor": "rgba(0,0,0,0)",
        "template": {
         "data": {
          "bar": [
           {
            "error_x": {
             "color": "#2a3f5f"
            },
            "error_y": {
             "color": "#2a3f5f"
            },
            "marker": {
             "line": {
              "color": "#E5ECF6",
              "width": 0.5
             },
             "pattern": {
              "fillmode": "overlay",
              "size": 10,
              "solidity": 0.2
             }
            },
            "type": "bar"
           }
          ],
          "barpolar": [
           {
            "marker": {
             "line": {
              "color": "#E5ECF6",
              "width": 0.5
             },
             "pattern": {
              "fillmode": "overlay",
              "size": 10,
              "solidity": 0.2
             }
            },
            "type": "barpolar"
           }
          ],
          "carpet": [
           {
            "aaxis": {
             "endlinecolor": "#2a3f5f",
             "gridcolor": "white",
             "linecolor": "white",
             "minorgridcolor": "white",
             "startlinecolor": "#2a3f5f"
            },
            "baxis": {
             "endlinecolor": "#2a3f5f",
             "gridcolor": "white",
             "linecolor": "white",
             "minorgridcolor": "white",
             "startlinecolor": "#2a3f5f"
            },
            "type": "carpet"
           }
          ],
          "choropleth": [
           {
            "colorbar": {
             "outlinewidth": 0,
             "ticks": ""
            },
            "type": "choropleth"
           }
          ],
          "contour": [
           {
            "colorbar": {
             "outlinewidth": 0,
             "ticks": ""
            },
            "colorscale": [
             [
              0,
              "#0d0887"
             ],
             [
              0.1111111111111111,
              "#46039f"
             ],
             [
              0.2222222222222222,
              "#7201a8"
             ],
             [
              0.3333333333333333,
              "#9c179e"
             ],
             [
              0.4444444444444444,
              "#bd3786"
             ],
             [
              0.5555555555555556,
              "#d8576b"
             ],
             [
              0.6666666666666666,
              "#ed7953"
             ],
             [
              0.7777777777777778,
              "#fb9f3a"
             ],
             [
              0.8888888888888888,
              "#fdca26"
             ],
             [
              1,
              "#f0f921"
             ]
            ],
            "type": "contour"
           }
          ],
          "contourcarpet": [
           {
            "colorbar": {
             "outlinewidth": 0,
             "ticks": ""
            },
            "type": "contourcarpet"
           }
          ],
          "heatmap": [
           {
            "colorbar": {
             "outlinewidth": 0,
             "ticks": ""
            },
            "colorscale": [
             [
              0,
              "#0d0887"
             ],
             [
              0.1111111111111111,
              "#46039f"
             ],
             [
              0.2222222222222222,
              "#7201a8"
             ],
             [
              0.3333333333333333,
              "#9c179e"
             ],
             [
              0.4444444444444444,
              "#bd3786"
             ],
             [
              0.5555555555555556,
              "#d8576b"
             ],
             [
              0.6666666666666666,
              "#ed7953"
             ],
             [
              0.7777777777777778,
              "#fb9f3a"
             ],
             [
              0.8888888888888888,
              "#fdca26"
             ],
             [
              1,
              "#f0f921"
             ]
            ],
            "type": "heatmap"
           }
          ],
          "heatmapgl": [
           {
            "colorbar": {
             "outlinewidth": 0,
             "ticks": ""
            },
            "colorscale": [
             [
              0,
              "#0d0887"
             ],
             [
              0.1111111111111111,
              "#46039f"
             ],
             [
              0.2222222222222222,
              "#7201a8"
             ],
             [
              0.3333333333333333,
              "#9c179e"
             ],
             [
              0.4444444444444444,
              "#bd3786"
             ],
             [
              0.5555555555555556,
              "#d8576b"
             ],
             [
              0.6666666666666666,
              "#ed7953"
             ],
             [
              0.7777777777777778,
              "#fb9f3a"
             ],
             [
              0.8888888888888888,
              "#fdca26"
             ],
             [
              1,
              "#f0f921"
             ]
            ],
            "type": "heatmapgl"
           }
          ],
          "histogram": [
           {
            "marker": {
             "pattern": {
              "fillmode": "overlay",
              "size": 10,
              "solidity": 0.2
             }
            },
            "type": "histogram"
           }
          ],
          "histogram2d": [
           {
            "colorbar": {
             "outlinewidth": 0,
             "ticks": ""
            },
            "colorscale": [
             [
              0,
              "#0d0887"
             ],
             [
              0.1111111111111111,
              "#46039f"
             ],
             [
              0.2222222222222222,
              "#7201a8"
             ],
             [
              0.3333333333333333,
              "#9c179e"
             ],
             [
              0.4444444444444444,
              "#bd3786"
             ],
             [
              0.5555555555555556,
              "#d8576b"
             ],
             [
              0.6666666666666666,
              "#ed7953"
             ],
             [
              0.7777777777777778,
              "#fb9f3a"
             ],
             [
              0.8888888888888888,
              "#fdca26"
             ],
             [
              1,
              "#f0f921"
             ]
            ],
            "type": "histogram2d"
           }
          ],
          "histogram2dcontour": [
           {
            "colorbar": {
             "outlinewidth": 0,
             "ticks": ""
            },
            "colorscale": [
             [
              0,
              "#0d0887"
             ],
             [
              0.1111111111111111,
              "#46039f"
             ],
             [
              0.2222222222222222,
              "#7201a8"
             ],
             [
              0.3333333333333333,
              "#9c179e"
             ],
             [
              0.4444444444444444,
              "#bd3786"
             ],
             [
              0.5555555555555556,
              "#d8576b"
             ],
             [
              0.6666666666666666,
              "#ed7953"
             ],
             [
              0.7777777777777778,
              "#fb9f3a"
             ],
             [
              0.8888888888888888,
              "#fdca26"
             ],
             [
              1,
              "#f0f921"
             ]
            ],
            "type": "histogram2dcontour"
           }
          ],
          "mesh3d": [
           {
            "colorbar": {
             "outlinewidth": 0,
             "ticks": ""
            },
            "type": "mesh3d"
           }
          ],
          "parcoords": [
           {
            "line": {
             "colorbar": {
              "outlinewidth": 0,
              "ticks": ""
             }
            },
            "type": "parcoords"
           }
          ],
          "pie": [
           {
            "automargin": true,
            "type": "pie"
           }
          ],
          "scatter": [
           {
            "fillpattern": {
             "fillmode": "overlay",
             "size": 10,
             "solidity": 0.2
            },
            "type": "scatter"
           }
          ],
          "scatter3d": [
           {
            "line": {
             "colorbar": {
              "outlinewidth": 0,
              "ticks": ""
             }
            },
            "marker": {
             "colorbar": {
              "outlinewidth": 0,
              "ticks": ""
             }
            },
            "type": "scatter3d"
           }
          ],
          "scattercarpet": [
           {
            "marker": {
             "colorbar": {
              "outlinewidth": 0,
              "ticks": ""
             }
            },
            "type": "scattercarpet"
           }
          ],
          "scattergeo": [
           {
            "marker": {
             "colorbar": {
              "outlinewidth": 0,
              "ticks": ""
             }
            },
            "type": "scattergeo"
           }
          ],
          "scattergl": [
           {
            "marker": {
             "colorbar": {
              "outlinewidth": 0,
              "ticks": ""
             }
            },
            "type": "scattergl"
           }
          ],
          "scattermapbox": [
           {
            "marker": {
             "colorbar": {
              "outlinewidth": 0,
              "ticks": ""
             }
            },
            "type": "scattermapbox"
           }
          ],
          "scatterpolar": [
           {
            "marker": {
             "colorbar": {
              "outlinewidth": 0,
              "ticks": ""
             }
            },
            "type": "scatterpolar"
           }
          ],
          "scatterpolargl": [
           {
            "marker": {
             "colorbar": {
              "outlinewidth": 0,
              "ticks": ""
             }
            },
            "type": "scatterpolargl"
           }
          ],
          "scatterternary": [
           {
            "marker": {
             "colorbar": {
              "outlinewidth": 0,
              "ticks": ""
             }
            },
            "type": "scatterternary"
           }
          ],
          "surface": [
           {
            "colorbar": {
             "outlinewidth": 0,
             "ticks": ""
            },
            "colorscale": [
             [
              0,
              "#0d0887"
             ],
             [
              0.1111111111111111,
              "#46039f"
             ],
             [
              0.2222222222222222,
              "#7201a8"
             ],
             [
              0.3333333333333333,
              "#9c179e"
             ],
             [
              0.4444444444444444,
              "#bd3786"
             ],
             [
              0.5555555555555556,
              "#d8576b"
             ],
             [
              0.6666666666666666,
              "#ed7953"
             ],
             [
              0.7777777777777778,
              "#fb9f3a"
             ],
             [
              0.8888888888888888,
              "#fdca26"
             ],
             [
              1,
              "#f0f921"
             ]
            ],
            "type": "surface"
           }
          ],
          "table": [
           {
            "cells": {
             "fill": {
              "color": "#EBF0F8"
             },
             "line": {
              "color": "white"
             }
            },
            "header": {
             "fill": {
              "color": "#C8D4E3"
             },
             "line": {
              "color": "white"
             }
            },
            "type": "table"
           }
          ]
         },
         "layout": {
          "annotationdefaults": {
           "arrowcolor": "#2a3f5f",
           "arrowhead": 0,
           "arrowwidth": 1
          },
          "autotypenumbers": "strict",
          "coloraxis": {
           "colorbar": {
            "outlinewidth": 0,
            "ticks": ""
           }
          },
          "colorscale": {
           "diverging": [
            [
             0,
             "#8e0152"
            ],
            [
             0.1,
             "#c51b7d"
            ],
            [
             0.2,
             "#de77ae"
            ],
            [
             0.3,
             "#f1b6da"
            ],
            [
             0.4,
             "#fde0ef"
            ],
            [
             0.5,
             "#f7f7f7"
            ],
            [
             0.6,
             "#e6f5d0"
            ],
            [
             0.7,
             "#b8e186"
            ],
            [
             0.8,
             "#7fbc41"
            ],
            [
             0.9,
             "#4d9221"
            ],
            [
             1,
             "#276419"
            ]
           ],
           "sequential": [
            [
             0,
             "#0d0887"
            ],
            [
             0.1111111111111111,
             "#46039f"
            ],
            [
             0.2222222222222222,
             "#7201a8"
            ],
            [
             0.3333333333333333,
             "#9c179e"
            ],
            [
             0.4444444444444444,
             "#bd3786"
            ],
            [
             0.5555555555555556,
             "#d8576b"
            ],
            [
             0.6666666666666666,
             "#ed7953"
            ],
            [
             0.7777777777777778,
             "#fb9f3a"
            ],
            [
             0.8888888888888888,
             "#fdca26"
            ],
            [
             1,
             "#f0f921"
            ]
           ],
           "sequentialminus": [
            [
             0,
             "#0d0887"
            ],
            [
             0.1111111111111111,
             "#46039f"
            ],
            [
             0.2222222222222222,
             "#7201a8"
            ],
            [
             0.3333333333333333,
             "#9c179e"
            ],
            [
             0.4444444444444444,
             "#bd3786"
            ],
            [
             0.5555555555555556,
             "#d8576b"
            ],
            [
             0.6666666666666666,
             "#ed7953"
            ],
            [
             0.7777777777777778,
             "#fb9f3a"
            ],
            [
             0.8888888888888888,
             "#fdca26"
            ],
            [
             1,
             "#f0f921"
            ]
           ]
          },
          "colorway": [
           "#636efa",
           "#EF553B",
           "#00cc96",
           "#ab63fa",
           "#FFA15A",
           "#19d3f3",
           "#FF6692",
           "#B6E880",
           "#FF97FF",
           "#FECB52"
          ],
          "font": {
           "color": "#2a3f5f"
          },
          "geo": {
           "bgcolor": "white",
           "lakecolor": "white",
           "landcolor": "#E5ECF6",
           "showlakes": true,
           "showland": true,
           "subunitcolor": "white"
          },
          "hoverlabel": {
           "align": "left"
          },
          "hovermode": "closest",
          "mapbox": {
           "style": "light"
          },
          "paper_bgcolor": "white",
          "plot_bgcolor": "#E5ECF6",
          "polar": {
           "angularaxis": {
            "gridcolor": "white",
            "linecolor": "white",
            "ticks": ""
           },
           "bgcolor": "#E5ECF6",
           "radialaxis": {
            "gridcolor": "white",
            "linecolor": "white",
            "ticks": ""
           }
          },
          "scene": {
           "xaxis": {
            "backgroundcolor": "#E5ECF6",
            "gridcolor": "white",
            "gridwidth": 2,
            "linecolor": "white",
            "showbackground": true,
            "ticks": "",
            "zerolinecolor": "white"
           },
           "yaxis": {
            "backgroundcolor": "#E5ECF6",
            "gridcolor": "white",
            "gridwidth": 2,
            "linecolor": "white",
            "showbackground": true,
            "ticks": "",
            "zerolinecolor": "white"
           },
           "zaxis": {
            "backgroundcolor": "#E5ECF6",
            "gridcolor": "white",
            "gridwidth": 2,
            "linecolor": "white",
            "showbackground": true,
            "ticks": "",
            "zerolinecolor": "white"
           }
          },
          "shapedefaults": {
           "line": {
            "color": "#2a3f5f"
           }
          },
          "ternary": {
           "aaxis": {
            "gridcolor": "white",
            "linecolor": "white",
            "ticks": ""
           },
           "baxis": {
            "gridcolor": "white",
            "linecolor": "white",
            "ticks": ""
           },
           "bgcolor": "#E5ECF6",
           "caxis": {
            "gridcolor": "white",
            "linecolor": "white",
            "ticks": ""
           }
          },
          "title": {
           "x": 0.05
          },
          "xaxis": {
           "automargin": true,
           "gridcolor": "white",
           "linecolor": "white",
           "ticks": "",
           "title": {
            "standoff": 15
           },
           "zerolinecolor": "white",
           "zerolinewidth": 2
          },
          "yaxis": {
           "automargin": true,
           "gridcolor": "white",
           "linecolor": "white",
           "ticks": "",
           "title": {
            "standoff": 15
           },
           "zerolinecolor": "white",
           "zerolinewidth": 2
          }
         }
        },
        "title": {
         "text": "PBMC3 clustering"
        },
        "xaxis": {
         "showgrid": false,
         "visible": false,
         "zeroline": false
        },
        "yaxis": {
         "showgrid": false,
         "visible": false,
         "zeroline": false
        }
       }
      }
     },
     "metadata": {},
     "output_type": "display_data"
    },
    {
     "data": {
      "application/vnd.plotly.v1+json": {
       "config": {
        "plotlyServerURL": "https://plot.ly"
       },
       "data": [
        {
         "link": {
          "source": [
           0,
           0,
           0,
           0,
           0,
           0,
           0,
           0,
           0,
           0,
           0,
           0,
           1,
           1,
           1,
           1,
           1,
           1,
           1,
           1,
           1,
           1,
           1,
           1,
           2,
           2,
           2,
           2,
           2,
           3,
           3,
           3,
           3,
           3,
           4,
           4,
           4,
           5,
           5,
           5,
           5,
           5,
           6,
           6,
           6,
           6,
           6,
           6,
           7,
           7,
           7,
           7,
           8,
           8,
           8,
           8,
           8,
           8,
           9,
           9,
           9,
           9,
           9,
           10,
           10,
           10,
           10,
           10,
           10,
           11,
           11,
           11,
           11,
           12,
           12,
           12,
           12,
           12,
           13,
           13,
           13,
           13,
           13,
           14,
           14,
           14,
           14,
           14,
           14,
           15,
           15,
           15,
           15,
           16,
           16,
           16,
           16,
           17,
           17,
           17,
           17,
           17,
           17,
           17,
           18,
           18,
           18,
           19,
           19,
           19,
           19,
           19,
           20,
           20,
           20,
           20,
           20,
           20,
           20,
           21,
           21,
           21,
           22,
           23,
           23,
           23,
           23,
           23,
           23,
           24,
           24,
           25,
           25,
           25,
           25,
           25,
           25,
           25,
           25,
           26,
           26,
           26,
           27,
           27,
           27,
           27,
           27,
           27,
           28,
           28,
           28,
           28,
           29,
           29,
           29,
           29,
           30,
           30,
           30,
           30,
           30,
           30,
           30,
           31,
           31,
           31,
           31,
           31,
           31,
           31,
           32,
           32,
           33,
           33,
           33,
           33,
           34,
           34,
           34,
           34,
           34,
           34,
           35,
           35,
           35,
           36,
           36,
           36,
           36,
           37,
           37,
           38,
           38,
           38,
           38,
           38,
           38,
           38,
           39,
           39,
           39,
           39,
           39,
           40,
           40,
           40,
           41,
           41,
           42,
           42,
           42,
           42,
           42,
           43,
           43,
           43,
           43,
           43,
           44,
           44,
           44,
           44,
           44,
           44,
           45,
           45,
           45,
           45,
           45,
           45,
           45,
           45,
           45,
           45,
           45,
           45,
           46,
           46,
           46,
           46,
           46,
           46,
           46,
           46,
           46,
           46,
           46,
           46,
           46,
           46,
           46,
           46,
           47,
           47,
           47,
           47,
           47,
           47,
           47,
           47,
           48,
           48,
           48,
           48,
           48,
           48,
           48,
           48,
           48,
           48,
           48,
           48,
           48,
           48,
           48,
           49,
           49,
           49,
           49,
           49,
           49,
           49,
           49,
           50,
           50,
           50,
           50,
           50,
           50,
           50,
           50,
           50,
           50,
           50,
           50,
           50,
           50,
           51,
           51,
           51,
           51,
           51,
           51,
           51,
           51,
           51,
           51,
           51,
           51,
           51,
           51,
           52,
           52,
           52,
           52,
           52,
           52,
           53,
           53,
           53,
           53,
           54,
           54,
           54,
           54,
           54,
           54,
           54,
           54,
           54,
           54,
           54,
           55,
           55,
           55,
           55,
           55,
           56,
           56,
           56,
           56,
           56,
           56,
           57,
           57,
           57,
           57,
           57,
           57,
           57,
           57,
           58,
           58,
           59,
           59,
           59,
           59,
           59,
           60,
           60,
           60,
           60,
           61,
           61,
           61,
           62,
           62,
           62,
           63,
           64,
           65,
           66,
           67,
           68,
           69,
           69,
           70,
           71,
           71,
           71,
           71,
           72,
           72,
           73,
           73,
           74,
           74,
           75,
           76,
           77,
           78,
           79,
           79,
           79,
           79,
           79,
           80,
           80,
           81,
           81,
           81,
           82,
           82,
           83,
           83,
           83,
           83,
           84,
           85,
           86,
           86,
           86,
           86,
           87,
           87,
           88,
           89,
           89,
           90,
           90,
           91,
           92,
           93,
           94,
           94,
           94,
           94,
           94,
           95,
           95,
           95,
           95,
           95,
           96,
           96,
           96,
           97,
           97,
           97,
           97,
           97,
           97,
           97,
           98,
           98,
           99,
           99,
           99,
           99,
           99,
           99,
           100,
           100,
           100,
           101,
           101,
           101,
           101,
           101,
           101,
           101,
           101,
           102,
           102,
           102,
           102,
           102,
           102
          ],
          "target": [
           5,
           7,
           9,
           10,
           11,
           12,
           13,
           14,
           17,
           18,
           20,
           21,
           3,
           6,
           8,
           14,
           15,
           16,
           17,
           19,
           20,
           21,
           22,
           23,
           4,
           13,
           14,
           23,
           24,
           27,
           28,
           30,
           38,
           39,
           29,
           33,
           42,
           25,
           26,
           32,
           34,
           35,
           27,
           28,
           30,
           36,
           38,
           39,
           25,
           26,
           35,
           37,
           27,
           28,
           30,
           36,
           38,
           39,
           25,
           26,
           31,
           34,
           35,
           25,
           26,
           31,
           34,
           35,
           37,
           25,
           31,
           34,
           35,
           31,
           32,
           33,
           34,
           42,
           25,
           26,
           34,
           35,
           37,
           29,
           31,
           33,
           34,
           39,
           42,
           27,
           28,
           30,
           39,
           27,
           30,
           36,
           38,
           25,
           27,
           28,
           30,
           31,
           38,
           39,
           31,
           32,
           34,
           27,
           28,
           30,
           38,
           39,
           27,
           28,
           29,
           30,
           31,
           36,
           40,
           25,
           26,
           35,
           41,
           27,
           28,
           30,
           33,
           36,
           43,
           29,
           33,
           44,
           46,
           47,
           48,
           49,
           52,
           54,
           56,
           44,
           47,
           49,
           46,
           48,
           50,
           53,
           54,
           57,
           46,
           48,
           50,
           54,
           45,
           47,
           51,
           58,
           46,
           48,
           50,
           53,
           54,
           55,
           57,
           47,
           49,
           51,
           52,
           54,
           56,
           57,
           51,
           56,
           45,
           51,
           54,
           59,
           44,
           47,
           49,
           51,
           52,
           56,
           44,
           47,
           49,
           46,
           48,
           50,
           53,
           44,
           49,
           46,
           48,
           50,
           52,
           54,
           55,
           56,
           46,
           48,
           50,
           51,
           55,
           46,
           48,
           57,
           55,
           58,
           44,
           45,
           47,
           51,
           52,
           46,
           48,
           50,
           53,
           54,
           94,
           95,
           99,
           100,
           101,
           102,
           60,
           78,
           79,
           80,
           81,
           82,
           83,
           84,
           85,
           86,
           87,
           95,
           61,
           62,
           63,
           64,
           65,
           66,
           67,
           68,
           69,
           70,
           71,
           72,
           73,
           74,
           77,
           101,
           81,
           94,
           95,
           96,
           97,
           99,
           101,
           102,
           61,
           62,
           63,
           64,
           65,
           66,
           67,
           68,
           69,
           70,
           71,
           72,
           73,
           74,
           101,
           89,
           93,
           94,
           97,
           99,
           100,
           101,
           102,
           61,
           62,
           63,
           64,
           65,
           66,
           67,
           68,
           69,
           70,
           71,
           72,
           73,
           74,
           60,
           71,
           79,
           81,
           83,
           88,
           89,
           90,
           91,
           92,
           93,
           94,
           98,
           102,
           62,
           81,
           97,
           98,
           101,
           102,
           61,
           69,
           72,
           74,
           61,
           62,
           64,
           66,
           69,
           70,
           73,
           79,
           92,
           97,
           101,
           62,
           65,
           66,
           71,
           75,
           62,
           90,
           97,
           98,
           99,
           101,
           63,
           66,
           67,
           69,
           76,
           77,
           86,
           98,
           75,
           86,
           60,
           79,
           80,
           83,
           84,
           104,
           113,
           118,
           119,
           104,
           107,
           108,
           107,
           108,
           111,
           107,
           107,
           107,
           107,
           107,
           107,
           107,
           108,
           107,
           107,
           108,
           117,
           119,
           107,
           112,
           107,
           108,
           107,
           112,
           117,
           115,
           107,
           113,
           104,
           107,
           111,
           113,
           118,
           113,
           118,
           104,
           109,
           111,
           104,
           113,
           104,
           113,
           118,
           119,
           104,
           104,
           104,
           107,
           113,
           119,
           104,
           113,
           111,
           106,
           114,
           111,
           119,
           111,
           111,
           111,
           105,
           110,
           114,
           116,
           119,
           104,
           105,
           110,
           116,
           119,
           105,
           111,
           116,
           103,
           104,
           105,
           106,
           107,
           110,
           114,
           103,
           107,
           104,
           105,
           109,
           110,
           116,
           119,
           105,
           109,
           119,
           103,
           105,
           107,
           109,
           110,
           114,
           116,
           119,
           103,
           106,
           109,
           110,
           111,
           114
          ],
          "value": [
           622,
           491,
           423,
           385,
           382,
           376,
           366,
           8,
           9,
           117,
           1,
           99,
           873,
           586,
           476,
           4,
           207,
           207,
           132,
           116,
           103,
           1,
           59,
           44,
           688,
           1,
           307,
           9,
           45,
           243,
           477,
           147,
           3,
           3,
           584,
           101,
           3,
           466,
           105,
           2,
           1,
           48,
           556,
           13,
           12,
           2,
           2,
           1,
           22,
           458,
           10,
           1,
           4,
           142,
           310,
           13,
           4,
           3,
           342,
           5,
           11,
           4,
           61,
           30,
           15,
           13,
           127,
           9,
           191,
           3,
           372,
           6,
           1,
           4,
           359,
           1,
           11,
           1,
           77,
           236,
           2,
           51,
           1,
           37,
           1,
           233,
           1,
           2,
           45,
           16,
           133,
           56,
           2,
           1,
           2,
           203,
           1,
           2,
           7,
           1,
           2,
           2,
           124,
           3,
           6,
           4,
           107,
           1,
           1,
           3,
           2,
           109,
           5,
           5,
           1,
           7,
           1,
           1,
           84,
           12,
           35,
           53,
           59,
           1,
           3,
           2,
           2,
           1,
           44,
           33,
           12,
           232,
           1,
           678,
           1,
           26,
           7,
           3,
           6,
           803,
           32,
           19,
           255,
           524,
           36,
           1,
           15,
           3,
           580,
           123,
           70,
           2,
           650,
           1,
           3,
           1,
           154,
           44,
           335,
           1,
           1,
           2,
           4,
           4,
           2,
           2,
           316,
           2,
           83,
           1,
           360,
           5,
           338,
           1,
           1,
           9,
           2,
           8,
           235,
           10,
           1,
           3,
           55,
           169,
           9,
           1,
           8,
           19,
           192,
           2,
           191,
           27,
           16,
           10,
           1,
           79,
           2,
           1,
           3,
           3,
           8,
           2,
           107,
           3,
           3,
           78,
           1,
           58,
           1,
           39,
           1,
           1,
           7,
           1,
           5,
           2,
           1,
           35,
           9,
           2,
           849,
           3,
           231,
           1,
           42,
           12,
           17,
           9,
           35,
           145,
           114,
           34,
           124,
           418,
           76,
           1,
           1,
           26,
           4,
           22,
           25,
           209,
           86,
           164,
           245,
           231,
           3,
           1,
           4,
           1,
           2,
           1,
           1,
           28,
           57,
           20,
           4,
           52,
           727,
           4,
           5,
           11,
           3,
           10,
           24,
           25,
           16,
           18,
           532,
           68,
           2,
           5,
           3,
           4,
           1,
           102,
           1,
           8,
           2,
           11,
           204,
           19,
           135,
           1,
           9,
           2,
           13,
           116,
           32,
           69,
           10,
           36,
           3,
           6,
           20,
           94,
           69,
           1,
           1,
           1,
           1,
           1,
           16,
           9,
           81,
           55,
           156,
           51,
           1,
           1,
           4,
           1,
           7,
           317,
           1,
           4,
           2,
           1,
           2,
           191,
           1,
           33,
           73,
           2,
           1,
           19,
           1,
           1,
           2,
           1,
           2,
           3,
           2,
           1,
           1,
           107,
           1,
           1,
           4,
           4,
           82,
           1,
           6,
           6,
           1,
           1,
           3,
           51,
           21,
           2,
           1,
           58,
           1,
           1,
           5,
           1,
           1,
           1,
           2,
           40,
           1,
           1,
           1,
           39,
           1,
           109,
           5,
           9,
           15,
           47,
           166,
           269,
           172,
           192,
           835,
           2,
           303,
           10,
           104,
           4,
           1,
           14,
           203,
           99,
           3,
           66,
           9,
           59,
           51,
           23,
           12,
           1,
           2,
           1,
           16,
           5,
           9,
           1,
           42,
           1,
           1,
           31,
           114,
           16,
           97,
           1,
           2,
           35,
           124,
           409,
           3,
           8,
           1,
           75,
           1,
           16,
           96,
           15,
           83,
           2,
           55,
           157,
           52,
           22,
           4,
           7,
           11,
           2,
           1,
           4,
           2,
           52,
           1,
           1,
           1,
           18,
           311,
           1,
           2,
           1,
           3,
           6,
           5,
           84,
           1,
           1,
           882,
           5,
           13,
           10,
           2,
           6,
           200,
           1,
           2,
           430,
           3,
           12,
           531,
           1,
           4,
           9,
           2,
           4,
           91,
           1,
           3,
           45
          ]
         },
         "node": {
          "label": [
           "0",
           "1",
           "2",
           "0",
           "1",
           "2",
           "3",
           "4",
           "5",
           "6",
           "7",
           "8",
           "9",
           "10",
           "11",
           "12",
           "13",
           "14",
           "15",
           "16",
           "17",
           "18",
           "19",
           "20",
           "21",
           "0",
           "1",
           "2",
           "3",
           "4",
           "5",
           "6",
           "7",
           "8",
           "9",
           "10",
           "11",
           "12",
           "13",
           "14",
           "15",
           "16",
           "17",
           "18",
           "0",
           "1",
           "2",
           "3",
           "4",
           "5",
           "6",
           "7",
           "8",
           "9",
           "10",
           "11",
           "12",
           "13",
           "14",
           "15",
           "0",
           "1",
           "2",
           "3",
           "4",
           "5",
           "6",
           "7",
           "8",
           "9",
           "10",
           "11",
           "12",
           "13",
           "14",
           "15",
           "16",
           "17",
           "18",
           "19",
           "20",
           "21",
           "22",
           "23",
           "24",
           "25",
           "26",
           "27",
           "28",
           "29",
           "30",
           "31",
           "32",
           "33",
           "34",
           "35",
           "36",
           "37",
           "38",
           "39",
           "40",
           "41",
           "42",
           "0",
           "1",
           "2",
           "3",
           "4",
           "5",
           "6",
           "7",
           "8",
           "9",
           "10",
           "11",
           "12",
           "13",
           "14",
           "15",
           "16"
          ],
          "line": {
           "color": "black",
           "width": 0.5
          },
          "pad": 15,
          "thickness": 20
         },
         "type": "sankey"
        }
       ],
       "layout": {
        "annotations": [
         {
          "showarrow": false,
          "text": "monocle_label",
          "x": 0,
          "xref": "x",
          "y": 1.05,
          "yref": "paper"
         },
         {
          "showarrow": false,
          "text": "scanpy_label",
          "x": 1,
          "xref": "x",
          "y": 1.05,
          "yref": "paper"
         },
         {
          "showarrow": false,
          "text": "seurat_label",
          "x": 2,
          "xref": "x",
          "y": 1.05,
          "yref": "paper"
         },
         {
          "showarrow": false,
          "text": "scvi-tools_label",
          "x": 3,
          "xref": "x",
          "y": 1.05,
          "yref": "paper"
         },
         {
          "showarrow": false,
          "text": "COTAN_label",
          "x": 4,
          "xref": "x",
          "y": 1.05,
          "yref": "paper"
         },
         {
          "showarrow": false,
          "text": "true_labels",
          "x": 5,
          "xref": "x",
          "y": 1.05,
          "yref": "paper"
         }
        ],
        "font": {
         "size": 10
        },
        "plot_bgcolor": "rgba(0,0,0,0)",
        "template": {
         "data": {
          "bar": [
           {
            "error_x": {
             "color": "#2a3f5f"
            },
            "error_y": {
             "color": "#2a3f5f"
            },
            "marker": {
             "line": {
              "color": "#E5ECF6",
              "width": 0.5
             },
             "pattern": {
              "fillmode": "overlay",
              "size": 10,
              "solidity": 0.2
             }
            },
            "type": "bar"
           }
          ],
          "barpolar": [
           {
            "marker": {
             "line": {
              "color": "#E5ECF6",
              "width": 0.5
             },
             "pattern": {
              "fillmode": "overlay",
              "size": 10,
              "solidity": 0.2
             }
            },
            "type": "barpolar"
           }
          ],
          "carpet": [
           {
            "aaxis": {
             "endlinecolor": "#2a3f5f",
             "gridcolor": "white",
             "linecolor": "white",
             "minorgridcolor": "white",
             "startlinecolor": "#2a3f5f"
            },
            "baxis": {
             "endlinecolor": "#2a3f5f",
             "gridcolor": "white",
             "linecolor": "white",
             "minorgridcolor": "white",
             "startlinecolor": "#2a3f5f"
            },
            "type": "carpet"
           }
          ],
          "choropleth": [
           {
            "colorbar": {
             "outlinewidth": 0,
             "ticks": ""
            },
            "type": "choropleth"
           }
          ],
          "contour": [
           {
            "colorbar": {
             "outlinewidth": 0,
             "ticks": ""
            },
            "colorscale": [
             [
              0,
              "#0d0887"
             ],
             [
              0.1111111111111111,
              "#46039f"
             ],
             [
              0.2222222222222222,
              "#7201a8"
             ],
             [
              0.3333333333333333,
              "#9c179e"
             ],
             [
              0.4444444444444444,
              "#bd3786"
             ],
             [
              0.5555555555555556,
              "#d8576b"
             ],
             [
              0.6666666666666666,
              "#ed7953"
             ],
             [
              0.7777777777777778,
              "#fb9f3a"
             ],
             [
              0.8888888888888888,
              "#fdca26"
             ],
             [
              1,
              "#f0f921"
             ]
            ],
            "type": "contour"
           }
          ],
          "contourcarpet": [
           {
            "colorbar": {
             "outlinewidth": 0,
             "ticks": ""
            },
            "type": "contourcarpet"
           }
          ],
          "heatmap": [
           {
            "colorbar": {
             "outlinewidth": 0,
             "ticks": ""
            },
            "colorscale": [
             [
              0,
              "#0d0887"
             ],
             [
              0.1111111111111111,
              "#46039f"
             ],
             [
              0.2222222222222222,
              "#7201a8"
             ],
             [
              0.3333333333333333,
              "#9c179e"
             ],
             [
              0.4444444444444444,
              "#bd3786"
             ],
             [
              0.5555555555555556,
              "#d8576b"
             ],
             [
              0.6666666666666666,
              "#ed7953"
             ],
             [
              0.7777777777777778,
              "#fb9f3a"
             ],
             [
              0.8888888888888888,
              "#fdca26"
             ],
             [
              1,
              "#f0f921"
             ]
            ],
            "type": "heatmap"
           }
          ],
          "heatmapgl": [
           {
            "colorbar": {
             "outlinewidth": 0,
             "ticks": ""
            },
            "colorscale": [
             [
              0,
              "#0d0887"
             ],
             [
              0.1111111111111111,
              "#46039f"
             ],
             [
              0.2222222222222222,
              "#7201a8"
             ],
             [
              0.3333333333333333,
              "#9c179e"
             ],
             [
              0.4444444444444444,
              "#bd3786"
             ],
             [
              0.5555555555555556,
              "#d8576b"
             ],
             [
              0.6666666666666666,
              "#ed7953"
             ],
             [
              0.7777777777777778,
              "#fb9f3a"
             ],
             [
              0.8888888888888888,
              "#fdca26"
             ],
             [
              1,
              "#f0f921"
             ]
            ],
            "type": "heatmapgl"
           }
          ],
          "histogram": [
           {
            "marker": {
             "pattern": {
              "fillmode": "overlay",
              "size": 10,
              "solidity": 0.2
             }
            },
            "type": "histogram"
           }
          ],
          "histogram2d": [
           {
            "colorbar": {
             "outlinewidth": 0,
             "ticks": ""
            },
            "colorscale": [
             [
              0,
              "#0d0887"
             ],
             [
              0.1111111111111111,
              "#46039f"
             ],
             [
              0.2222222222222222,
              "#7201a8"
             ],
             [
              0.3333333333333333,
              "#9c179e"
             ],
             [
              0.4444444444444444,
              "#bd3786"
             ],
             [
              0.5555555555555556,
              "#d8576b"
             ],
             [
              0.6666666666666666,
              "#ed7953"
             ],
             [
              0.7777777777777778,
              "#fb9f3a"
             ],
             [
              0.8888888888888888,
              "#fdca26"
             ],
             [
              1,
              "#f0f921"
             ]
            ],
            "type": "histogram2d"
           }
          ],
          "histogram2dcontour": [
           {
            "colorbar": {
             "outlinewidth": 0,
             "ticks": ""
            },
            "colorscale": [
             [
              0,
              "#0d0887"
             ],
             [
              0.1111111111111111,
              "#46039f"
             ],
             [
              0.2222222222222222,
              "#7201a8"
             ],
             [
              0.3333333333333333,
              "#9c179e"
             ],
             [
              0.4444444444444444,
              "#bd3786"
             ],
             [
              0.5555555555555556,
              "#d8576b"
             ],
             [
              0.6666666666666666,
              "#ed7953"
             ],
             [
              0.7777777777777778,
              "#fb9f3a"
             ],
             [
              0.8888888888888888,
              "#fdca26"
             ],
             [
              1,
              "#f0f921"
             ]
            ],
            "type": "histogram2dcontour"
           }
          ],
          "mesh3d": [
           {
            "colorbar": {
             "outlinewidth": 0,
             "ticks": ""
            },
            "type": "mesh3d"
           }
          ],
          "parcoords": [
           {
            "line": {
             "colorbar": {
              "outlinewidth": 0,
              "ticks": ""
             }
            },
            "type": "parcoords"
           }
          ],
          "pie": [
           {
            "automargin": true,
            "type": "pie"
           }
          ],
          "scatter": [
           {
            "fillpattern": {
             "fillmode": "overlay",
             "size": 10,
             "solidity": 0.2
            },
            "type": "scatter"
           }
          ],
          "scatter3d": [
           {
            "line": {
             "colorbar": {
              "outlinewidth": 0,
              "ticks": ""
             }
            },
            "marker": {
             "colorbar": {
              "outlinewidth": 0,
              "ticks": ""
             }
            },
            "type": "scatter3d"
           }
          ],
          "scattercarpet": [
           {
            "marker": {
             "colorbar": {
              "outlinewidth": 0,
              "ticks": ""
             }
            },
            "type": "scattercarpet"
           }
          ],
          "scattergeo": [
           {
            "marker": {
             "colorbar": {
              "outlinewidth": 0,
              "ticks": ""
             }
            },
            "type": "scattergeo"
           }
          ],
          "scattergl": [
           {
            "marker": {
             "colorbar": {
              "outlinewidth": 0,
              "ticks": ""
             }
            },
            "type": "scattergl"
           }
          ],
          "scattermapbox": [
           {
            "marker": {
             "colorbar": {
              "outlinewidth": 0,
              "ticks": ""
             }
            },
            "type": "scattermapbox"
           }
          ],
          "scatterpolar": [
           {
            "marker": {
             "colorbar": {
              "outlinewidth": 0,
              "ticks": ""
             }
            },
            "type": "scatterpolar"
           }
          ],
          "scatterpolargl": [
           {
            "marker": {
             "colorbar": {
              "outlinewidth": 0,
              "ticks": ""
             }
            },
            "type": "scatterpolargl"
           }
          ],
          "scatterternary": [
           {
            "marker": {
             "colorbar": {
              "outlinewidth": 0,
              "ticks": ""
             }
            },
            "type": "scatterternary"
           }
          ],
          "surface": [
           {
            "colorbar": {
             "outlinewidth": 0,
             "ticks": ""
            },
            "colorscale": [
             [
              0,
              "#0d0887"
             ],
             [
              0.1111111111111111,
              "#46039f"
             ],
             [
              0.2222222222222222,
              "#7201a8"
             ],
             [
              0.3333333333333333,
              "#9c179e"
             ],
             [
              0.4444444444444444,
              "#bd3786"
             ],
             [
              0.5555555555555556,
              "#d8576b"
             ],
             [
              0.6666666666666666,
              "#ed7953"
             ],
             [
              0.7777777777777778,
              "#fb9f3a"
             ],
             [
              0.8888888888888888,
              "#fdca26"
             ],
             [
              1,
              "#f0f921"
             ]
            ],
            "type": "surface"
           }
          ],
          "table": [
           {
            "cells": {
             "fill": {
              "color": "#EBF0F8"
             },
             "line": {
              "color": "white"
             }
            },
            "header": {
             "fill": {
              "color": "#C8D4E3"
             },
             "line": {
              "color": "white"
             }
            },
            "type": "table"
           }
          ]
         },
         "layout": {
          "annotationdefaults": {
           "arrowcolor": "#2a3f5f",
           "arrowhead": 0,
           "arrowwidth": 1
          },
          "autotypenumbers": "strict",
          "coloraxis": {
           "colorbar": {
            "outlinewidth": 0,
            "ticks": ""
           }
          },
          "colorscale": {
           "diverging": [
            [
             0,
             "#8e0152"
            ],
            [
             0.1,
             "#c51b7d"
            ],
            [
             0.2,
             "#de77ae"
            ],
            [
             0.3,
             "#f1b6da"
            ],
            [
             0.4,
             "#fde0ef"
            ],
            [
             0.5,
             "#f7f7f7"
            ],
            [
             0.6,
             "#e6f5d0"
            ],
            [
             0.7,
             "#b8e186"
            ],
            [
             0.8,
             "#7fbc41"
            ],
            [
             0.9,
             "#4d9221"
            ],
            [
             1,
             "#276419"
            ]
           ],
           "sequential": [
            [
             0,
             "#0d0887"
            ],
            [
             0.1111111111111111,
             "#46039f"
            ],
            [
             0.2222222222222222,
             "#7201a8"
            ],
            [
             0.3333333333333333,
             "#9c179e"
            ],
            [
             0.4444444444444444,
             "#bd3786"
            ],
            [
             0.5555555555555556,
             "#d8576b"
            ],
            [
             0.6666666666666666,
             "#ed7953"
            ],
            [
             0.7777777777777778,
             "#fb9f3a"
            ],
            [
             0.8888888888888888,
             "#fdca26"
            ],
            [
             1,
             "#f0f921"
            ]
           ],
           "sequentialminus": [
            [
             0,
             "#0d0887"
            ],
            [
             0.1111111111111111,
             "#46039f"
            ],
            [
             0.2222222222222222,
             "#7201a8"
            ],
            [
             0.3333333333333333,
             "#9c179e"
            ],
            [
             0.4444444444444444,
             "#bd3786"
            ],
            [
             0.5555555555555556,
             "#d8576b"
            ],
            [
             0.6666666666666666,
             "#ed7953"
            ],
            [
             0.7777777777777778,
             "#fb9f3a"
            ],
            [
             0.8888888888888888,
             "#fdca26"
            ],
            [
             1,
             "#f0f921"
            ]
           ]
          },
          "colorway": [
           "#636efa",
           "#EF553B",
           "#00cc96",
           "#ab63fa",
           "#FFA15A",
           "#19d3f3",
           "#FF6692",
           "#B6E880",
           "#FF97FF",
           "#FECB52"
          ],
          "font": {
           "color": "#2a3f5f"
          },
          "geo": {
           "bgcolor": "white",
           "lakecolor": "white",
           "landcolor": "#E5ECF6",
           "showlakes": true,
           "showland": true,
           "subunitcolor": "white"
          },
          "hoverlabel": {
           "align": "left"
          },
          "hovermode": "closest",
          "mapbox": {
           "style": "light"
          },
          "paper_bgcolor": "white",
          "plot_bgcolor": "#E5ECF6",
          "polar": {
           "angularaxis": {
            "gridcolor": "white",
            "linecolor": "white",
            "ticks": ""
           },
           "bgcolor": "#E5ECF6",
           "radialaxis": {
            "gridcolor": "white",
            "linecolor": "white",
            "ticks": ""
           }
          },
          "scene": {
           "xaxis": {
            "backgroundcolor": "#E5ECF6",
            "gridcolor": "white",
            "gridwidth": 2,
            "linecolor": "white",
            "showbackground": true,
            "ticks": "",
            "zerolinecolor": "white"
           },
           "yaxis": {
            "backgroundcolor": "#E5ECF6",
            "gridcolor": "white",
            "gridwidth": 2,
            "linecolor": "white",
            "showbackground": true,
            "ticks": "",
            "zerolinecolor": "white"
           },
           "zaxis": {
            "backgroundcolor": "#E5ECF6",
            "gridcolor": "white",
            "gridwidth": 2,
            "linecolor": "white",
            "showbackground": true,
            "ticks": "",
            "zerolinecolor": "white"
           }
          },
          "shapedefaults": {
           "line": {
            "color": "#2a3f5f"
           }
          },
          "ternary": {
           "aaxis": {
            "gridcolor": "white",
            "linecolor": "white",
            "ticks": ""
           },
           "baxis": {
            "gridcolor": "white",
            "linecolor": "white",
            "ticks": ""
           },
           "bgcolor": "#E5ECF6",
           "caxis": {
            "gridcolor": "white",
            "linecolor": "white",
            "ticks": ""
           }
          },
          "title": {
           "x": 0.05
          },
          "xaxis": {
           "automargin": true,
           "gridcolor": "white",
           "linecolor": "white",
           "ticks": "",
           "title": {
            "standoff": 15
           },
           "zerolinecolor": "white",
           "zerolinewidth": 2
          },
          "yaxis": {
           "automargin": true,
           "gridcolor": "white",
           "linecolor": "white",
           "ticks": "",
           "title": {
            "standoff": 15
           },
           "zerolinecolor": "white",
           "zerolinewidth": 2
          }
         }
        },
        "title": {
         "text": "PBMC4 clustering"
        },
        "xaxis": {
         "showgrid": false,
         "visible": false,
         "zeroline": false
        },
        "yaxis": {
         "showgrid": false,
         "visible": false,
         "zeroline": false
        }
       }
      }
     },
     "metadata": {},
     "output_type": "display_data"
    }
   ],
   "source": [
    "datasets = ['PBMC1', 'PBMC2', 'PBMC3', 'PBMC4']\n",
    "\n",
    "for dataset in datasets:\n",
    "    labels_path = f\"../results/aggregate_new_pbmcs/{dataset}/labels.csv\"\n",
    "    labels = pd.read_csv(labels_path, index_col=0)\n",
    "    labels_list = []\n",
    "    for tool_label in labels.columns:\n",
    "        labels_list.append(labels[tool_label].tolist())\n",
    "    sankey_plot(labels_list, labels.columns, f\"{dataset} clustering\")"
   ]
  }
 ],
 "metadata": {
  "kernelspec": {
   "display_name": "CHLPy",
   "language": "python",
   "name": "python3"
  },
  "language_info": {
   "codemirror_mode": {
    "name": "ipython",
    "version": 3
   },
   "file_extension": ".py",
   "mimetype": "text/x-python",
   "name": "python",
   "nbconvert_exporter": "python",
   "pygments_lexer": "ipython3",
   "version": "3.11.5"
  },
  "orig_nbformat": 4
 },
 "nbformat": 4,
 "nbformat_minor": 2
}
