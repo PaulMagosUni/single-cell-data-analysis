{
 "cells": [
  {
   "cell_type": "code",
   "execution_count": null,
   "metadata": {},
   "outputs": [],
   "source": [
    "import scanpy as sc\n",
    "import pandas as pd\n",
    "import scvi\n",
    "import os\n",
    "import anndata\n",
    "sc.set_figure_params(figsize=(4, 4))\n",
    "\n",
    "datasets = {0:'tabula-muris-heart', 1:'tabula-muris-marrow_P7_2', 2:'tabula-muris-marrow_P7_3', 3:'peripheal-blood', 4:'kumar-4-hard', 5:'kumar-8-hard'}\n",
    "\n",
    "ToolName = 'scvi' \n",
    "DatasetName = datasets[3]\n",
    "Data_path = '../dataset/{}-filtered/10X/'.format(DatasetName)\n",
    "save_path = '../results/{}/{}/'.format(DatasetName, ToolName)\n",
    "\n",
    "if not os.path.exists(save_path):\n",
    "    os.makedirs(save_path)\n",
    "    \n",
    "\n",
    "# for white background of figures (only for docs rendering)\n",
    "%config InlineBackend.print_figure_kwargs={'facecolor' : \"w\"}\n",
    "%config InlineBackend.figure_format='retina'"
   ]
  },
  {
   "attachments": {},
   "cell_type": "markdown",
   "metadata": {},
   "source": [
    "## Loading and preparing data\n",
    "\n",
    "Let us first load a subsampled version of the heart cell atlas dataset described in Litviňuková et al. (2020). scvi-tools has many \"built-in\" datasets as well as support for loading arbitrary `.csv`, `.loom`, and `.h5ad` (AnnData) files. Please see our tutorial on data loading for more examples.\n",
    "\n",
    "- Litviňuková, M., Talavera-López, C., Maatz, H., Reichart, D., Worth, C. L., Lindberg, E. L., ... & Teichmann, S. A. (2020). Cells of the adult human heart. Nature, 588(7838), 466-472."
   ]
  },
  {
   "attachments": {},
   "cell_type": "markdown",
   "metadata": {},
   "source": [
    "<div class=\"alert alert-info\">\n",
    "Important\n",
    "\n",
    "All scvi-tools models require AnnData objects as input.\n",
    "\n",
    "</div>"
   ]
  },
  {
   "cell_type": "code",
   "execution_count": null,
   "metadata": {},
   "outputs": [],
   "source": [
    "adata = sc.read_10x_mtx(Data_path)\n",
    "adata"
   ]
  },
  {
   "cell_type": "code",
   "execution_count": null,
   "metadata": {},
   "outputs": [],
   "source": [
    "adata.layers[\"counts\"] = adata.X.copy()  # preserve counts\n",
    "sc.pp.normalize_total(adata)\n",
    "adata.raw = adata  # freeze the state in `.raw`\n",
    "adata"
   ]
  },
  {
   "attachments": {},
   "cell_type": "markdown",
   "metadata": {},
   "source": [
    "<div class=\"alert alert-info\">\n",
    "Important\n",
    "\n",
    "All scvi-tools models require AnnData objects as input.\n",
    "\n",
    "</div>"
   ]
  },
  {
   "cell_type": "code",
   "execution_count": null,
   "metadata": {
    "id": "j8gBNU_7txZU"
   },
   "outputs": [],
   "source": [
    "sc.pp.highly_variable_genes(\n",
    "    adata,\n",
    "    n_top_genes=1200,\n",
    "    subset=True,\n",
    "    layer=\"counts\",\n",
    "    flavor=\"seurat_v3\",\n",
    ")"
   ]
  },
  {
   "attachments": {},
   "cell_type": "markdown",
   "metadata": {
    "id": "RcUzIOGbrKMf"
   },
   "source": [
    "Now it's time to run `setup_anndata()`, which alerts scvi-tools to the locations of various matrices inside the anndata. It's important to run this function with the correct arguments so scvi-tools is notified that your dataset has batches, annotations, etc. For example, if batches are registered with scvi-tools, the subsequent model will correct for batch effects. See the full documentation for details.\n",
    "\n",
    "In this dataset, there is a \"cell_source\" categorical covariate, and within each \"cell_source\", multiple \"donors\", \"gender\" and \"age_group\". There are also two continuous covariates we'd like to correct for: \"percent_mito\" and \"percent_ribo\". These covariates can be registered using the `categorical_covariate_keys` argument. If you only have one categorical covariate, you can also use the `batch_key` argument instead."
   ]
  },
  {
   "cell_type": "code",
   "execution_count": null,
   "metadata": {
    "id": "d46OgftwrJhl"
   },
   "outputs": [],
   "source": [
    "scvi.model.SCVI.setup_anndata(\n",
    "    adata,\n",
    "    layer=\"counts\",\n",
    ")"
   ]
  },
  {
   "attachments": {},
   "cell_type": "markdown",
   "metadata": {
    "id": "RVHQRTbGowQC"
   },
   "source": [
    "<div class=\"alert alert-warning\">\n",
    "\n",
    "Warning\n",
    "\n",
    "If the adata is modified after running `setup_anndata`, please run `setup_anndata` again, before creating an instance of a model.\n",
    "\n",
    "</div>"
   ]
  },
  {
   "attachments": {},
   "cell_type": "markdown",
   "metadata": {
    "id": "RAWmYvjkZ0bW"
   },
   "source": [
    "## Creating and training a model\n",
    "\n",
    "While we highlight the scVI model here, the API is consistent across all scvi-tools models and is inspired by that of [scikit-learn](https://scikit-learn.org/stable/). For a full list of options, see the scvi [documentation](https://scvi-tools.org)."
   ]
  },
  {
   "cell_type": "code",
   "execution_count": null,
   "metadata": {
    "id": "xPnlTctkZ0bX"
   },
   "outputs": [],
   "source": [
    "if os.path.exists('./models/{}/'.format(DatasetName)):\n",
    "    model = scvi.model.SCVI.load('./models/{}/'.format(DatasetName), adata=adata, use_gpu=True)\n",
    "else:\n",
    "    model = scvi.model.SCVI(adata)\n",
    "    model.train(use_gpu=False)\n",
    "    model.save('./models/{}/'.format(DatasetName))\n",
    "    \n",
    "model"
   ]
  },
  {
   "attachments": {},
   "cell_type": "markdown",
   "metadata": {
    "id": "vTQ8KwoNr5_K"
   },
   "source": [
    "We can see an overview of the model by printing it."
   ]
  },
  {
   "attachments": {},
   "cell_type": "markdown",
   "metadata": {
    "id": "iVy8Eo1-Z0be"
   },
   "source": [
    "## Obtaining model outputs"
   ]
  },
  {
   "cell_type": "code",
   "execution_count": null,
   "metadata": {
    "id": "R4FwiBpUtQJa"
   },
   "outputs": [],
   "source": [
    "latent = model.get_latent_representation()"
   ]
  },
  {
   "attachments": {},
   "cell_type": "markdown",
   "metadata": {
    "id": "Cgnqal7kvArn"
   },
   "source": [
    "It's often useful to store the outputs of scvi-tools back into the original anndata, as it permits interoperability with Scanpy."
   ]
  },
  {
   "cell_type": "code",
   "execution_count": null,
   "metadata": {
    "id": "nXFAjVazvHj7"
   },
   "outputs": [],
   "source": [
    "adata.obsm[\"X_scVI\"] = latent\n",
    "adata_subset = adata"
   ]
  },
  {
   "attachments": {},
   "cell_type": "markdown",
   "metadata": {
    "id": "merbABa3u8rg"
   },
   "source": [
    "The `model.get...()` functions default to using the anndata that was used to initialize the model. It's possible to also query a subset of the anndata, or even use a completely independent anndata object as long as the anndata is organized in an equivalent fashion."
   ]
  },
  {
   "cell_type": "code",
   "execution_count": null,
   "metadata": {
    "colab": {
     "base_uri": "https://localhost:8080/"
    },
    "id": "kHznd-ygvNt5",
    "outputId": "41ff4f7d-4d2b-4aab-a483-78ec4865b323"
   },
   "outputs": [],
   "source": [
    "latent_subset = model.get_latent_representation(adata_subset)"
   ]
  },
  {
   "cell_type": "code",
   "execution_count": null,
   "metadata": {
    "colab": {
     "base_uri": "https://localhost:8080/",
     "height": 241
    },
    "id": "NCUXYiZov0uH",
    "outputId": "e570656d-e291-4f37-d052-6056ddf02c93"
   },
   "outputs": [],
   "source": [
    "denoised = model.get_normalized_expression(adata_subset)\n",
    "denoised.iloc[:5, :5]"
   ]
  },
  {
   "attachments": {},
   "cell_type": "markdown",
   "metadata": {
    "id": "E3jkmBUa6L_N"
   },
   "source": [
    "Let's store the normalized values back in the anndata."
   ]
  },
  {
   "cell_type": "code",
   "execution_count": null,
   "metadata": {
    "id": "pa4xQzkv6Ov_"
   },
   "outputs": [],
   "source": [
    "adata.layers[\"scvi_normalized\"] = model.get_normalized_expression()"
   ]
  },
  {
   "attachments": {},
   "cell_type": "markdown",
   "metadata": {
    "id": "KRbBVO2RZ0bk"
   },
   "source": [
    "## Interoperability with Scanpy"
   ]
  },
  {
   "attachments": {},
   "cell_type": "markdown",
   "metadata": {
    "id": "Vbo5AUQ5Z0bk"
   },
   "source": [
    "Scanpy is a powerful python library for visualization and downstream analysis of scRNA-seq data. We show here how to feed the objects produced by scvi-tools into a scanpy workflow."
   ]
  },
  {
   "attachments": {},
   "cell_type": "markdown",
   "metadata": {
    "id": "Vmzz9xHWnAfB"
   },
   "source": [
    "### Visualization without batch correction"
   ]
  },
  {
   "attachments": {},
   "cell_type": "markdown",
   "metadata": {
    "id": "MZwQThmmktJY"
   },
   "source": [
    "<div class=\"alert alert-warning\">\n",
    "\n",
    "Warning\n",
    "\n",
    "We use UMAP to *qualitatively* assess our low-dimension embeddings of cells. We do not advise using UMAP or any similar approach quantitatively. We do recommend using the embeddings produced by scVI as a plug-in replacement of what you would get from PCA, as we show below.\n",
    "\n",
    "</div>"
   ]
  },
  {
   "attachments": {},
   "cell_type": "markdown",
   "metadata": {
    "id": "y7Uvi9YpnAfB"
   },
   "source": [
    "First, we demonstrate the presence of nuisance variation with respect to nuclei/whole cell, age group, and donor by plotting the UMAP results of the top 30 PCA components for the raw count data."
   ]
  },
  {
   "cell_type": "code",
   "execution_count": null,
   "metadata": {
    "id": "S_IJVCZknAfC"
   },
   "outputs": [],
   "source": [
    "# run PCA then generate UMAP plots\n",
    "sc.tl.pca(adata)\n",
    "\n",
    "sc.pp.neighbors(adata, n_pcs=30, n_neighbors=20)\n",
    "sc.tl.umap(adata, min_dist=0.05)\n",
    "adata"
   ]
  },
  {
   "attachments": {},
   "cell_type": "markdown",
   "metadata": {
    "id": "_qf-GPesnAfD"
   },
   "source": [
    "We see that while the cell types are generally well separated, nuisance variation plays a large part in the variation of the data."
   ]
  },
  {
   "attachments": {},
   "cell_type": "markdown",
   "metadata": {
    "id": "L1fkByXCnAfD"
   },
   "source": [
    "### Visualization with batch correction (scVI)"
   ]
  },
  {
   "attachments": {},
   "cell_type": "markdown",
   "metadata": {
    "id": "2NibCVe-nAfD"
   },
   "source": [
    "Now, let us try using the scVI latent space to generate the same UMAP plots to see if scVI successfully accounts for batch effects in the data."
   ]
  },
  {
   "cell_type": "code",
   "execution_count": null,
   "metadata": {
    "id": "AAABjrJswQ9E"
   },
   "outputs": [],
   "source": [
    "# use scVI latent space for UMAP generation\n",
    "sc.pp.neighbors(adata, use_rep=\"X_scVI\")\n",
    "sc.tl.umap(adata, min_dist=0.3)"
   ]
  },
  {
   "attachments": {},
   "cell_type": "markdown",
   "metadata": {
    "id": "_AUihbz9nAfE"
   },
   "source": [
    "We can see that scVI was able to correct for nuisance variation due to nuclei/whole cell, age group, and donor, while maintaining separation of cell types."
   ]
  },
  {
   "attachments": {},
   "cell_type": "markdown",
   "metadata": {
    "id": "L3EC098_nAfE"
   },
   "source": [
    "### Clustering on the scVI latent space"
   ]
  },
  {
   "attachments": {},
   "cell_type": "markdown",
   "metadata": {
    "id": "qx3Yu04GZ0br"
   },
   "source": [
    "The user will note that we imported curated labels from the original publication. Our interface with scanpy makes it easy to cluster the data with scanpy from scVI's latent space and then reinject them into scVI (e.g., for differential expression)."
   ]
  },
  {
   "cell_type": "code",
   "execution_count": null,
   "metadata": {
    "id": "ME5yLdHtxHsb"
   },
   "outputs": [],
   "source": [
    "# neighbors were already computed using scVI\n",
    "sc.tl.leiden(adata, key_added=\"leiden_scVI\", resolution=0.3)\n",
    "print(adata)"
   ]
  },
  {
   "cell_type": "code",
   "execution_count": null,
   "metadata": {
    "colab": {
     "base_uri": "https://localhost:8080/",
     "height": 312
    },
    "id": "1tnfExusnAfE",
    "outputId": "f6bc202b-8123-4924-eb03-462aabf95084"
   },
   "outputs": [],
   "source": [
    "sc.pl.umap(\n",
    "    adata,\n",
    "    color=[\"leiden_scVI\"],\n",
    "    frameon=False,\n",
    ")\n",
    "adata"
   ]
  },
  {
   "cell_type": "code",
   "execution_count": null,
   "metadata": {},
   "outputs": [],
   "source": [
    "# silouhette score\n",
    "matrix = adata.X\n",
    "\n",
    "from sklearn.metrics import silhouette_score\n",
    "score = silhouette_score(matrix, adata.obs.leiden_scVI, metric='euclidean')\n",
    "\n",
    "# dataset with silouette score\n",
    "\n",
    "df = pd.DataFrame([score], columns=['silhouette'])\n",
    "df.to_csv(save_path+'clustering_scores.csv', index=False)"
   ]
  },
  {
   "cell_type": "code",
   "execution_count": null,
   "metadata": {},
   "outputs": [],
   "source": [
    "sc.tl.rank_genes_groups(adata, 'leiden_scVI', method='wilcoxon') # method='wilcoxon' method='logreg'\n",
    "sc.pl.rank_genes_groups(adata, n_genes=20, sharey=False)"
   ]
  },
  {
   "cell_type": "code",
   "execution_count": null,
   "metadata": {},
   "outputs": [],
   "source": [
    "number_of_clusters = 4\n",
    "number_of_genes = 20\n",
    "\n",
    "names = adata.uns['rank_genes_groups']['names'][:number_of_genes]\n",
    "# transform each element of names in a list\n",
    "names = [list(x) for x in names]\n",
    "\n",
    "df = pd.DataFrame(columns=['gene', 'cluster', 'rank'])\n",
    "\n",
    "for i in range(number_of_clusters):\n",
    "    to_add = [ [names[j][i], i, j] for j in range(number_of_genes)]\n",
    "    to_add = pd.DataFrame(to_add, columns=['gene', 'cluster', 'rank'])\n",
    "    df = pd.concat([df, to_add],  ignore_index=True)\n",
    "\n",
    "\n",
    "df['cluster'] += 1\n",
    "df['rank'] += 1\n",
    "\n",
    "df.to_csv(save_path+'markers.csv', index=False)"
   ]
  },
  {
   "cell_type": "code",
   "execution_count": null,
   "metadata": {},
   "outputs": [],
   "source": [
    "\n",
    "df = pd.DataFrame(adata.obs['leiden_scVI'])\n",
    "\n",
    "labels = df.rename(columns={'leiden_scVI': 'cluster'})\n",
    "# rename index as cell\n",
    "labels.index.names = ['cell']\n",
    "\n",
    "labels['cluster'] = labels['cluster'].astype(int) + 1\n",
    "\n",
    "\n",
    "labels.to_csv(save_path+'clustering_labels.csv')"
   ]
  },
  {
   "attachments": {},
   "cell_type": "markdown",
   "metadata": {
    "id": "1yDDpmrcZ0bs"
   },
   "source": [
    "## Differential expression\n",
    "We can also use many scvi-tools models for differential expression. For further details on the methods underlying these functions as well as additional options, please see the [API docs](https://docs.scvi-tools.org/en/stable/api/reference/scvi.model.SCVI.differential_expression.html#scvi.model.SCVI.differential_expression)."
   ]
  },
  {
   "cell_type": "code",
   "execution_count": null,
   "metadata": {
    "colab": {
     "base_uri": "https://localhost:8080/"
    },
    "id": "zaXI-F71yK6O",
    "outputId": "46aa60af-8cd9-4542-fea6-745b3cfd6562"
   },
   "outputs": [],
   "source": [
    "adata.obs.leiden_scVI.head()"
   ]
  },
  {
   "attachments": {},
   "cell_type": "markdown",
   "metadata": {
    "id": "K9zGxVjkyW8i"
   },
   "source": [
    "For example, a 1-vs-1 DE test is as simple as:"
   ]
  },
  {
   "cell_type": "code",
   "execution_count": null,
   "metadata": {
    "colab": {
     "base_uri": "https://localhost:8080/",
     "height": 375
    },
    "id": "3eUeH87Vxd_O",
    "outputId": "6c1deeae-56fe-414e-af29-12097e48c0b0"
   },
   "outputs": [],
   "source": [
    "de_df = model.differential_expression(\n",
    "    groupby=\"leiden_scVI\")\n",
    "de_df.head()"
   ]
  },
  {
   "attachments": {},
   "cell_type": "markdown",
   "metadata": {
    "id": "Sleqtm9gyn--"
   },
   "source": [
    "We can also do a 1-vs-all DE test, which compares each cell type with the rest of the dataset:"
   ]
  },
  {
   "cell_type": "code",
   "execution_count": null,
   "metadata": {
    "colab": {
     "base_uri": "https://localhost:8080/",
     "height": 375
    },
    "id": "V_liqTCeyne6",
    "outputId": "5738cc0f-73b4-41e5-f4a0-935dc5ecd547"
   },
   "outputs": [],
   "source": [
    "de_df = model.differential_expression(\n",
    "    groupby=\"leiden_scVI\",\n",
    ")\n",
    "de_df.head()"
   ]
  },
  {
   "attachments": {},
   "cell_type": "markdown",
   "metadata": {
    "id": "LubZQGeG00A4"
   },
   "source": [
    "We now extract top markers for each cluster using the DE results."
   ]
  },
  {
   "cell_type": "code",
   "execution_count": null,
   "metadata": {
    "id": "NSss20tkyV7l"
   },
   "outputs": [],
   "source": [
    "markers = {}\n",
    "cats = adata.obs.leiden_scVI.cat.categories\n",
    "for i, c in enumerate(cats):\n",
    "    cid = f\"{c} vs Rest\"\n",
    "    cell_type_df = de_df.loc[de_df.comparison == cid]\n",
    "\n",
    "    cell_type_df = cell_type_df[cell_type_df.lfc_mean > 0]\n",
    "\n",
    "    cell_type_df = cell_type_df[cell_type_df[\"bayes_factor\"] > 3]\n",
    "    cell_type_df = cell_type_df[cell_type_df[\"non_zeros_proportion1\"] > 0.1]\n",
    "\n",
    "    markers[c] = cell_type_df.index.tolist()[:3]"
   ]
  },
  {
   "cell_type": "code",
   "execution_count": null,
   "metadata": {
    "id": "j0j7HlUizL4r"
   },
   "outputs": [],
   "source": [
    "sc.tl.dendrogram(adata, groupby=\"leiden_scVI\", use_rep=\"X_scVI\")"
   ]
  },
  {
   "cell_type": "code",
   "execution_count": null,
   "metadata": {
    "colab": {
     "base_uri": "https://localhost:8080/",
     "height": 1000
    },
    "id": "SEufcjlGzGV1",
    "outputId": "009e7e95-c96e-4f77-8529-a45df58fe57d"
   },
   "outputs": [],
   "source": [
    "# adata.raw = adata\n",
    "# adata.var_names = [x.lower() for x in adata.var_names]\n",
    "# adata.var_names_make_unique()\n",
    "sc.pl.dotplot(\n",
    "    adata,\n",
    "    markers,\n",
    "    groupby=\"leiden_scVI\",\n",
    "    dendrogram=True,\n",
    "    color_map=\"Blues\",\n",
    "    swap_axes=True,\n",
    "    use_raw=False,\n",
    "    standard_scale=\"var\",\n",
    ")"
   ]
  },
  {
   "attachments": {},
   "cell_type": "markdown",
   "metadata": {
    "id": "0FOGu9jd6wGq"
   },
   "source": [
    "We can also visualize the scVI normalized gene expression values with the `layer` option."
   ]
  },
  {
   "cell_type": "code",
   "execution_count": null,
   "metadata": {
    "colab": {
     "base_uri": "https://localhost:8080/",
     "height": 1000
    },
    "id": "LuRDlmTg6YFL",
    "outputId": "a4da0194-ce1b-45f8-e97f-625426bb9970"
   },
   "outputs": [],
   "source": [
    "sc.pl.heatmap(\n",
    "    adata,\n",
    "    markers,\n",
    "    groupby=\"leiden_scVI\",\n",
    "    layer=\"scvi_normalized\",\n",
    "    standard_scale=\"var\",\n",
    "    dendrogram=True,\n",
    "    figsize=(5, 10),\n",
    ")"
   ]
  },
  {
   "attachments": {},
   "cell_type": "markdown",
   "metadata": {
    "id": "y4nH3q_rZ0bI"
   },
   "source": [
    "# Introduction to scvi-tools\n",
    "\n",
    "In this introductory tutorial, we go through the different steps of an scvi-tools workflow.\n",
    "\n",
    "While we focus on scVI in this tutorial, the API is consistent across all models."
   ]
  },
  {
   "attachments": {},
   "cell_type": "markdown",
   "metadata": {},
   "source": [
    "## Loading and preparing data\n",
    "\n",
    "Let us first load a subsampled version of the heart cell atlas dataset described in Litviňuková et al. (2020). scvi-tools has many \"built-in\" datasets as well as support for loading arbitrary `.csv`, `.loom`, and `.h5ad` (AnnData) files. Please see our tutorial on data loading for more examples.\n",
    "\n",
    "- Litviňuková, M., Talavera-López, C., Maatz, H., Reichart, D., Worth, C. L., Lindberg, E. L., ... & Teichmann, S. A. (2020). Cells of the adult human heart. Nature, 588(7838), 466-472."
   ]
  },
  {
   "cell_type": "code",
   "execution_count": null,
   "metadata": {},
   "outputs": [],
   "source": [
    "adata = sc.read_10x_mtx(Data_path)\n",
    "adata"
   ]
  },
  {
   "attachments": {},
   "cell_type": "markdown",
   "metadata": {},
   "source": [
    "<div class=\"alert alert-info\">\n",
    "Important\n",
    "\n",
    "All scvi-tools models require AnnData objects as input.\n",
    "\n",
    "</div>"
   ]
  },
  {
   "attachments": {},
   "cell_type": "markdown",
   "metadata": {
    "id": "RcUzIOGbrKMf"
   },
   "source": [
    "Now it's time to run `setup_anndata()`, which alerts scvi-tools to the locations of various matrices inside the anndata. It's important to run this function with the correct arguments so scvi-tools is notified that your dataset has batches, annotations, etc. For example, if batches are registered with scvi-tools, the subsequent model will correct for batch effects. See the full documentation for details.\n",
    "\n",
    "In this dataset, there is a \"cell_source\" categorical covariate, and within each \"cell_source\", multiple \"donors\", \"gender\" and \"age_group\". There are also two continuous covariates we'd like to correct for: \"percent_mito\" and \"percent_ribo\". These covariates can be registered using the `categorical_covariate_keys` argument. If you only have one categorical covariate, you can also use the `batch_key` argument instead."
   ]
  },
  {
   "attachments": {},
   "cell_type": "markdown",
   "metadata": {
    "id": "RVHQRTbGowQC"
   },
   "source": [
    "<div class=\"alert alert-warning\">\n",
    "\n",
    "Warning\n",
    "\n",
    "If the adata is modified after running `setup_anndata`, please run `setup_anndata` again, before creating an instance of a model.\n",
    "\n",
    "</div>"
   ]
  },
  {
   "cell_type": "code",
   "execution_count": null,
   "metadata": {
    "id": "xPnlTctkZ0bX"
   },
   "outputs": [],
   "source": [
    "if os.path.exists('./models/{}/'.format(DatasetName)):\n",
    "    model = scvi.model.SCVI.load('./models/{}/'.format(DatasetName), adata=adata, use_gpu=True)\n",
    "else:\n",
    "    model = scvi.model.SCVI(adata)\n",
    "    model.train(use_gpu=False)\n",
    "    model.save('./models/{}/'.format(DatasetName))\n",
    "    \n",
    "model"
   ]
  },
  {
   "attachments": {},
   "cell_type": "markdown",
   "metadata": {
    "id": "iVy8Eo1-Z0be"
   },
   "source": [
    "## Obtaining model outputs"
   ]
  },
  {
   "attachments": {},
   "cell_type": "markdown",
   "metadata": {
    "id": "Cgnqal7kvArn"
   },
   "source": [
    "It's often useful to store the outputs of scvi-tools back into the original anndata, as it permits interoperability with Scanpy."
   ]
  },
  {
   "attachments": {},
   "cell_type": "markdown",
   "metadata": {
    "id": "merbABa3u8rg"
   },
   "source": [
    "The `model.get...()` functions default to using the anndata that was used to initialize the model. It's possible to also query a subset of the anndata, or even use a completely independent anndata object as long as the anndata is organized in an equivalent fashion."
   ]
  },
  {
   "cell_type": "code",
   "execution_count": null,
   "metadata": {
    "colab": {
     "base_uri": "https://localhost:8080/",
     "height": 241
    },
    "id": "NCUXYiZov0uH",
    "outputId": "e570656d-e291-4f37-d052-6056ddf02c93"
   },
   "outputs": [],
   "source": [
    "denoised = model.get_normalized_expression(adata_subset)\n",
    "denoised.iloc[:5, :5]"
   ]
  },
  {
   "cell_type": "code",
   "execution_count": null,
   "metadata": {
    "id": "pa4xQzkv6Ov_"
   },
   "outputs": [],
   "source": [
    "adata.layers[\"scvi_normalized\"] = model.get_normalized_expression()"
   ]
  },
  {
   "attachments": {},
   "cell_type": "markdown",
   "metadata": {
    "id": "Vbo5AUQ5Z0bk"
   },
   "source": [
    "Scanpy is a powerful python library for visualization and downstream analysis of scRNA-seq data. We show here how to feed the objects produced by scvi-tools into a scanpy workflow."
   ]
  },
  {
   "attachments": {},
   "cell_type": "markdown",
   "metadata": {
    "id": "MZwQThmmktJY"
   },
   "source": [
    "<div class=\"alert alert-warning\">\n",
    "\n",
    "Warning\n",
    "\n",
    "We use UMAP to *qualitatively* assess our low-dimension embeddings of cells. We do not advise using UMAP or any similar approach quantitatively. We do recommend using the embeddings produced by scVI as a plug-in replacement of what you would get from PCA, as we show below.\n",
    "\n",
    "</div>"
   ]
  },
  {
   "cell_type": "code",
   "execution_count": null,
   "metadata": {
    "id": "S_IJVCZknAfC"
   },
   "outputs": [],
   "source": [
    "# run PCA then generate UMAP plots\n",
    "sc.tl.pca(adata)\n",
    "\n",
    "sc.pp.neighbors(adata, n_pcs=30, n_neighbors=20)\n",
    "sc.tl.umap(adata, min_dist=0.05)\n",
    "adata"
   ]
  },
  {
   "attachments": {},
   "cell_type": "markdown",
   "metadata": {
    "id": "L1fkByXCnAfD"
   },
   "source": [
    "### Visualization with batch correction (scVI)"
   ]
  },
  {
   "cell_type": "code",
   "execution_count": null,
   "metadata": {
    "id": "AAABjrJswQ9E"
   },
   "outputs": [],
   "source": [
    "# use scVI latent space for UMAP generation\n",
    "sc.pp.neighbors(adata, use_rep=\"X_scVI\")\n",
    "sc.tl.umap(adata, min_dist=0.3)"
   ]
  },
  {
   "attachments": {},
   "cell_type": "markdown",
   "metadata": {
    "id": "L3EC098_nAfE"
   },
   "source": [
    "### Clustering on the scVI latent space"
   ]
  },
  {
   "cell_type": "code",
   "execution_count": null,
   "metadata": {
    "id": "ME5yLdHtxHsb"
   },
   "outputs": [],
   "source": [
    "# neighbors were already computed using scVI\n",
    "sc.tl.leiden(adata, key_added=\"leiden_scVI\", resolution=0.3)\n",
    "print(adata)"
   ]
  },
  {
   "cell_type": "code",
   "execution_count": null,
   "metadata": {},
   "outputs": [],
   "source": [
    "# silouhette score\n",
    "matrix = adata.X\n",
    "\n",
    "from sklearn.metrics import silhouette_score\n",
    "score = silhouette_score(matrix, adata.obs.leiden_scVI, metric='euclidean')\n",
    "\n",
    "# dataset with silouette score\n",
    "\n",
    "df = pd.DataFrame([score], columns=['silhouette'])\n",
    "df.to_csv(save_path+'clustering_scores.csv', index=False)"
   ]
  },
  {
   "cell_type": "code",
   "execution_count": null,
   "metadata": {},
   "outputs": [],
   "source": [
    "number_of_clusters = 4\n",
    "number_of_genes = 20\n",
    "\n",
    "names = adata.uns['rank_genes_groups']['names'][:number_of_genes]\n",
    "# transform each element of names in a list\n",
    "names = [list(x) for x in names]\n",
    "\n",
    "df = pd.DataFrame(columns=['gene', 'cluster', 'rank'])\n",
    "\n",
    "for i in range(number_of_clusters):\n",
    "    to_add = [ [names[j][i], i, j] for j in range(number_of_genes)]\n",
    "    to_add = pd.DataFrame(to_add, columns=['gene', 'cluster', 'rank'])\n",
    "    df = pd.concat([df, to_add],  ignore_index=True)\n",
    "\n",
    "\n",
    "df['cluster'] += 1\n",
    "df['rank'] += 1\n",
    "\n",
    "df.to_csv(save_path+'markers.csv', index=False)"
   ]
  },
  {
   "attachments": {},
   "cell_type": "markdown",
   "metadata": {
    "id": "1yDDpmrcZ0bs"
   },
   "source": [
    "## Differential expression\n",
    "We can also use many scvi-tools models for differential expression. For further details on the methods underlying these functions as well as additional options, please see the [API docs](https://docs.scvi-tools.org/en/stable/api/reference/scvi.model.SCVI.differential_expression.html#scvi.model.SCVI.differential_expression)."
   ]
  },
  {
   "attachments": {},
   "cell_type": "markdown",
   "metadata": {
    "id": "K9zGxVjkyW8i"
   },
   "source": [
    "For example, a 1-vs-1 DE test is as simple as:"
   ]
  },
  {
   "attachments": {},
   "cell_type": "markdown",
   "metadata": {
    "id": "Sleqtm9gyn--"
   },
   "source": [
    "We can also do a 1-vs-all DE test, which compares each cell type with the rest of the dataset:"
   ]
  },
  {
   "attachments": {},
   "cell_type": "markdown",
   "metadata": {
    "id": "LubZQGeG00A4"
   },
   "source": [
    "We now extract top markers for each cluster using the DE results."
   ]
  },
  {
   "cell_type": "code",
   "execution_count": null,
   "metadata": {
    "id": "j0j7HlUizL4r"
   },
   "outputs": [],
   "source": [
    "sc.tl.dendrogram(adata, groupby=\"leiden_scVI\", use_rep=\"X_scVI\")"
   ]
  },
  {
   "attachments": {},
   "cell_type": "markdown",
   "metadata": {
    "id": "0FOGu9jd6wGq"
   },
   "source": [
    "We can also visualize the scVI normalized gene expression values with the `layer` option."
   ]
  }
 ],
 "metadata": {
  "accelerator": "GPU",
  "colab": {
   "collapsed_sections": [],
   "name": "api_overview.ipynb",
   "provenance": []
  },
  "kernelspec": {
   "display_name": "Python 3",
   "language": "python",
   "name": "python3"
  },
  "language_info": {
   "codemirror_mode": {
    "name": "ipython",
    "version": 3
   },
   "file_extension": ".py",
   "mimetype": "text/x-python",
   "name": "python",
   "nbconvert_exporter": "python",
   "pygments_lexer": "ipython3",
   "version": "3.10.11"
  },
  "pycharm": {
   "stem_cell": {
    "cell_type": "raw",
    "metadata": {
     "collapsed": false
    },
    "source": []
   }
  },
  "toc": {
   "base_numbering": 1,
   "nav_menu": {},
   "number_sections": true,
   "sideBar": true,
   "skip_h1_title": false,
   "title_cell": "Table of Contents",
   "title_sidebar": "Contents",
   "toc_cell": false,
   "toc_position": {},
   "toc_section_display": true,
   "toc_window_display": false
  },
  "vscode": {
   "interpreter": {
    "hash": "e7370f93d1d0cde622a1f8e1c04877d8463912d04d973331ad4851f04de6915a"
   }
  }
 },
 "nbformat": 4,
 "nbformat_minor": 0
}
