{
 "cells": [
  {
   "attachments": {},
   "cell_type": "markdown",
   "metadata": {
    "id": "y4nH3q_rZ0bI"
   },
   "source": [
    "# Introduction to scvi-tools\n",
    "\n",
    "In this introductory tutorial, we go through the different steps of an scvi-tools workflow.\n",
    "\n",
    "While we focus on scVI in this tutorial, the API is consistent across all models."
   ]
  },
  {
   "cell_type": "code",
   "execution_count": null,
   "metadata": {},
   "outputs": [],
   "source": [
    "import scanpy as sc\n",
    "import pandas as pd\n",
    "import scvi\n",
    "import os\n",
    "import anndata\n",
    "sc.set_figure_params(figsize=(4, 4))\n",
    "\n",
    "datasets = {0:'tabula-muris-heart', 1:'tabula-muris-marrow', 2:'peripheal-blood', 3:'kumar-4-hard', 4:'kumar-8-hard'}\n",
    "\n",
    "ToolName = 'scvi' \n",
    "DatasetName = datasets[0]\n",
    "Data_path = '../dataset/{}-filtered/'.format(DatasetName)\n",
    "save_path = '../results/{}/{}'.format(DatasetName, ToolName)\n",
    "\n",
    "if not os.path.exists(save_path):\n",
    "    os.makedirs(save_path)\n",
    "    \n",
    "\n",
    "# for white background of figures (only for docs rendering)\n",
    "%config InlineBackend.print_figure_kwargs={'facecolor' : \"w\"}\n",
    "%config InlineBackend.figure_format='retina'"
   ]
  },
  {
   "attachments": {},
   "cell_type": "markdown",
   "metadata": {},
   "source": [
    "## Loading and preparing data\n",
    "\n",
    "Let us first load a subsampled version of the heart cell atlas dataset described in Litviňuková et al. (2020). scvi-tools has many \"built-in\" datasets as well as support for loading arbitrary `.csv`, `.loom`, and `.h5ad` (AnnData) files. Please see our tutorial on data loading for more examples.\n",
    "\n",
    "- Litviňuková, M., Talavera-López, C., Maatz, H., Reichart, D., Worth, C. L., Lindberg, E. L., ... & Teichmann, S. A. (2020). Cells of the adult human heart. Nature, 588(7838), 466-472."
   ]
  },
  {
   "attachments": {},
   "cell_type": "markdown",
   "metadata": {},
   "source": [
    "<div class=\"alert alert-info\">\n",
    "Important\n",
    "\n",
    "All scvi-tools models require AnnData objects as input.\n",
    "\n",
    "</div>"
   ]
  },
  {
   "cell_type": "code",
   "execution_count": null,
   "metadata": {},
   "outputs": [],
   "source": [
    "adata = sc.read_10x_mtx(Data_path)\n",
    "adata"
   ]
  },
  {
   "cell_type": "code",
   "execution_count": null,
   "metadata": {},
   "outputs": [],
   "source": [
    "import scanpy as sc\n",
    "import pandas as pd\n",
    "import scvi\n",
    "import os\n",
    "import anndata\n",
    "sc.set_figure_params(figsize=(4, 4))\n",
    "\n",
    "datasets = {0:'tabula-muris-heart', 1:'tabula-muris-marrow', 2:'peripheal-blood', 3:'kumar-4-hard', 4:'kumar-8-hard'}\n",
    "\n",
    "ToolName = 'scvi' \n",
    "DatasetName = datasets[0]\n",
    "Data_path = '../dataset/{}-filtered/'.format(DatasetName)\n",
    "save_path = '../results/{}/{}'.format(DatasetName, ToolName)\n",
    "\n",
    "if not os.path.exists(save_path):\n",
    "    os.makedirs(save_path)\n",
    "    \n",
    "\n",
    "# for white background of figures (only for docs rendering)\n",
    "%config InlineBackend.print_figure_kwargs={'facecolor' : \"w\"}\n",
    "%config InlineBackend.figure_format='retina'"
   ]
  },
  {
   "attachments": {},
   "cell_type": "markdown",
   "metadata": {},
   "source": [
    "## Loading and preparing data\n",
    "\n",
    "Let us first load a subsampled version of the heart cell atlas dataset described in Litviňuková et al. (2020). scvi-tools has many \"built-in\" datasets as well as support for loading arbitrary `.csv`, `.loom`, and `.h5ad` (AnnData) files. Please see our tutorial on data loading for more examples.\n",
    "\n",
    "- Litviňuková, M., Talavera-López, C., Maatz, H., Reichart, D., Worth, C. L., Lindberg, E. L., ... & Teichmann, S. A. (2020). Cells of the adult human heart. Nature, 588(7838), 466-472."
   ]
  },
  {
   "attachments": {},
   "cell_type": "markdown",
   "metadata": {},
   "source": [
    "<div class=\"alert alert-info\">\n",
    "Important\n",
    "\n",
    "All scvi-tools models require AnnData objects as input.\n",
    "\n",
    "</div>"
   ]
  },
  {
   "cell_type": "code",
   "execution_count": 6,
   "metadata": {},
   "outputs": [
    {
     "ename": "FileNotFoundError",
     "evalue": "Did not find file ../dataset/tabula-muris-heart-filtered/matrix.mtx.gz.",
     "output_type": "error",
     "traceback": [
      "\u001b[0;31m---------------------------------------------------------------------------\u001b[0m",
      "\u001b[0;31mFileNotFoundError\u001b[0m                         Traceback (most recent call last)",
      "Cell \u001b[0;32mIn[6], line 1\u001b[0m\n\u001b[0;32m----> 1\u001b[0m adata \u001b[39m=\u001b[39m sc\u001b[39m.\u001b[39;49mread_10x_mtx(Data_path)\n\u001b[1;32m      2\u001b[0m adata\n",
      "File \u001b[0;32m~/anaconda3/envs/chl/lib/python3.10/site-packages/scanpy/readwrite.py:490\u001b[0m, in \u001b[0;36mread_10x_mtx\u001b[0;34m(path, var_names, make_unique, cache, cache_compression, gex_only, prefix)\u001b[0m\n\u001b[1;32m    488\u001b[0m genefile_exists \u001b[39m=\u001b[39m (path \u001b[39m/\u001b[39m \u001b[39mf\u001b[39m\u001b[39m'\u001b[39m\u001b[39m{\u001b[39;00mprefix\u001b[39m}\u001b[39;00m\u001b[39mgenes.tsv\u001b[39m\u001b[39m'\u001b[39m)\u001b[39m.\u001b[39mis_file()\n\u001b[1;32m    489\u001b[0m read \u001b[39m=\u001b[39m _read_legacy_10x_mtx \u001b[39mif\u001b[39;00m genefile_exists \u001b[39melse\u001b[39;00m _read_v3_10x_mtx\n\u001b[0;32m--> 490\u001b[0m adata \u001b[39m=\u001b[39m read(\n\u001b[1;32m    491\u001b[0m     \u001b[39mstr\u001b[39;49m(path),\n\u001b[1;32m    492\u001b[0m     var_names\u001b[39m=\u001b[39;49mvar_names,\n\u001b[1;32m    493\u001b[0m     make_unique\u001b[39m=\u001b[39;49mmake_unique,\n\u001b[1;32m    494\u001b[0m     cache\u001b[39m=\u001b[39;49mcache,\n\u001b[1;32m    495\u001b[0m     cache_compression\u001b[39m=\u001b[39;49mcache_compression,\n\u001b[1;32m    496\u001b[0m     prefix\u001b[39m=\u001b[39;49mprefix,\n\u001b[1;32m    497\u001b[0m )\n\u001b[1;32m    498\u001b[0m \u001b[39mif\u001b[39;00m genefile_exists \u001b[39mor\u001b[39;00m \u001b[39mnot\u001b[39;00m gex_only:\n\u001b[1;32m    499\u001b[0m     \u001b[39mreturn\u001b[39;00m adata\n",
      "File \u001b[0;32m~/anaconda3/envs/chl/lib/python3.10/site-packages/scanpy/readwrite.py:554\u001b[0m, in \u001b[0;36m_read_v3_10x_mtx\u001b[0;34m(path, var_names, make_unique, cache, cache_compression, prefix)\u001b[0m\n\u001b[1;32m    550\u001b[0m \u001b[39m\u001b[39m\u001b[39m\"\"\"\u001b[39;00m\n\u001b[1;32m    551\u001b[0m \u001b[39mRead mtx from output from Cell Ranger v3 or later versions\u001b[39;00m\n\u001b[1;32m    552\u001b[0m \u001b[39m\"\"\"\u001b[39;00m\n\u001b[1;32m    553\u001b[0m path \u001b[39m=\u001b[39m Path(path)\n\u001b[0;32m--> 554\u001b[0m adata \u001b[39m=\u001b[39m read(\n\u001b[1;32m    555\u001b[0m     path \u001b[39m/\u001b[39;49m \u001b[39mf\u001b[39;49m\u001b[39m'\u001b[39;49m\u001b[39m{\u001b[39;49;00mprefix\u001b[39m}\u001b[39;49;00m\u001b[39mmatrix.mtx.gz\u001b[39;49m\u001b[39m'\u001b[39;49m,\n\u001b[1;32m    556\u001b[0m     cache\u001b[39m=\u001b[39;49mcache,\n\u001b[1;32m    557\u001b[0m     cache_compression\u001b[39m=\u001b[39;49mcache_compression,\n\u001b[1;32m    558\u001b[0m )\u001b[39m.\u001b[39mT  \u001b[39m# transpose the data\u001b[39;00m\n\u001b[1;32m    559\u001b[0m genes \u001b[39m=\u001b[39m pd\u001b[39m.\u001b[39mread_csv(path \u001b[39m/\u001b[39m \u001b[39mf\u001b[39m\u001b[39m'\u001b[39m\u001b[39m{\u001b[39;00mprefix\u001b[39m}\u001b[39;00m\u001b[39mfeatures.tsv.gz\u001b[39m\u001b[39m'\u001b[39m, header\u001b[39m=\u001b[39m\u001b[39mNone\u001b[39;00m, sep\u001b[39m=\u001b[39m\u001b[39m'\u001b[39m\u001b[39m\\t\u001b[39;00m\u001b[39m'\u001b[39m)\n\u001b[1;32m    560\u001b[0m \u001b[39mif\u001b[39;00m var_names \u001b[39m==\u001b[39m \u001b[39m'\u001b[39m\u001b[39mgene_symbols\u001b[39m\u001b[39m'\u001b[39m:\n",
      "File \u001b[0;32m~/anaconda3/envs/chl/lib/python3.10/site-packages/scanpy/readwrite.py:112\u001b[0m, in \u001b[0;36mread\u001b[0;34m(filename, backed, sheet, ext, delimiter, first_column_names, backup_url, cache, cache_compression, **kwargs)\u001b[0m\n\u001b[1;32m    110\u001b[0m filename \u001b[39m=\u001b[39m Path(filename)  \u001b[39m# allow passing strings\u001b[39;00m\n\u001b[1;32m    111\u001b[0m \u001b[39mif\u001b[39;00m is_valid_filename(filename):\n\u001b[0;32m--> 112\u001b[0m     \u001b[39mreturn\u001b[39;00m _read(\n\u001b[1;32m    113\u001b[0m         filename,\n\u001b[1;32m    114\u001b[0m         backed\u001b[39m=\u001b[39;49mbacked,\n\u001b[1;32m    115\u001b[0m         sheet\u001b[39m=\u001b[39;49msheet,\n\u001b[1;32m    116\u001b[0m         ext\u001b[39m=\u001b[39;49mext,\n\u001b[1;32m    117\u001b[0m         delimiter\u001b[39m=\u001b[39;49mdelimiter,\n\u001b[1;32m    118\u001b[0m         first_column_names\u001b[39m=\u001b[39;49mfirst_column_names,\n\u001b[1;32m    119\u001b[0m         backup_url\u001b[39m=\u001b[39;49mbackup_url,\n\u001b[1;32m    120\u001b[0m         cache\u001b[39m=\u001b[39;49mcache,\n\u001b[1;32m    121\u001b[0m         cache_compression\u001b[39m=\u001b[39;49mcache_compression,\n\u001b[1;32m    122\u001b[0m         \u001b[39m*\u001b[39;49m\u001b[39m*\u001b[39;49mkwargs,\n\u001b[1;32m    123\u001b[0m     )\n\u001b[1;32m    124\u001b[0m \u001b[39m# generate filename and read to dict\u001b[39;00m\n\u001b[1;32m    125\u001b[0m filekey \u001b[39m=\u001b[39m \u001b[39mstr\u001b[39m(filename)\n",
      "File \u001b[0;32m~/anaconda3/envs/chl/lib/python3.10/site-packages/scanpy/readwrite.py:737\u001b[0m, in \u001b[0;36m_read\u001b[0;34m(filename, backed, sheet, ext, delimiter, first_column_names, backup_url, cache, cache_compression, suppress_cache_warning, **kwargs)\u001b[0m\n\u001b[1;32m    734\u001b[0m     \u001b[39mreturn\u001b[39;00m read_h5ad(path_cache)\n\u001b[1;32m    736\u001b[0m \u001b[39mif\u001b[39;00m \u001b[39mnot\u001b[39;00m is_present:\n\u001b[0;32m--> 737\u001b[0m     \u001b[39mraise\u001b[39;00m \u001b[39mFileNotFoundError\u001b[39;00m(\u001b[39mf\u001b[39m\u001b[39m'\u001b[39m\u001b[39mDid not find file \u001b[39m\u001b[39m{\u001b[39;00mfilename\u001b[39m}\u001b[39;00m\u001b[39m.\u001b[39m\u001b[39m'\u001b[39m)\n\u001b[1;32m    738\u001b[0m logg\u001b[39m.\u001b[39mdebug(\u001b[39mf\u001b[39m\u001b[39m'\u001b[39m\u001b[39mreading \u001b[39m\u001b[39m{\u001b[39;00mfilename\u001b[39m}\u001b[39;00m\u001b[39m'\u001b[39m)\n\u001b[1;32m    739\u001b[0m \u001b[39mif\u001b[39;00m \u001b[39mnot\u001b[39;00m cache \u001b[39mand\u001b[39;00m \u001b[39mnot\u001b[39;00m suppress_cache_warning:\n",
      "\u001b[0;31mFileNotFoundError\u001b[0m: Did not find file ../dataset/tabula-muris-heart-filtered/matrix.mtx.gz."
     ]
    }
   ],
   "source": [
    "adata = sc.read_10x_mtx(Data_path)\n",
    "adata"
   ]
  },
  {
   "attachments": {},
   "cell_type": "markdown",
   "metadata": {
    "id": "7ocFplFetywZ"
   },
   "source": [
    "Finally, we perform feature selection, to reduce the number of features (genes in this case) used as input to the scvi-tools model. For best practices of how/when to perform feature selection, please refer to the model-specific tutorial. For scVI, we recommend anywhere from 1,000 to 10,000 HVGs, but it will be context-dependent."
   ]
  },
  {
   "cell_type": "code",
   "execution_count": null,
   "metadata": {
    "id": "j8gBNU_7txZU"
   },
   "outputs": [],
   "source": [
    "sc.pp.highly_variable_genes(\n",
    "    adata,\n",
    "    n_top_genes=1200,\n",
    "    subset=True,\n",
    "    layer=\"counts\",\n",
    "    flavor=\"seurat_v3\",\n",
    ")"
   ]
  },
  {
   "attachments": {},
   "cell_type": "markdown",
   "metadata": {
    "id": "RcUzIOGbrKMf"
   },
   "source": [
    "Now it's time to run `setup_anndata()`, which alerts scvi-tools to the locations of various matrices inside the anndata. It's important to run this function with the correct arguments so scvi-tools is notified that your dataset has batches, annotations, etc. For example, if batches are registered with scvi-tools, the subsequent model will correct for batch effects. See the full documentation for details.\n",
    "\n",
    "In this dataset, there is a \"cell_source\" categorical covariate, and within each \"cell_source\", multiple \"donors\", \"gender\" and \"age_group\". There are also two continuous covariates we'd like to correct for: \"percent_mito\" and \"percent_ribo\". These covariates can be registered using the `categorical_covariate_keys` argument. If you only have one categorical covariate, you can also use the `batch_key` argument instead."
   ]
  },
  {
   "cell_type": "code",
   "execution_count": null,
   "metadata": {
    "id": "d46OgftwrJhl"
   },
   "outputs": [],
   "source": [
    "scvi.model.SCVI.setup_anndata(\n",
    "    adata,\n",
    "    layer=\"counts\",\n",
    ")"
   ]
  },
  {
   "attachments": {},
   "cell_type": "markdown",
   "metadata": {
    "id": "RVHQRTbGowQC"
   },
   "source": [
    "<div class=\"alert alert-warning\">\n",
    "\n",
    "Warning\n",
    "\n",
    "If the adata is modified after running `setup_anndata`, please run `setup_anndata` again, before creating an instance of a model.\n",
    "\n",
    "</div>"
   ]
  },
  {
   "attachments": {},
   "cell_type": "markdown",
   "metadata": {
    "id": "RAWmYvjkZ0bW"
   },
   "source": [
    "## Creating and training a model\n",
    "\n",
    "While we highlight the scVI model here, the API is consistent across all scvi-tools models and is inspired by that of [scikit-learn](https://scikit-learn.org/stable/). For a full list of options, see the scvi [documentation](https://scvi-tools.org)."
   ]
  },
  {
   "cell_type": "code",
   "execution_count": null,
   "metadata": {
    "id": "xPnlTctkZ0bX"
   },
   "outputs": [],
   "source": [
    "if os.path.exists('./models/{}/'.format(DatasetName)):\n",
    "    model = scvi.model.SCVI.load('./models/{}/'.format(DatasetName), adata=adata, use_gpu=True)\n",
    "else:\n",
    "    model = scvi.model.SCVI(adata)\n",
    "    model.train(use_gpu=False)\n",
    "    model.save('./models/{}/'.format(DatasetName))\n",
    "    \n",
    "model"
   ]
  },
  {
   "attachments": {},
   "cell_type": "markdown",
   "metadata": {
    "id": "vTQ8KwoNr5_K"
   },
   "source": [
    "We can see an overview of the model by printing it."
   ]
  },
  {
   "attachments": {},
   "cell_type": "markdown",
   "metadata": {
    "id": "iVy8Eo1-Z0be"
   },
   "source": [
    "## Obtaining model outputs"
   ]
  },
  {
   "cell_type": "code",
   "execution_count": null,
   "metadata": {
    "id": "R4FwiBpUtQJa"
   },
   "outputs": [],
   "source": [
    "latent = model.get_latent_representation()"
   ]
  },
  {
   "attachments": {},
   "cell_type": "markdown",
   "metadata": {
    "id": "Cgnqal7kvArn"
   },
   "source": [
    "It's often useful to store the outputs of scvi-tools back into the original anndata, as it permits interoperability with Scanpy."
   ]
  },
  {
   "cell_type": "code",
   "execution_count": null,
   "metadata": {
    "id": "nXFAjVazvHj7"
   },
   "outputs": [],
   "source": [
    "adata.obsm[\"X_scVI\"] = latent\n",
    "adata_subset = adata"
   ]
  },
  {
   "attachments": {},
   "cell_type": "markdown",
   "metadata": {
    "id": "merbABa3u8rg"
   },
   "source": [
    "The `model.get...()` functions default to using the anndata that was used to initialize the model. It's possible to also query a subset of the anndata, or even use a completely independent anndata object as long as the anndata is organized in an equivalent fashion."
   ]
  },
  {
   "cell_type": "code",
   "execution_count": null,
   "metadata": {
    "colab": {
     "base_uri": "https://localhost:8080/"
    },
    "id": "kHznd-ygvNt5",
    "outputId": "41ff4f7d-4d2b-4aab-a483-78ec4865b323"
   },
   "outputs": [],
   "source": [
    "latent_subset = model.get_latent_representation(adata_subset)"
   ]
  },
  {
   "cell_type": "code",
   "execution_count": null,
   "metadata": {
    "colab": {
     "base_uri": "https://localhost:8080/",
     "height": 241
    },
    "id": "NCUXYiZov0uH",
    "outputId": "e570656d-e291-4f37-d052-6056ddf02c93"
   },
   "outputs": [],
   "source": [
    "denoised = model.get_normalized_expression(adata_subset)\n",
    "denoised.iloc[:5, :5]"
   ]
  },
  {
   "attachments": {},
   "cell_type": "markdown",
   "metadata": {
    "id": "E3jkmBUa6L_N"
   },
   "source": [
    "Let's store the normalized values back in the anndata."
   ]
  },
  {
   "cell_type": "code",
   "execution_count": null,
   "metadata": {
    "id": "pa4xQzkv6Ov_"
   },
   "outputs": [],
   "source": [
    "adata.layers[\"scvi_normalized\"] = model.get_normalized_expression()"
   ]
  },
  {
   "attachments": {},
   "cell_type": "markdown",
   "metadata": {
    "id": "KRbBVO2RZ0bk"
   },
   "source": [
    "## Interoperability with Scanpy"
   ]
  },
  {
   "attachments": {},
   "cell_type": "markdown",
   "metadata": {
    "id": "Vbo5AUQ5Z0bk"
   },
   "source": [
    "Scanpy is a powerful python library for visualization and downstream analysis of scRNA-seq data. We show here how to feed the objects produced by scvi-tools into a scanpy workflow."
   ]
  },
  {
   "attachments": {},
   "cell_type": "markdown",
   "metadata": {
    "id": "Vmzz9xHWnAfB"
   },
   "source": [
    "### Visualization without batch correction"
   ]
  },
  {
   "attachments": {},
   "cell_type": "markdown",
   "metadata": {
    "id": "MZwQThmmktJY"
   },
   "source": [
    "<div class=\"alert alert-warning\">\n",
    "\n",
    "Warning\n",
    "\n",
    "We use UMAP to *qualitatively* assess our low-dimension embeddings of cells. We do not advise using UMAP or any similar approach quantitatively. We do recommend using the embeddings produced by scVI as a plug-in replacement of what you would get from PCA, as we show below.\n",
    "\n",
    "</div>"
   ]
  },
  {
   "attachments": {},
   "cell_type": "markdown",
   "metadata": {
    "id": "y7Uvi9YpnAfB"
   },
   "source": [
    "First, we demonstrate the presence of nuisance variation with respect to nuclei/whole cell, age group, and donor by plotting the UMAP results of the top 30 PCA components for the raw count data."
   ]
  },
  {
   "cell_type": "code",
   "execution_count": null,
   "metadata": {
    "id": "S_IJVCZknAfC"
   },
   "outputs": [],
   "source": [
    "# run PCA then generate UMAP plots\n",
    "sc.tl.pca(adata)\n",
    "\n",
    "sc.pp.neighbors(adata, n_pcs=30, n_neighbors=20)\n",
    "sc.tl.umap(adata, min_dist=0.05)\n",
    "adata"
   ]
  },
  {
   "attachments": {},
   "cell_type": "markdown",
   "metadata": {
    "id": "_qf-GPesnAfD"
   },
   "source": [
    "We see that while the cell types are generally well separated, nuisance variation plays a large part in the variation of the data."
   ]
  },
  {
   "attachments": {},
   "cell_type": "markdown",
   "metadata": {
    "id": "L1fkByXCnAfD"
   },
   "source": [
    "### Visualization with batch correction (scVI)"
   ]
  },
  {
   "attachments": {},
   "cell_type": "markdown",
   "metadata": {
    "id": "2NibCVe-nAfD"
   },
   "source": [
    "Now, let us try using the scVI latent space to generate the same UMAP plots to see if scVI successfully accounts for batch effects in the data."
   ]
  },
  {
   "cell_type": "code",
   "execution_count": null,
   "metadata": {
    "id": "AAABjrJswQ9E"
   },
   "outputs": [],
   "source": [
    "# use scVI latent space for UMAP generation\n",
    "sc.pp.neighbors(adata, use_rep=\"X_scVI\")\n",
    "sc.tl.umap(adata, min_dist=0.3)"
   ]
  },
  {
   "attachments": {},
   "cell_type": "markdown",
   "metadata": {
    "id": "_AUihbz9nAfE"
   },
   "source": [
    "We can see that scVI was able to correct for nuisance variation due to nuclei/whole cell, age group, and donor, while maintaining separation of cell types."
   ]
  },
  {
   "attachments": {},
   "cell_type": "markdown",
   "metadata": {
    "id": "L3EC098_nAfE"
   },
   "source": [
    "### Clustering on the scVI latent space"
   ]
  },
  {
   "attachments": {},
   "cell_type": "markdown",
   "metadata": {
    "id": "qx3Yu04GZ0br"
   },
   "source": [
    "The user will note that we imported curated labels from the original publication. Our interface with scanpy makes it easy to cluster the data with scanpy from scVI's latent space and then reinject them into scVI (e.g., for differential expression)."
   ]
  },
  {
   "cell_type": "code",
   "execution_count": null,
   "metadata": {
    "id": "ME5yLdHtxHsb"
   },
   "outputs": [],
   "source": [
    "# neighbors were already computed using scVI\n",
    "sc.tl.leiden(adata, key_added=\"leiden_scVI\", resolution=0.05)\n",
    "print(adata)"
   ]
  },
  {
   "cell_type": "code",
   "execution_count": null,
   "metadata": {
    "colab": {
     "base_uri": "https://localhost:8080/",
     "height": 312
    },
    "id": "1tnfExusnAfE",
    "outputId": "f6bc202b-8123-4924-eb03-462aabf95084"
   },
   "outputs": [],
   "source": [
    "sc.pl.umap(\n",
    "    adata,\n",
    "    color=[\"leiden_scVI\"],\n",
    "    frameon=False,\n",
    ")\n",
    "adata"
   ]
  },
  {
   "cell_type": "code",
   "execution_count": null,
   "metadata": {},
   "outputs": [],
   "source": [
    "# silouhette score\n",
    "matrix = adata.X\n",
    "\n",
    "from sklearn.metrics import silhouette_score\n",
    "score = silhouette_score(matrix, adata.obs.leiden_scVI, metric='euclidean')\n",
    "\n",
    "# dataset with silouette score\n",
    "\n",
    "df = pd.DataFrame([score], columns=['silhouette'])\n",
    "df.to_csv(save_path+'clustering_scores.csv', index=False)"
   ]
  },
  {
   "cell_type": "code",
   "execution_count": null,
   "metadata": {},
   "outputs": [],
   "source": [
    "sc.tl.rank_genes_groups(adata, 'leiden_scVI', method='wilcoxon') # method='wilcoxon' method='logreg'\n",
    "sc.pl.rank_genes_groups(adata, n_genes=20, sharey=False)"
   ]
  },
  {
   "cell_type": "code",
   "execution_count": null,
   "metadata": {},
   "outputs": [],
   "source": [
    "number_of_clusters = 5\n",
    "number_of_genes = 20\n",
    "\n",
    "names = adata.uns['rank_genes_groups']['names'][:number_of_genes]\n",
    "# transform each element of names in a list\n",
    "names = [list(x) for x in names]\n",
    "\n",
    "df = pd.DataFrame(columns=['gene', 'cluster', 'rank'])\n",
    "\n",
    "for i in range(number_of_clusters):\n",
    "    to_add = [ [names[j][i], i, j] for j in range(number_of_genes)]\n",
    "    to_add = pd.DataFrame(to_add, columns=['gene', 'cluster', 'rank'])\n",
    "    df = pd.concat([df, to_add],  ignore_index=True)\n",
    "\n",
    "\n",
    "df['cluster'] += 1\n",
    "df['rank'] += 1\n",
    "\n",
    "df.to_csv(save_path+'markers.csv', index=False)"
   ]
  },
  {
   "cell_type": "code",
   "execution_count": null,
   "metadata": {},
   "outputs": [],
   "source": [
    "\n",
    "df = pd.DataFrame(adata.obs['leiden_scVI'])\n",
    "\n",
    "labels = df.rename(columns={'leiden_scVI': 'cluster'})\n",
    "# rename index as cell\n",
    "labels.index.names = ['cell']\n",
    "\n",
    "labels['cluster'] = labels['cluster'].astype(int) + 1\n",
    "\n",
    "\n",
    "labels.to_csv(save_path+'clustering_labels.csv')"
   ]
  },
  {
   "attachments": {},
   "cell_type": "markdown",
   "metadata": {
    "id": "1yDDpmrcZ0bs"
   },
   "source": [
    "## Differential expression\n",
    "We can also use many scvi-tools models for differential expression. For further details on the methods underlying these functions as well as additional options, please see the [API docs](https://docs.scvi-tools.org/en/stable/api/reference/scvi.model.SCVI.differential_expression.html#scvi.model.SCVI.differential_expression)."
   ]
  },
  {
   "cell_type": "code",
   "execution_count": null,
   "metadata": {
    "colab": {
     "base_uri": "https://localhost:8080/"
    },
    "id": "zaXI-F71yK6O",
    "outputId": "46aa60af-8cd9-4542-fea6-745b3cfd6562"
   },
   "outputs": [
    {
     "data": {
      "text/plain": [
       "AAACCTGCACGACGAA    0\n",
       "AAACCTGGTTCCACGG    1\n",
       "AAACCTGTCTCGATGA    0\n",
       "AAACGGGAGCGCTCCA    2\n",
       "AAAGCAAAGTGAATTG    1\n",
       "Name: leiden_scVI, dtype: category\n",
       "Categories (5, object): ['0', '1', '2', '3', '4']"
      ]
     },
     "execution_count": 21,
     "metadata": {},
     "output_type": "execute_result"
    }
   ],
   "source": [
    "adata.obs.leiden_scVI.head()"
   ]
  },
  {
   "attachments": {},
   "cell_type": "markdown",
   "metadata": {
    "id": "K9zGxVjkyW8i"
   },
   "source": [
    "For example, a 1-vs-1 DE test is as simple as:"
   ]
  },
  {
   "cell_type": "code",
   "execution_count": null,
   "metadata": {
    "colab": {
     "base_uri": "https://localhost:8080/",
     "height": 375
    },
    "id": "3eUeH87Vxd_O",
    "outputId": "6c1deeae-56fe-414e-af29-12097e48c0b0"
   },
   "outputs": [
    {
     "name": "stdout",
     "output_type": "stream",
     "text": [
      "DE...: 100%|██████████| 5/5 [00:03<00:00,  1.56it/s]\n"
     ]
    },
    {
     "data": {
      "text/html": [
       "<div>\n",
       "<style scoped>\n",
       "    .dataframe tbody tr th:only-of-type {\n",
       "        vertical-align: middle;\n",
       "    }\n",
       "\n",
       "    .dataframe tbody tr th {\n",
       "        vertical-align: top;\n",
       "    }\n",
       "\n",
       "    .dataframe thead th {\n",
       "        text-align: right;\n",
       "    }\n",
       "</style>\n",
       "<table border=\"1\" class=\"dataframe\">\n",
       "  <thead>\n",
       "    <tr style=\"text-align: right;\">\n",
       "      <th></th>\n",
       "      <th>proba_de</th>\n",
       "      <th>proba_not_de</th>\n",
       "      <th>bayes_factor</th>\n",
       "      <th>scale1</th>\n",
       "      <th>scale2</th>\n",
       "      <th>pseudocounts</th>\n",
       "      <th>delta</th>\n",
       "      <th>lfc_mean</th>\n",
       "      <th>lfc_median</th>\n",
       "      <th>lfc_std</th>\n",
       "      <th>...</th>\n",
       "      <th>raw_mean1</th>\n",
       "      <th>raw_mean2</th>\n",
       "      <th>non_zeros_proportion1</th>\n",
       "      <th>non_zeros_proportion2</th>\n",
       "      <th>raw_normalized_mean1</th>\n",
       "      <th>raw_normalized_mean2</th>\n",
       "      <th>is_de_fdr_0.05</th>\n",
       "      <th>comparison</th>\n",
       "      <th>group1</th>\n",
       "      <th>group2</th>\n",
       "    </tr>\n",
       "  </thead>\n",
       "  <tbody>\n",
       "    <tr>\n",
       "      <th>Adcy4</th>\n",
       "      <td>1.0000</td>\n",
       "      <td>0.0000</td>\n",
       "      <td>18.420681</td>\n",
       "      <td>0.001422</td>\n",
       "      <td>0.000038</td>\n",
       "      <td>0.0</td>\n",
       "      <td>0.25</td>\n",
       "      <td>5.942254</td>\n",
       "      <td>5.742790</td>\n",
       "      <td>2.119608</td>\n",
       "      <td>...</td>\n",
       "      <td>0.677853</td>\n",
       "      <td>0.031674</td>\n",
       "      <td>0.395973</td>\n",
       "      <td>0.031674</td>\n",
       "      <td>13.583902</td>\n",
       "      <td>0.345030</td>\n",
       "      <td>True</td>\n",
       "      <td>0 vs Rest</td>\n",
       "      <td>0</td>\n",
       "      <td>Rest</td>\n",
       "    </tr>\n",
       "    <tr>\n",
       "      <th>Pecam1</th>\n",
       "      <td>1.0000</td>\n",
       "      <td>0.0000</td>\n",
       "      <td>18.420681</td>\n",
       "      <td>0.008545</td>\n",
       "      <td>0.000087</td>\n",
       "      <td>0.0</td>\n",
       "      <td>0.25</td>\n",
       "      <td>7.622893</td>\n",
       "      <td>7.692606</td>\n",
       "      <td>1.899564</td>\n",
       "      <td>...</td>\n",
       "      <td>3.818791</td>\n",
       "      <td>0.117647</td>\n",
       "      <td>0.906040</td>\n",
       "      <td>0.099548</td>\n",
       "      <td>85.917770</td>\n",
       "      <td>1.163159</td>\n",
       "      <td>True</td>\n",
       "      <td>0 vs Rest</td>\n",
       "      <td>0</td>\n",
       "      <td>Rest</td>\n",
       "    </tr>\n",
       "    <tr>\n",
       "      <th>Sdpr</th>\n",
       "      <td>0.9998</td>\n",
       "      <td>0.0002</td>\n",
       "      <td>8.516943</td>\n",
       "      <td>0.016917</td>\n",
       "      <td>0.000613</td>\n",
       "      <td>0.0</td>\n",
       "      <td>0.25</td>\n",
       "      <td>5.242867</td>\n",
       "      <td>5.317444</td>\n",
       "      <td>1.382885</td>\n",
       "      <td>...</td>\n",
       "      <td>7.758388</td>\n",
       "      <td>0.470588</td>\n",
       "      <td>0.979866</td>\n",
       "      <td>0.276018</td>\n",
       "      <td>167.041306</td>\n",
       "      <td>3.805964</td>\n",
       "      <td>True</td>\n",
       "      <td>0 vs Rest</td>\n",
       "      <td>0</td>\n",
       "      <td>Rest</td>\n",
       "    </tr>\n",
       "    <tr>\n",
       "      <th>Mmrn2</th>\n",
       "      <td>0.9998</td>\n",
       "      <td>0.0002</td>\n",
       "      <td>8.516943</td>\n",
       "      <td>0.003233</td>\n",
       "      <td>0.000038</td>\n",
       "      <td>0.0</td>\n",
       "      <td>0.25</td>\n",
       "      <td>6.952660</td>\n",
       "      <td>6.951166</td>\n",
       "      <td>1.626408</td>\n",
       "      <td>...</td>\n",
       "      <td>1.436242</td>\n",
       "      <td>0.036199</td>\n",
       "      <td>0.651007</td>\n",
       "      <td>0.027149</td>\n",
       "      <td>30.834585</td>\n",
       "      <td>0.172117</td>\n",
       "      <td>True</td>\n",
       "      <td>0 vs Rest</td>\n",
       "      <td>0</td>\n",
       "      <td>Rest</td>\n",
       "    </tr>\n",
       "    <tr>\n",
       "      <th>Fabp4</th>\n",
       "      <td>0.9990</td>\n",
       "      <td>0.0010</td>\n",
       "      <td>6.906745</td>\n",
       "      <td>0.103364</td>\n",
       "      <td>0.000946</td>\n",
       "      <td>0.0</td>\n",
       "      <td>0.25</td>\n",
       "      <td>7.049848</td>\n",
       "      <td>7.351947</td>\n",
       "      <td>1.874972</td>\n",
       "      <td>...</td>\n",
       "      <td>72.288574</td>\n",
       "      <td>1.542987</td>\n",
       "      <td>0.953020</td>\n",
       "      <td>0.488688</td>\n",
       "      <td>1717.333008</td>\n",
       "      <td>9.002469</td>\n",
       "      <td>True</td>\n",
       "      <td>0 vs Rest</td>\n",
       "      <td>0</td>\n",
       "      <td>Rest</td>\n",
       "    </tr>\n",
       "  </tbody>\n",
       "</table>\n",
       "<p>5 rows × 22 columns</p>\n",
       "</div>"
      ],
      "text/plain": [
       "        proba_de  proba_not_de  bayes_factor    scale1    scale2  \\\n",
       "Adcy4     1.0000        0.0000     18.420681  0.001422  0.000038   \n",
       "Pecam1    1.0000        0.0000     18.420681  0.008545  0.000087   \n",
       "Sdpr      0.9998        0.0002      8.516943  0.016917  0.000613   \n",
       "Mmrn2     0.9998        0.0002      8.516943  0.003233  0.000038   \n",
       "Fabp4     0.9990        0.0010      6.906745  0.103364  0.000946   \n",
       "\n",
       "        pseudocounts  delta  lfc_mean  lfc_median   lfc_std  ...  raw_mean1  \\\n",
       "Adcy4            0.0   0.25  5.942254    5.742790  2.119608  ...   0.677853   \n",
       "Pecam1           0.0   0.25  7.622893    7.692606  1.899564  ...   3.818791   \n",
       "Sdpr             0.0   0.25  5.242867    5.317444  1.382885  ...   7.758388   \n",
       "Mmrn2            0.0   0.25  6.952660    6.951166  1.626408  ...   1.436242   \n",
       "Fabp4            0.0   0.25  7.049848    7.351947  1.874972  ...  72.288574   \n",
       "\n",
       "        raw_mean2  non_zeros_proportion1  non_zeros_proportion2  \\\n",
       "Adcy4    0.031674               0.395973               0.031674   \n",
       "Pecam1   0.117647               0.906040               0.099548   \n",
       "Sdpr     0.470588               0.979866               0.276018   \n",
       "Mmrn2    0.036199               0.651007               0.027149   \n",
       "Fabp4    1.542987               0.953020               0.488688   \n",
       "\n",
       "        raw_normalized_mean1  raw_normalized_mean2  is_de_fdr_0.05  \\\n",
       "Adcy4              13.583902              0.345030            True   \n",
       "Pecam1             85.917770              1.163159            True   \n",
       "Sdpr              167.041306              3.805964            True   \n",
       "Mmrn2              30.834585              0.172117            True   \n",
       "Fabp4            1717.333008              9.002469            True   \n",
       "\n",
       "        comparison  group1 group2  \n",
       "Adcy4    0 vs Rest       0   Rest  \n",
       "Pecam1   0 vs Rest       0   Rest  \n",
       "Sdpr     0 vs Rest       0   Rest  \n",
       "Mmrn2    0 vs Rest       0   Rest  \n",
       "Fabp4    0 vs Rest       0   Rest  \n",
       "\n",
       "[5 rows x 22 columns]"
      ]
     },
     "execution_count": 22,
     "metadata": {},
     "output_type": "execute_result"
    }
   ],
   "source": [
    "de_df = model.differential_expression(\n",
    "    groupby=\"leiden_scVI\")\n",
    "de_df.head()"
   ]
  },
  {
   "attachments": {},
   "cell_type": "markdown",
   "metadata": {
    "id": "Sleqtm9gyn--"
   },
   "source": [
    "We can also do a 1-vs-all DE test, which compares each cell type with the rest of the dataset:"
   ]
  },
  {
   "cell_type": "code",
   "execution_count": null,
   "metadata": {
    "colab": {
     "base_uri": "https://localhost:8080/",
     "height": 375
    },
    "id": "V_liqTCeyne6",
    "outputId": "5738cc0f-73b4-41e5-f4a0-935dc5ecd547"
   },
   "outputs": [
    {
     "name": "stdout",
     "output_type": "stream",
     "text": [
      "DE...: 100%|██████████| 5/5 [00:03<00:00,  1.63it/s]\n"
     ]
    },
    {
     "data": {
      "text/html": [
       "<div>\n",
       "<style scoped>\n",
       "    .dataframe tbody tr th:only-of-type {\n",
       "        vertical-align: middle;\n",
       "    }\n",
       "\n",
       "    .dataframe tbody tr th {\n",
       "        vertical-align: top;\n",
       "    }\n",
       "\n",
       "    .dataframe thead th {\n",
       "        text-align: right;\n",
       "    }\n",
       "</style>\n",
       "<table border=\"1\" class=\"dataframe\">\n",
       "  <thead>\n",
       "    <tr style=\"text-align: right;\">\n",
       "      <th></th>\n",
       "      <th>proba_de</th>\n",
       "      <th>proba_not_de</th>\n",
       "      <th>bayes_factor</th>\n",
       "      <th>scale1</th>\n",
       "      <th>scale2</th>\n",
       "      <th>pseudocounts</th>\n",
       "      <th>delta</th>\n",
       "      <th>lfc_mean</th>\n",
       "      <th>lfc_median</th>\n",
       "      <th>lfc_std</th>\n",
       "      <th>...</th>\n",
       "      <th>raw_mean1</th>\n",
       "      <th>raw_mean2</th>\n",
       "      <th>non_zeros_proportion1</th>\n",
       "      <th>non_zeros_proportion2</th>\n",
       "      <th>raw_normalized_mean1</th>\n",
       "      <th>raw_normalized_mean2</th>\n",
       "      <th>is_de_fdr_0.05</th>\n",
       "      <th>comparison</th>\n",
       "      <th>group1</th>\n",
       "      <th>group2</th>\n",
       "    </tr>\n",
       "  </thead>\n",
       "  <tbody>\n",
       "    <tr>\n",
       "      <th>Pecam1</th>\n",
       "      <td>1.0000</td>\n",
       "      <td>0.0000</td>\n",
       "      <td>18.420681</td>\n",
       "      <td>0.008528</td>\n",
       "      <td>0.000088</td>\n",
       "      <td>0.0</td>\n",
       "      <td>0.25</td>\n",
       "      <td>7.650317</td>\n",
       "      <td>7.748909</td>\n",
       "      <td>1.904123</td>\n",
       "      <td>...</td>\n",
       "      <td>3.818791</td>\n",
       "      <td>0.117647</td>\n",
       "      <td>0.906040</td>\n",
       "      <td>0.099548</td>\n",
       "      <td>85.917770</td>\n",
       "      <td>1.163159</td>\n",
       "      <td>True</td>\n",
       "      <td>0 vs Rest</td>\n",
       "      <td>0</td>\n",
       "      <td>Rest</td>\n",
       "    </tr>\n",
       "    <tr>\n",
       "      <th>Mmrn2</th>\n",
       "      <td>0.9998</td>\n",
       "      <td>0.0002</td>\n",
       "      <td>8.516943</td>\n",
       "      <td>0.003257</td>\n",
       "      <td>0.000041</td>\n",
       "      <td>0.0</td>\n",
       "      <td>0.25</td>\n",
       "      <td>6.938159</td>\n",
       "      <td>6.946113</td>\n",
       "      <td>1.669255</td>\n",
       "      <td>...</td>\n",
       "      <td>1.436242</td>\n",
       "      <td>0.036199</td>\n",
       "      <td>0.651007</td>\n",
       "      <td>0.027149</td>\n",
       "      <td>30.834585</td>\n",
       "      <td>0.172117</td>\n",
       "      <td>True</td>\n",
       "      <td>0 vs Rest</td>\n",
       "      <td>0</td>\n",
       "      <td>Rest</td>\n",
       "    </tr>\n",
       "    <tr>\n",
       "      <th>Sdpr</th>\n",
       "      <td>0.9996</td>\n",
       "      <td>0.0004</td>\n",
       "      <td>7.823621</td>\n",
       "      <td>0.016912</td>\n",
       "      <td>0.000608</td>\n",
       "      <td>0.0</td>\n",
       "      <td>0.25</td>\n",
       "      <td>5.240359</td>\n",
       "      <td>5.283442</td>\n",
       "      <td>1.378189</td>\n",
       "      <td>...</td>\n",
       "      <td>7.758388</td>\n",
       "      <td>0.470588</td>\n",
       "      <td>0.979866</td>\n",
       "      <td>0.276018</td>\n",
       "      <td>167.041306</td>\n",
       "      <td>3.805964</td>\n",
       "      <td>True</td>\n",
       "      <td>0 vs Rest</td>\n",
       "      <td>0</td>\n",
       "      <td>Rest</td>\n",
       "    </tr>\n",
       "    <tr>\n",
       "      <th>Cd300lg</th>\n",
       "      <td>0.9996</td>\n",
       "      <td>0.0004</td>\n",
       "      <td>7.823621</td>\n",
       "      <td>0.008019</td>\n",
       "      <td>0.000096</td>\n",
       "      <td>0.0</td>\n",
       "      <td>0.25</td>\n",
       "      <td>6.831953</td>\n",
       "      <td>6.953663</td>\n",
       "      <td>2.010960</td>\n",
       "      <td>...</td>\n",
       "      <td>3.295301</td>\n",
       "      <td>0.095023</td>\n",
       "      <td>0.852349</td>\n",
       "      <td>0.049774</td>\n",
       "      <td>79.995468</td>\n",
       "      <td>0.774339</td>\n",
       "      <td>True</td>\n",
       "      <td>0 vs Rest</td>\n",
       "      <td>0</td>\n",
       "      <td>Rest</td>\n",
       "    </tr>\n",
       "    <tr>\n",
       "      <th>Eng</th>\n",
       "      <td>0.9996</td>\n",
       "      <td>0.0004</td>\n",
       "      <td>7.823621</td>\n",
       "      <td>0.011951</td>\n",
       "      <td>0.000385</td>\n",
       "      <td>0.0</td>\n",
       "      <td>0.25</td>\n",
       "      <td>5.542650</td>\n",
       "      <td>5.388225</td>\n",
       "      <td>1.722249</td>\n",
       "      <td>...</td>\n",
       "      <td>5.590604</td>\n",
       "      <td>0.533937</td>\n",
       "      <td>0.946309</td>\n",
       "      <td>0.352941</td>\n",
       "      <td>119.544548</td>\n",
       "      <td>4.523347</td>\n",
       "      <td>True</td>\n",
       "      <td>0 vs Rest</td>\n",
       "      <td>0</td>\n",
       "      <td>Rest</td>\n",
       "    </tr>\n",
       "  </tbody>\n",
       "</table>\n",
       "<p>5 rows × 22 columns</p>\n",
       "</div>"
      ],
      "text/plain": [
       "         proba_de  proba_not_de  bayes_factor    scale1    scale2  \\\n",
       "Pecam1     1.0000        0.0000     18.420681  0.008528  0.000088   \n",
       "Mmrn2      0.9998        0.0002      8.516943  0.003257  0.000041   \n",
       "Sdpr       0.9996        0.0004      7.823621  0.016912  0.000608   \n",
       "Cd300lg    0.9996        0.0004      7.823621  0.008019  0.000096   \n",
       "Eng        0.9996        0.0004      7.823621  0.011951  0.000385   \n",
       "\n",
       "         pseudocounts  delta  lfc_mean  lfc_median   lfc_std  ...  raw_mean1  \\\n",
       "Pecam1            0.0   0.25  7.650317    7.748909  1.904123  ...   3.818791   \n",
       "Mmrn2             0.0   0.25  6.938159    6.946113  1.669255  ...   1.436242   \n",
       "Sdpr              0.0   0.25  5.240359    5.283442  1.378189  ...   7.758388   \n",
       "Cd300lg           0.0   0.25  6.831953    6.953663  2.010960  ...   3.295301   \n",
       "Eng               0.0   0.25  5.542650    5.388225  1.722249  ...   5.590604   \n",
       "\n",
       "         raw_mean2  non_zeros_proportion1  non_zeros_proportion2  \\\n",
       "Pecam1    0.117647               0.906040               0.099548   \n",
       "Mmrn2     0.036199               0.651007               0.027149   \n",
       "Sdpr      0.470588               0.979866               0.276018   \n",
       "Cd300lg   0.095023               0.852349               0.049774   \n",
       "Eng       0.533937               0.946309               0.352941   \n",
       "\n",
       "         raw_normalized_mean1  raw_normalized_mean2  is_de_fdr_0.05  \\\n",
       "Pecam1              85.917770              1.163159            True   \n",
       "Mmrn2               30.834585              0.172117            True   \n",
       "Sdpr               167.041306              3.805964            True   \n",
       "Cd300lg             79.995468              0.774339            True   \n",
       "Eng                119.544548              4.523347            True   \n",
       "\n",
       "         comparison  group1 group2  \n",
       "Pecam1    0 vs Rest       0   Rest  \n",
       "Mmrn2     0 vs Rest       0   Rest  \n",
       "Sdpr      0 vs Rest       0   Rest  \n",
       "Cd300lg   0 vs Rest       0   Rest  \n",
       "Eng       0 vs Rest       0   Rest  \n",
       "\n",
       "[5 rows x 22 columns]"
      ]
     },
     "execution_count": 23,
     "metadata": {},
     "output_type": "execute_result"
    }
   ],
   "source": [
    "de_df = model.differential_expression(\n",
    "    groupby=\"leiden_scVI\",\n",
    ")\n",
    "de_df.head()"
   ]
  },
  {
   "attachments": {},
   "cell_type": "markdown",
   "metadata": {
    "id": "LubZQGeG00A4"
   },
   "source": [
    "We now extract top markers for each cluster using the DE results."
   ]
  },
  {
   "cell_type": "code",
   "execution_count": null,
   "metadata": {
    "id": "NSss20tkyV7l"
   },
   "outputs": [],
   "source": [
    "markers = {}\n",
    "cats = adata.obs.leiden_scVI.cat.categories\n",
    "for i, c in enumerate(cats):\n",
    "    cid = f\"{c} vs Rest\"\n",
    "    cell_type_df = de_df.loc[de_df.comparison == cid]\n",
    "\n",
    "    cell_type_df = cell_type_df[cell_type_df.lfc_mean > 0]\n",
    "\n",
    "    cell_type_df = cell_type_df[cell_type_df[\"bayes_factor\"] > 3]\n",
    "    cell_type_df = cell_type_df[cell_type_df[\"non_zeros_proportion1\"] > 0.1]\n",
    "\n",
    "    markers[c] = cell_type_df.index.tolist()[:3]"
   ]
  },
  {
   "cell_type": "code",
   "execution_count": null,
   "metadata": {
    "id": "j0j7HlUizL4r"
   },
   "outputs": [],
   "source": [
    "sc.tl.dendrogram(adata, groupby=\"leiden_scVI\", use_rep=\"X_scVI\")"
   ]
  },
  {
   "cell_type": "code",
   "execution_count": null,
   "metadata": {
    "colab": {
     "base_uri": "https://localhost:8080/",
     "height": 1000
    },
    "id": "SEufcjlGzGV1",
    "outputId": "009e7e95-c96e-4f77-8529-a45df58fe57d"
   },
   "outputs": [
    {
     "name": "stderr",
     "output_type": "stream",
     "text": [
      "/Users/paulmagos/miniconda3/envs/CHLPy/lib/python3.10/site-packages/scanpy/plotting/_dotplot.py:749: UserWarning: No data for colormapping provided via 'c'. Parameters 'cmap', 'norm' will be ignored\n",
      "  dot_ax.scatter(x, y, **kwds)\n"
     ]
    },
    {
     "data": {
      "image/png": "[encoded data removed]",
      "text/plain": [
       "<Figure size 268x564 with 6 Axes>"
      ]
     },
     "metadata": {
      "image/png": {
       "height": 464,
       "width": 295
      }
     },
     "output_type": "display_data"
    }
   ],
   "source": [
    "# adata.raw = adata\n",
    "# adata.var_names = [x.lower() for x in adata.var_names]\n",
    "# adata.var_names_make_unique()\n",
    "sc.pl.dotplot(\n",
    "    adata,\n",
    "    markers,\n",
    "    groupby=\"leiden_scVI\",\n",
    "    dendrogram=True,\n",
    "    color_map=\"Blues\",\n",
    "    swap_axes=True,\n",
    "    use_raw=False,\n",
    "    standard_scale=\"var\",\n",
    ")"
   ]
  },
  {
   "attachments": {},
   "cell_type": "markdown",
   "metadata": {
    "id": "0FOGu9jd6wGq"
   },
   "source": [
    "We can also visualize the scVI normalized gene expression values with the `layer` option."
   ]
  },
  {
   "cell_type": "code",
   "execution_count": null,
   "metadata": {
    "colab": {
     "base_uri": "https://localhost:8080/",
     "height": 1000
    },
    "id": "LuRDlmTg6YFL",
    "outputId": "a4da0194-ce1b-45f8-e97f-625426bb9970"
   },
   "outputs": [
    {
     "data": {
      "image/png": "[encoded data removed]",
      "text/plain": [
       "<Figure size 400x800 with 5 Axes>"
      ]
     },
     "metadata": {
      "image/png": {
       "height": 694,
       "width": 391
      }
     },
     "output_type": "display_data"
    }
   ],
   "source": [
    "sc.pl.heatmap(\n",
    "    adata,\n",
    "    markers,\n",
    "    groupby=\"leiden_scVI\",\n",
    "    layer=\"scvi_normalized\",\n",
    "    standard_scale=\"var\",\n",
    "    dendrogram=True,\n",
    "    figsize=(5, 10),\n",
    ")"
   ]
  }
 ],
 "metadata": {
  "accelerator": "GPU",
  "colab": {
   "collapsed_sections": [],
   "name": "api_overview.ipynb",
   "provenance": []
  },
  "kernelspec": {
   "display_name": "Python 3",
   "language": "python",
   "name": "python3"
  },
  "language_info": {
   "codemirror_mode": {
    "name": "ipython",
    "version": 3
   },
   "file_extension": ".py",
   "mimetype": "text/x-python",
   "name": "python",
   "nbconvert_exporter": "python",
   "pygments_lexer": "ipython3",
   "version": "3.10.11"
  },
  "pycharm": {
   "stem_cell": {
    "cell_type": "raw",
    "metadata": {
     "collapsed": false
    },
    "source": []
   }
  },
  "toc": {
   "base_numbering": 1,
   "nav_menu": {},
   "number_sections": true,
   "sideBar": true,
   "skip_h1_title": false,
   "title_cell": "Table of Contents",
   "title_sidebar": "Contents",
   "toc_cell": false,
   "toc_position": {},
   "toc_section_display": true,
   "toc_window_display": false
  },
  "vscode": {
   "interpreter": {
    "hash": "e7370f93d1d0cde622a1f8e1c04877d8463912d04d973331ad4851f04de6915a"
   }
  }
 },
 "nbformat": 4,
 "nbformat_minor": 0
}
