{
 "cells": [
  {
   "cell_type": "code",
   "execution_count": 28,
   "metadata": {},
   "outputs": [
    {
     "name": "stdout",
     "output_type": "stream",
     "text": [
      "./dataset/tabula-muris-heart-filtered/10X/genes.tsv\n"
     ]
    }
   ],
   "source": [
    "import pandas as pd\n",
    "\n",
    "datasets = {0:'tabula-muris-heart', 1:'tabula-muris-marrow_P7_2', 2:'tabula-muris-marrow_P7_3', 3:'peripheal-blood', 4:'kumar-4-hard', 5:'kumar-8-hard'}\n",
    "dataset = 0\n",
    "\n",
    "datapath = \"./dataset/{}-filtered/10X/genes.tsv\".format(datasets[dataset])\n",
    "print(datapath)"
   ]
  },
  {
   "cell_type": "code",
   "execution_count": 29,
   "metadata": {},
   "outputs": [],
   "source": [
    "data = pd.read_csv(datapath, sep='\\t', header=None)"
   ]
  },
  {
   "cell_type": "code",
   "execution_count": 30,
   "metadata": {},
   "outputs": [],
   "source": [
    "data = data[0]"
   ]
  },
  {
   "cell_type": "code",
   "execution_count": 31,
   "metadata": {},
   "outputs": [
    {
     "name": "stdout",
     "output_type": "stream",
     "text": [
      "0                  Rp1\n",
      "1                Sox17\n",
      "2               Mrpl15\n",
      "3               Lypla1\n",
      "4                Tcea1\n",
      "             ...      \n",
      "13651    G530011O06Rik\n",
      "13652            Vamp7\n",
      "13653            Tmlhe\n",
      "13654             Zf12\n",
      "13655            Erdr1\n",
      "Name: 0, Length: 13656, dtype: object\n"
     ]
    }
   ],
   "source": [
    "print(data)"
   ]
  },
  {
   "cell_type": "code",
   "execution_count": 32,
   "metadata": {},
   "outputs": [
    {
     "name": "stdout",
     "output_type": "stream",
     "text": [
      "218        Mtap2\n",
      "357      Mterfd2\n",
      "808      Mthfd1l\n",
      "818       Mtrf1l\n",
      "871        Mtap7\n",
      "          ...   \n",
      "13327    Mtap7d3\n",
      "13341       Mtm1\n",
      "13342      Mtmr1\n",
      "13395      Mtcp1\n",
      "13611    Mtap7d2\n",
      "Name: 0, Length: 70, dtype: object\n"
     ]
    }
   ],
   "source": [
    "data = data[data.str.startswith('Mt')]"
   ]
  }
 ],
 "metadata": {
  "kernelspec": {
   "display_name": "CHLPy",
   "language": "python",
   "name": "python3"
  },
  "language_info": {
   "codemirror_mode": {
    "name": "ipython",
    "version": 3
   },
   "file_extension": ".py",
   "mimetype": "text/x-python",
   "name": "python",
   "nbconvert_exporter": "python",
   "pygments_lexer": "ipython3",
   "version": "3.10.11"
  },
  "orig_nbformat": 4
 },
 "nbformat": 4,
 "nbformat_minor": 2
}
