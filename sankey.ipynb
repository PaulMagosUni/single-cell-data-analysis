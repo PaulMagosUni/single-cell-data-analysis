{
 "cells": [
  {
   "cell_type": "code",
   "execution_count": 7,
   "metadata": {},
   "outputs": [],
   "source": [
    "import pandas as pd\n",
    "import plotly.graph_objects as go\n",
    "import os\n",
    "import seaborn as sns\n",
    "\n",
    "RESULT_DIR = './results'\n",
    "DATA_DIR = RESULT_DIR + '/aggregate'\n",
    "DATASET_TAGS = ['tabula-muris-heart', 'tabula-muris-marrow_P7_3', 'peripheal-blood', 'zheng-4', 'zheng-8']"
   ]
  },
  {
   "cell_type": "code",
   "execution_count": 8,
   "metadata": {},
   "outputs": [],
   "source": [
    "\n",
    "def plot_sankey(labels, source, target, value, title, cluster_colors, out_file):\n",
    "    fig = go.Figure(data=[go.Sankey(\n",
    "        node = dict(\n",
    "        pad = 15,\n",
    "        thickness = 20,\n",
    "        line = dict(color = \"black\", width = 0.5),\n",
    "        label = labels,\n",
    "        color = cluster_colors + cluster_colors\n",
    "        ),\n",
    "        link = dict(\n",
    "        source = source,\n",
    "        target = target,\n",
    "        value = value\n",
    "        ))])\n",
    "\n",
    "    fig.update_layout(title_text=title, font_size=10)\n",
    "    fig.show()\n",
    "    fig.write_image(out_file + '.pdf')\n",
    "    fig.write_html(out_file + '.html')\n",
    "    "
   ]
  },
  {
   "cell_type": "code",
   "execution_count": 9,
   "metadata": {},
   "outputs": [
    {
     "ename": "ValueError",
     "evalue": "\n    Invalid element(s) received for the 'color' property of sankey.node\n        Invalid elements include: [0.9677975592919913, 0.44127456009157356, 0.5358103155058701, 0.8369430560927636, 0.5495828952802333, 0.1952683223448124, 0.6430915736746491, 0.6271955086583126, 0.19381135329796756, 0.3126890019504329]\n\n    The 'color' property is a color and may be specified as:\n      - A hex string (e.g. '#ff0000')\n      - An rgb/rgba string (e.g. 'rgb(255,0,0)')\n      - An hsl/hsla string (e.g. 'hsl(0,100%,50%)')\n      - An hsv/hsva string (e.g. 'hsv(0,100%,100%)')\n      - A named CSS color:\n            aliceblue, antiquewhite, aqua, aquamarine, azure,\n            beige, bisque, black, blanchedalmond, blue,\n            blueviolet, brown, burlywood, cadetblue,\n            chartreuse, chocolate, coral, cornflowerblue,\n            cornsilk, crimson, cyan, darkblue, darkcyan,\n            darkgoldenrod, darkgray, darkgrey, darkgreen,\n            darkkhaki, darkmagenta, darkolivegreen, darkorange,\n            darkorchid, darkred, darksalmon, darkseagreen,\n            darkslateblue, darkslategray, darkslategrey,\n            darkturquoise, darkviolet, deeppink, deepskyblue,\n            dimgray, dimgrey, dodgerblue, firebrick,\n            floralwhite, forestgreen, fuchsia, gainsboro,\n            ghostwhite, gold, goldenrod, gray, grey, green,\n            greenyellow, honeydew, hotpink, indianred, indigo,\n            ivory, khaki, lavender, lavenderblush, lawngreen,\n            lemonchiffon, lightblue, lightcoral, lightcyan,\n            lightgoldenrodyellow, lightgray, lightgrey,\n            lightgreen, lightpink, lightsalmon, lightseagreen,\n            lightskyblue, lightslategray, lightslategrey,\n            lightsteelblue, lightyellow, lime, limegreen,\n            linen, magenta, maroon, mediumaquamarine,\n            mediumblue, mediumorchid, mediumpurple,\n            mediumseagreen, mediumslateblue, mediumspringgreen,\n            mediumturquoise, mediumvioletred, midnightblue,\n            mintcream, mistyrose, moccasin, navajowhite, navy,\n            oldlace, olive, olivedrab, orange, orangered,\n            orchid, palegoldenrod, palegreen, paleturquoise,\n            palevioletred, papayawhip, peachpuff, peru, pink,\n            plum, powderblue, purple, red, rosybrown,\n            royalblue, rebeccapurple, saddlebrown, salmon,\n            sandybrown, seagreen, seashell, sienna, silver,\n            skyblue, slateblue, slategray, slategrey, snow,\n            springgreen, steelblue, tan, teal, thistle, tomato,\n            turquoise, violet, wheat, white, whitesmoke,\n            yellow, yellowgreen\n      - A list or array of any of the above",
     "output_type": "error",
     "traceback": [
      "\u001b[0;31m---------------------------------------------------------------------------\u001b[0m",
      "\u001b[0;31mValueError\u001b[0m                                Traceback (most recent call last)",
      "Cell \u001b[0;32mIn[9], line 39\u001b[0m\n\u001b[1;32m     37\u001b[0m     os\u001b[39m.\u001b[39mmakedirs(out_dir)\n\u001b[1;32m     38\u001b[0m out_file \u001b[39m=\u001b[39m out_dir \u001b[39m+\u001b[39m \u001b[39m'\u001b[39m\u001b[39m/sankey\u001b[39m\u001b[39m'\u001b[39m\n\u001b[0;32m---> 39\u001b[0m plot_sankey(plot_label, \n\u001b[1;32m     40\u001b[0m             cur_source, \n\u001b[1;32m     41\u001b[0m             cur_target, \n\u001b[1;32m     42\u001b[0m             cur_value, \n\u001b[1;32m     43\u001b[0m             dataset\u001b[39m.\u001b[39;49mreplace(\u001b[39m'\u001b[39;49m\u001b[39m-\u001b[39;49m\u001b[39m'\u001b[39;49m, \u001b[39m'\u001b[39;49m\u001b[39m \u001b[39;49m\u001b[39m'\u001b[39;49m)\u001b[39m.\u001b[39;49mtitle() \u001b[39m+\u001b[39;49m \u001b[39m'\u001b[39;49m\u001b[39m \u001b[39;49m\u001b[39m'\u001b[39;49m \u001b[39m+\u001b[39;49m tool,\n\u001b[1;32m     44\u001b[0m             \u001b[39m# sns.color_palette(None, cluster_num).as_hex(), \u001b[39;49;00m\n\u001b[1;32m     45\u001b[0m             sns\u001b[39m.\u001b[39;49mcolor_palette(\u001b[39m\"\u001b[39;49m\u001b[39mhusl\u001b[39;49m\u001b[39m\"\u001b[39;49m, \u001b[39m9\u001b[39;49m),\n\u001b[1;32m     46\u001b[0m             out_file)\n",
      "Cell \u001b[0;32mIn[8], line 2\u001b[0m, in \u001b[0;36mplot_sankey\u001b[0;34m(labels, source, target, value, title, cluster_colors, out_file)\u001b[0m\n\u001b[1;32m      1\u001b[0m \u001b[39mdef\u001b[39;00m \u001b[39mplot_sankey\u001b[39m(labels, source, target, value, title, cluster_colors, out_file):\n\u001b[0;32m----> 2\u001b[0m     fig \u001b[39m=\u001b[39m go\u001b[39m.\u001b[39mFigure(data\u001b[39m=\u001b[39m[go\u001b[39m.\u001b[39;49mSankey(\n\u001b[1;32m      3\u001b[0m         node \u001b[39m=\u001b[39;49m \u001b[39mdict\u001b[39;49m(\n\u001b[1;32m      4\u001b[0m         pad \u001b[39m=\u001b[39;49m \u001b[39m15\u001b[39;49m,\n\u001b[1;32m      5\u001b[0m         thickness \u001b[39m=\u001b[39;49m \u001b[39m20\u001b[39;49m,\n\u001b[1;32m      6\u001b[0m         line \u001b[39m=\u001b[39;49m \u001b[39mdict\u001b[39;49m(color \u001b[39m=\u001b[39;49m \u001b[39m\"\u001b[39;49m\u001b[39mblack\u001b[39;49m\u001b[39m\"\u001b[39;49m, width \u001b[39m=\u001b[39;49m \u001b[39m0.5\u001b[39;49m),\n\u001b[1;32m      7\u001b[0m         label \u001b[39m=\u001b[39;49m labels,\n\u001b[1;32m      8\u001b[0m         color \u001b[39m=\u001b[39;49m cluster_colors \u001b[39m+\u001b[39;49m cluster_colors\n\u001b[1;32m      9\u001b[0m         ),\n\u001b[1;32m     10\u001b[0m         link \u001b[39m=\u001b[39;49m \u001b[39mdict\u001b[39;49m(\n\u001b[1;32m     11\u001b[0m         source \u001b[39m=\u001b[39;49m source,\n\u001b[1;32m     12\u001b[0m         target \u001b[39m=\u001b[39;49m target,\n\u001b[1;32m     13\u001b[0m         value \u001b[39m=\u001b[39;49m value\n\u001b[1;32m     14\u001b[0m         ))])\n\u001b[1;32m     16\u001b[0m     fig\u001b[39m.\u001b[39mupdate_layout(title_text\u001b[39m=\u001b[39mtitle, font_size\u001b[39m=\u001b[39m\u001b[39m10\u001b[39m)\n\u001b[1;32m     17\u001b[0m     fig\u001b[39m.\u001b[39mshow()\n",
      "File \u001b[0;32m~/miniconda3/envs/CHLPy/lib/python3.10/site-packages/plotly/graph_objs/_sankey.py:1306\u001b[0m, in \u001b[0;36mSankey.__init__\u001b[0;34m(self, arg, arrangement, customdata, customdatasrc, domain, hoverinfo, hoverlabel, ids, idssrc, legendgrouptitle, legendrank, legendwidth, link, meta, metasrc, name, node, orientation, selectedpoints, stream, textfont, uid, uirevision, valueformat, valuesuffix, visible, **kwargs)\u001b[0m\n\u001b[1;32m   1304\u001b[0m _v \u001b[39m=\u001b[39m node \u001b[39mif\u001b[39;00m node \u001b[39mis\u001b[39;00m \u001b[39mnot\u001b[39;00m \u001b[39mNone\u001b[39;00m \u001b[39melse\u001b[39;00m _v\n\u001b[1;32m   1305\u001b[0m \u001b[39mif\u001b[39;00m _v \u001b[39mis\u001b[39;00m \u001b[39mnot\u001b[39;00m \u001b[39mNone\u001b[39;00m:\n\u001b[0;32m-> 1306\u001b[0m     \u001b[39mself\u001b[39;49m[\u001b[39m\"\u001b[39;49m\u001b[39mnode\u001b[39;49m\u001b[39m\"\u001b[39;49m] \u001b[39m=\u001b[39m _v\n\u001b[1;32m   1307\u001b[0m _v \u001b[39m=\u001b[39m arg\u001b[39m.\u001b[39mpop(\u001b[39m\"\u001b[39m\u001b[39morientation\u001b[39m\u001b[39m\"\u001b[39m, \u001b[39mNone\u001b[39;00m)\n\u001b[1;32m   1308\u001b[0m _v \u001b[39m=\u001b[39m orientation \u001b[39mif\u001b[39;00m orientation \u001b[39mis\u001b[39;00m \u001b[39mnot\u001b[39;00m \u001b[39mNone\u001b[39;00m \u001b[39melse\u001b[39;00m _v\n",
      "File \u001b[0;32m~/miniconda3/envs/CHLPy/lib/python3.10/site-packages/plotly/basedatatypes.py:4842\u001b[0m, in \u001b[0;36mBasePlotlyType.__setitem__\u001b[0;34m(self, prop, value)\u001b[0m\n\u001b[1;32m   4840\u001b[0m \u001b[39m# ### Handle compound property ###\u001b[39;00m\n\u001b[1;32m   4841\u001b[0m \u001b[39mif\u001b[39;00m \u001b[39misinstance\u001b[39m(validator, CompoundValidator):\n\u001b[0;32m-> 4842\u001b[0m     \u001b[39mself\u001b[39;49m\u001b[39m.\u001b[39;49m_set_compound_prop(prop, value)\n\u001b[1;32m   4844\u001b[0m \u001b[39m# ### Handle compound array property ###\u001b[39;00m\n\u001b[1;32m   4845\u001b[0m \u001b[39melif\u001b[39;00m \u001b[39misinstance\u001b[39m(validator, (CompoundArrayValidator, BaseDataValidator)):\n",
      "File \u001b[0;32m~/miniconda3/envs/CHLPy/lib/python3.10/site-packages/plotly/basedatatypes.py:5253\u001b[0m, in \u001b[0;36mBasePlotlyType._set_compound_prop\u001b[0;34m(self, prop, val)\u001b[0m\n\u001b[1;32m   5250\u001b[0m \u001b[39m# Import value\u001b[39;00m\n\u001b[1;32m   5251\u001b[0m \u001b[39m# ------------\u001b[39;00m\n\u001b[1;32m   5252\u001b[0m validator \u001b[39m=\u001b[39m \u001b[39mself\u001b[39m\u001b[39m.\u001b[39m_get_validator(prop)\n\u001b[0;32m-> 5253\u001b[0m val \u001b[39m=\u001b[39m validator\u001b[39m.\u001b[39;49mvalidate_coerce(val, skip_invalid\u001b[39m=\u001b[39;49m\u001b[39mself\u001b[39;49m\u001b[39m.\u001b[39;49m_skip_invalid)\n\u001b[1;32m   5255\u001b[0m \u001b[39m# Save deep copies of current and new states\u001b[39;00m\n\u001b[1;32m   5256\u001b[0m \u001b[39m# ------------------------------------------\u001b[39;00m\n\u001b[1;32m   5257\u001b[0m curr_val \u001b[39m=\u001b[39m \u001b[39mself\u001b[39m\u001b[39m.\u001b[39m_compound_props\u001b[39m.\u001b[39mget(prop, \u001b[39mNone\u001b[39;00m)\n",
      "File \u001b[0;32m~/miniconda3/envs/CHLPy/lib/python3.10/site-packages/_plotly_utils/basevalidators.py:2476\u001b[0m, in \u001b[0;36mCompoundValidator.validate_coerce\u001b[0;34m(self, v, skip_invalid, _validate)\u001b[0m\n\u001b[1;32m   2473\u001b[0m     v \u001b[39m=\u001b[39m \u001b[39mself\u001b[39m\u001b[39m.\u001b[39mdata_class()\n\u001b[1;32m   2475\u001b[0m \u001b[39melif\u001b[39;00m \u001b[39misinstance\u001b[39m(v, \u001b[39mdict\u001b[39m):\n\u001b[0;32m-> 2476\u001b[0m     v \u001b[39m=\u001b[39m \u001b[39mself\u001b[39;49m\u001b[39m.\u001b[39;49mdata_class(v, skip_invalid\u001b[39m=\u001b[39;49mskip_invalid, _validate\u001b[39m=\u001b[39;49m_validate)\n\u001b[1;32m   2478\u001b[0m \u001b[39melif\u001b[39;00m \u001b[39misinstance\u001b[39m(v, \u001b[39mself\u001b[39m\u001b[39m.\u001b[39mdata_class):\n\u001b[1;32m   2479\u001b[0m     \u001b[39m# Copy object\u001b[39;00m\n\u001b[1;32m   2480\u001b[0m     v \u001b[39m=\u001b[39m \u001b[39mself\u001b[39m\u001b[39m.\u001b[39mdata_class(v)\n",
      "File \u001b[0;32m~/miniconda3/envs/CHLPy/lib/python3.10/site-packages/plotly/graph_objs/sankey/_node.py:766\u001b[0m, in \u001b[0;36mNode.__init__\u001b[0;34m(self, arg, color, colorsrc, customdata, customdatasrc, groups, hoverinfo, hoverlabel, hovertemplate, hovertemplatesrc, label, labelsrc, line, pad, thickness, x, xsrc, y, ysrc, **kwargs)\u001b[0m\n\u001b[1;32m    764\u001b[0m _v \u001b[39m=\u001b[39m color \u001b[39mif\u001b[39;00m color \u001b[39mis\u001b[39;00m \u001b[39mnot\u001b[39;00m \u001b[39mNone\u001b[39;00m \u001b[39melse\u001b[39;00m _v\n\u001b[1;32m    765\u001b[0m \u001b[39mif\u001b[39;00m _v \u001b[39mis\u001b[39;00m \u001b[39mnot\u001b[39;00m \u001b[39mNone\u001b[39;00m:\n\u001b[0;32m--> 766\u001b[0m     \u001b[39mself\u001b[39;49m[\u001b[39m\"\u001b[39;49m\u001b[39mcolor\u001b[39;49m\u001b[39m\"\u001b[39;49m] \u001b[39m=\u001b[39m _v\n\u001b[1;32m    767\u001b[0m _v \u001b[39m=\u001b[39m arg\u001b[39m.\u001b[39mpop(\u001b[39m\"\u001b[39m\u001b[39mcolorsrc\u001b[39m\u001b[39m\"\u001b[39m, \u001b[39mNone\u001b[39;00m)\n\u001b[1;32m    768\u001b[0m _v \u001b[39m=\u001b[39m colorsrc \u001b[39mif\u001b[39;00m colorsrc \u001b[39mis\u001b[39;00m \u001b[39mnot\u001b[39;00m \u001b[39mNone\u001b[39;00m \u001b[39melse\u001b[39;00m _v\n",
      "File \u001b[0;32m~/miniconda3/envs/CHLPy/lib/python3.10/site-packages/plotly/basedatatypes.py:4850\u001b[0m, in \u001b[0;36mBasePlotlyType.__setitem__\u001b[0;34m(self, prop, value)\u001b[0m\n\u001b[1;32m   4846\u001b[0m         \u001b[39mself\u001b[39m\u001b[39m.\u001b[39m_set_array_prop(prop, value)\n\u001b[1;32m   4848\u001b[0m     \u001b[39m# ### Handle simple property ###\u001b[39;00m\n\u001b[1;32m   4849\u001b[0m     \u001b[39melse\u001b[39;00m:\n\u001b[0;32m-> 4850\u001b[0m         \u001b[39mself\u001b[39;49m\u001b[39m.\u001b[39;49m_set_prop(prop, value)\n\u001b[1;32m   4851\u001b[0m \u001b[39melse\u001b[39;00m:\n\u001b[1;32m   4852\u001b[0m     \u001b[39m# Make sure properties dict is initialized\u001b[39;00m\n\u001b[1;32m   4853\u001b[0m     \u001b[39mself\u001b[39m\u001b[39m.\u001b[39m_init_props()\n",
      "File \u001b[0;32m~/miniconda3/envs/CHLPy/lib/python3.10/site-packages/plotly/basedatatypes.py:5194\u001b[0m, in \u001b[0;36mBasePlotlyType._set_prop\u001b[0;34m(self, prop, val)\u001b[0m\n\u001b[1;32m   5192\u001b[0m         \u001b[39mreturn\u001b[39;00m\n\u001b[1;32m   5193\u001b[0m     \u001b[39melse\u001b[39;00m:\n\u001b[0;32m-> 5194\u001b[0m         \u001b[39mraise\u001b[39;00m err\n\u001b[1;32m   5196\u001b[0m \u001b[39m# val is None\u001b[39;00m\n\u001b[1;32m   5197\u001b[0m \u001b[39m# -----------\u001b[39;00m\n\u001b[1;32m   5198\u001b[0m \u001b[39mif\u001b[39;00m val \u001b[39mis\u001b[39;00m \u001b[39mNone\u001b[39;00m:\n\u001b[1;32m   5199\u001b[0m     \u001b[39m# Check if we should send null update\u001b[39;00m\n",
      "File \u001b[0;32m~/miniconda3/envs/CHLPy/lib/python3.10/site-packages/plotly/basedatatypes.py:5189\u001b[0m, in \u001b[0;36mBasePlotlyType._set_prop\u001b[0;34m(self, prop, val)\u001b[0m\n\u001b[1;32m   5186\u001b[0m validator \u001b[39m=\u001b[39m \u001b[39mself\u001b[39m\u001b[39m.\u001b[39m_get_validator(prop)\n\u001b[1;32m   5188\u001b[0m \u001b[39mtry\u001b[39;00m:\n\u001b[0;32m-> 5189\u001b[0m     val \u001b[39m=\u001b[39m validator\u001b[39m.\u001b[39;49mvalidate_coerce(val)\n\u001b[1;32m   5190\u001b[0m \u001b[39mexcept\u001b[39;00m \u001b[39mValueError\u001b[39;00m \u001b[39mas\u001b[39;00m err:\n\u001b[1;32m   5191\u001b[0m     \u001b[39mif\u001b[39;00m \u001b[39mself\u001b[39m\u001b[39m.\u001b[39m_skip_invalid:\n",
      "File \u001b[0;32m~/miniconda3/envs/CHLPy/lib/python3.10/site-packages/_plotly_utils/basevalidators.py:1368\u001b[0m, in \u001b[0;36mColorValidator.validate_coerce\u001b[0;34m(self, v, should_raise)\u001b[0m\n\u001b[1;32m   1365\u001b[0m invalid_els \u001b[39m=\u001b[39m \u001b[39mself\u001b[39m\u001b[39m.\u001b[39mfind_invalid_els(v, validated_v)\n\u001b[1;32m   1367\u001b[0m \u001b[39mif\u001b[39;00m invalid_els \u001b[39mand\u001b[39;00m should_raise:\n\u001b[0;32m-> 1368\u001b[0m     \u001b[39mself\u001b[39;49m\u001b[39m.\u001b[39;49mraise_invalid_elements(invalid_els)\n\u001b[1;32m   1369\u001b[0m \u001b[39melse\u001b[39;00m:\n\u001b[1;32m   1370\u001b[0m     v \u001b[39m=\u001b[39m validated_v\n",
      "File \u001b[0;32m~/miniconda3/envs/CHLPy/lib/python3.10/site-packages/_plotly_utils/basevalidators.py:304\u001b[0m, in \u001b[0;36mBaseValidator.raise_invalid_elements\u001b[0;34m(self, invalid_els)\u001b[0m\n\u001b[1;32m    302\u001b[0m     \u001b[39mdef\u001b[39;00m \u001b[39mraise_invalid_elements\u001b[39m(\u001b[39mself\u001b[39m, invalid_els):\n\u001b[1;32m    303\u001b[0m         \u001b[39mif\u001b[39;00m invalid_els:\n\u001b[0;32m--> 304\u001b[0m             \u001b[39mraise\u001b[39;00m \u001b[39mValueError\u001b[39;00m(\n\u001b[1;32m    305\u001b[0m \u001b[39m                \u001b[39m\u001b[39m\"\"\"\u001b[39;00m\n\u001b[1;32m    306\u001b[0m \u001b[39m    Invalid element(s) received for the '{name}' property of {pname}\u001b[39;00m\n\u001b[1;32m    307\u001b[0m \u001b[39m        Invalid elements include: {invalid}\u001b[39;00m\n\u001b[1;32m    308\u001b[0m \n\u001b[1;32m    309\u001b[0m \u001b[39m{valid_clr_desc}\"\"\"\u001b[39;00m\u001b[39m.\u001b[39mformat(\n\u001b[1;32m    310\u001b[0m                     name\u001b[39m=\u001b[39m\u001b[39mself\u001b[39m\u001b[39m.\u001b[39mplotly_name,\n\u001b[1;32m    311\u001b[0m                     pname\u001b[39m=\u001b[39m\u001b[39mself\u001b[39m\u001b[39m.\u001b[39mparent_name,\n\u001b[1;32m    312\u001b[0m                     invalid\u001b[39m=\u001b[39minvalid_els[:\u001b[39m10\u001b[39m],\n\u001b[1;32m    313\u001b[0m                     valid_clr_desc\u001b[39m=\u001b[39m\u001b[39mself\u001b[39m\u001b[39m.\u001b[39mdescription(),\n\u001b[1;32m    314\u001b[0m                 )\n\u001b[1;32m    315\u001b[0m             )\n",
      "\u001b[0;31mValueError\u001b[0m: \n    Invalid element(s) received for the 'color' property of sankey.node\n        Invalid elements include: [0.9677975592919913, 0.44127456009157356, 0.5358103155058701, 0.8369430560927636, 0.5495828952802333, 0.1952683223448124, 0.6430915736746491, 0.6271955086583126, 0.19381135329796756, 0.3126890019504329]\n\n    The 'color' property is a color and may be specified as:\n      - A hex string (e.g. '#ff0000')\n      - An rgb/rgba string (e.g. 'rgb(255,0,0)')\n      - An hsl/hsla string (e.g. 'hsl(0,100%,50%)')\n      - An hsv/hsva string (e.g. 'hsv(0,100%,100%)')\n      - A named CSS color:\n            aliceblue, antiquewhite, aqua, aquamarine, azure,\n            beige, bisque, black, blanchedalmond, blue,\n            blueviolet, brown, burlywood, cadetblue,\n            chartreuse, chocolate, coral, cornflowerblue,\n            cornsilk, crimson, cyan, darkblue, darkcyan,\n            darkgoldenrod, darkgray, darkgrey, darkgreen,\n            darkkhaki, darkmagenta, darkolivegreen, darkorange,\n            darkorchid, darkred, darksalmon, darkseagreen,\n            darkslateblue, darkslategray, darkslategrey,\n            darkturquoise, darkviolet, deeppink, deepskyblue,\n            dimgray, dimgrey, dodgerblue, firebrick,\n            floralwhite, forestgreen, fuchsia, gainsboro,\n            ghostwhite, gold, goldenrod, gray, grey, green,\n            greenyellow, honeydew, hotpink, indianred, indigo,\n            ivory, khaki, lavender, lavenderblush, lawngreen,\n            lemonchiffon, lightblue, lightcoral, lightcyan,\n            lightgoldenrodyellow, lightgray, lightgrey,\n            lightgreen, lightpink, lightsalmon, lightseagreen,\n            lightskyblue, lightslategray, lightslategrey,\n            lightsteelblue, lightyellow, lime, limegreen,\n            linen, magenta, maroon, mediumaquamarine,\n            mediumblue, mediumorchid, mediumpurple,\n            mediumseagreen, mediumslateblue, mediumspringgreen,\n            mediumturquoise, mediumvioletred, midnightblue,\n            mintcream, mistyrose, moccasin, navajowhite, navy,\n            oldlace, olive, olivedrab, orange, orangered,\n            orchid, palegoldenrod, palegreen, paleturquoise,\n            palevioletred, papayawhip, peachpuff, peru, pink,\n            plum, powderblue, purple, red, rosybrown,\n            royalblue, rebeccapurple, saddlebrown, salmon,\n            sandybrown, seagreen, seashell, sienna, silver,\n            skyblue, slateblue, slategray, slategrey, snow,\n            springgreen, steelblue, tan, teal, thistle, tomato,\n            turquoise, violet, wheat, white, whitesmoke,\n            yellow, yellowgreen\n      - A list or array of any of the above"
     ]
    }
   ],
   "source": [
    "for dataset in DATASET_TAGS:\n",
    "    cur_path = DATA_DIR + '/' + dataset + '/'\n",
    "    # check if labels.csv exists\n",
    "    if os.path.exists(cur_path + \"labels.csv\"):\n",
    "        labels = pd.read_csv(cur_path + \"labels.csv\")\n",
    "\n",
    "        if labels.columns[-1] != 'true_labels':\n",
    "            print(\"ERROR: true_label not found for dataset \" + dataset)\n",
    "        else:\n",
    "            tool_tags = labels.columns[1:-1]\n",
    "            cluster_num = labels['true_labels'].nunique()\n",
    "            plot_label = []\n",
    "            for i in range(cluster_num):\n",
    "                plot_label.append(str(i))\n",
    "\n",
    "            mapping_path = \"./dataset/\" + dataset + \"-filtered/mapping.csv\"\n",
    "            mapping_df = pd.read_csv(mapping_path)\n",
    "            mapping_df.sort_values(by=['id'], inplace=True)\n",
    "            go_strings = mapping_df['go'].tolist()\n",
    "            plot_label = plot_label + go_strings\n",
    "\n",
    "            for tool_label in tool_tags:\n",
    "                # generate confusion matrix between labels\n",
    "                confusion_matrix = pd.crosstab(labels[tool_label], labels['true_labels'], colnames=['Predicted'], rownames=['True'], margins=True)\n",
    "                cur_source = []\n",
    "                cur_target = []\n",
    "                cur_value = []\n",
    "                tool = tool_label[0:-6]\n",
    "                for i in range(cluster_num):\n",
    "                    for j in range(cluster_num):\n",
    "                        if confusion_matrix.iloc[i, j] != 0:\n",
    "                            cur_source.append(i)\n",
    "                            cur_target.append(cluster_num + j)\n",
    "                            cur_value.append(confusion_matrix.iloc[i, j])\n",
    "                out_dir = RESULT_DIR + '/' + dataset + '/' + tool\n",
    "                if not os.path.exists(out_dir):\n",
    "                    os.makedirs(out_dir)\n",
    "                out_file = out_dir + '/sankey'\n",
    "                plot_sankey(plot_label, \n",
    "                            cur_source, \n",
    "                            cur_target, \n",
    "                            cur_value, \n",
    "                            dataset.replace('-', ' ').title() + ' ' + tool,\n",
    "                            # sns.color_palette(None, cluster_num).as_hex(), \n",
    "                            sns.color_palette(\"husl\", 9),\n",
    "                            out_file)\n",
    "      "
   ]
  }
 ],
 "metadata": {
  "kernelspec": {
   "display_name": "CHLPy",
   "language": "python",
   "name": "python3"
  },
  "language_info": {
   "codemirror_mode": {
    "name": "ipython",
    "version": 3
   },
   "file_extension": ".py",
   "mimetype": "text/x-python",
   "name": "python",
   "nbconvert_exporter": "python",
   "pygments_lexer": "ipython3",
   "version": "3.10.11"
  },
  "orig_nbformat": 4
 },
 "nbformat": 4,
 "nbformat_minor": 2
}
