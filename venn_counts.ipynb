{
 "cells": [
  {
   "cell_type": "code",
   "execution_count": 172,
   "metadata": {},
   "outputs": [],
   "source": [
    "import pandas as pd\n",
    "\n",
    "DATASETS_TAGS = ['tabula-muris-marrow_P7_3', 'tabula-muris-heart', 'peripheal-blood', 'zheng-4', 'zheng-8']\n",
    "# Order dataset tags by length\n",
    "DATASETS_TAGS = sorted(DATASETS_TAGS, key=lambda x: len(x))\n",
    "# len of longest dataset tag\n",
    "MAX_LEN = len(DATASETS_TAGS[-1]) + 15\n",
    "dfs = {}\n",
    "for dataset in DATASETS_TAGS:\n",
    "    dfs[dataset] = pd.read_csv(\"./results/aggregate/{}/markers.csv\".format(dataset))"
   ]
  },
  {
   "cell_type": "code",
   "execution_count": 173,
   "metadata": {},
   "outputs": [],
   "source": [
    "dfClusterGene = {}\n",
    "for dataset in DATASETS_TAGS:\n",
    "    dfClusterGene[dataset] = dfs[dataset].groupby(['cluster', 'gene']).size().reset_index(name='count')    "
   ]
  },
  {
   "cell_type": "code",
   "execution_count": 208,
   "metadata": {},
   "outputs": [],
   "source": [
    "dfClusterIntersection = {}\n",
    "for dataset in DATASETS_TAGS:\n",
    "    # number of cluster\n",
    "    n_cluster = dfClusterGene[dataset]['cluster'].nunique()\n",
    "    dfClusterIntersection[dataset] = dfClusterGene[dataset][dfClusterGene[dataset]['count'] == n_cluster].groupby('cluster').size().reset_index(name='count')"
   ]
  },
  {
   "cell_type": "code",
   "execution_count": 209,
   "metadata": {},
   "outputs": [
    {
     "name": "stdout",
     "output_type": "stream",
     "text": [
      "zheng-4: sum(26) 10.4 %\n",
      "zheng-8: sum(0) 0.0 %\n",
      "peripheal-blood: sum(0) 0.0 %\n",
      "tabula-muris-heart: sum(71) 28.4 %\n",
      "tabula-muris-marrow_P7_3: sum(0) 0.0 %\n"
     ]
    }
   ],
   "source": [
    "for dataset in DATASETS_TAGS:\n",
    "    sum = dfClusterIntersection[dataset]['count'].sum()\n",
    "    percentage = (sum/250)*100\n",
    "    print(f'{dataset}: sum({sum}) {round(percentage, 10)} %')"
   ]
  },
  {
   "cell_type": "code",
   "execution_count": 206,
   "metadata": {},
   "outputs": [
    {
     "name": "stdout",
     "output_type": "stream",
     "text": [
      "zheng-4 comparison COTAN with Scanpy 16.5 66\n",
      "zheng-4 comparison COTAN with Seurat 28.0 112\n",
      "zheng-4 comparison COTAN with Monocle 14.75 59\n",
      "zheng-4 comparison COTAN with Scvi-Tools 16.25 65\n",
      "zheng-8 comparison COTAN with Scanpy 16.4286 115\n",
      "zheng-8 comparison COTAN with Seurat 24.1429 169\n",
      "zheng-8 comparison COTAN with Monocle 18.4286 129\n",
      "zheng-8 comparison COTAN with Scvi-Tools 16.125 129\n",
      "peripheal-blood comparison COTAN with Scanpy 18.7 187\n",
      "peripheal-blood comparison COTAN with Seurat 19.3 193\n",
      "peripheal-blood comparison COTAN with Monocle 21.1 211\n",
      "peripheal-blood comparison COTAN with Scvi-Tools 25.0 225\n",
      "tabula-muris-heart comparison COTAN with Scanpy 21.2 106\n",
      "tabula-muris-heart comparison COTAN with Seurat 24.8 124\n",
      "tabula-muris-heart comparison COTAN with Monocle 32.0 160\n",
      "tabula-muris-heart comparison COTAN with Scvi-Tools 26.2 131\n",
      "tabula-muris-marrow_P7_3 comparison COTAN with Scanpy 12.0833 145\n",
      "tabula-muris-marrow_P7_3 comparison COTAN with Seurat 15.4167 185\n",
      "tabula-muris-marrow_P7_3 comparison COTAN with Monocle 23.1667 278\n",
      "tabula-muris-marrow_P7_3 comparison COTAN with Scvi-Tools 27.5833 331\n"
     ]
    }
   ],
   "source": [
    "# COTAN vs Rest results for each dataset\n",
    "dfCotanVS = {}\n",
    "dfClusterGeneTool = {}\n",
    "for dataset in DATASETS_TAGS:\n",
    "    dfCotanVS[dataset] = {}\n",
    "    dfClusterGeneTool[dataset] = dfs[dataset].groupby(['cluster', 'gene', 'tool']).size().reset_index(name='count')\n",
    "    for tool in ['scanpy', 'seurat', 'monocle', 'scvi-tools']:\n",
    "        dfCotanVS[dataset]['COTANvs'+tool.title()] = dfClusterGeneTool[dataset][dfClusterGeneTool[dataset]['tool'] == 'COTAN'].merge(dfClusterGeneTool[dataset][dfClusterGeneTool[dataset]['tool'] == tool], on=['cluster', 'gene'], how='inner')\n",
    "        dfCotanVS[dataset]['COTANvs'+tool.title()] = dfCotanVS[dataset]['COTANvs'+tool.title()].groupby(['cluster', 'gene']).size().reset_index(name='count')\n",
    "        n_cluster = dfCotanVS[dataset]['COTANvs'+tool.title()]['cluster'].nunique()\n",
    "        dfCotanVS[dataset]['COTANvs'+tool.title()] = dfCotanVS[dataset]['COTANvs'+tool.title()].groupby('cluster').size().reset_index(name='count').sum()['count']\n",
    "        # dfCotanVS[dataset]['COTANvs'+tool.title()] = round(dfCotanVS[dataset]['COTANvs'+tool.title()]/n_cluster, 4)\n",
    "        val = round(dfCotanVS[dataset]['COTANvs'+tool.title()], 4)\n",
    "        print(f'{dataset} comparison COTAN with {tool.title()} {round(val/n_cluster, 4)} {dfCotanVS[dataset][\"COTANvs\"+tool.title()]}')"
   ]
  },
  {
   "cell_type": "code",
   "execution_count": 198,
   "metadata": {},
   "outputs": [
    {
     "data": {
      "text/plain": [
       "66"
      ]
     },
     "execution_count": 198,
     "metadata": {},
     "output_type": "execute_result"
    }
   ],
   "source": [
    "dfCotanVS['zheng-4']['COTANvsScanpy'].groupby('cluster').size().reset_index(name='count').sum()['count']"
   ]
  }
 ],
 "metadata": {
  "kernelspec": {
   "display_name": "CHLPy",
   "language": "python",
   "name": "python3"
  },
  "language_info": {
   "codemirror_mode": {
    "name": "ipython",
    "version": 3
   },
   "file_extension": ".py",
   "mimetype": "text/x-python",
   "name": "python",
   "nbconvert_exporter": "python",
   "pygments_lexer": "ipython3",
   "version": "3.10.11"
  },
  "orig_nbformat": 4
 },
 "nbformat": 4,
 "nbformat_minor": 2
}
