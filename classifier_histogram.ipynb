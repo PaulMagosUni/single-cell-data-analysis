{
 "cells": [
  {
   "cell_type": "code",
   "execution_count": 16,
   "metadata": {},
   "outputs": [],
   "source": [
    "import os\n",
    "import pandas as pd\n",
    "\n",
    "# https://www.tutorialspoint.com/matplotlib/matplotlib_bar_plot.htm\n",
    "\n",
    "DATASET_TAGS = {\n",
    "\t'tabula-muris-heart': 'tabula muris heart',\n",
    "\t'tabula-muris-marrow_P7_3': 'tabula muris marrow',\n",
    "\t'peripheal-blood': 'peripheal blood',\n",
    "\t'zheng-4': 'zheng 4',\n",
    "\t'zheng-8': 'zheng 8'\n",
    "}\n",
    "\n",
    "DATASET_ORDER = {\n",
    "\t'tabula-muris-heart': 1,\n",
    "\t'tabula-muris-marrow_P7_3': 2,\n",
    "\t'peripheal-blood': 3,\n",
    "\t'zheng-4': 4,\n",
    "\t'zheng-8': 5\n",
    "}\n",
    "\n",
    "TOOL_TAGS = {\n",
    "    'monocle':'Monocle',\n",
    "    'scanpy': 'Scanpy',\n",
    "    'seurat': 'Seurat',\n",
    "    'scvi': 'scvi-tools',\n",
    "    'COTAN': 'COTAN',\n",
    "    'all': 'RF Base'\n",
    "}\n",
    "\n",
    "path = './results/aggregate/{}/clf_f1.csv'\n",
    "found_datasets = []\n",
    "\n",
    "scores_df = pd.DataFrame(columns=['f1', 'tool', 'dataset'])\n",
    "for dataset in DATASET_TAGS.keys():\n",
    "\tfile_path = path.format(dataset)\n",
    "\t# check file existence\n",
    "\tif os.path.isfile(file_path):\n",
    "\t\tfound_datasets.append(DATASET_TAGS[dataset])\n",
    "\t\tdf = pd.read_csv(file_path, index_col=0)\n",
    "\t\tdf['tool'] = df.index\n",
    "\t\tdf['dataset'] = dataset\n",
    "\t\tscores_df = pd.concat([scores_df, df])\n",
    "\t\n",
    "scores_df['dataset_pos'] = scores_df['dataset']\n",
    "tool_count = len(scores_df['tool'].unique())\n",
    "\n",
    "# replace dataset pos with map of DATASET_ORDER\n",
    "scores_df['dataset_pos'] = scores_df['dataset_pos'].map(DATASET_ORDER)"
   ]
  },
  {
   "cell_type": "code",
   "execution_count": 17,
   "metadata": {},
   "outputs": [],
   "source": [
    "##### plot\n",
    "\n",
    "import matplotlib.pyplot as plt\n",
    "import numpy as np\n",
    "\n",
    "SCORES = ['f1']\n",
    "\n",
    "penguin_score_dict = {}\n",
    "for score in SCORES:\n",
    "\tpenguin_means = {}\n",
    "\t# round scores to 3 decimal places\n",
    "\tscores_df[score] = scores_df[score].apply(lambda x: round(x, 3))\n",
    "\n",
    "\tfor tool in TOOL_TAGS.keys():\n",
    "\t\ttool_scores = scores_df[scores_df['tool'] == tool]\n",
    "\t\tif not tool_scores.empty:\n",
    "\t\t\ttool_scores = tool_scores.sort_values(by='dataset_pos')\n",
    "\t\t\t# generate tuple of scores for each dataset in order\n",
    "\t\t\tpenguin_means[TOOL_TAGS[tool]] = tuple(x for x in tool_scores[score])\n",
    "\tpenguin_score_dict[score] = penguin_means"
   ]
  },
  {
   "cell_type": "code",
   "execution_count": 19,
   "metadata": {},
   "outputs": [],
   "source": [
    "def score_bar_plot(penguin_data, found_datasets, tool_count, score, percentage=True):\n",
    "    penguin_means = penguin_data[score]\n",
    "    x = np.arange(len(found_datasets))  # the label locations\n",
    "    width = 1/(tool_count+1)  # the width of the bars\n",
    "    multiplier = 0\n",
    "\n",
    "    fig, ax = plt.subplots(layout='constrained')\n",
    "    max_height = 1\n",
    "    min_height = 0\n",
    "\n",
    "    for attribute, measurement in penguin_means.items():\n",
    "        # max in mesurement\n",
    "        if percentage:\n",
    "            measurement = tuple(x * 100 for x in measurement)\n",
    "        max_measurement = max(measurement)\n",
    "        if max_measurement > max_height:\n",
    "            max_height = max_measurement\n",
    "        min_measurement = min(measurement)\n",
    "        if min_measurement < min_height:\n",
    "            min_height = min_measurement\n",
    "\n",
    "        offset = width * multiplier\n",
    "        rects = ax.bar(x + offset, measurement, width, label=attribute)\n",
    "        ax.bar_label(rects, padding=3)\n",
    "        multiplier += 1\n",
    "\n",
    "    # Add some text for labels, title and custom x-axis tick labels, etc.\n",
    "    if percentage:\n",
    "        ax.set_ylabel('Score * 100')\n",
    "    else:\n",
    "        ax.set_ylabel('Score')\n",
    "    ax.set_title(score)\n",
    "    ax.set_xticks(x + width, found_datasets)\n",
    "    ax.legend(loc='center left', bbox_to_anchor=(1, 0.5))\n",
    "    ax.set_ylim(min_height*1.2, max_height*1.2)\n",
    "\n",
    "    plt.show()"
   ]
  },
  {
   "cell_type": "code",
   "execution_count": 20,
   "metadata": {},
   "outputs": [
    {
     "data": {
      "image/png": "[encoded data removed]",
      "text/plain": [
       "<Figure size 640x480 with 1 Axes>"
      ]
     },
     "metadata": {},
     "output_type": "display_data"
    }
   ],
   "source": [
    "score_bar_plot(penguin_score_dict, found_datasets, tool_count, score='f1')"
   ]
  },
  {
   "cell_type": "code",
   "execution_count": null,
   "metadata": {},
   "outputs": [],
   "source": []
  }
 ],
 "metadata": {
  "kernelspec": {
   "display_name": "chl",
   "language": "python",
   "name": "python3"
  },
  "language_info": {
   "codemirror_mode": {
    "name": "ipython",
    "version": 3
   },
   "file_extension": ".py",
   "mimetype": "text/x-python",
   "name": "python",
   "nbconvert_exporter": "python",
   "pygments_lexer": "ipython3",
   "version": "3.9.16"
  },
  "orig_nbformat": 4
 },
 "nbformat": 4,
 "nbformat_minor": 2
}
